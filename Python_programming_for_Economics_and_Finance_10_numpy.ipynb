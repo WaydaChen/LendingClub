{
  "cells": [
    {
      "cell_type": "markdown",
      "metadata": {
        "id": "view-in-github",
        "colab_type": "text"
      },
      "source": [
        "<a href=\"https://colab.research.google.com/github/WaydaChen/LendingClub/blob/master/Python_programming_for_Economics_and_Finance_10_numpy.ipynb\" target=\"_parent\"><img src=\"https://colab.research.google.com/assets/colab-badge.svg\" alt=\"Open In Colab\"/></a>"
      ]
    },
    {
      "cell_type": "markdown",
      "id": "8e455029",
      "metadata": {
        "id": "8e455029"
      },
      "source": [
        "# Numpy library\n",
        "\n",
        "## Introduction\n",
        "Numpy is a linear algebra library for Python that provide N-dimensional array 陣列(ndarray) object.\n",
        "It can be used in matrix operation/calculation.\n",
        "\n",
        "* https://numpy.org/\n",
        "* PIPY website https://pypi.org/project/numpy/"
      ]
    },
    {
      "cell_type": "markdown",
      "id": "97596d1a",
      "metadata": {
        "id": "97596d1a"
      },
      "source": [
        "In the notebook, you can use\n",
        "`!pip install numpy` to install numpy for the first time."
      ]
    },
    {
      "cell_type": "code",
      "execution_count": null,
      "id": "09b3d92f",
      "metadata": {
        "colab": {
          "base_uri": "https://localhost:8080/"
        },
        "id": "09b3d92f",
        "outputId": "48d62b94-2c89-4bab-8390-13b48ffdf50d"
      },
      "outputs": [
        {
          "output_type": "stream",
          "name": "stdout",
          "text": [
            "Requirement already satisfied: numpy in /usr/local/lib/python3.10/dist-packages (1.25.2)\n"
          ]
        }
      ],
      "source": [
        "!pip install numpy"
      ]
    },
    {
      "cell_type": "markdown",
      "id": "3e8cacf0",
      "metadata": {
        "id": "3e8cacf0"
      },
      "source": [
        "Let's first import the numpy library."
      ]
    },
    {
      "cell_type": "code",
      "execution_count": null,
      "id": "58b626a5",
      "metadata": {
        "id": "58b626a5"
      },
      "outputs": [],
      "source": [
        "import numpy as np"
      ]
    },
    {
      "cell_type": "markdown",
      "id": "25fa39ef",
      "metadata": {
        "id": "25fa39ef"
      },
      "source": [
        "An array is a basic numpy object. Its function is like a matrix. See the following example."
      ]
    },
    {
      "cell_type": "code",
      "execution_count": null,
      "id": "b484ebd0",
      "metadata": {
        "colab": {
          "base_uri": "https://localhost:8080/"
        },
        "id": "b484ebd0",
        "outputId": "0d72ef56-b6e0-457e-8598-fbb5a074e3ff"
      },
      "outputs": [
        {
          "output_type": "stream",
          "name": "stdout",
          "text": [
            "<class 'numpy.ndarray'>\n",
            "[1 2 3 4 5]\n"
          ]
        },
        {
          "output_type": "execute_result",
          "data": {
            "text/plain": [
              "array([1, 2, 3, 4, 5])"
            ]
          },
          "metadata": {},
          "execution_count": 4
        }
      ],
      "source": [
        "# Generate an array by .array()\n",
        "arr = np.array([1,2,3,4,5])\n",
        "print(type(arr))\n",
        "print(arr)\n",
        "arr"
      ]
    },
    {
      "cell_type": "code",
      "execution_count": null,
      "id": "0c5e9d36",
      "metadata": {
        "colab": {
          "base_uri": "https://localhost:8080/"
        },
        "id": "0c5e9d36",
        "outputId": "fd7bc4b8-c4f4-492c-c432-369861b93503"
      },
      "outputs": [
        {
          "output_type": "execute_result",
          "data": {
            "text/plain": [
              "array([[ 1,  2,  3,  4,  5],\n",
              "       [ 6,  7,  8,  9, 10]])"
            ]
          },
          "metadata": {},
          "execution_count": 5
        }
      ],
      "source": [
        "# Two dimention\n",
        "arr = np.array([[1,2,3,4,5],[6,7,8,9,10]])\n",
        "arr"
      ]
    },
    {
      "cell_type": "markdown",
      "id": "5b297e24",
      "metadata": {
        "id": "5b297e24"
      },
      "source": [
        "You can also use a built-in function to create a numpy array.\n",
        "* np.arange(start, stop, step) # similar to python range function\n",
        "* np.zeros()"
      ]
    },
    {
      "cell_type": "code",
      "execution_count": null,
      "id": "04795cc9",
      "metadata": {
        "colab": {
          "base_uri": "https://localhost:8080/"
        },
        "id": "04795cc9",
        "outputId": "2bca94d8-0a35-440b-cbe0-de5052d80019"
      },
      "outputs": [
        {
          "output_type": "execute_result",
          "data": {
            "text/plain": [
              "array([0, 1, 2, 3, 4, 5, 6, 7, 8, 9])"
            ]
          },
          "metadata": {},
          "execution_count": 6
        }
      ],
      "source": [
        "# Generate an array of positive integers\n",
        "arr = np.arange(10)\n",
        "arr"
      ]
    },
    {
      "cell_type": "code",
      "execution_count": null,
      "id": "6b631013",
      "metadata": {
        "colab": {
          "base_uri": "https://localhost:8080/"
        },
        "id": "6b631013",
        "outputId": "edd0a5cc-2bbe-4ae9-ee00-40e09f5d36e2"
      },
      "outputs": [
        {
          "output_type": "execute_result",
          "data": {
            "text/plain": [
              "array([2, 4, 6, 8])"
            ]
          },
          "metadata": {},
          "execution_count": 7
        }
      ],
      "source": [
        "# Generate an array of positive integers with steps\n",
        "# [start, stop, step]\n",
        "arr = np.arange(2, 10, 2)\n",
        "arr"
      ]
    },
    {
      "cell_type": "code",
      "execution_count": null,
      "id": "fe0af89f",
      "metadata": {
        "colab": {
          "base_uri": "https://localhost:8080/"
        },
        "id": "fe0af89f",
        "outputId": "ff44912f-79e7-4f40-f80f-f386ebaae589"
      },
      "outputs": [
        {
          "output_type": "execute_result",
          "data": {
            "text/plain": [
              "array([0., 0., 0., 0., 0., 0., 0., 0., 0., 0., 0., 0., 0., 0., 0., 0., 0.,\n",
              "       0., 0., 0., 0., 0., 0., 0., 0., 0., 0., 0., 0., 0., 0., 0., 0., 0.,\n",
              "       0., 0., 0., 0., 0., 0., 0., 0., 0., 0., 0., 0., 0., 0., 0., 0., 0.,\n",
              "       0., 0., 0., 0., 0., 0., 0., 0., 0., 0., 0., 0., 0., 0., 0., 0., 0.,\n",
              "       0., 0., 0., 0., 0., 0., 0., 0., 0., 0., 0., 0., 0., 0., 0., 0., 0.,\n",
              "       0., 0., 0., 0., 0., 0., 0., 0., 0., 0., 0., 0., 0., 0., 0.])"
            ]
          },
          "metadata": {},
          "execution_count": 8
        }
      ],
      "source": [
        "# Generate an array of zero\n",
        "arr_zero = np.zeros(100)\n",
        "arr_zero"
      ]
    },
    {
      "cell_type": "code",
      "execution_count": null,
      "id": "f54d9984",
      "metadata": {
        "colab": {
          "base_uri": "https://localhost:8080/"
        },
        "id": "f54d9984",
        "outputId": "778287fe-8051-4fdd-8e9e-0ce56cf71a42"
      },
      "outputs": [
        {
          "output_type": "execute_result",
          "data": {
            "text/plain": [
              "array([[0., 0., 0.],\n",
              "       [0., 0., 0.]])"
            ]
          },
          "metadata": {},
          "execution_count": 10
        }
      ],
      "source": [
        "# Generate a 2x3 array of zero\n",
        "arr_zero = np.zeros((2,3))\n",
        "arr_zero"
      ]
    },
    {
      "cell_type": "code",
      "execution_count": null,
      "id": "788461ce",
      "metadata": {
        "colab": {
          "base_uri": "https://localhost:8080/"
        },
        "id": "788461ce",
        "outputId": "0c8c08ad-56ae-4548-9cd2-42df74f661cc"
      },
      "outputs": [
        {
          "output_type": "execute_result",
          "data": {
            "text/plain": [
              "array([1., 1., 1., 1., 1., 1., 1., 1., 1., 1., 1., 1., 1., 1., 1., 1., 1.,\n",
              "       1., 1., 1., 1., 1., 1., 1., 1., 1., 1., 1., 1., 1., 1., 1., 1., 1.,\n",
              "       1., 1., 1., 1., 1., 1., 1., 1., 1., 1., 1., 1., 1., 1., 1., 1., 1.,\n",
              "       1., 1., 1., 1., 1., 1., 1., 1., 1., 1., 1., 1., 1., 1., 1., 1., 1.,\n",
              "       1., 1., 1., 1., 1., 1., 1., 1., 1., 1., 1., 1., 1., 1., 1., 1., 1.,\n",
              "       1., 1., 1., 1., 1., 1., 1., 1., 1., 1., 1., 1., 1., 1., 1.])"
            ]
          },
          "metadata": {},
          "execution_count": 11
        }
      ],
      "source": [
        "# Generate an array of one\n",
        "arr_one = np.ones(100)\n",
        "arr_one"
      ]
    },
    {
      "cell_type": "code",
      "execution_count": null,
      "id": "e8aba3f7",
      "metadata": {
        "id": "e8aba3f7"
      },
      "outputs": [],
      "source": [
        "# .linspace method\n",
        "# Return numbers over a specified interval with equal distance (evenly space number)\n",
        "# [start, stop]\n",
        "# This function is useful when ploting function\n",
        "arr = np.linspace(0,5,10) # ten evenly spaced points from 0 to 5\n",
        "print(arr)"
      ]
    },
    {
      "cell_type": "markdown",
      "id": "9d11d989",
      "metadata": {
        "id": "9d11d989"
      },
      "source": [
        "Note that only one bracket at the beginning and ending; therefore, it's a one dimentional array. Don't make confuse with arrange, linspace takes a third parameter but it's not the step size."
      ]
    },
    {
      "cell_type": "code",
      "execution_count": null,
      "id": "115c91f2",
      "metadata": {
        "colab": {
          "base_uri": "https://localhost:8080/"
        },
        "id": "115c91f2",
        "outputId": "55bdd689-ddb0-40d4-8b2a-fb31526acb85"
      },
      "outputs": [
        {
          "output_type": "stream",
          "name": "stdout",
          "text": [
            "[[1. 0. 0. 0.]\n",
            " [0. 1. 0. 0.]\n",
            " [0. 0. 1. 0.]\n",
            " [0. 0. 0. 1.]]\n"
          ]
        }
      ],
      "source": [
        "# Identity matrix\n",
        "print(np.eye(4))"
      ]
    },
    {
      "cell_type": "markdown",
      "id": "08d5122a",
      "metadata": {
        "id": "08d5122a"
      },
      "source": [
        "## Simulate  random numbers"
      ]
    },
    {
      "cell_type": "code",
      "execution_count": null,
      "id": "141aaaab",
      "metadata": {
        "colab": {
          "base_uri": "https://localhost:8080/"
        },
        "id": "141aaaab",
        "outputId": "80257e78-a4fd-4016-f090-ed5ab7ed2869"
      },
      "outputs": [
        {
          "output_type": "execute_result",
          "data": {
            "text/plain": [
              "array([0.61702096, 0.26383677, 0.44034872, 0.95257113, 0.73227401,\n",
              "       0.85881936, 0.53955992, 0.18727925, 0.215374  , 0.36196703])"
            ]
          },
          "metadata": {},
          "execution_count": 13
        }
      ],
      "source": [
        "# Uniform distribution U(0,1)\n",
        "np.random.rand(10)"
      ]
    },
    {
      "cell_type": "code",
      "execution_count": null,
      "id": "8ad53367",
      "metadata": {
        "colab": {
          "base_uri": "https://localhost:8080/"
        },
        "id": "8ad53367",
        "outputId": "18ea31f5-ce7e-4fda-bc90-5dd20ae32429"
      },
      "outputs": [
        {
          "output_type": "execute_result",
          "data": {
            "text/plain": [
              "array([0.88363486, 0.99769534, 0.42159081, 0.42403087, 0.3412863 ])"
            ]
          },
          "metadata": {},
          "execution_count": 14
        }
      ],
      "source": [
        "# uniform distribution from 0 to 1\n",
        "np.random.rand(5)"
      ]
    },
    {
      "cell_type": "code",
      "execution_count": null,
      "id": "b90f5ddf",
      "metadata": {
        "colab": {
          "base_uri": "https://localhost:8080/"
        },
        "id": "b90f5ddf",
        "outputId": "61ef4c4d-9cf0-4f7e-dfbf-c02b7a0198ec"
      },
      "outputs": [
        {
          "output_type": "execute_result",
          "data": {
            "text/plain": [
              "array([[0.21349299, 0.86170332, 0.72948849, 0.52142702, 0.76464328],\n",
              "       [0.63078704, 0.16077365, 0.9812222 , 0.95453775, 0.8793255 ],\n",
              "       [0.87305107, 0.18036946, 0.48535567, 0.6487433 , 0.21433788],\n",
              "       [0.19738069, 0.6081193 , 0.18166677, 0.31402789, 0.48773224],\n",
              "       [0.72038205, 0.92781623, 0.59432191, 0.92921623, 0.53886511]])"
            ]
          },
          "metadata": {},
          "execution_count": 15
        }
      ],
      "source": [
        "# two dimention with a second argument\n",
        "np.random.rand(5,5)"
      ]
    },
    {
      "cell_type": "code",
      "execution_count": null,
      "id": "ee2c985a",
      "metadata": {
        "colab": {
          "base_uri": "https://localhost:8080/"
        },
        "id": "ee2c985a",
        "outputId": "792ad090-afea-49ca-9919-a1d7e1fd0a77"
      },
      "outputs": [
        {
          "output_type": "execute_result",
          "data": {
            "text/plain": [
              "array([[ 0.99154507,  0.03031919],\n",
              "       [ 0.06039836, -0.14311363]])"
            ]
          },
          "metadata": {},
          "execution_count": 16
        }
      ],
      "source": [
        "# standard normal distribution\n",
        "np.random.randn(2,2)"
      ]
    },
    {
      "cell_type": "code",
      "execution_count": null,
      "id": "5d69defb",
      "metadata": {
        "colab": {
          "base_uri": "https://localhost:8080/"
        },
        "id": "5d69defb",
        "outputId": "615b853a-4371-4520-9b24-d2245cce95ff"
      },
      "outputs": [
        {
          "output_type": "execute_result",
          "data": {
            "text/plain": [
              "array([40, 12, 52,  3, 62, 73, 47, 17, 65,  4])"
            ]
          },
          "metadata": {},
          "execution_count": 17
        }
      ],
      "source": [
        "# return a random integer from low (inclusive) and high (non-inclusive)\n",
        "np.random.randint(1,100,10)"
      ]
    },
    {
      "cell_type": "code",
      "execution_count": null,
      "id": "9b4d70f3",
      "metadata": {
        "colab": {
          "base_uri": "https://localhost:8080/"
        },
        "id": "9b4d70f3",
        "outputId": "d4380c07-741e-4187-924c-bbe3023b2417"
      },
      "outputs": [
        {
          "output_type": "execute_result",
          "data": {
            "text/plain": [
              "array([ 4,  2,  6,  5,  3,  4,  7, 10,  4,  4])"
            ]
          },
          "metadata": {},
          "execution_count": 18
        }
      ],
      "source": [
        "# Poison distribution\n",
        "np.random.poisson(lam=5, size=10)"
      ]
    },
    {
      "cell_type": "code",
      "execution_count": null,
      "id": "968de899",
      "metadata": {
        "colab": {
          "base_uri": "https://localhost:8080/"
        },
        "id": "968de899",
        "outputId": "50000682-8777-45b6-9f59-6d7a75e84638"
      },
      "outputs": [
        {
          "output_type": "execute_result",
          "data": {
            "text/plain": [
              "array([ 0,  1,  2,  3,  4,  5,  6,  7,  8,  9, 10, 11, 12, 13, 14, 15, 16,\n",
              "       17, 18, 19, 20, 21, 22, 23, 24])"
            ]
          },
          "metadata": {},
          "execution_count": 19
        }
      ],
      "source": [
        "arr = np.arange(25)\n",
        "arr"
      ]
    },
    {
      "cell_type": "code",
      "execution_count": null,
      "id": "2630c876",
      "metadata": {
        "colab": {
          "base_uri": "https://localhost:8080/"
        },
        "id": "2630c876",
        "outputId": "ca805c12-f5f0-45ea-8fc1-c2fc18c166df"
      },
      "outputs": [
        {
          "output_type": "execute_result",
          "data": {
            "text/plain": [
              "array([[ 0,  1,  2,  3,  4],\n",
              "       [ 5,  6,  7,  8,  9],\n",
              "       [10, 11, 12, 13, 14],\n",
              "       [15, 16, 17, 18, 19],\n",
              "       [20, 21, 22, 23, 24]])"
            ]
          },
          "metadata": {},
          "execution_count": 20
        }
      ],
      "source": [
        "arr.reshape(5,5)"
      ]
    },
    {
      "cell_type": "code",
      "execution_count": null,
      "id": "e347e928",
      "metadata": {
        "colab": {
          "base_uri": "https://localhost:8080/"
        },
        "id": "e347e928",
        "outputId": "0d5d309f-d51b-472e-b705-8d95887f34e8"
      },
      "outputs": [
        {
          "output_type": "execute_result",
          "data": {
            "text/plain": [
              "array([26, 42, 17, 42,  8, 24, 35,  2, 13, 11])"
            ]
          },
          "metadata": {},
          "execution_count": 21
        }
      ],
      "source": [
        "ranarr = np.random.randint(0,50,10)\n",
        "ranarr"
      ]
    },
    {
      "cell_type": "code",
      "execution_count": null,
      "id": "22369566",
      "metadata": {
        "colab": {
          "base_uri": "https://localhost:8080/"
        },
        "id": "22369566",
        "outputId": "f78070cc-6633-46ca-db95-74b410b0bde8"
      },
      "outputs": [
        {
          "output_type": "execute_result",
          "data": {
            "text/plain": [
              "2"
            ]
          },
          "metadata": {},
          "execution_count": 22
        }
      ],
      "source": [
        "ranarr.min()"
      ]
    },
    {
      "cell_type": "code",
      "execution_count": null,
      "id": "fe5884f3",
      "metadata": {
        "colab": {
          "base_uri": "https://localhost:8080/"
        },
        "id": "fe5884f3",
        "outputId": "4e33dd8f-b6b3-47d8-ed17-b85675233fdc"
      },
      "outputs": [
        {
          "output_type": "execute_result",
          "data": {
            "text/plain": [
              "42"
            ]
          },
          "metadata": {},
          "execution_count": 23
        }
      ],
      "source": [
        "ranarr.max()"
      ]
    },
    {
      "cell_type": "code",
      "source": [],
      "metadata": {
        "id": "QRsAdbk9Uuup"
      },
      "id": "QRsAdbk9Uuup",
      "execution_count": null,
      "outputs": []
    },
    {
      "cell_type": "code",
      "execution_count": null,
      "id": "9ff18699",
      "metadata": {
        "colab": {
          "base_uri": "https://localhost:8080/"
        },
        "id": "9ff18699",
        "outputId": "48b1e5dd-c778-40a2-90e3-6d52df4c68b0"
      },
      "outputs": [
        {
          "output_type": "execute_result",
          "data": {
            "text/plain": [
              "1"
            ]
          },
          "metadata": {},
          "execution_count": 24
        }
      ],
      "source": [
        "# return the index location of a maximum value\n",
        "ranarr.argmax()"
      ]
    },
    {
      "cell_type": "code",
      "execution_count": null,
      "id": "7f60d74b",
      "metadata": {
        "colab": {
          "base_uri": "https://localhost:8080/"
        },
        "id": "7f60d74b",
        "outputId": "bc802122-4665-4aa4-b7f8-1fbac1fcd99b"
      },
      "outputs": [
        {
          "output_type": "execute_result",
          "data": {
            "text/plain": [
              "(25,)"
            ]
          },
          "metadata": {},
          "execution_count": 27
        }
      ],
      "source": [
        "arr.shape"
      ]
    },
    {
      "cell_type": "code",
      "execution_count": null,
      "id": "d27d8432",
      "metadata": {
        "colab": {
          "base_uri": "https://localhost:8080/"
        },
        "id": "d27d8432",
        "outputId": "2d5697b3-e3db-4d89-c59e-e3ce195d9df0"
      },
      "outputs": [
        {
          "output_type": "execute_result",
          "data": {
            "text/plain": [
              "(5, 5)"
            ]
          },
          "metadata": {},
          "execution_count": 28
        }
      ],
      "source": [
        "arr = arr.reshape(5,5)\n",
        "arr.shape"
      ]
    },
    {
      "cell_type": "code",
      "execution_count": null,
      "id": "421e54a7",
      "metadata": {
        "colab": {
          "base_uri": "https://localhost:8080/"
        },
        "id": "421e54a7",
        "outputId": "67c84fa8-f36a-4df6-f206-65d220714d23"
      },
      "outputs": [
        {
          "output_type": "execute_result",
          "data": {
            "text/plain": [
              "dtype('int64')"
            ]
          },
          "metadata": {},
          "execution_count": 29
        }
      ],
      "source": [
        "arr.dtype"
      ]
    },
    {
      "cell_type": "code",
      "execution_count": null,
      "id": "cede626c",
      "metadata": {
        "id": "cede626c"
      },
      "outputs": [],
      "source": [
        "# If you don't want to type in np.random, here is a shortcut:\n",
        "from numpy.random import randint\n",
        "randint(2,10)"
      ]
    },
    {
      "cell_type": "markdown",
      "id": "6d253934",
      "metadata": {
        "id": "6d253934"
      },
      "source": [
        "## Indexing and Selection"
      ]
    },
    {
      "cell_type": "code",
      "execution_count": null,
      "id": "266ef2c1",
      "metadata": {
        "colab": {
          "base_uri": "https://localhost:8080/"
        },
        "id": "266ef2c1",
        "outputId": "603de468-0614-4a5f-b4aa-5144ca8b4fbb"
      },
      "outputs": [
        {
          "output_type": "execute_result",
          "data": {
            "text/plain": [
              "array([ 0,  1,  2,  3,  4,  5,  6,  7,  8,  9, 10])"
            ]
          },
          "metadata": {},
          "execution_count": 30
        }
      ],
      "source": [
        "arr = np.arange(0,11)\n",
        "arr"
      ]
    },
    {
      "cell_type": "code",
      "execution_count": null,
      "id": "bb156a8c",
      "metadata": {
        "colab": {
          "base_uri": "https://localhost:8080/"
        },
        "id": "bb156a8c",
        "outputId": "23609dcf-196f-4b5d-93b3-38e1868dddf3"
      },
      "outputs": [
        {
          "output_type": "execute_result",
          "data": {
            "text/plain": [
              "9"
            ]
          },
          "metadata": {},
          "execution_count": 31
        }
      ],
      "source": [
        "arr[9]"
      ]
    },
    {
      "cell_type": "code",
      "execution_count": null,
      "id": "c63b3834",
      "metadata": {
        "colab": {
          "base_uri": "https://localhost:8080/"
        },
        "id": "c63b3834",
        "outputId": "c5297267-fe9e-4ccf-b4d8-4bd7e44853f6"
      },
      "outputs": [
        {
          "output_type": "execute_result",
          "data": {
            "text/plain": [
              "array([1, 2, 3, 4])"
            ]
          },
          "metadata": {},
          "execution_count": 32
        }
      ],
      "source": [
        "# slice notation\n",
        "arr[1:5]"
      ]
    },
    {
      "cell_type": "code",
      "execution_count": null,
      "id": "9f8ef39b",
      "metadata": {
        "id": "9f8ef39b"
      },
      "outputs": [],
      "source": [
        "arr[0:3]"
      ]
    },
    {
      "cell_type": "code",
      "execution_count": null,
      "id": "7936f940",
      "metadata": {
        "colab": {
          "base_uri": "https://localhost:8080/"
        },
        "id": "7936f940",
        "outputId": "d8a9cb5e-fa21-4670-86f4-2224f2ae38ac"
      },
      "outputs": [
        {
          "output_type": "execute_result",
          "data": {
            "text/plain": [
              "array([ 5,  6,  7,  8,  9, 10])"
            ]
          },
          "metadata": {},
          "execution_count": 33
        }
      ],
      "source": [
        "arr[5:]"
      ]
    },
    {
      "cell_type": "code",
      "execution_count": null,
      "id": "7204ccf8",
      "metadata": {
        "colab": {
          "base_uri": "https://localhost:8080/"
        },
        "id": "7204ccf8",
        "outputId": "b9bd1a2c-ef0c-4c12-cc33-5f41d5b55f20"
      },
      "outputs": [
        {
          "output_type": "execute_result",
          "data": {
            "text/plain": [
              "array([100, 100, 100, 100, 100,   5,   6,   7,   8,   9,  10])"
            ]
          },
          "metadata": {},
          "execution_count": 34
        }
      ],
      "source": [
        "# broadcast 廣播\n",
        "arr[0:5]=100\n",
        "arr"
      ]
    },
    {
      "cell_type": "code",
      "execution_count": null,
      "id": "e3c43f7f",
      "metadata": {
        "colab": {
          "base_uri": "https://localhost:8080/"
        },
        "id": "e3c43f7f",
        "outputId": "b0f61dc1-48fe-4138-ca25-6cc82e81aaec"
      },
      "outputs": [
        {
          "output_type": "execute_result",
          "data": {
            "text/plain": [
              "array([ 0,  1,  2,  3,  4,  5,  6,  7,  8,  9, 10])"
            ]
          },
          "metadata": {},
          "execution_count": 59
        }
      ],
      "source": [
        "arr = np.arange(0,11)\n",
        "arr\n"
      ]
    },
    {
      "cell_type": "code",
      "execution_count": null,
      "id": "K2rXA1RWw5IG",
      "metadata": {
        "colab": {
          "base_uri": "https://localhost:8080/"
        },
        "id": "K2rXA1RWw5IG",
        "outputId": "366ffe9c-998b-46c5-85c9-167ba5134bd5"
      },
      "outputs": [
        {
          "output_type": "execute_result",
          "data": {
            "text/plain": [
              "array([0, 1, 2, 3, 4, 5])"
            ]
          },
          "metadata": {},
          "execution_count": 38
        }
      ],
      "source": [
        "slice_of_arr = arr[0:6]\n",
        "slice_of_arr"
      ]
    },
    {
      "cell_type": "code",
      "execution_count": null,
      "id": "8f063d84",
      "metadata": {
        "colab": {
          "base_uri": "https://localhost:8080/"
        },
        "id": "8f063d84",
        "outputId": "88b06fe2-3715-4943-82be-cc8d1fdd6855"
      },
      "outputs": [
        {
          "output_type": "execute_result",
          "data": {
            "text/plain": [
              "array([99, 99, 99, 99, 99, 99])"
            ]
          },
          "metadata": {},
          "execution_count": 39
        }
      ],
      "source": [
        "slice_of_arr[:] = 99\n",
        "slice_of_arr"
      ]
    },
    {
      "cell_type": "code",
      "execution_count": null,
      "id": "8f99bc11",
      "metadata": {
        "colab": {
          "base_uri": "https://localhost:8080/"
        },
        "id": "8f99bc11",
        "outputId": "ef26246a-7ecb-4065-c176-18990e486ccf"
      },
      "outputs": [
        {
          "output_type": "execute_result",
          "data": {
            "text/plain": [
              "array([99, 99, 99, 99, 99, 99,  6,  7,  8,  9, 10])"
            ]
          },
          "metadata": {},
          "execution_count": 40
        }
      ],
      "source": [
        "arr"
      ]
    },
    {
      "cell_type": "markdown",
      "id": "0d861623",
      "metadata": {
        "id": "0d861623"
      },
      "source": [
        "Important: You have to notice that the change also occurs in the original array. It's not a copy. It's just a **view** of the original array.\n",
        "\n",
        "If you don't want to change the original array, you should use the .copy() method."
      ]
    },
    {
      "cell_type": "code",
      "execution_count": null,
      "id": "74d388ec",
      "metadata": {
        "id": "74d388ec",
        "colab": {
          "base_uri": "https://localhost:8080/"
        },
        "outputId": "92e06c29-b126-493f-fda9-c022b1c68721"
      },
      "outputs": [
        {
          "output_type": "execute_result",
          "data": {
            "text/plain": [
              "array([ 0,  1,  2,  3,  4,  5,  6,  7,  8,  9, 10])"
            ]
          },
          "metadata": {},
          "execution_count": 60
        }
      ],
      "source": [
        "arr_copy =arr.copy()\n",
        "arr_copy"
      ]
    },
    {
      "cell_type": "code",
      "execution_count": null,
      "id": "7eda9c87",
      "metadata": {
        "id": "7eda9c87",
        "colab": {
          "base_uri": "https://localhost:8080/"
        },
        "outputId": "137caff7-12b5-4204-c851-481f56e9b075"
      },
      "outputs": [
        {
          "output_type": "stream",
          "name": "stdout",
          "text": [
            "[100 100 100 100 100 100 100 100 100 100 100]\n"
          ]
        }
      ],
      "source": [
        "arr_copy[:]=100\n",
        "print(arr_copy)\n",
        "#print(arr)"
      ]
    },
    {
      "cell_type": "markdown",
      "id": "c4bbcee7",
      "metadata": {
        "id": "c4bbcee7"
      },
      "source": [
        "### 2D array slicing"
      ]
    },
    {
      "cell_type": "code",
      "execution_count": null,
      "id": "ee641803",
      "metadata": {
        "id": "ee641803",
        "colab": {
          "base_uri": "https://localhost:8080/"
        },
        "outputId": "2c12bff2-d828-43a4-e2ae-8403252901c6"
      },
      "outputs": [
        {
          "output_type": "execute_result",
          "data": {
            "text/plain": [
              "array([[ 0,  1,  2,  3,  4,  5,  6,  7,  8,  9],\n",
              "       [10, 11, 12, 13, 14, 15, 16, 17, 18, 19],\n",
              "       [20, 21, 22, 23, 24, 25, 26, 27, 28, 29],\n",
              "       [30, 31, 32, 33, 34, 35, 36, 37, 38, 39],\n",
              "       [40, 41, 42, 43, 44, 45, 46, 47, 48, 49],\n",
              "       [50, 51, 52, 53, 54, 55, 56, 57, 58, 59],\n",
              "       [60, 61, 62, 63, 64, 65, 66, 67, 68, 69],\n",
              "       [70, 71, 72, 73, 74, 75, 76, 77, 78, 79],\n",
              "       [80, 81, 82, 83, 84, 85, 86, 87, 88, 89],\n",
              "       [90, 91, 92, 93, 94, 95, 96, 97, 98, 99]])"
            ]
          },
          "metadata": {},
          "execution_count": 65
        }
      ],
      "source": [
        "arr_2d = np.arange(0,100).reshape(10,10)\n",
        "arr_2d"
      ]
    },
    {
      "cell_type": "code",
      "execution_count": null,
      "id": "2f07ecbe",
      "metadata": {
        "id": "2f07ecbe",
        "colab": {
          "base_uri": "https://localhost:8080/"
        },
        "outputId": "b192867d-9c1b-4a79-959f-9b245425825b"
      },
      "outputs": [
        {
          "output_type": "execute_result",
          "data": {
            "text/plain": [
              "10"
            ]
          },
          "metadata": {},
          "execution_count": 69
        }
      ],
      "source": [
        "# double brakets\n",
        "arr_2d[1][0]"
      ]
    },
    {
      "cell_type": "code",
      "execution_count": null,
      "id": "63a01ca2",
      "metadata": {
        "id": "63a01ca2",
        "colab": {
          "base_uri": "https://localhost:8080/"
        },
        "outputId": "02fe3907-8c71-4d6b-c5f8-4eb627a31646"
      },
      "outputs": [
        {
          "output_type": "execute_result",
          "data": {
            "text/plain": [
              "99"
            ]
          },
          "metadata": {},
          "execution_count": 70
        }
      ],
      "source": [
        "# single bracket notation with a comma (recommand!)\n",
        "arr_2d[9,9]"
      ]
    },
    {
      "cell_type": "code",
      "execution_count": null,
      "id": "e2e8fa0b",
      "metadata": {
        "id": "e2e8fa0b",
        "colab": {
          "base_uri": "https://localhost:8080/"
        },
        "outputId": "887a68d1-c9cf-4337-e132-9d545c33135b"
      },
      "outputs": [
        {
          "output_type": "execute_result",
          "data": {
            "text/plain": [
              "array([[ 2,  3],\n",
              "       [12, 13],\n",
              "       [22, 23],\n",
              "       [32, 33],\n",
              "       [42, 43]])"
            ]
          },
          "metadata": {},
          "execution_count": 71
        }
      ],
      "source": [
        "arr_2d[0:5, 2:4]"
      ]
    },
    {
      "cell_type": "code",
      "execution_count": null,
      "id": "771eac1b",
      "metadata": {
        "id": "771eac1b",
        "colab": {
          "base_uri": "https://localhost:8080/"
        },
        "outputId": "a645f095-09b1-42b8-c642-ae16dd4fcd26"
      },
      "outputs": [
        {
          "output_type": "execute_result",
          "data": {
            "text/plain": [
              "array([ 9, 19, 29, 39, 49, 59, 69, 79, 89, 99])"
            ]
          },
          "metadata": {},
          "execution_count": 76
        }
      ],
      "source": [
        "arr_2d[:,-1]"
      ]
    },
    {
      "cell_type": "markdown",
      "id": "dc7eb054",
      "metadata": {
        "id": "dc7eb054"
      },
      "source": [
        "## Conditioning"
      ]
    },
    {
      "cell_type": "code",
      "execution_count": null,
      "id": "95ca61e9",
      "metadata": {
        "id": "95ca61e9"
      },
      "outputs": [],
      "source": [
        "arr = np.random.randn(10)\n",
        "bool_arr = arr > 0"
      ]
    },
    {
      "cell_type": "code",
      "source": [
        "arr"
      ],
      "metadata": {
        "colab": {
          "base_uri": "https://localhost:8080/"
        },
        "id": "uMU_bgo69QQK",
        "outputId": "dec421dc-8017-4a33-ab58-96751e57e052"
      },
      "id": "uMU_bgo69QQK",
      "execution_count": null,
      "outputs": [
        {
          "output_type": "execute_result",
          "data": {
            "text/plain": [
              "array([-0.76574765,  0.01711053, -0.75495343,  0.8693245 , -0.70375209,\n",
              "        0.30578048,  1.02149094,  0.87174574,  0.69285608,  1.55015054])"
            ]
          },
          "metadata": {},
          "execution_count": 79
        }
      ]
    },
    {
      "cell_type": "code",
      "source": [
        "bool_arr"
      ],
      "metadata": {
        "colab": {
          "base_uri": "https://localhost:8080/"
        },
        "id": "k-A_ypkt9Y8c",
        "outputId": "72dca084-59d9-487c-9f50-b1d812fc0af5"
      },
      "id": "k-A_ypkt9Y8c",
      "execution_count": null,
      "outputs": [
        {
          "output_type": "execute_result",
          "data": {
            "text/plain": [
              "array([False,  True, False,  True, False,  True,  True,  True,  True,\n",
              "        True])"
            ]
          },
          "metadata": {},
          "execution_count": 80
        }
      ]
    },
    {
      "cell_type": "code",
      "execution_count": null,
      "id": "331f1f1c",
      "metadata": {
        "id": "331f1f1c",
        "colab": {
          "base_uri": "https://localhost:8080/"
        },
        "outputId": "dbef42cd-0114-444a-f77e-383143d466ae"
      },
      "outputs": [
        {
          "output_type": "stream",
          "name": "stdout",
          "text": [
            "[0.01711053 0.8693245  0.30578048 1.02149094 0.87174574 0.69285608\n",
            " 1.55015054]\n",
            "[-0.76574765  0.01711053 -0.75495343  0.8693245  -0.70375209  0.30578048\n",
            "  1.02149094  0.87174574  0.69285608  1.55015054]\n"
          ]
        }
      ],
      "source": [
        "# Select numbers satisfying a condition\n",
        "print(arr[bool_arr])\n",
        "print(arr)"
      ]
    },
    {
      "cell_type": "code",
      "execution_count": null,
      "id": "95991dbb",
      "metadata": {
        "id": "95991dbb",
        "colab": {
          "base_uri": "https://localhost:8080/"
        },
        "outputId": "7f99b59f-73c4-4394-e5d2-e1fb215f7ec7"
      },
      "outputs": [
        {
          "output_type": "execute_result",
          "data": {
            "text/plain": [
              "array([0.01711053, 0.8693245 , 0.30578048, 1.02149094, 0.87174574,\n",
              "       0.69285608, 1.55015054])"
            ]
          },
          "metadata": {},
          "execution_count": 83
        }
      ],
      "source": [
        "arr[arr>0]"
      ]
    },
    {
      "cell_type": "markdown",
      "id": "7beadd27",
      "metadata": {
        "id": "7beadd27"
      },
      "source": [
        "The above technique is used a lot, especially in Pandas."
      ]
    },
    {
      "cell_type": "code",
      "execution_count": null,
      "id": "098101c6",
      "metadata": {
        "id": "098101c6",
        "colab": {
          "base_uri": "https://localhost:8080/"
        },
        "outputId": "74d231fc-30ea-48fa-b163-b4ea9fcaf241"
      },
      "outputs": [
        {
          "output_type": "execute_result",
          "data": {
            "text/plain": [
              "array([0.        , 0.01711053, 0.        , 0.8693245 , 0.        ,\n",
              "       0.30578048, 1.02149094, 0.87174574, 0.69285608, 1.55015054])"
            ]
          },
          "metadata": {},
          "execution_count": 84
        }
      ],
      "source": [
        "# replace the numbers less than 0 with 0\n",
        "arr[arr<0] = 0\n",
        "arr"
      ]
    },
    {
      "cell_type": "code",
      "execution_count": null,
      "id": "f37ac832",
      "metadata": {
        "id": "f37ac832",
        "colab": {
          "base_uri": "https://localhost:8080/"
        },
        "outputId": "87f2e6e7-2e40-4cbb-82cd-709db1571a02"
      },
      "outputs": [
        {
          "output_type": "execute_result",
          "data": {
            "text/plain": [
              "array([0, 1, 0, 1, 0, 1, 1, 1, 1, 1])"
            ]
          },
          "metadata": {},
          "execution_count": 85
        }
      ],
      "source": [
        "# the np.where() method\n",
        "# return elements chosen from `x` or `y` depending on `condition`.\n",
        "np.where(arr>0, 1, 0)"
      ]
    },
    {
      "cell_type": "code",
      "execution_count": null,
      "id": "dac66784",
      "metadata": {
        "id": "dac66784",
        "colab": {
          "base_uri": "https://localhost:8080/"
        },
        "outputId": "f6a1ad8e-0f48-4246-b41c-7db0f7c07cf9"
      },
      "outputs": [
        {
          "output_type": "execute_result",
          "data": {
            "text/plain": [
              "array(['neg', 'pos', 'neg', 'pos', 'neg', 'pos', 'pos', 'pos', 'pos',\n",
              "       'pos'], dtype='<U3')"
            ]
          },
          "metadata": {},
          "execution_count": 86
        }
      ],
      "source": [
        "np.where(arr>0, 'pos', 'neg')"
      ]
    },
    {
      "cell_type": "code",
      "execution_count": null,
      "id": "8a4ed83e",
      "metadata": {
        "id": "8a4ed83e",
        "colab": {
          "base_uri": "https://localhost:8080/"
        },
        "outputId": "5727afa1-024b-4cc3-a53b-01e01f4754b5"
      },
      "outputs": [
        {
          "output_type": "execute_result",
          "data": {
            "text/plain": [
              "array([0.        , 0.03422105, 0.        , 1.738649  , 0.        ,\n",
              "       0.61156095, 2.04298188, 1.74349148, 1.38571216, 3.10030107])"
            ]
          },
          "metadata": {},
          "execution_count": 87
        }
      ],
      "source": [
        "np.where(arr>0, arr*2, 0)"
      ]
    },
    {
      "cell_type": "code",
      "execution_count": null,
      "id": "ef924e3a",
      "metadata": {
        "id": "ef924e3a",
        "scrolled": true
      },
      "outputs": [],
      "source": [
        "# Exercise: Try to reshape a chunks yourself.\n",
        "arr_2d = np.arange(50).reshape(5,10)\n",
        "arr_2d"
      ]
    },
    {
      "cell_type": "markdown",
      "source": [
        "can we use two types in a array\n"
      ],
      "metadata": {
        "id": "2MN_hisg_qFC"
      },
      "id": "2MN_hisg_qFC"
    },
    {
      "cell_type": "code",
      "source": [
        "np.array([2,'a'])"
      ],
      "metadata": {
        "colab": {
          "base_uri": "https://localhost:8080/"
        },
        "id": "oJNdMtHT_9Nk",
        "outputId": "955a5a3f-49c3-49d1-96f1-c1ebd8e7a2e8"
      },
      "id": "oJNdMtHT_9Nk",
      "execution_count": null,
      "outputs": [
        {
          "output_type": "execute_result",
          "data": {
            "text/plain": [
              "array(['2', 'a'], dtype='<U21')"
            ]
          },
          "metadata": {},
          "execution_count": 94
        }
      ]
    },
    {
      "cell_type": "markdown",
      "source": [
        "<U21??"
      ],
      "metadata": {
        "id": "Is045BbUD4kj"
      },
      "id": "Is045BbUD4kj"
    },
    {
      "cell_type": "code",
      "source": [],
      "metadata": {
        "id": "vKkyiZUHD4B6"
      },
      "id": "vKkyiZUHD4B6",
      "execution_count": null,
      "outputs": []
    },
    {
      "cell_type": "markdown",
      "id": "bf41c3c8",
      "metadata": {
        "id": "bf41c3c8"
      },
      "source": [
        "## Arithmetic\n",
        "* Array with Array\n",
        "* Array with Scalars\n",
        "* Universal Array Functions (Ufun)"
      ]
    },
    {
      "cell_type": "markdown",
      "id": "12b25515",
      "metadata": {
        "id": "12b25515"
      },
      "source": [
        "Compare the following two examples."
      ]
    },
    {
      "cell_type": "code",
      "execution_count": null,
      "id": "c99d9bce",
      "metadata": {
        "id": "c99d9bce",
        "colab": {
          "base_uri": "https://localhost:8080/"
        },
        "outputId": "4b86e4e0-cca5-40ee-a83e-30b8acbd7a0b"
      },
      "outputs": [
        {
          "output_type": "execute_result",
          "data": {
            "text/plain": [
              "[1, 2, 3, 4, 5, 6, 7, 8]"
            ]
          },
          "metadata": {},
          "execution_count": 95
        }
      ],
      "source": [
        "c = [1,2,3,4]\n",
        "d = [5,6,7,8]\n",
        "c + d"
      ]
    },
    {
      "cell_type": "code",
      "execution_count": null,
      "id": "4f62efb5",
      "metadata": {
        "id": "4f62efb5",
        "colab": {
          "base_uri": "https://localhost:8080/"
        },
        "outputId": "badd871b-c112-42f6-e953-eb94aff2ea23"
      },
      "outputs": [
        {
          "output_type": "execute_result",
          "data": {
            "text/plain": [
              "array([ 6,  8, 10, 12])"
            ]
          },
          "metadata": {},
          "execution_count": 96
        }
      ],
      "source": [
        "import numpy as np\n",
        "a = np.array([1,2,3,4])\n",
        "b = np.array([5,6,7,8])\n",
        "a + b"
      ]
    },
    {
      "cell_type": "code",
      "execution_count": null,
      "id": "4aa3b991",
      "metadata": {
        "id": "4aa3b991",
        "colab": {
          "base_uri": "https://localhost:8080/"
        },
        "outputId": "570a4853-fd91-4115-c17e-684d68d59459"
      },
      "outputs": [
        {
          "output_type": "execute_result",
          "data": {
            "text/plain": [
              "array([4, 4, 4, 4])"
            ]
          },
          "metadata": {},
          "execution_count": 97
        }
      ],
      "source": [
        "b - a"
      ]
    },
    {
      "cell_type": "code",
      "execution_count": null,
      "id": "7cfd5504",
      "metadata": {
        "id": "7cfd5504",
        "scrolled": true,
        "colab": {
          "base_uri": "https://localhost:8080/"
        },
        "outputId": "c8b452b8-b951-4e17-d767-1e376bdfe85d"
      },
      "outputs": [
        {
          "output_type": "execute_result",
          "data": {
            "text/plain": [
              "array([ 5, 12, 21, 32])"
            ]
          },
          "metadata": {},
          "execution_count": 98
        }
      ],
      "source": [
        "a * b"
      ]
    },
    {
      "cell_type": "code",
      "execution_count": null,
      "id": "1e4d4af4",
      "metadata": {
        "id": "1e4d4af4",
        "colab": {
          "base_uri": "https://localhost:8080/"
        },
        "outputId": "920530aa-3e22-4e32-a168-8414befbc27a"
      },
      "outputs": [
        {
          "output_type": "execute_result",
          "data": {
            "text/plain": [
              "array([100, 200, 300, 400])"
            ]
          },
          "metadata": {},
          "execution_count": 99
        }
      ],
      "source": [
        "a * 100"
      ]
    },
    {
      "cell_type": "markdown",
      "id": "10c5aaf4",
      "metadata": {
        "id": "10c5aaf4"
      },
      "source": [
        "The np.array objects do the computation **element by element**. Another feature of np.array is the efficiency. It comsumes less time to execute a computation. In the following examples, I compare the time needed to execute a computation.\n"
      ]
    },
    {
      "cell_type": "code",
      "execution_count": null,
      "id": "ee6010d5",
      "metadata": {
        "id": "ee6010d5",
        "colab": {
          "base_uri": "https://localhost:8080/"
        },
        "outputId": "54515980-8cdd-476e-9cb1-53d176d2f8a1"
      },
      "outputs": [
        {
          "output_type": "stream",
          "name": "stdout",
          "text": [
            "CPU times: user 42 µs, sys: 6 µs, total: 48 µs\n",
            "Wall time: 52.9 µs\n"
          ]
        }
      ],
      "source": [
        "import numpy as np\n",
        "arr = np.arange(100)\n",
        "%time arr = arr*2"
      ]
    },
    {
      "cell_type": "code",
      "execution_count": null,
      "id": "851aa5ff",
      "metadata": {
        "id": "851aa5ff",
        "scrolled": true,
        "colab": {
          "base_uri": "https://localhost:8080/"
        },
        "outputId": "821867a7-6a86-460c-ff73-74f5228bb9d7"
      },
      "outputs": [
        {
          "output_type": "stream",
          "name": "stdout",
          "text": [
            "CPU times: user 219 µs, sys: 33 µs, total: 252 µs\n",
            "Wall time: 261 µs\n"
          ]
        }
      ],
      "source": [
        "my_lis = list(range(100))\n",
        "%time my_lis = [my_lis*2 for x in my_lis]"
      ]
    },
    {
      "cell_type": "markdown",
      "id": "4041a4bd",
      "metadata": {
        "id": "4041a4bd"
      },
      "source": [
        "Sometimes, numpy doesn't give you an error message. It gives you a warning instead. See the following example."
      ]
    },
    {
      "cell_type": "code",
      "execution_count": null,
      "id": "d0797f03",
      "metadata": {
        "id": "d0797f03",
        "scrolled": true,
        "colab": {
          "base_uri": "https://localhost:8080/",
          "height": 144
        },
        "outputId": "7e46329d-daec-40c9-e132-ded422c998e3"
      },
      "outputs": [
        {
          "output_type": "error",
          "ename": "ZeroDivisionError",
          "evalue": "division by zero",
          "traceback": [
            "\u001b[0;31m---------------------------------------------------------------------------\u001b[0m",
            "\u001b[0;31mZeroDivisionError\u001b[0m                         Traceback (most recent call last)",
            "\u001b[0;32m<ipython-input-102-9e1622b385b6>\u001b[0m in \u001b[0;36m<cell line: 1>\u001b[0;34m()\u001b[0m\n\u001b[0;32m----> 1\u001b[0;31m \u001b[0;36m1\u001b[0m\u001b[0;34m/\u001b[0m\u001b[0;36m0\u001b[0m\u001b[0;34m\u001b[0m\u001b[0;34m\u001b[0m\u001b[0m\n\u001b[0m",
            "\u001b[0;31mZeroDivisionError\u001b[0m: division by zero"
          ]
        }
      ],
      "source": [
        "1/0"
      ]
    },
    {
      "cell_type": "code",
      "execution_count": null,
      "id": "c33a758b",
      "metadata": {
        "id": "c33a758b"
      },
      "outputs": [],
      "source": [
        "import numpy as np\n",
        "arr = np.array([0,1,2])"
      ]
    },
    {
      "cell_type": "code",
      "execution_count": null,
      "id": "16003193",
      "metadata": {
        "id": "16003193",
        "colab": {
          "base_uri": "https://localhost:8080/"
        },
        "outputId": "65f22130-070f-4ba5-c3dc-e3bb95587825"
      },
      "outputs": [
        {
          "output_type": "stream",
          "name": "stderr",
          "text": [
            "<ipython-input-104-7f952cd3e0ce>:1: RuntimeWarning: invalid value encountered in divide\n",
            "  arr / arr\n"
          ]
        },
        {
          "output_type": "execute_result",
          "data": {
            "text/plain": [
              "array([nan,  1.,  1.])"
            ]
          },
          "metadata": {},
          "execution_count": 104
        }
      ],
      "source": [
        "arr / arr"
      ]
    },
    {
      "cell_type": "markdown",
      "id": "3ef92c6f",
      "metadata": {
        "id": "3ef92c6f"
      },
      "source": [
        "The first element in `arr` is 0. When 0/0 occurs, numpy gives you a `nan` (Not a number)."
      ]
    },
    {
      "cell_type": "code",
      "execution_count": null,
      "id": "036b2c39",
      "metadata": {
        "id": "036b2c39",
        "scrolled": false,
        "colab": {
          "base_uri": "https://localhost:8080/"
        },
        "outputId": "4f99fcde-a436-442d-d541-bdd208dc3e8d"
      },
      "outputs": [
        {
          "output_type": "stream",
          "name": "stderr",
          "text": [
            "<ipython-input-105-016353831300>:1: RuntimeWarning: divide by zero encountered in divide\n",
            "  1/arr\n"
          ]
        },
        {
          "output_type": "execute_result",
          "data": {
            "text/plain": [
              "array([inf, 1. , 0.5])"
            ]
          },
          "metadata": {},
          "execution_count": 105
        }
      ],
      "source": [
        "1/arr"
      ]
    },
    {
      "cell_type": "markdown",
      "id": "38b03df9",
      "metadata": {
        "id": "38b03df9"
      },
      "source": [
        "If you divide 1 by 0 (the first element), you get an infinity."
      ]
    },
    {
      "cell_type": "code",
      "execution_count": null,
      "id": "030b722e",
      "metadata": {
        "id": "030b722e",
        "colab": {
          "base_uri": "https://localhost:8080/"
        },
        "outputId": "5cdbd9fc-e0be-47fe-ac45-9dadd3b9b708"
      },
      "outputs": [
        {
          "output_type": "execute_result",
          "data": {
            "text/plain": [
              "array([0, 1, 4])"
            ]
          },
          "metadata": {},
          "execution_count": 106
        }
      ],
      "source": [
        "arr ** 2"
      ]
    },
    {
      "cell_type": "code",
      "execution_count": null,
      "id": "7df3852a",
      "metadata": {
        "id": "7df3852a",
        "colab": {
          "base_uri": "https://localhost:8080/"
        },
        "outputId": "a41820e1-6001-44f4-b420-c84c31b93bce"
      },
      "outputs": [
        {
          "output_type": "execute_result",
          "data": {
            "text/plain": [
              "array([0.        , 1.        , 1.41421356])"
            ]
          },
          "metadata": {},
          "execution_count": 107
        }
      ],
      "source": [
        "np.sqrt(arr)"
      ]
    },
    {
      "cell_type": "code",
      "execution_count": null,
      "id": "6238fbe7",
      "metadata": {
        "id": "6238fbe7",
        "colab": {
          "base_uri": "https://localhost:8080/"
        },
        "outputId": "13bf1915-722e-40db-d523-59a0d860f31b"
      },
      "outputs": [
        {
          "output_type": "execute_result",
          "data": {
            "text/plain": [
              "array([1.        , 2.71828183, 7.3890561 ])"
            ]
          },
          "metadata": {},
          "execution_count": 108
        }
      ],
      "source": [
        "np.exp(arr)"
      ]
    },
    {
      "cell_type": "code",
      "execution_count": null,
      "id": "b145ac46",
      "metadata": {
        "id": "b145ac46",
        "colab": {
          "base_uri": "https://localhost:8080/"
        },
        "outputId": "c83f210c-30d2-47e3-a4a5-2694ab5826ef"
      },
      "outputs": [
        {
          "output_type": "execute_result",
          "data": {
            "text/plain": [
              "2"
            ]
          },
          "metadata": {},
          "execution_count": 109
        }
      ],
      "source": [
        "# Same result\n",
        "np.max(arr)\n",
        "arr.max()"
      ]
    },
    {
      "cell_type": "code",
      "execution_count": null,
      "id": "23dc80b5",
      "metadata": {
        "id": "23dc80b5",
        "scrolled": true,
        "colab": {
          "base_uri": "https://localhost:8080/"
        },
        "outputId": "b3bbcebc-80fb-4fd7-abd3-d5ee6c897219"
      },
      "outputs": [
        {
          "output_type": "stream",
          "name": "stderr",
          "text": [
            "<ipython-input-110-a67b4ae04e95>:1: RuntimeWarning: divide by zero encountered in log\n",
            "  np.log(arr)\n"
          ]
        },
        {
          "output_type": "execute_result",
          "data": {
            "text/plain": [
              "array([      -inf, 0.        , 0.69314718])"
            ]
          },
          "metadata": {},
          "execution_count": 110
        }
      ],
      "source": [
        "np.log(arr)"
      ]
    },
    {
      "cell_type": "markdown",
      "id": "b9cd0b62",
      "metadata": {
        "id": "b9cd0b62"
      },
      "source": [
        "## Statistics:"
      ]
    },
    {
      "cell_type": "code",
      "execution_count": null,
      "id": "9b7ac041",
      "metadata": {
        "id": "9b7ac041",
        "colab": {
          "base_uri": "https://localhost:8080/"
        },
        "outputId": "9a222828-b014-4099-8686-0e92687dfa68"
      },
      "outputs": [
        {
          "output_type": "execute_result",
          "data": {
            "text/plain": [
              "4.5"
            ]
          },
          "metadata": {},
          "execution_count": 111
        }
      ],
      "source": [
        "arr = np.arange(10)\n",
        "arr.mean()"
      ]
    },
    {
      "cell_type": "code",
      "execution_count": null,
      "id": "d215ca48",
      "metadata": {
        "id": "d215ca48",
        "colab": {
          "base_uri": "https://localhost:8080/"
        },
        "outputId": "a718622e-967a-4f17-f995-b7bf6c7eb9a0"
      },
      "outputs": [
        {
          "output_type": "execute_result",
          "data": {
            "text/plain": [
              "2.8722813232690143"
            ]
          },
          "metadata": {},
          "execution_count": 112
        }
      ],
      "source": [
        "arr.std()"
      ]
    },
    {
      "cell_type": "code",
      "execution_count": null,
      "id": "Q-pmugzq4o_-",
      "metadata": {
        "id": "Q-pmugzq4o_-",
        "colab": {
          "base_uri": "https://localhost:8080/"
        },
        "outputId": "7a7df6c2-1a16-47ec-b0a4-d89fad7d60ab"
      },
      "outputs": [
        {
          "output_type": "execute_result",
          "data": {
            "text/plain": [
              "array([0, 1, 2, 3, 4, 5, 6, 7, 8, 9])"
            ]
          },
          "metadata": {},
          "execution_count": 113
        }
      ],
      "source": [
        "arr"
      ]
    },
    {
      "cell_type": "code",
      "execution_count": null,
      "id": "1789ab5e",
      "metadata": {
        "id": "1789ab5e",
        "colab": {
          "base_uri": "https://localhost:8080/"
        },
        "outputId": "cdb742af-6e59-4f84-bb6b-6e6aee5f26b8"
      },
      "outputs": [
        {
          "output_type": "execute_result",
          "data": {
            "text/plain": [
              "array([ 0,  1,  3,  6, 10, 15, 21, 28, 36, 45])"
            ]
          },
          "metadata": {},
          "execution_count": 114
        }
      ],
      "source": [
        "# Return the cumulative sum of the elements along the given axis.\n",
        "arr.cumsum()"
      ]
    },
    {
      "cell_type": "markdown",
      "id": "fa22afe6",
      "metadata": {
        "id": "fa22afe6"
      },
      "source": [
        "The .cumsum() function sum the value of all elements before the current position. For example, for the sequence of 1, 3, 4, 1, the .cumsum() function will return a series of 1, 4, 8, 9."
      ]
    },
    {
      "cell_type": "markdown",
      "id": "0933dddd",
      "metadata": {
        "id": "0933dddd"
      },
      "source": [
        "**Exercise**"
      ]
    },
    {
      "cell_type": "markdown",
      "id": "c878ee84",
      "metadata": {
        "id": "c878ee84"
      },
      "source": [
        "1. Given the *daily profits* are [0.01,0.02,0.01,-0.03]. Calculate the cumulated profits."
      ]
    },
    {
      "cell_type": "code",
      "execution_count": null,
      "id": "c65483b7",
      "metadata": {
        "id": "c65483b7",
        "colab": {
          "base_uri": "https://localhost:8080/"
        },
        "outputId": "44749232-e01c-4b4f-99de-d8a8f3c5561a"
      },
      "outputs": [
        {
          "output_type": "execute_result",
          "data": {
            "text/plain": [
              "array([0.01, 0.03, 0.04, 0.01])"
            ]
          },
          "metadata": {},
          "execution_count": 115
        }
      ],
      "source": [
        "profit = np.array([0.01,0.02,0.01,-0.03]).cumsum()\n",
        "profit"
      ]
    },
    {
      "cell_type": "markdown",
      "id": "9c6d8bbd",
      "metadata": {
        "id": "9c6d8bbd"
      },
      "source": [
        "2. Given the daily stock prices are [110.26,109.20,109.98,112.56]. Calculate the daily stock return.\\\n",
        "\n",
        "$r_t = \\frac{S_t - S_{t-1}}{S_{t-1}} = \\frac{S_t }{S_{t-1}}-1$\n",
        "\n",
        "$r_t \\approx ln(1+r_t) = ln(S_t/S_{t-1})= ln S_t - ln S_{t-1} $\n",
        "\n",
        "Note: $ln(1+x)\\approx x$\n",
        "\n",
        "[Natural logarithm function](https://en.wikipedia.org/wiki/Natural_logarithm#/media/File:Log_(2).svg)"
      ]
    },
    {
      "cell_type": "code",
      "execution_count": null,
      "id": "2abf7378",
      "metadata": {
        "id": "2abf7378",
        "colab": {
          "base_uri": "https://localhost:8080/"
        },
        "outputId": "f53f9b62-17d2-4aea-8507-562d12ef10dc"
      },
      "outputs": [
        {
          "output_type": "execute_result",
          "data": {
            "text/plain": [
              "array([-0.00961364,  0.00714286,  0.02345881])"
            ]
          },
          "metadata": {},
          "execution_count": 116
        }
      ],
      "source": [
        "p = np.array([110.26, 109.20, 109.98, 112.56])\n",
        "ret = p[1:4]/p[0:3]-1\n",
        "ret"
      ]
    },
    {
      "cell_type": "code",
      "execution_count": null,
      "id": "2XNk128RrxoF",
      "metadata": {
        "id": "2XNk128RrxoF",
        "colab": {
          "base_uri": "https://localhost:8080/"
        },
        "outputId": "6b13dde5-62d3-41f5-abc9-7a464b9242ce"
      },
      "outputs": [
        {
          "output_type": "execute_result",
          "data": {
            "text/plain": [
              "array([-0.00966015,  0.00711747,  0.02318788])"
            ]
          },
          "metadata": {},
          "execution_count": 117
        }
      ],
      "source": [
        "p = np.array([110.26, 109.20, 109.98, 112.56])\n",
        "ret = np.diff(np.log(p))\n",
        "ret"
      ]
    },
    {
      "cell_type": "markdown",
      "id": "6b28998a",
      "metadata": {
        "id": "6b28998a"
      },
      "source": [
        "3. Suppose you bought the stock on the first day at a price of 105. Show the daily profit for each day? What is the cumulated profit?"
      ]
    },
    {
      "cell_type": "code",
      "execution_count": null,
      "id": "9d6f818a",
      "metadata": {
        "id": "9d6f818a"
      },
      "outputs": [],
      "source": [
        "p0 = 105\n",
        "profit_1 = p[1]-p0\n",
        "profit_2 = p[2]-p[1]"
      ]
    },
    {
      "cell_type": "code",
      "execution_count": null,
      "id": "77b154b3",
      "metadata": {
        "id": "77b154b3",
        "scrolled": true,
        "colab": {
          "base_uri": "https://localhost:8080/"
        },
        "outputId": "68d0ed42-289e-4158-aec5-159a6506cd65"
      },
      "outputs": [
        {
          "output_type": "stream",
          "name": "stdout",
          "text": [
            "Profit for day 1 is 5.26\n",
            "Profit for day 2 is -1.06\n",
            "Profit for day 3 is 0.78\n",
            "Profit for day 4 is 2.58\n"
          ]
        },
        {
          "output_type": "execute_result",
          "data": {
            "text/plain": [
              "array([ 5.26, -1.06,  0.78,  2.58])"
            ]
          },
          "metadata": {},
          "execution_count": 119
        }
      ],
      "source": [
        "profit = np.zeros(4)\n",
        "for i in range(4):\n",
        "    if i==0:\n",
        "        profit[i]=p[i]-p0\n",
        "    else:\n",
        "        profit[i]=p[i]-p[i-1]\n",
        "    print(f'Profit for day {i+1} is {profit[i]:.2f}')\n",
        "profit"
      ]
    },
    {
      "cell_type": "code",
      "execution_count": null,
      "id": "aa485a4d",
      "metadata": {
        "id": "aa485a4d",
        "colab": {
          "base_uri": "https://localhost:8080/"
        },
        "outputId": "7a8f55c4-1fef-456d-e349-007f5fcb690d"
      },
      "outputs": [
        {
          "output_type": "execute_result",
          "data": {
            "text/plain": [
              "array([5.26, 4.2 , 4.98, 7.56])"
            ]
          },
          "metadata": {},
          "execution_count": 120
        }
      ],
      "source": [
        "# cumulated profits\n",
        "profit.cumsum()"
      ]
    },
    {
      "cell_type": "code",
      "execution_count": null,
      "id": "paJ_0KQNuIB1",
      "metadata": {
        "id": "paJ_0KQNuIB1",
        "colab": {
          "base_uri": "https://localhost:8080/"
        },
        "outputId": "21bb1a38-2ed8-43d4-d70d-6f242d601af5"
      },
      "outputs": [
        {
          "output_type": "execute_result",
          "data": {
            "text/plain": [
              "array([0.05009524, 0.04      , 0.04742857, 0.072     ])"
            ]
          },
          "metadata": {},
          "execution_count": 121
        }
      ],
      "source": [
        "# cumulated return\n",
        "p = np.array([110.26, 109.20, 109.98, 112.56])\n",
        "(p/105)-1"
      ]
    },
    {
      "cell_type": "code",
      "execution_count": null,
      "id": "e3ypx7XBub4R",
      "metadata": {
        "id": "e3ypx7XBub4R",
        "colab": {
          "base_uri": "https://localhost:8080/"
        },
        "outputId": "3cd42e16-1c2c-4709-dcfd-be0a88659552"
      },
      "outputs": [
        {
          "output_type": "execute_result",
          "data": {
            "text/plain": [
              "0.072"
            ]
          },
          "metadata": {},
          "execution_count": 122
        }
      ],
      "source": [
        "# verify the return\n",
        "7.56/105"
      ]
    },
    {
      "cell_type": "markdown",
      "id": "21f35f4e",
      "metadata": {
        "id": "21f35f4e"
      },
      "source": [
        "# Advanced\n",
        "\n",
        "* pseudorandom numbers generator (偽隨機亂數): an algorithm for generating a sequence of numbers whose properties approximate the properties of sequences of random numbers.\n",
        "* seeds: every sequence with the same seed will be the same."
      ]
    },
    {
      "cell_type": "code",
      "execution_count": null,
      "id": "4c75c566",
      "metadata": {
        "id": "4c75c566"
      },
      "outputs": [],
      "source": [
        "# setting the seed\n",
        "np.random.seed(12345)"
      ]
    },
    {
      "cell_type": "markdown",
      "id": "db2467a3",
      "metadata": {
        "id": "db2467a3"
      },
      "source": [
        "### Generate random variables"
      ]
    },
    {
      "cell_type": "code",
      "execution_count": null,
      "id": "a9aacaa7",
      "metadata": {
        "id": "a9aacaa7",
        "colab": {
          "base_uri": "https://localhost:8080/"
        },
        "outputId": "fba9f2ed-bd96-4f57-dc58-52f476fe96bc"
      },
      "outputs": [
        {
          "output_type": "execute_result",
          "data": {
            "text/plain": [
              "1"
            ]
          },
          "metadata": {},
          "execution_count": 123
        }
      ],
      "source": [
        "# randomly select a number between 0 and 9\n",
        "np.random.randint(10)"
      ]
    },
    {
      "cell_type": "code",
      "execution_count": null,
      "id": "e4cb4f19",
      "metadata": {
        "id": "e4cb4f19",
        "colab": {
          "base_uri": "https://localhost:8080/"
        },
        "outputId": "03ff2753-2ded-443d-c3a8-21e5ef1adfe1"
      },
      "outputs": [
        {
          "output_type": "execute_result",
          "data": {
            "text/plain": [
              "array([5, 5, 5, 3, 4, 5, 7, 3, 7, 3, 6, 7, 4, 5, 7, 4, 6, 5, 4, 2, 4, 7,\n",
              "       2, 4, 3, 5, 5, 4, 6, 5])"
            ]
          },
          "metadata": {},
          "execution_count": 124
        }
      ],
      "source": [
        "# 30 observations withdrawed from binomial(10, 0.5)\n",
        "np.random.binomial(10, 0.5, 30)"
      ]
    },
    {
      "cell_type": "code",
      "execution_count": null,
      "id": "ba849d39",
      "metadata": {
        "id": "ba849d39",
        "colab": {
          "base_uri": "https://localhost:8080/"
        },
        "outputId": "e9effa96-4afe-4ba1-ab77-641fb5eaf3ec"
      },
      "outputs": [
        {
          "output_type": "execute_result",
          "data": {
            "text/plain": [
              "array([ 1.37053752,  7.6715463 , 11.63173825, 13.39670861, 19.97462402,\n",
              "        3.17062264,  1.05539653,  3.69738985,  2.27478198,  1.66270067])"
            ]
          },
          "metadata": {},
          "execution_count": 125
        }
      ],
      "source": [
        "# 10 observations withdrawed from exponential distribution exp(5)\n",
        "np.random.exponential(5, 10)"
      ]
    },
    {
      "cell_type": "markdown",
      "id": "7d1d106f",
      "metadata": {
        "id": "7d1d106f"
      },
      "source": [
        "## Random walk"
      ]
    },
    {
      "cell_type": "markdown",
      "id": "20e49380",
      "metadata": {
        "id": "20e49380"
      },
      "source": [
        "Properties related to a random walk sequence:\n",
        "* the movement shoud be either up (`1`) or down (`-1`)\n",
        "* independent movement\n",
        "* the probabilities\n",
        "    * 0.5 for `1`\n",
        "    * 0.5 for `-1`\n",
        "\n",
        "Next, let's generate a sequence of random walk with 10000 observations. To make a graph of the sequence, I will also import matplotlib.pyplot."
      ]
    },
    {
      "cell_type": "code",
      "execution_count": null,
      "id": "2ad2e175",
      "metadata": {
        "id": "2ad2e175",
        "colab": {
          "base_uri": "https://localhost:8080/"
        },
        "outputId": "19b773c7-6a05-4c67-ce26-72602306b23f"
      },
      "outputs": [
        {
          "output_type": "execute_result",
          "data": {
            "text/plain": [
              "1"
            ]
          },
          "metadata": {},
          "execution_count": 126
        }
      ],
      "source": [
        "import numpy as np\n",
        "# generate 1 and -1\n",
        "#a = np.random.binomial(1,0.5)*2-1\n",
        "a = 1 if np.random.binomial(1,0.5) else -1\n",
        "a"
      ]
    },
    {
      "cell_type": "code",
      "execution_count": null,
      "id": "y7v_Q0steH7Y",
      "metadata": {
        "id": "y7v_Q0steH7Y",
        "colab": {
          "base_uri": "https://localhost:8080/"
        },
        "outputId": "f7d31c22-5a04-4925-e3fe-1bf86a656de8"
      },
      "outputs": [
        {
          "output_type": "execute_result",
          "data": {
            "text/plain": [
              "array([0., 0., 0., ..., 0., 0., 0.])"
            ]
          },
          "metadata": {},
          "execution_count": 127
        }
      ],
      "source": [
        "move = np.zeros(10000)\n",
        "move"
      ]
    },
    {
      "cell_type": "code",
      "execution_count": null,
      "id": "1b80c9cd",
      "metadata": {
        "id": "1b80c9cd",
        "colab": {
          "base_uri": "https://localhost:8080/",
          "height": 466
        },
        "outputId": "ac7c575b-c4c7-47d4-aa53-4738d0d635aa"
      },
      "outputs": [
        {
          "output_type": "stream",
          "name": "stdout",
          "text": [
            "[ 0.  1.  1. ... -1. -1.  1.]\n",
            "[ 0.  1.  2. ... 19. 18. 19.]\n"
          ]
        },
        {
          "output_type": "display_data",
          "data": {
            "text/plain": [
              "<Figure size 640x480 with 1 Axes>"
            ],
            "image/png": "[encoded data removed]"
          },
          "metadata": {}
        }
      ],
      "source": [
        "# Method 1\n",
        "\n",
        "import matplotlib.pyplot as plt\n",
        "steps = 10000\n",
        "move = np.zeros(steps)\n",
        "move[0] = 0\n",
        "for i in range(1,steps):\n",
        "    move[i] = np.random.binomial(1, 0.5)*2 -1\n",
        "\n",
        "rw = np.cumsum(move)\n",
        "plt.plot(rw)\n",
        "print(move)\n",
        "print(rw)"
      ]
    },
    {
      "cell_type": "code",
      "execution_count": null,
      "id": "e18c25eb",
      "metadata": {
        "id": "e18c25eb",
        "colab": {
          "base_uri": "https://localhost:8080/",
          "height": 1000
        },
        "outputId": "a6e8468f-9695-40fd-bbc2-480e9af68d5e"
      },
      "outputs": [
        {
          "output_type": "execute_result",
          "data": {
            "text/plain": [
              "[<matplotlib.lines.Line2D at 0x7f74fda92860>,\n",
              " <matplotlib.lines.Line2D at 0x7f74fda93970>,\n",
              " <matplotlib.lines.Line2D at 0x7f74fda93c10>,\n",
              " <matplotlib.lines.Line2D at 0x7f74fda932e0>,\n",
              " <matplotlib.lines.Line2D at 0x7f74fda924a0>,\n",
              " <matplotlib.lines.Line2D at 0x7f74fda90310>,\n",
              " <matplotlib.lines.Line2D at 0x7f74fda90340>,\n",
              " <matplotlib.lines.Line2D at 0x7f74fda901f0>,\n",
              " <matplotlib.lines.Line2D at 0x7f74fda90c40>,\n",
              " <matplotlib.lines.Line2D at 0x7f74fda90940>,\n",
              " <matplotlib.lines.Line2D at 0x7f74fda90a90>,\n",
              " <matplotlib.lines.Line2D at 0x7f74fda92bf0>,\n",
              " <matplotlib.lines.Line2D at 0x7f74fda90a30>,\n",
              " <matplotlib.lines.Line2D at 0x7f74fda914b0>,\n",
              " <matplotlib.lines.Line2D at 0x7f74fda907c0>,\n",
              " <matplotlib.lines.Line2D at 0x7f74fda913f0>,\n",
              " <matplotlib.lines.Line2D at 0x7f74fda91300>,\n",
              " <matplotlib.lines.Line2D at 0x7f74fda90f40>,\n",
              " <matplotlib.lines.Line2D at 0x7f74fda90e50>,\n",
              " <matplotlib.lines.Line2D at 0x7f74fda90d30>,\n",
              " <matplotlib.lines.Line2D at 0x7f74fda934f0>,\n",
              " <matplotlib.lines.Line2D at 0x7f74fda911e0>,\n",
              " <matplotlib.lines.Line2D at 0x7f74fd7b43d0>,\n",
              " <matplotlib.lines.Line2D at 0x7f74fd7b43a0>,\n",
              " <matplotlib.lines.Line2D at 0x7f74fd7b44f0>,\n",
              " <matplotlib.lines.Line2D at 0x7f75015d8610>,\n",
              " <matplotlib.lines.Line2D at 0x7f750911b250>,\n",
              " <matplotlib.lines.Line2D at 0x7f75092e8ca0>,\n",
              " <matplotlib.lines.Line2D at 0x7f74fec20ca0>,\n",
              " <matplotlib.lines.Line2D at 0x7f74fec20a90>,\n",
              " <matplotlib.lines.Line2D at 0x7f74fe757dc0>,\n",
              " <matplotlib.lines.Line2D at 0x7f74fe757e50>,\n",
              " <matplotlib.lines.Line2D at 0x7f74fe91eb30>,\n",
              " <matplotlib.lines.Line2D at 0x7f74fe91d2a0>,\n",
              " <matplotlib.lines.Line2D at 0x7f74fe91dd80>,\n",
              " <matplotlib.lines.Line2D at 0x7f74fe91f370>,\n",
              " <matplotlib.lines.Line2D at 0x7f74fe91c5e0>,\n",
              " <matplotlib.lines.Line2D at 0x7f74fe91c550>,\n",
              " <matplotlib.lines.Line2D at 0x7f74fe91d5d0>,\n",
              " <matplotlib.lines.Line2D at 0x7f74fe91fe80>,\n",
              " <matplotlib.lines.Line2D at 0x7f74fe91fe50>,\n",
              " <matplotlib.lines.Line2D at 0x7f74fe91f190>,\n",
              " <matplotlib.lines.Line2D at 0x7f74fd7cb0d0>,\n",
              " <matplotlib.lines.Line2D at 0x7f750945b010>,\n",
              " <matplotlib.lines.Line2D at 0x7f74fdc44d00>,\n",
              " <matplotlib.lines.Line2D at 0x7f74fe9c8850>,\n",
              " <matplotlib.lines.Line2D at 0x7f74fe9c87f0>,\n",
              " <matplotlib.lines.Line2D at 0x7f74fe9c8cd0>,\n",
              " <matplotlib.lines.Line2D at 0x7f74fe9c87c0>,\n",
              " <matplotlib.lines.Line2D at 0x7f74fe9c8400>,\n",
              " <matplotlib.lines.Line2D at 0x7f74fe9caf80>,\n",
              " <matplotlib.lines.Line2D at 0x7f74fe9c88b0>,\n",
              " <matplotlib.lines.Line2D at 0x7f74feac2950>,\n",
              " <matplotlib.lines.Line2D at 0x7f74feac2230>,\n",
              " <matplotlib.lines.Line2D at 0x7f74feac2890>,\n",
              " <matplotlib.lines.Line2D at 0x7f74feac3430>,\n",
              " <matplotlib.lines.Line2D at 0x7f74feac20e0>,\n",
              " <matplotlib.lines.Line2D at 0x7f74feac3d60>,\n",
              " <matplotlib.lines.Line2D at 0x7f74feac0e50>,\n",
              " <matplotlib.lines.Line2D at 0x7f74feac3e50>,\n",
              " <matplotlib.lines.Line2D at 0x7f74feac0e80>,\n",
              " <matplotlib.lines.Line2D at 0x7f74feac0f70>,\n",
              " <matplotlib.lines.Line2D at 0x7f74feac07c0>,\n",
              " <matplotlib.lines.Line2D at 0x7f74feac0730>,\n",
              " <matplotlib.lines.Line2D at 0x7f74feac15d0>,\n",
              " <matplotlib.lines.Line2D at 0x7f74feac1630>,\n",
              " <matplotlib.lines.Line2D at 0x7f74feaf41c0>,\n",
              " <matplotlib.lines.Line2D at 0x7f74feaf4520>,\n",
              " <matplotlib.lines.Line2D at 0x7f74feaf4df0>,\n",
              " <matplotlib.lines.Line2D at 0x7f74feaf40d0>,\n",
              " <matplotlib.lines.Line2D at 0x7f74feaf6410>,\n",
              " <matplotlib.lines.Line2D at 0x7f74feaf5ea0>,\n",
              " <matplotlib.lines.Line2D at 0x7f74fe873a90>,\n",
              " <matplotlib.lines.Line2D at 0x7f74fe8707f0>,\n",
              " <matplotlib.lines.Line2D at 0x7f74fe870520>,\n",
              " <matplotlib.lines.Line2D at 0x7f74fe873040>,\n",
              " <matplotlib.lines.Line2D at 0x7f74fe871a80>,\n",
              " <matplotlib.lines.Line2D at 0x7f74fe872320>,\n",
              " <matplotlib.lines.Line2D at 0x7f74fe8716f0>,\n",
              " <matplotlib.lines.Line2D at 0x7f74fe8730d0>,\n",
              " <matplotlib.lines.Line2D at 0x7f74fe872ef0>,\n",
              " <matplotlib.lines.Line2D at 0x7f74fe872cb0>,\n",
              " <matplotlib.lines.Line2D at 0x7f74fe8733d0>,\n",
              " <matplotlib.lines.Line2D at 0x7f74fe8734f0>,\n",
              " <matplotlib.lines.Line2D at 0x7f74fe9a1720>,\n",
              " <matplotlib.lines.Line2D at 0x7f74fe9a0c10>,\n",
              " <matplotlib.lines.Line2D at 0x7f74fe9a15d0>,\n",
              " <matplotlib.lines.Line2D at 0x7f74fe9a0f10>,\n",
              " <matplotlib.lines.Line2D at 0x7f74fe9a0d60>,\n",
              " <matplotlib.lines.Line2D at 0x7f74fe9a2f80>,\n",
              " <matplotlib.lines.Line2D at 0x7f74fe9a0370>,\n",
              " <matplotlib.lines.Line2D at 0x7f74fe9a3d90>,\n",
              " <matplotlib.lines.Line2D at 0x7f74fe9a2110>,\n",
              " <matplotlib.lines.Line2D at 0x7f74fe9a1930>,\n",
              " <matplotlib.lines.Line2D at 0x7f74fe9a18d0>,\n",
              " <matplotlib.lines.Line2D at 0x7f74fe9a21a0>,\n",
              " <matplotlib.lines.Line2D at 0x7f74fe9a1fc0>,\n",
              " <matplotlib.lines.Line2D at 0x7f74fe9a0310>,\n",
              " <matplotlib.lines.Line2D at 0x7f74fd82e200>,\n",
              " <matplotlib.lines.Line2D at 0x7f74fd82fcd0>,\n",
              " <matplotlib.lines.Line2D at 0x7f74fd82fc70>,\n",
              " <matplotlib.lines.Line2D at 0x7f74fd82f4c0>,\n",
              " <matplotlib.lines.Line2D at 0x7f74fd82f6a0>,\n",
              " <matplotlib.lines.Line2D at 0x7f74fd82f5e0>,\n",
              " <matplotlib.lines.Line2D at 0x7f74fd82d450>,\n",
              " <matplotlib.lines.Line2D at 0x7f74fd82d360>,\n",
              " <matplotlib.lines.Line2D at 0x7f74fd82da20>,\n",
              " <matplotlib.lines.Line2D at 0x7f74fd82cfd0>,\n",
              " <matplotlib.lines.Line2D at 0x7f74fd82e6b0>,\n",
              " <matplotlib.lines.Line2D at 0x7f74fd82d330>,\n",
              " <matplotlib.lines.Line2D at 0x7f74fd82d7e0>,\n",
              " <matplotlib.lines.Line2D at 0x7f74fd82e530>,\n",
              " <matplotlib.lines.Line2D at 0x7f74fd82d600>,\n",
              " <matplotlib.lines.Line2D at 0x7f74fd82d5d0>,\n",
              " <matplotlib.lines.Line2D at 0x7f74fd82f9d0>,\n",
              " <matplotlib.lines.Line2D at 0x7f74fd82d6c0>,\n",
              " <matplotlib.lines.Line2D at 0x7f74fd82d030>,\n",
              " <matplotlib.lines.Line2D at 0x7f74fd82e5c0>,\n",
              " <matplotlib.lines.Line2D at 0x7f74fd82d210>,\n",
              " <matplotlib.lines.Line2D at 0x7f74fd82ed40>,\n",
              " <matplotlib.lines.Line2D at 0x7f74fd82c250>,\n",
              " <matplotlib.lines.Line2D at 0x7f74fd82c220>,\n",
              " <matplotlib.lines.Line2D at 0x7f74fd82feb0>,\n",
              " <matplotlib.lines.Line2D at 0x7f74fd82dcc0>,\n",
              " <matplotlib.lines.Line2D at 0x7f74fd82c490>,\n",
              " <matplotlib.lines.Line2D at 0x7f74fd82ca90>,\n",
              " <matplotlib.lines.Line2D at 0x7f74fd82eda0>,\n",
              " <matplotlib.lines.Line2D at 0x7f74fd82efe0>,\n",
              " <matplotlib.lines.Line2D at 0x7f74fd82cd30>,\n",
              " <matplotlib.lines.Line2D at 0x7f74fd82ccd0>,\n",
              " <matplotlib.lines.Line2D at 0x7f74fd82d2a0>,\n",
              " <matplotlib.lines.Line2D at 0x7f74fd82f040>,\n",
              " <matplotlib.lines.Line2D at 0x7f74fe7803d0>,\n",
              " <matplotlib.lines.Line2D at 0x7f74fe7808e0>,\n",
              " <matplotlib.lines.Line2D at 0x7f74fe782560>,\n",
              " <matplotlib.lines.Line2D at 0x7f74fe783160>,\n",
              " <matplotlib.lines.Line2D at 0x7f74fe782770>,\n",
              " <matplotlib.lines.Line2D at 0x7f74fe780e50>,\n",
              " <matplotlib.lines.Line2D at 0x7f74fe7831c0>,\n",
              " <matplotlib.lines.Line2D at 0x7f74fe7830d0>,\n",
              " <matplotlib.lines.Line2D at 0x7f74fe782f20>,\n",
              " <matplotlib.lines.Line2D at 0x7f74fe781750>,\n",
              " <matplotlib.lines.Line2D at 0x7f74fe7811b0>,\n",
              " <matplotlib.lines.Line2D at 0x7f74fe7822c0>,\n",
              " <matplotlib.lines.Line2D at 0x7f74fe782200>,\n",
              " <matplotlib.lines.Line2D at 0x7f74fe7819f0>,\n",
              " <matplotlib.lines.Line2D at 0x7f74fe780fa0>,\n",
              " <matplotlib.lines.Line2D at 0x7f74fe780280>,\n",
              " <matplotlib.lines.Line2D at 0x7f74fe7817b0>,\n",
              " <matplotlib.lines.Line2D at 0x7f74fe7802e0>,\n",
              " <matplotlib.lines.Line2D at 0x7f74fe780d90>,\n",
              " <matplotlib.lines.Line2D at 0x7f74fe783b80>,\n",
              " <matplotlib.lines.Line2D at 0x7f74fe7839d0>,\n",
              " <matplotlib.lines.Line2D at 0x7f74fe901090>,\n",
              " <matplotlib.lines.Line2D at 0x7f74fe9028c0>,\n",
              " <matplotlib.lines.Line2D at 0x7f74fe9032e0>,\n",
              " <matplotlib.lines.Line2D at 0x7f74fe9016c0>,\n",
              " <matplotlib.lines.Line2D at 0x7f74fe900b80>,\n",
              " <matplotlib.lines.Line2D at 0x7f74fe901330>,\n",
              " <matplotlib.lines.Line2D at 0x7f74fe901420>,\n",
              " <matplotlib.lines.Line2D at 0x7f74fe900280>,\n",
              " <matplotlib.lines.Line2D at 0x7f74fe902650>,\n",
              " <matplotlib.lines.Line2D at 0x7f74fe903100>,\n",
              " <matplotlib.lines.Line2D at 0x7f74fe901a20>,\n",
              " <matplotlib.lines.Line2D at 0x7f74fe902b30>,\n",
              " <matplotlib.lines.Line2D at 0x7f74fe902980>,\n",
              " <matplotlib.lines.Line2D at 0x7f74fe9027d0>,\n",
              " <matplotlib.lines.Line2D at 0x7f74fe901d20>,\n",
              " <matplotlib.lines.Line2D at 0x7f74fe901780>,\n",
              " <matplotlib.lines.Line2D at 0x7f74fe900970>,\n",
              " <matplotlib.lines.Line2D at 0x7f74fe901f30>,\n",
              " <matplotlib.lines.Line2D at 0x7f74fe901570>,\n",
              " <matplotlib.lines.Line2D at 0x7f74fe9012a0>,\n",
              " <matplotlib.lines.Line2D at 0x7f74fe6db880>,\n",
              " <matplotlib.lines.Line2D at 0x7f74fe7b6dd0>,\n",
              " <matplotlib.lines.Line2D at 0x7f74fe7b7670>,\n",
              " <matplotlib.lines.Line2D at 0x7f74fe7b70d0>,\n",
              " <matplotlib.lines.Line2D at 0x7f74fe7b66b0>,\n",
              " <matplotlib.lines.Line2D at 0x7f74fe7b7fa0>,\n",
              " <matplotlib.lines.Line2D at 0x7f74fe79d840>,\n",
              " <matplotlib.lines.Line2D at 0x7f74fe79d2d0>,\n",
              " <matplotlib.lines.Line2D at 0x7f74fe79dd20>,\n",
              " <matplotlib.lines.Line2D at 0x7f74fe79f460>,\n",
              " <matplotlib.lines.Line2D at 0x7f74fe79cb20>,\n",
              " <matplotlib.lines.Line2D at 0x7f74fe79f4c0>,\n",
              " <matplotlib.lines.Line2D at 0x7f74fe79eb90>,\n",
              " <matplotlib.lines.Line2D at 0x7f74fe79c340>,\n",
              " <matplotlib.lines.Line2D at 0x7f74fe79cee0>,\n",
              " <matplotlib.lines.Line2D at 0x7f74fe79ebc0>,\n",
              " <matplotlib.lines.Line2D at 0x7f74fe79d1b0>,\n",
              " <matplotlib.lines.Line2D at 0x7f74fe79e350>,\n",
              " <matplotlib.lines.Line2D at 0x7f74fe79ef50>,\n",
              " <matplotlib.lines.Line2D at 0x7f74fe79d750>,\n",
              " <matplotlib.lines.Line2D at 0x7f74fe79c040>,\n",
              " <matplotlib.lines.Line2D at 0x7f74fe79d930>,\n",
              " <matplotlib.lines.Line2D at 0x7f74fe79f160>,\n",
              " <matplotlib.lines.Line2D at 0x7f74fe79e6b0>,\n",
              " <matplotlib.lines.Line2D at 0x7f74fe79d270>,\n",
              " <matplotlib.lines.Line2D at 0x7f74fdc27070>,\n",
              " <matplotlib.lines.Line2D at 0x7f74fe8528f0>,\n",
              " <matplotlib.lines.Line2D at 0x7f74fe853130>,\n",
              " <matplotlib.lines.Line2D at 0x7f74fe8e1660>,\n",
              " <matplotlib.lines.Line2D at 0x7f74fe8e13c0>,\n",
              " <matplotlib.lines.Line2D at 0x7f74fe8e12d0>,\n",
              " <matplotlib.lines.Line2D at 0x7f74fe8e1a20>,\n",
              " <matplotlib.lines.Line2D at 0x7f74fe8e1b40>,\n",
              " <matplotlib.lines.Line2D at 0x7f74fe8e0cd0>,\n",
              " <matplotlib.lines.Line2D at 0x7f74fe8e0a60>,\n",
              " <matplotlib.lines.Line2D at 0x7f74fe8e3e80>,\n",
              " <matplotlib.lines.Line2D at 0x7f74fe8e27d0>,\n",
              " <matplotlib.lines.Line2D at 0x7f74fe8e3c70>,\n",
              " <matplotlib.lines.Line2D at 0x7f74fe8e3ee0>,\n",
              " <matplotlib.lines.Line2D at 0x7f74fe8e1120>,\n",
              " <matplotlib.lines.Line2D at 0x7f74fda933a0>,\n",
              " <matplotlib.lines.Line2D at 0x7f74fda928c0>,\n",
              " <matplotlib.lines.Line2D at 0x7f74fda935e0>,\n",
              " <matplotlib.lines.Line2D at 0x7f74fda92cb0>,\n",
              " <matplotlib.lines.Line2D at 0x7f74fda934c0>,\n",
              " <matplotlib.lines.Line2D at 0x7f74fda93520>,\n",
              " <matplotlib.lines.Line2D at 0x7f74fda93cd0>,\n",
              " <matplotlib.lines.Line2D at 0x7f74fda93f40>,\n",
              " <matplotlib.lines.Line2D at 0x7f74fda93250>,\n",
              " <matplotlib.lines.Line2D at 0x7f74fda937f0>,\n",
              " <matplotlib.lines.Line2D at 0x7f74fda93be0>,\n",
              " <matplotlib.lines.Line2D at 0x7f74fda92ad0>,\n",
              " <matplotlib.lines.Line2D at 0x7f74fda93610>,\n",
              " <matplotlib.lines.Line2D at 0x7f74fda93850>,\n",
              " <matplotlib.lines.Line2D at 0x7f74fda93fd0>,\n",
              " <matplotlib.lines.Line2D at 0x7f74fda92da0>,\n",
              " <matplotlib.lines.Line2D at 0x7f74fda93010>,\n",
              " <matplotlib.lines.Line2D at 0x7f74fda92fe0>,\n",
              " <matplotlib.lines.Line2D at 0x7f74fda90580>,\n",
              " <matplotlib.lines.Line2D at 0x7f74fda90490>,\n",
              " <matplotlib.lines.Line2D at 0x7f74fdaef040>,\n",
              " <matplotlib.lines.Line2D at 0x7f74fdaef250>,\n",
              " <matplotlib.lines.Line2D at 0x7f74fdaed990>,\n",
              " <matplotlib.lines.Line2D at 0x7f74fdaeda20>,\n",
              " <matplotlib.lines.Line2D at 0x7f74fdaed420>,\n",
              " <matplotlib.lines.Line2D at 0x7f74fdaec460>,\n",
              " <matplotlib.lines.Line2D at 0x7f74fdaec790>,\n",
              " <matplotlib.lines.Line2D at 0x7f74fdaef0d0>,\n",
              " <matplotlib.lines.Line2D at 0x7f74fdaef070>,\n",
              " <matplotlib.lines.Line2D at 0x7f74fdaeef80>,\n",
              " <matplotlib.lines.Line2D at 0x7f74fdaef9a0>,\n",
              " <matplotlib.lines.Line2D at 0x7f74fdaef8b0>,\n",
              " <matplotlib.lines.Line2D at 0x7f74fdaeed70>,\n",
              " <matplotlib.lines.Line2D at 0x7f74fdaef7f0>,\n",
              " <matplotlib.lines.Line2D at 0x7f74fdaed870>,\n",
              " <matplotlib.lines.Line2D at 0x7f74fdaed810>,\n",
              " <matplotlib.lines.Line2D at 0x7f74fdaed720>,\n",
              " <matplotlib.lines.Line2D at 0x7f74fdaeef20>,\n",
              " <matplotlib.lines.Line2D at 0x7f74fdaef4f0>,\n",
              " <matplotlib.lines.Line2D at 0x7f74fdaed510>,\n",
              " <matplotlib.lines.Line2D at 0x7f74fdaef430>,\n",
              " <matplotlib.lines.Line2D at 0x7f74fdaed210>,\n",
              " <matplotlib.lines.Line2D at 0x7f74fdaed1b0>,\n",
              " <matplotlib.lines.Line2D at 0x7f74fdaed0c0>,\n",
              " <matplotlib.lines.Line2D at 0x7f74fdaef6a0>,\n",
              " <matplotlib.lines.Line2D at 0x7f74fdaef5b0>,\n",
              " <matplotlib.lines.Line2D at 0x7f74fdaeceb0>,\n",
              " <matplotlib.lines.Line2D at 0x7f74fdaec9d0>,\n",
              " <matplotlib.lines.Line2D at 0x7f74fdaec040>,\n",
              " <matplotlib.lines.Line2D at 0x7f74fdaeec50>,\n",
              " <matplotlib.lines.Line2D at 0x7f74fdaed690>,\n",
              " <matplotlib.lines.Line2D at 0x7f74fdaefc70>,\n",
              " <matplotlib.lines.Line2D at 0x7f74fdaedcf0>,\n",
              " <matplotlib.lines.Line2D at 0x7f74fdaedc00>,\n",
              " <matplotlib.lines.Line2D at 0x7f74fdaedd50>,\n",
              " <matplotlib.lines.Line2D at 0x7f74fdaec100>,\n",
              " <matplotlib.lines.Line2D at 0x7f74fdaee230>,\n",
              " <matplotlib.lines.Line2D at 0x7f74fdaec910>,\n",
              " <matplotlib.lines.Line2D at 0x7f74fdaecc10>,\n",
              " <matplotlib.lines.Line2D at 0x7f74fdaecb20>,\n",
              " <matplotlib.lines.Line2D at 0x7f74fdaee260>,\n",
              " <matplotlib.lines.Line2D at 0x7f74fdaee0e0>,\n",
              " <matplotlib.lines.Line2D at 0x7f74fdaeeb60>,\n",
              " <matplotlib.lines.Line2D at 0x7f74fdaeea70>,\n",
              " <matplotlib.lines.Line2D at 0x7f74fdaed5a0>,\n",
              " <matplotlib.lines.Line2D at 0x7f74fdaee980>,\n",
              " <matplotlib.lines.Line2D at 0x7f74fdaee890>,\n",
              " <matplotlib.lines.Line2D at 0x7f74fdaece20>,\n",
              " <matplotlib.lines.Line2D at 0x7f74fdaecca0>,\n",
              " <matplotlib.lines.Line2D at 0x7f74fdaee560>,\n",
              " <matplotlib.lines.Line2D at 0x7f74fdaee470>,\n",
              " <matplotlib.lines.Line2D at 0x7f74fdaec880>,\n",
              " <matplotlib.lines.Line2D at 0x7f74fdaee380>,\n",
              " <matplotlib.lines.Line2D at 0x7f74fdaee290>,\n",
              " <matplotlib.lines.Line2D at 0x7f74fdaec7c0>,\n",
              " <matplotlib.lines.Line2D at 0x7f74fdaec640>,\n",
              " <matplotlib.lines.Line2D at 0x7f74fdaee860>,\n",
              " <matplotlib.lines.Line2D at 0x7f74fdaee770>,\n",
              " <matplotlib.lines.Line2D at 0x7f74fdaec220>,\n",
              " <matplotlib.lines.Line2D at 0x7f74fdaee680>,\n",
              " <matplotlib.lines.Line2D at 0x7f74fdaee590>,\n",
              " <matplotlib.lines.Line2D at 0x7f74fdaefd90>,\n",
              " <matplotlib.lines.Line2D at 0x7f74fdaefdc0>,\n",
              " <matplotlib.lines.Line2D at 0x7f74fdaedf30>,\n",
              " <matplotlib.lines.Line2D at 0x7f74fdaede40>,\n",
              " <matplotlib.lines.Line2D at 0x7f74fe58b880>,\n",
              " <matplotlib.lines.Line2D at 0x7f74fe58a530>,\n",
              " <matplotlib.lines.Line2D at 0x7f74fe58a860>,\n",
              " <matplotlib.lines.Line2D at 0x7f74fe588d00>,\n",
              " <matplotlib.lines.Line2D at 0x7f74fe588e20>,\n",
              " <matplotlib.lines.Line2D at 0x7f74fe5886d0>,\n",
              " <matplotlib.lines.Line2D at 0x7f74fe5888e0>,\n",
              " <matplotlib.lines.Line2D at 0x7f74fe58bf10>,\n",
              " <matplotlib.lines.Line2D at 0x7f74fe58a770>,\n",
              " <matplotlib.lines.Line2D at 0x7f74fe58a6e0>,\n",
              " <matplotlib.lines.Line2D at 0x7f74fe58a5f0>,\n",
              " <matplotlib.lines.Line2D at 0x7f74fe58ae90>,\n",
              " <matplotlib.lines.Line2D at 0x7f74fe58a3e0>,\n",
              " <matplotlib.lines.Line2D at 0x7f74fe58add0>,\n",
              " <matplotlib.lines.Line2D at 0x7f74fe58ace0>,\n",
              " <matplotlib.lines.Line2D at 0x7f74fe588f10>,\n",
              " <matplotlib.lines.Line2D at 0x7f74fe588e80>,\n",
              " <matplotlib.lines.Line2D at 0x7f74fe588d90>,\n",
              " <matplotlib.lines.Line2D at 0x7f74fe58aaa0>,\n",
              " <matplotlib.lines.Line2D at 0x7f74fe588a90>,\n",
              " <matplotlib.lines.Line2D at 0x7f74fe58a9b0>,\n",
              " <matplotlib.lines.Line2D at 0x7f74fe58a8c0>,\n",
              " <matplotlib.lines.Line2D at 0x7f74fe588940>,\n",
              " <matplotlib.lines.Line2D at 0x7f74fe5883d0>,\n",
              " <matplotlib.lines.Line2D at 0x7f74fe58ac20>,\n",
              " <matplotlib.lines.Line2D at 0x7f74fe588af0>,\n",
              " <matplotlib.lines.Line2D at 0x7f74fe588460>,\n",
              " <matplotlib.lines.Line2D at 0x7f74fe58a470>,\n",
              " <matplotlib.lines.Line2D at 0x7f74fe58b490>,\n",
              " <matplotlib.lines.Line2D at 0x7f74fe58a1d0>,\n",
              " <matplotlib.lines.Line2D at 0x7f74fe58a0e0>,\n",
              " <matplotlib.lines.Line2D at 0x7f74fe58b5e0>,\n",
              " <matplotlib.lines.Line2D at 0x7f74fe58bc40>,\n",
              " <matplotlib.lines.Line2D at 0x7f74fe58bc10>,\n",
              " <matplotlib.lines.Line2D at 0x7f74fe58bd30>,\n",
              " <matplotlib.lines.Line2D at 0x7f74fe58afb0>,\n",
              " <matplotlib.lines.Line2D at 0x7f74fe589180>,\n",
              " <matplotlib.lines.Line2D at 0x7f74fe5890c0>,\n",
              " <matplotlib.lines.Line2D at 0x7f74fe589120>,\n",
              " <matplotlib.lines.Line2D at 0x7f74fe589750>,\n",
              " <matplotlib.lines.Line2D at 0x7f74fe5885b0>,\n",
              " <matplotlib.lines.Line2D at 0x7f74fe588340>,\n",
              " <matplotlib.lines.Line2D at 0x7f74fe588070>,\n",
              " <matplotlib.lines.Line2D at 0x7f74fe5897b0>,\n",
              " <matplotlib.lines.Line2D at 0x7f74fe589630>,\n",
              " <matplotlib.lines.Line2D at 0x7f74fe58a0b0>,\n",
              " <matplotlib.lines.Line2D at 0x7f74fe589fc0>,\n",
              " <matplotlib.lines.Line2D at 0x7f74fe589f30>,\n",
              " <matplotlib.lines.Line2D at 0x7f74fe589e40>,\n",
              " <matplotlib.lines.Line2D at 0x7f74fe588190>,\n",
              " <matplotlib.lines.Line2D at 0x7f74fe588130>,\n",
              " <matplotlib.lines.Line2D at 0x7f74fe589a50>,\n",
              " <matplotlib.lines.Line2D at 0x7f74fe589960>,\n",
              " <matplotlib.lines.Line2D at 0x7f74fe5898a0>,\n",
              " <matplotlib.lines.Line2D at 0x7f74fe589d80>,\n",
              " <matplotlib.lines.Line2D at 0x7f74fe589c90>,\n",
              " <matplotlib.lines.Line2D at 0x7f74fe589b70>,\n",
              " <matplotlib.lines.Line2D at 0x7f74fe58bf70>,\n",
              " <matplotlib.lines.Line2D at 0x7f74fe58b430>,\n",
              " <matplotlib.lines.Line2D at 0x7f74fe58be20>,\n",
              " <matplotlib.lines.Line2D at 0x7f74fe58b3a0>,\n",
              " <matplotlib.lines.Line2D at 0x7f74fe58b250>,\n",
              " <matplotlib.lines.Line2D at 0x7f74fe58a260>,\n",
              " <matplotlib.lines.Line2D at 0x7f74fe589420>,\n",
              " <matplotlib.lines.Line2D at 0x7f74fe589330>,\n",
              " <matplotlib.lines.Line2D at 0x7f74fe7da890>,\n",
              " <matplotlib.lines.Line2D at 0x7f74fe7dabc0>,\n",
              " <matplotlib.lines.Line2D at 0x7f74fe7d9180>,\n",
              " <matplotlib.lines.Line2D at 0x7f74fe7d92a0>,\n",
              " <matplotlib.lines.Line2D at 0x7f74fe7d8b50>,\n",
              " <matplotlib.lines.Line2D at 0x7f74fe7d8d60>,\n",
              " <matplotlib.lines.Line2D at 0x7f74fe7dbf10>,\n",
              " <matplotlib.lines.Line2D at 0x7f74fe7daad0>,\n",
              " <matplotlib.lines.Line2D at 0x7f74fe7daa40>,\n",
              " <matplotlib.lines.Line2D at 0x7f74fe7da950>,\n",
              " <matplotlib.lines.Line2D at 0x7f74fe7db1f0>,\n",
              " <matplotlib.lines.Line2D at 0x7f74fe7da740>,\n",
              " <matplotlib.lines.Line2D at 0x7f74fe7db130>,\n",
              " <matplotlib.lines.Line2D at 0x7f74fe7db040>,\n",
              " <matplotlib.lines.Line2D at 0x7f74fe7d9390>,\n",
              " <matplotlib.lines.Line2D at 0x7f74fe7d9300>,\n",
              " <matplotlib.lines.Line2D at 0x7f74fe7d9210>,\n",
              " <matplotlib.lines.Line2D at 0x7f74fe7dae30>,\n",
              " <matplotlib.lines.Line2D at 0x7f74fe7d9000>,\n",
              " <matplotlib.lines.Line2D at 0x7f74fe7dad70>,\n",
              " <matplotlib.lines.Line2D at 0x7f74fe7dac80>,\n",
              " <matplotlib.lines.Line2D at 0x7f74fe7d8d30>,\n",
              " <matplotlib.lines.Line2D at 0x7f74fe7d8ca0>,\n",
              " <matplotlib.lines.Line2D at 0x7f74fe7d8bb0>,\n",
              " <matplotlib.lines.Line2D at 0x7f74fe7d8910>,\n",
              " <matplotlib.lines.Line2D at 0x7f74fe7d89a0>,\n",
              " <matplotlib.lines.Line2D at 0x7f74fe7d83d0>,\n",
              " <matplotlib.lines.Line2D at 0x7f74fe7da7d0>,\n",
              " <matplotlib.lines.Line2D at 0x7f74fe7da560>,\n",
              " <matplotlib.lines.Line2D at 0x7f74fe7da470>,\n",
              " <matplotlib.lines.Line2D at 0x7f74fe7dbf40>,\n",
              " <matplotlib.lines.Line2D at 0x7f74fe7dbdc0>,\n",
              " <matplotlib.lines.Line2D at 0x7f74fe7dba30>,\n",
              " <matplotlib.lines.Line2D at 0x7f74fe7dbeb0>,\n",
              " <matplotlib.lines.Line2D at 0x7f74fe7db370>,\n",
              " <matplotlib.lines.Line2D at 0x7f74fe7d9630>,\n",
              " <matplotlib.lines.Line2D at 0x7f74fe7d9660>,\n",
              " <matplotlib.lines.Line2D at 0x7f74fe7d9510>,\n",
              " <matplotlib.lines.Line2D at 0x7f74fe7d9ae0>,\n",
              " <matplotlib.lines.Line2D at 0x7f74fe7d97e0>,\n",
              " <matplotlib.lines.Line2D at 0x7f74fe7d80d0>,\n",
              " <matplotlib.lines.Line2D at 0x7f74fe7d8700>,\n",
              " <matplotlib.lines.Line2D at 0x7f74fe7d90c0>,\n",
              " <matplotlib.lines.Line2D at 0x7f74fe7d9a80>,\n",
              " <matplotlib.lines.Line2D at 0x7f74fe7d8fa0>,\n",
              " <matplotlib.lines.Line2D at 0x7f74fe7da3e0>,\n",
              " <matplotlib.lines.Line2D at 0x7f74fe7da2f0>,\n",
              " <matplotlib.lines.Line2D at 0x7f74fe7d8a30>,\n",
              " <matplotlib.lines.Line2D at 0x7f74fe7da1d0>,\n",
              " <matplotlib.lines.Line2D at 0x7f74fe7d8580>,\n",
              " <matplotlib.lines.Line2D at 0x7f74fe7d8520>,\n",
              " <matplotlib.lines.Line2D at 0x7f74fe7d8430>,\n",
              " <matplotlib.lines.Line2D at 0x7f74fe7d9db0>,\n",
              " <matplotlib.lines.Line2D at 0x7f74fe7d9cc0>,\n",
              " <matplotlib.lines.Line2D at 0x7f74fe7d8220>,\n",
              " <matplotlib.lines.Line2D at 0x7f74fe7d9c00>,\n",
              " <matplotlib.lines.Line2D at 0x7f74fe7d8190>,\n",
              " <matplotlib.lines.Line2D at 0x7f74fe7da0b0>,\n",
              " <matplotlib.lines.Line2D at 0x7f74fe7d9fc0>,\n",
              " <matplotlib.lines.Line2D at 0x7f74fe7d9f00>,\n",
              " <matplotlib.lines.Line2D at 0x7f74fe7dbd30>,\n",
              " <matplotlib.lines.Line2D at 0x7f74fe7db5b0>,\n",
              " <matplotlib.lines.Line2D at 0x7f74fe7db6d0>,\n",
              " <matplotlib.lines.Line2D at 0x7f74fe7db3a0>,\n",
              " <matplotlib.lines.Line2D at 0x7f74fe7db490>,\n",
              " <matplotlib.lines.Line2D at 0x7f74fd59ec50>,\n",
              " <matplotlib.lines.Line2D at 0x7f74fd59fa00>,\n",
              " <matplotlib.lines.Line2D at 0x7f74fd59f070>,\n",
              " <matplotlib.lines.Line2D at 0x7f74fd59e890>,\n",
              " <matplotlib.lines.Line2D at 0x7f74fd59ff10>,\n",
              " <matplotlib.lines.Line2D at 0x7f74fd59e4a0>,\n",
              " <matplotlib.lines.Line2D at 0x7f74fd59fa90>,\n",
              " <matplotlib.lines.Line2D at 0x7f74fd59eb00>,\n",
              " <matplotlib.lines.Line2D at 0x7f74fd59eda0>,\n",
              " <matplotlib.lines.Line2D at 0x7f74fd59c280>,\n",
              " <matplotlib.lines.Line2D at 0x7f74fd59fb80>,\n",
              " <matplotlib.lines.Line2D at 0x7f74fd59f610>,\n",
              " <matplotlib.lines.Line2D at 0x7f74fd59c940>,\n",
              " <matplotlib.lines.Line2D at 0x7f74fd59c850>,\n",
              " <matplotlib.lines.Line2D at 0x7f74fd59d8d0>,\n",
              " <matplotlib.lines.Line2D at 0x7f74fd59d570>,\n",
              " <matplotlib.lines.Line2D at 0x7f74fd59d120>,\n",
              " <matplotlib.lines.Line2D at 0x7f74fd59d150>,\n",
              " <matplotlib.lines.Line2D at 0x7f74fd59c5b0>,\n",
              " <matplotlib.lines.Line2D at 0x7f74fd59ea70>,\n",
              " <matplotlib.lines.Line2D at 0x7f74fd59db40>,\n",
              " <matplotlib.lines.Line2D at 0x7f74fd59f490>,\n",
              " <matplotlib.lines.Line2D at 0x7f74fd59cb50>,\n",
              " <matplotlib.lines.Line2D at 0x7f74fd59ead0>,\n",
              " <matplotlib.lines.Line2D at 0x7f74fd59fc10>,\n",
              " <matplotlib.lines.Line2D at 0x7f74fd59d330>,\n",
              " <matplotlib.lines.Line2D at 0x7f74fd59da50>,\n",
              " <matplotlib.lines.Line2D at 0x7f74fd59c0d0>,\n",
              " <matplotlib.lines.Line2D at 0x7f74fd59e7d0>,\n",
              " <matplotlib.lines.Line2D at 0x7f74fd59d810>,\n",
              " <matplotlib.lines.Line2D at 0x7f74fd59dcc0>,\n",
              " <matplotlib.lines.Line2D at 0x7f74fd59dcf0>,\n",
              " <matplotlib.lines.Line2D at 0x7f74fd59e1a0>,\n",
              " <matplotlib.lines.Line2D at 0x7f74fd59cf70>,\n",
              " <matplotlib.lines.Line2D at 0x7f74fd59d5d0>,\n",
              " <matplotlib.lines.Line2D at 0x7f74fd59dea0>,\n",
              " <matplotlib.lines.Line2D at 0x7f74fd5c15a0>,\n",
              " <matplotlib.lines.Line2D at 0x7f74fd5c12d0>,\n",
              " <matplotlib.lines.Line2D at 0x7f74fd5c00a0>,\n",
              " <matplotlib.lines.Line2D at 0x7f74fd5c0370>,\n",
              " <matplotlib.lines.Line2D at 0x7f74fd5c0640>,\n",
              " <matplotlib.lines.Line2D at 0x7f74fd5c0190>,\n",
              " <matplotlib.lines.Line2D at 0x7f74fd5c0520>,\n",
              " <matplotlib.lines.Line2D at 0x7f74fd5c0f10>,\n",
              " <matplotlib.lines.Line2D at 0x7f74fd5c0250>,\n",
              " <matplotlib.lines.Line2D at 0x7f74fd6d74f0>,\n",
              " <matplotlib.lines.Line2D at 0x7f74fd6d6140>,\n",
              " <matplotlib.lines.Line2D at 0x7f74fd6d60b0>,\n",
              " <matplotlib.lines.Line2D at 0x7f74fd6d7430>,\n",
              " <matplotlib.lines.Line2D at 0x7f74fd6d7340>,\n",
              " <matplotlib.lines.Line2D at 0x7f74fd6d73a0>,\n",
              " <matplotlib.lines.Line2D at 0x7f74fd6d7e80>,\n",
              " <matplotlib.lines.Line2D at 0x7f74fead13c0>,\n",
              " <matplotlib.lines.Line2D at 0x7f74fead1570>,\n",
              " <matplotlib.lines.Line2D at 0x7f74fead1ba0>,\n",
              " <matplotlib.lines.Line2D at 0x7f74fead1f00>,\n",
              " <matplotlib.lines.Line2D at 0x7f74fead20b0>,\n",
              " <matplotlib.lines.Line2D at 0x7f74fead2230>,\n",
              " <matplotlib.lines.Line2D at 0x7f74fead1a20>,\n",
              " <matplotlib.lines.Line2D at 0x7f74fead22c0>,\n",
              " <matplotlib.lines.Line2D at 0x7f74fead2470>,\n",
              " <matplotlib.lines.Line2D at 0x7f74fead2620>,\n",
              " <matplotlib.lines.Line2D at 0x7f74fead2d70>,\n",
              " <matplotlib.lines.Line2D at 0x7f74fead2f80>,\n",
              " <matplotlib.lines.Line2D at 0x7f74fead09a0>,\n",
              " <matplotlib.lines.Line2D at 0x7f74fead2cb0>,\n",
              " <matplotlib.lines.Line2D at 0x7f74fead0490>,\n",
              " <matplotlib.lines.Line2D at 0x7f74fe5d48e0>,\n",
              " <matplotlib.lines.Line2D at 0x7f74fe5d49d0>,\n",
              " <matplotlib.lines.Line2D at 0x7f74fe5d5180>,\n",
              " <matplotlib.lines.Line2D at 0x7f74fe5d46d0>,\n",
              " <matplotlib.lines.Line2D at 0x7f74fe5d47c0>,\n",
              " <matplotlib.lines.Line2D at 0x7f74fe5d4e80>,\n",
              " <matplotlib.lines.Line2D at 0x7f74fe5d5480>,\n",
              " <matplotlib.lines.Line2D at 0x7f74fe5d5cc0>,\n",
              " <matplotlib.lines.Line2D at 0x7f74fe5d6470>,\n",
              " <matplotlib.lines.Line2D at 0x7f74fe5d4370>,\n",
              " <matplotlib.lines.Line2D at 0x7f74fe5d43a0>,\n",
              " <matplotlib.lines.Line2D at 0x7f74fe5d4a60>,\n",
              " <matplotlib.lines.Line2D at 0x7f74fe5d6ec0>,\n",
              " <matplotlib.lines.Line2D at 0x7f74fe5d4160>,\n",
              " <matplotlib.lines.Line2D at 0x7f74fe5d46a0>,\n",
              " <matplotlib.lines.Line2D at 0x7f74fe5d4ee0>,\n",
              " <matplotlib.lines.Line2D at 0x7f74fe5d4cd0>,\n",
              " <matplotlib.lines.Line2D at 0x7f74fe5d5450>,\n",
              " <matplotlib.lines.Line2D at 0x7f74fe5d5360>,\n",
              " <matplotlib.lines.Line2D at 0x7f74fe5d4f70>,\n",
              " <matplotlib.lines.Line2D at 0x7f74fe5d45e0>,\n",
              " <matplotlib.lines.Line2D at 0x7f74fe5d5870>,\n",
              " <matplotlib.lines.Line2D at 0x7f74fe5d7790>,\n",
              " <matplotlib.lines.Line2D at 0x7f74fe5d57b0>,\n",
              " <matplotlib.lines.Line2D at 0x7f74fe5d5db0>,\n",
              " <matplotlib.lines.Line2D at 0x7f74fe5d5a20>,\n",
              " <matplotlib.lines.Line2D at 0x7f74fe5d5090>,\n",
              " <matplotlib.lines.Line2D at 0x7f74fe5d4d30>,\n",
              " <matplotlib.lines.Line2D at 0x7f74fe5d6050>,\n",
              " <matplotlib.lines.Line2D at 0x7f74fe5d5060>,\n",
              " <matplotlib.lines.Line2D at 0x7f74fe5d62f0>,\n",
              " <matplotlib.lines.Line2D at 0x7f74fe5d6440>,\n",
              " <matplotlib.lines.Line2D at 0x7f74fe5d4580>,\n",
              " <matplotlib.lines.Line2D at 0x7f74fe5d64a0>,\n",
              " <matplotlib.lines.Line2D at 0x7f74fe5d63b0>,\n",
              " <matplotlib.lines.Line2D at 0x7f74fe5d65f0>,\n",
              " <matplotlib.lines.Line2D at 0x7f74fe5d6da0>,\n",
              " <matplotlib.lines.Line2D at 0x7f74fe5d6ef0>,\n",
              " <matplotlib.lines.Line2D at 0x7f74fe5d6890>,\n",
              " <matplotlib.lines.Line2D at 0x7f74fe5d6f50>,\n",
              " <matplotlib.lines.Line2D at 0x7f74fe5d6e60>,\n",
              " <matplotlib.lines.Line2D at 0x7f74fe5d70a0>,\n",
              " <matplotlib.lines.Line2D at 0x7f74fe5d7850>,\n",
              " <matplotlib.lines.Line2D at 0x7f74fe5d79a0>,\n",
              " <matplotlib.lines.Line2D at 0x7f74fe5d7340>,\n",
              " <matplotlib.lines.Line2D at 0x7f74fe5d7a00>,\n",
              " <matplotlib.lines.Line2D at 0x7f74fe5d7910>,\n",
              " <matplotlib.lines.Line2D at 0x7f74fe5d7730>,\n",
              " <matplotlib.lines.Line2D at 0x7f74fe5d78e0>,\n",
              " <matplotlib.lines.Line2D at 0x7f74fe5d76a0>,\n",
              " <matplotlib.lines.Line2D at 0x7f74fe5d7e80>,\n",
              " <matplotlib.lines.Line2D at 0x7f74fe5d6dd0>,\n",
              " <matplotlib.lines.Line2D at 0x7f74fe5d77f0>,\n",
              " <matplotlib.lines.Line2D at 0x7f74fe5d7e20>,\n",
              " <matplotlib.lines.Line2D at 0x7f74fe5d72e0>,\n",
              " <matplotlib.lines.Line2D at 0x7f74fe5d6bf0>,\n",
              " <matplotlib.lines.Line2D at 0x7f74fe5d7040>,\n",
              " <matplotlib.lines.Line2D at 0x7f74fe5d65c0>,\n",
              " <matplotlib.lines.Line2D at 0x7f74fe5d6950>,\n",
              " <matplotlib.lines.Line2D at 0x7f74fe5d5ed0>,\n",
              " <matplotlib.lines.Line2D at 0x7f74fe5d5750>,\n",
              " <matplotlib.lines.Line2D at 0x7f74fe5d5de0>,\n",
              " <matplotlib.lines.Line2D at 0x7f74fd6fe8f0>,\n",
              " <matplotlib.lines.Line2D at 0x7f74fd6fe1a0>,\n",
              " <matplotlib.lines.Line2D at 0x7f74fd6fe2f0>,\n",
              " <matplotlib.lines.Line2D at 0x7f74fd6fe410>,\n",
              " <matplotlib.lines.Line2D at 0x7f74fd6fd0f0>,\n",
              " <matplotlib.lines.Line2D at 0x7f74fd6ff6d0>,\n",
              " <matplotlib.lines.Line2D at 0x7f74fd6ff220>,\n",
              " <matplotlib.lines.Line2D at 0x7f74fd6fcc10>,\n",
              " <matplotlib.lines.Line2D at 0x7f74fd6fce50>,\n",
              " <matplotlib.lines.Line2D at 0x7f74fd6ff640>,\n",
              " <matplotlib.lines.Line2D at 0x7f74fd6fe560>,\n",
              " <matplotlib.lines.Line2D at 0x7f74fd6ff2e0>,\n",
              " <matplotlib.lines.Line2D at 0x7f74fd6fe230>,\n",
              " <matplotlib.lines.Line2D at 0x7f74fd6fcac0>,\n",
              " <matplotlib.lines.Line2D at 0x7f74fd6fefb0>,\n",
              " <matplotlib.lines.Line2D at 0x7f74fd6fe7d0>,\n",
              " <matplotlib.lines.Line2D at 0x7f74fd6fee60>,\n",
              " <matplotlib.lines.Line2D at 0x7f74fd6fcbe0>,\n",
              " <matplotlib.lines.Line2D at 0x7f74fd6fe350>,\n",
              " <matplotlib.lines.Line2D at 0x7f74fd6fea70>,\n",
              " <matplotlib.lines.Line2D at 0x7f74fd6fd6f0>,\n",
              " <matplotlib.lines.Line2D at 0x7f74fd6fe890>,\n",
              " <matplotlib.lines.Line2D at 0x7f74fd6ffbe0>,\n",
              " <matplotlib.lines.Line2D at 0x7f74fd6fc970>,\n",
              " <matplotlib.lines.Line2D at 0x7f74fd6fead0>,\n",
              " <matplotlib.lines.Line2D at 0x7f74fd6feb60>,\n",
              " <matplotlib.lines.Line2D at 0x7f74fd6ffee0>,\n",
              " <matplotlib.lines.Line2D at 0x7f74fd6fd690>,\n",
              " <matplotlib.lines.Line2D at 0x7f74fd6febf0>,\n",
              " <matplotlib.lines.Line2D at 0x7f74fd6feda0>,\n",
              " <matplotlib.lines.Line2D at 0x7f74fd6ffa30>,\n",
              " <matplotlib.lines.Line2D at 0x7f74fd6fe9b0>,\n",
              " <matplotlib.lines.Line2D at 0x7f74fd6fea40>,\n",
              " <matplotlib.lines.Line2D at 0x7f74fd6ff820>,\n",
              " <matplotlib.lines.Line2D at 0x7f74fd6fe650>,\n",
              " <matplotlib.lines.Line2D at 0x7f74fd6ff310>,\n",
              " <matplotlib.lines.Line2D at 0x7f74fd6fe8c0>,\n",
              " <matplotlib.lines.Line2D at 0x7f74fd6fed10>,\n",
              " <matplotlib.lines.Line2D at 0x7f74fd6ff520>,\n",
              " <matplotlib.lines.Line2D at 0x7f74fd6ff130>,\n",
              " <matplotlib.lines.Line2D at 0x7f74fd6ffb80>,\n",
              " <matplotlib.lines.Line2D at 0x7f74fd6fdff0>,\n",
              " <matplotlib.lines.Line2D at 0x7f74fd860940>,\n",
              " <matplotlib.lines.Line2D at 0x7f74fd861030>,\n",
              " <matplotlib.lines.Line2D at 0x7f74fd860b80>,\n",
              " <matplotlib.lines.Line2D at 0x7f74fd860af0>,\n",
              " <matplotlib.lines.Line2D at 0x7f74fd860e50>,\n",
              " <matplotlib.lines.Line2D at 0x7f74fd860df0>,\n",
              " <matplotlib.lines.Line2D at 0x7f74fd860f40>,\n",
              " <matplotlib.lines.Line2D at 0x7f74fd860e20>,\n",
              " <matplotlib.lines.Line2D at 0x7f74fd861570>,\n",
              " <matplotlib.lines.Line2D at 0x7f74fd860880>,\n",
              " <matplotlib.lines.Line2D at 0x7f74fd861120>,\n",
              " <matplotlib.lines.Line2D at 0x7f74fd860280>,\n",
              " <matplotlib.lines.Line2D at 0x7f74fd861480>,\n",
              " <matplotlib.lines.Line2D at 0x7f74fd860a60>,\n",
              " <matplotlib.lines.Line2D at 0x7f74fd860550>,\n",
              " <matplotlib.lines.Line2D at 0x7f74fd862800>,\n",
              " <matplotlib.lines.Line2D at 0x7f74fd5e77f0>,\n",
              " <matplotlib.lines.Line2D at 0x7f74fd5e6d70>,\n",
              " <matplotlib.lines.Line2D at 0x7f74fd5e7520>,\n",
              " <matplotlib.lines.Line2D at 0x7f74fd5e7220>,\n",
              " <matplotlib.lines.Line2D at 0x7f74fd5e7010>,\n",
              " <matplotlib.lines.Line2D at 0x7f74fd5e6d40>,\n",
              " <matplotlib.lines.Line2D at 0x7f74fd5e6a40>,\n",
              " <matplotlib.lines.Line2D at 0x7f74fd5e67a0>,\n",
              " <matplotlib.lines.Line2D at 0x7f74fd5e7a90>,\n",
              " <matplotlib.lines.Line2D at 0x7f74fd5e7b80>,\n",
              " <matplotlib.lines.Line2D at 0x7f74fd5e7c70>,\n",
              " <matplotlib.lines.Line2D at 0x7f74fd5e7d60>,\n",
              " <matplotlib.lines.Line2D at 0x7f74fd5e7e50>,\n",
              " <matplotlib.lines.Line2D at 0x7f74fd5e7f40>,\n",
              " <matplotlib.lines.Line2D at 0x7f74fe57c070>,\n",
              " <matplotlib.lines.Line2D at 0x7f74fe57c160>,\n",
              " <matplotlib.lines.Line2D at 0x7f74fe57c250>,\n",
              " <matplotlib.lines.Line2D at 0x7f74fe57c340>,\n",
              " <matplotlib.lines.Line2D at 0x7f74fe57c430>,\n",
              " <matplotlib.lines.Line2D at 0x7f74fe57c520>,\n",
              " <matplotlib.lines.Line2D at 0x7f74fe57c610>,\n",
              " <matplotlib.lines.Line2D at 0x7f74fe57c700>,\n",
              " <matplotlib.lines.Line2D at 0x7f74fe57c7f0>,\n",
              " <matplotlib.lines.Line2D at 0x7f74fe57c8e0>,\n",
              " <matplotlib.lines.Line2D at 0x7f74fe57c9d0>,\n",
              " <matplotlib.lines.Line2D at 0x7f74fe57cac0>,\n",
              " <matplotlib.lines.Line2D at 0x7f74fe57cbb0>,\n",
              " <matplotlib.lines.Line2D at 0x7f74fe57cca0>,\n",
              " <matplotlib.lines.Line2D at 0x7f74fe57cd90>,\n",
              " <matplotlib.lines.Line2D at 0x7f74fe57ce80>,\n",
              " <matplotlib.lines.Line2D at 0x7f74fe57cf70>,\n",
              " <matplotlib.lines.Line2D at 0x7f74fe57d060>,\n",
              " <matplotlib.lines.Line2D at 0x7f74fe57d150>,\n",
              " <matplotlib.lines.Line2D at 0x7f74fe57d240>,\n",
              " <matplotlib.lines.Line2D at 0x7f74fe57d330>,\n",
              " <matplotlib.lines.Line2D at 0x7f74fe57d420>,\n",
              " <matplotlib.lines.Line2D at 0x7f74fe57d510>,\n",
              " <matplotlib.lines.Line2D at 0x7f74fe57d600>,\n",
              " <matplotlib.lines.Line2D at 0x7f74fe57d6f0>,\n",
              " <matplotlib.lines.Line2D at 0x7f74fe57d7e0>,\n",
              " <matplotlib.lines.Line2D at 0x7f74fe57d8d0>,\n",
              " <matplotlib.lines.Line2D at 0x7f74fe57d9c0>,\n",
              " <matplotlib.lines.Line2D at 0x7f74fe57dab0>,\n",
              " <matplotlib.lines.Line2D at 0x7f74fe57dba0>,\n",
              " <matplotlib.lines.Line2D at 0x7f74fe57dc90>,\n",
              " <matplotlib.lines.Line2D at 0x7f74fe57dd80>,\n",
              " <matplotlib.lines.Line2D at 0x7f74fe57de70>,\n",
              " <matplotlib.lines.Line2D at 0x7f74fe57df60>,\n",
              " <matplotlib.lines.Line2D at 0x7f74fe57e050>,\n",
              " <matplotlib.lines.Line2D at 0x7f74fe57e140>,\n",
              " <matplotlib.lines.Line2D at 0x7f74fe57e230>,\n",
              " <matplotlib.lines.Line2D at 0x7f74fe57e320>,\n",
              " <matplotlib.lines.Line2D at 0x7f74fe57e410>,\n",
              " <matplotlib.lines.Line2D at 0x7f74fe57e500>,\n",
              " <matplotlib.lines.Line2D at 0x7f74fe57e5f0>,\n",
              " <matplotlib.lines.Line2D at 0x7f74fe57e6e0>,\n",
              " <matplotlib.lines.Line2D at 0x7f74fe57e7d0>,\n",
              " <matplotlib.lines.Line2D at 0x7f74fe57e8f0>,\n",
              " <matplotlib.lines.Line2D at 0x7f74fe57e9b0>,\n",
              " <matplotlib.lines.Line2D at 0x7f74fe57eaa0>,\n",
              " <matplotlib.lines.Line2D at 0x7f74fe57eb90>,\n",
              " <matplotlib.lines.Line2D at 0x7f74fe57ec80>,\n",
              " <matplotlib.lines.Line2D at 0x7f74fe57ed70>,\n",
              " <matplotlib.lines.Line2D at 0x7f74fe57ee60>,\n",
              " <matplotlib.lines.Line2D at 0x7f74fe57ef50>,\n",
              " <matplotlib.lines.Line2D at 0x7f74fe57f040>,\n",
              " <matplotlib.lines.Line2D at 0x7f74fe57f130>,\n",
              " <matplotlib.lines.Line2D at 0x7f74fe57f220>,\n",
              " <matplotlib.lines.Line2D at 0x7f74fe57f310>,\n",
              " <matplotlib.lines.Line2D at 0x7f74fe57f400>,\n",
              " <matplotlib.lines.Line2D at 0x7f74fe57f4f0>,\n",
              " <matplotlib.lines.Line2D at 0x7f74fe57f5e0>,\n",
              " <matplotlib.lines.Line2D at 0x7f74fe57f6d0>,\n",
              " <matplotlib.lines.Line2D at 0x7f74fe57f7c0>,\n",
              " <matplotlib.lines.Line2D at 0x7f74fe57f8b0>,\n",
              " <matplotlib.lines.Line2D at 0x7f74fe57f9a0>,\n",
              " <matplotlib.lines.Line2D at 0x7f74fe57fa90>,\n",
              " <matplotlib.lines.Line2D at 0x7f74fe57fb80>,\n",
              " <matplotlib.lines.Line2D at 0x7f74fe57fc70>,\n",
              " <matplotlib.lines.Line2D at 0x7f74fe57fd60>,\n",
              " <matplotlib.lines.Line2D at 0x7f74fe57fe50>,\n",
              " <matplotlib.lines.Line2D at 0x7f74fe57ff40>,\n",
              " <matplotlib.lines.Line2D at 0x7f74fd7f4070>,\n",
              " <matplotlib.lines.Line2D at 0x7f74fd7f4160>,\n",
              " <matplotlib.lines.Line2D at 0x7f74fd7f4250>,\n",
              " <matplotlib.lines.Line2D at 0x7f74fd7f4340>,\n",
              " <matplotlib.lines.Line2D at 0x7f74fd7f4430>,\n",
              " <matplotlib.lines.Line2D at 0x7f74fd7f4520>,\n",
              " <matplotlib.lines.Line2D at 0x7f74fd7f4610>,\n",
              " <matplotlib.lines.Line2D at 0x7f74fd7f4700>,\n",
              " <matplotlib.lines.Line2D at 0x7f74fd7f47f0>,\n",
              " <matplotlib.lines.Line2D at 0x7f74fd7f48e0>,\n",
              " <matplotlib.lines.Line2D at 0x7f74fd7f49d0>,\n",
              " <matplotlib.lines.Line2D at 0x7f74fd7f4ac0>,\n",
              " <matplotlib.lines.Line2D at 0x7f74fd7f4bb0>,\n",
              " <matplotlib.lines.Line2D at 0x7f74fd7f4ca0>,\n",
              " <matplotlib.lines.Line2D at 0x7f74fd7f4d90>,\n",
              " <matplotlib.lines.Line2D at 0x7f74fd7f4e80>,\n",
              " <matplotlib.lines.Line2D at 0x7f74fd7f4f70>,\n",
              " <matplotlib.lines.Line2D at 0x7f74fd7f5060>,\n",
              " <matplotlib.lines.Line2D at 0x7f74fd7f5150>,\n",
              " <matplotlib.lines.Line2D at 0x7f74fd7f5240>,\n",
              " <matplotlib.lines.Line2D at 0x7f74fd7f5330>,\n",
              " <matplotlib.lines.Line2D at 0x7f74fd7f5420>,\n",
              " <matplotlib.lines.Line2D at 0x7f74fd7f5510>,\n",
              " <matplotlib.lines.Line2D at 0x7f74fd7f5600>,\n",
              " <matplotlib.lines.Line2D at 0x7f74fd7f56f0>,\n",
              " <matplotlib.lines.Line2D at 0x7f74fd7f57e0>,\n",
              " <matplotlib.lines.Line2D at 0x7f74fd7f58d0>,\n",
              " <matplotlib.lines.Line2D at 0x7f74fd7f59c0>,\n",
              " <matplotlib.lines.Line2D at 0x7f74fd7f5ab0>,\n",
              " <matplotlib.lines.Line2D at 0x7f74fd7f5ba0>,\n",
              " <matplotlib.lines.Line2D at 0x7f74fd7f5c90>,\n",
              " <matplotlib.lines.Line2D at 0x7f74fd7f5d80>,\n",
              " <matplotlib.lines.Line2D at 0x7f74fd7f5e70>,\n",
              " <matplotlib.lines.Line2D at 0x7f74fd7f5f60>,\n",
              " <matplotlib.lines.Line2D at 0x7f74fd7f6050>,\n",
              " <matplotlib.lines.Line2D at 0x7f74fd7f6140>,\n",
              " <matplotlib.lines.Line2D at 0x7f74fd7f6230>,\n",
              " <matplotlib.lines.Line2D at 0x7f74fd7f6320>,\n",
              " <matplotlib.lines.Line2D at 0x7f74fd7f6410>,\n",
              " <matplotlib.lines.Line2D at 0x7f74fd7f6500>,\n",
              " <matplotlib.lines.Line2D at 0x7f74fd7f65f0>,\n",
              " <matplotlib.lines.Line2D at 0x7f74fd7f66e0>,\n",
              " <matplotlib.lines.Line2D at 0x7f74fd7f67d0>,\n",
              " <matplotlib.lines.Line2D at 0x7f74fd7f68c0>,\n",
              " <matplotlib.lines.Line2D at 0x7f74fd7f69b0>,\n",
              " <matplotlib.lines.Line2D at 0x7f74fd7f6aa0>,\n",
              " <matplotlib.lines.Line2D at 0x7f74fd7f6b90>,\n",
              " <matplotlib.lines.Line2D at 0x7f74fd7f6c80>,\n",
              " <matplotlib.lines.Line2D at 0x7f74fd7f6d70>,\n",
              " <matplotlib.lines.Line2D at 0x7f74fd7f6e60>,\n",
              " <matplotlib.lines.Line2D at 0x7f74fd7f6f50>,\n",
              " <matplotlib.lines.Line2D at 0x7f74fd7f7040>,\n",
              " <matplotlib.lines.Line2D at 0x7f74fd7f7130>,\n",
              " <matplotlib.lines.Line2D at 0x7f74fd7f7220>,\n",
              " <matplotlib.lines.Line2D at 0x7f74fd7f7310>,\n",
              " <matplotlib.lines.Line2D at 0x7f74fd7f7400>,\n",
              " <matplotlib.lines.Line2D at 0x7f74fd7f74f0>,\n",
              " <matplotlib.lines.Line2D at 0x7f74fd7f75e0>,\n",
              " <matplotlib.lines.Line2D at 0x7f74fd7f76d0>,\n",
              " <matplotlib.lines.Line2D at 0x7f74fd7f77c0>,\n",
              " <matplotlib.lines.Line2D at 0x7f74fd7f78b0>,\n",
              " <matplotlib.lines.Line2D at 0x7f74fd7f79a0>,\n",
              " <matplotlib.lines.Line2D at 0x7f74fd7f7a90>,\n",
              " <matplotlib.lines.Line2D at 0x7f74fd7f7b80>,\n",
              " <matplotlib.lines.Line2D at 0x7f74fd7f7c70>,\n",
              " <matplotlib.lines.Line2D at 0x7f74fd7f7d60>,\n",
              " <matplotlib.lines.Line2D at 0x7f74fd7f7e50>,\n",
              " <matplotlib.lines.Line2D at 0x7f74fd7f7f40>,\n",
              " <matplotlib.lines.Line2D at 0x7f74fe7cc070>,\n",
              " <matplotlib.lines.Line2D at 0x7f74fe7cc160>,\n",
              " <matplotlib.lines.Line2D at 0x7f74fe7cc250>,\n",
              " <matplotlib.lines.Line2D at 0x7f74fe7cc340>,\n",
              " <matplotlib.lines.Line2D at 0x7f74fe7cc430>,\n",
              " <matplotlib.lines.Line2D at 0x7f74fe7cc520>,\n",
              " <matplotlib.lines.Line2D at 0x7f74fe7cc610>,\n",
              " <matplotlib.lines.Line2D at 0x7f74fe7cc700>,\n",
              " <matplotlib.lines.Line2D at 0x7f74fe7cc7f0>,\n",
              " <matplotlib.lines.Line2D at 0x7f74fe7cc8e0>,\n",
              " <matplotlib.lines.Line2D at 0x7f74fe7cc9d0>,\n",
              " <matplotlib.lines.Line2D at 0x7f74fe7ccac0>,\n",
              " <matplotlib.lines.Line2D at 0x7f74fe7ccbb0>,\n",
              " <matplotlib.lines.Line2D at 0x7f74fe7ccca0>,\n",
              " <matplotlib.lines.Line2D at 0x7f74fe7ccd90>,\n",
              " <matplotlib.lines.Line2D at 0x7f74fe7cce80>,\n",
              " <matplotlib.lines.Line2D at 0x7f74fe7ccf70>,\n",
              " <matplotlib.lines.Line2D at 0x7f74fe7cd060>,\n",
              " <matplotlib.lines.Line2D at 0x7f74fe7cd150>,\n",
              " <matplotlib.lines.Line2D at 0x7f74fe7cd240>,\n",
              " <matplotlib.lines.Line2D at 0x7f74fe7cd330>,\n",
              " <matplotlib.lines.Line2D at 0x7f74fe7cd420>,\n",
              " <matplotlib.lines.Line2D at 0x7f74fe7cd510>,\n",
              " <matplotlib.lines.Line2D at 0x7f74fe7cd600>,\n",
              " <matplotlib.lines.Line2D at 0x7f74fe7cd6f0>,\n",
              " <matplotlib.lines.Line2D at 0x7f74fe7cd7e0>,\n",
              " <matplotlib.lines.Line2D at 0x7f74fe7cd8d0>,\n",
              " <matplotlib.lines.Line2D at 0x7f74fe7cd9c0>,\n",
              " <matplotlib.lines.Line2D at 0x7f74fe7cdab0>,\n",
              " <matplotlib.lines.Line2D at 0x7f74fe7cdba0>,\n",
              " <matplotlib.lines.Line2D at 0x7f74fe7cdc90>,\n",
              " <matplotlib.lines.Line2D at 0x7f74fe7cdd80>,\n",
              " <matplotlib.lines.Line2D at 0x7f74fe7cde70>,\n",
              " <matplotlib.lines.Line2D at 0x7f74fe7cdf60>,\n",
              " <matplotlib.lines.Line2D at 0x7f74fe7ce050>,\n",
              " <matplotlib.lines.Line2D at 0x7f74fe7ce140>,\n",
              " <matplotlib.lines.Line2D at 0x7f74fe7ce230>,\n",
              " <matplotlib.lines.Line2D at 0x7f74fe7ce320>,\n",
              " <matplotlib.lines.Line2D at 0x7f74fe7ce410>,\n",
              " <matplotlib.lines.Line2D at 0x7f74fe7ce500>,\n",
              " <matplotlib.lines.Line2D at 0x7f74fe7ce5f0>,\n",
              " <matplotlib.lines.Line2D at 0x7f74fe7ce6e0>,\n",
              " <matplotlib.lines.Line2D at 0x7f74fe7ce7d0>,\n",
              " <matplotlib.lines.Line2D at 0x7f74fe7ce8c0>,\n",
              " <matplotlib.lines.Line2D at 0x7f74fe7ce9b0>,\n",
              " <matplotlib.lines.Line2D at 0x7f74fe7ceaa0>,\n",
              " <matplotlib.lines.Line2D at 0x7f74fe7ceb90>,\n",
              " <matplotlib.lines.Line2D at 0x7f74fe7cec80>,\n",
              " <matplotlib.lines.Line2D at 0x7f74fe7ced70>,\n",
              " <matplotlib.lines.Line2D at 0x7f74fe7cee60>,\n",
              " <matplotlib.lines.Line2D at 0x7f74fe7cef50>,\n",
              " <matplotlib.lines.Line2D at 0x7f74fe7cf040>,\n",
              " <matplotlib.lines.Line2D at 0x7f74fe7cf130>,\n",
              " <matplotlib.lines.Line2D at 0x7f74fe7cf220>,\n",
              " <matplotlib.lines.Line2D at 0x7f74fe7cf310>,\n",
              " <matplotlib.lines.Line2D at 0x7f74fe7cf400>,\n",
              " <matplotlib.lines.Line2D at 0x7f74fe7cf4f0>,\n",
              " <matplotlib.lines.Line2D at 0x7f74fe7cf5e0>,\n",
              " <matplotlib.lines.Line2D at 0x7f74fe7cf6d0>,\n",
              " <matplotlib.lines.Line2D at 0x7f74fe7cf7c0>,\n",
              " <matplotlib.lines.Line2D at 0x7f74fe7cf8b0>,\n",
              " <matplotlib.lines.Line2D at 0x7f74fe7cf9a0>,\n",
              " <matplotlib.lines.Line2D at 0x7f74fe7cfa90>,\n",
              " <matplotlib.lines.Line2D at 0x7f74fe7cfb80>,\n",
              " <matplotlib.lines.Line2D at 0x7f74fe7cfc70>,\n",
              " <matplotlib.lines.Line2D at 0x7f74fe7cfd60>,\n",
              " <matplotlib.lines.Line2D at 0x7f74fe7cfe50>,\n",
              " <matplotlib.lines.Line2D at 0x7f74fe7cff40>,\n",
              " <matplotlib.lines.Line2D at 0x7f74fd624070>,\n",
              " <matplotlib.lines.Line2D at 0x7f74fd624160>,\n",
              " <matplotlib.lines.Line2D at 0x7f74fd624250>,\n",
              " <matplotlib.lines.Line2D at 0x7f74fd624340>,\n",
              " <matplotlib.lines.Line2D at 0x7f74fd624430>,\n",
              " <matplotlib.lines.Line2D at 0x7f74fd624520>,\n",
              " <matplotlib.lines.Line2D at 0x7f74fd624610>,\n",
              " <matplotlib.lines.Line2D at 0x7f74fd624700>,\n",
              " <matplotlib.lines.Line2D at 0x7f74fd6247f0>,\n",
              " <matplotlib.lines.Line2D at 0x7f74fd6248e0>,\n",
              " <matplotlib.lines.Line2D at 0x7f74fd6249d0>,\n",
              " <matplotlib.lines.Line2D at 0x7f74fd624ac0>,\n",
              " <matplotlib.lines.Line2D at 0x7f74fd624bb0>,\n",
              " <matplotlib.lines.Line2D at 0x7f74fd624ca0>,\n",
              " <matplotlib.lines.Line2D at 0x7f74fd624d90>,\n",
              " <matplotlib.lines.Line2D at 0x7f74fd624e80>,\n",
              " <matplotlib.lines.Line2D at 0x7f74fd624f70>,\n",
              " <matplotlib.lines.Line2D at 0x7f74fd625060>,\n",
              " <matplotlib.lines.Line2D at 0x7f74fd625150>,\n",
              " <matplotlib.lines.Line2D at 0x7f74fd625240>,\n",
              " <matplotlib.lines.Line2D at 0x7f74fd625330>,\n",
              " <matplotlib.lines.Line2D at 0x7f74fd625420>,\n",
              " <matplotlib.lines.Line2D at 0x7f74fd625510>,\n",
              " <matplotlib.lines.Line2D at 0x7f74fd625600>,\n",
              " <matplotlib.lines.Line2D at 0x7f74fd6256f0>,\n",
              " <matplotlib.lines.Line2D at 0x7f74fd6257e0>,\n",
              " <matplotlib.lines.Line2D at 0x7f74fd6258d0>,\n",
              " <matplotlib.lines.Line2D at 0x7f74fd6259c0>,\n",
              " <matplotlib.lines.Line2D at 0x7f74fd625ab0>,\n",
              " <matplotlib.lines.Line2D at 0x7f74fd625ba0>,\n",
              " <matplotlib.lines.Line2D at 0x7f74fd625c90>,\n",
              " <matplotlib.lines.Line2D at 0x7f74fd625d80>,\n",
              " <matplotlib.lines.Line2D at 0x7f74fd625e70>,\n",
              " <matplotlib.lines.Line2D at 0x7f74fd625f60>,\n",
              " <matplotlib.lines.Line2D at 0x7f74fd626050>,\n",
              " <matplotlib.lines.Line2D at 0x7f74fd626140>,\n",
              " <matplotlib.lines.Line2D at 0x7f74fd626230>,\n",
              " <matplotlib.lines.Line2D at 0x7f74fd626320>,\n",
              " <matplotlib.lines.Line2D at 0x7f74fd626410>,\n",
              " <matplotlib.lines.Line2D at 0x7f74fd626500>,\n",
              " <matplotlib.lines.Line2D at 0x7f74fd6265f0>,\n",
              " <matplotlib.lines.Line2D at 0x7f74fd6266e0>,\n",
              " <matplotlib.lines.Line2D at 0x7f74fd6267d0>,\n",
              " <matplotlib.lines.Line2D at 0x7f74fd6268c0>,\n",
              " <matplotlib.lines.Line2D at 0x7f74fd6269b0>,\n",
              " <matplotlib.lines.Line2D at 0x7f74fd626aa0>,\n",
              " <matplotlib.lines.Line2D at 0x7f74fd626b90>,\n",
              " <matplotlib.lines.Line2D at 0x7f74fd626c80>,\n",
              " <matplotlib.lines.Line2D at 0x7f74fd626d70>,\n",
              " <matplotlib.lines.Line2D at 0x7f74fd626e60>,\n",
              " <matplotlib.lines.Line2D at 0x7f74fd626f50>,\n",
              " <matplotlib.lines.Line2D at 0x7f74fd627040>,\n",
              " <matplotlib.lines.Line2D at 0x7f74fd627130>,\n",
              " <matplotlib.lines.Line2D at 0x7f74fd627220>,\n",
              " <matplotlib.lines.Line2D at 0x7f74fd627310>,\n",
              " <matplotlib.lines.Line2D at 0x7f74fd627400>,\n",
              " <matplotlib.lines.Line2D at 0x7f74fd6274f0>,\n",
              " <matplotlib.lines.Line2D at 0x7f74fd6275e0>,\n",
              " <matplotlib.lines.Line2D at 0x7f74fd6276d0>,\n",
              " <matplotlib.lines.Line2D at 0x7f74fd6277c0>,\n",
              " <matplotlib.lines.Line2D at 0x7f74fd6278b0>,\n",
              " <matplotlib.lines.Line2D at 0x7f74fd6279a0>,\n",
              " <matplotlib.lines.Line2D at 0x7f74fd627a90>,\n",
              " <matplotlib.lines.Line2D at 0x7f74fd627b80>,\n",
              " <matplotlib.lines.Line2D at 0x7f74fd627c70>,\n",
              " <matplotlib.lines.Line2D at 0x7f74fd627d60>,\n",
              " <matplotlib.lines.Line2D at 0x7f74fd627e50>,\n",
              " <matplotlib.lines.Line2D at 0x7f74fd627f40>,\n",
              " <matplotlib.lines.Line2D at 0x7f74fd640070>,\n",
              " <matplotlib.lines.Line2D at 0x7f74fd640160>,\n",
              " <matplotlib.lines.Line2D at 0x7f74fd640250>,\n",
              " <matplotlib.lines.Line2D at 0x7f74fd640340>,\n",
              " <matplotlib.lines.Line2D at 0x7f74fd640430>,\n",
              " <matplotlib.lines.Line2D at 0x7f74fd640520>,\n",
              " <matplotlib.lines.Line2D at 0x7f74fd640610>,\n",
              " <matplotlib.lines.Line2D at 0x7f74fd640700>,\n",
              " <matplotlib.lines.Line2D at 0x7f74fd6407f0>,\n",
              " <matplotlib.lines.Line2D at 0x7f74fd6408e0>,\n",
              " <matplotlib.lines.Line2D at 0x7f74fd6409d0>,\n",
              " <matplotlib.lines.Line2D at 0x7f74fd640ac0>,\n",
              " <matplotlib.lines.Line2D at 0x7f74fd640bb0>,\n",
              " <matplotlib.lines.Line2D at 0x7f74fd640ca0>,\n",
              " <matplotlib.lines.Line2D at 0x7f74fd640d90>,\n",
              " <matplotlib.lines.Line2D at 0x7f74fd640e80>,\n",
              " <matplotlib.lines.Line2D at 0x7f74fd640f70>,\n",
              " <matplotlib.lines.Line2D at 0x7f74fd641060>,\n",
              " <matplotlib.lines.Line2D at 0x7f74fd641150>,\n",
              " <matplotlib.lines.Line2D at 0x7f74fd641240>,\n",
              " <matplotlib.lines.Line2D at 0x7f74fd641330>,\n",
              " <matplotlib.lines.Line2D at 0x7f74fd641420>,\n",
              " <matplotlib.lines.Line2D at 0x7f74fd641510>,\n",
              " <matplotlib.lines.Line2D at 0x7f74fd641600>,\n",
              " <matplotlib.lines.Line2D at 0x7f74fd6416f0>,\n",
              " <matplotlib.lines.Line2D at 0x7f74fd6417e0>,\n",
              " <matplotlib.lines.Line2D at 0x7f74fd6418d0>,\n",
              " <matplotlib.lines.Line2D at 0x7f74fd6419c0>,\n",
              " <matplotlib.lines.Line2D at 0x7f74fd641ab0>,\n",
              " <matplotlib.lines.Line2D at 0x7f74fd641ba0>,\n",
              " <matplotlib.lines.Line2D at 0x7f74fd641c90>,\n",
              " <matplotlib.lines.Line2D at 0x7f74fd641d80>,\n",
              " <matplotlib.lines.Line2D at 0x7f74fd641e70>,\n",
              " <matplotlib.lines.Line2D at 0x7f74fd641f60>,\n",
              " <matplotlib.lines.Line2D at 0x7f74fd642050>,\n",
              " <matplotlib.lines.Line2D at 0x7f74fd642140>,\n",
              " <matplotlib.lines.Line2D at 0x7f74fd642230>,\n",
              " <matplotlib.lines.Line2D at 0x7f74fd642320>,\n",
              " <matplotlib.lines.Line2D at 0x7f74fd642410>,\n",
              " <matplotlib.lines.Line2D at 0x7f74fd642500>,\n",
              " <matplotlib.lines.Line2D at 0x7f74fd6425f0>,\n",
              " <matplotlib.lines.Line2D at 0x7f74fd6426e0>,\n",
              " <matplotlib.lines.Line2D at 0x7f74fd6427d0>,\n",
              " <matplotlib.lines.Line2D at 0x7f74fd6428c0>,\n",
              " <matplotlib.lines.Line2D at 0x7f74fd6429b0>,\n",
              " <matplotlib.lines.Line2D at 0x7f74fd642aa0>,\n",
              " <matplotlib.lines.Line2D at 0x7f74fd642b90>,\n",
              " <matplotlib.lines.Line2D at 0x7f74fd642c80>,\n",
              " <matplotlib.lines.Line2D at 0x7f74fd642d70>,\n",
              " <matplotlib.lines.Line2D at 0x7f74fd642e60>,\n",
              " <matplotlib.lines.Line2D at 0x7f74fd642f50>,\n",
              " <matplotlib.lines.Line2D at 0x7f74fd643040>,\n",
              " <matplotlib.lines.Line2D at 0x7f74fd643130>,\n",
              " <matplotlib.lines.Line2D at 0x7f74fd643220>,\n",
              " <matplotlib.lines.Line2D at 0x7f74fd643310>,\n",
              " <matplotlib.lines.Line2D at 0x7f74fd643400>,\n",
              " <matplotlib.lines.Line2D at 0x7f74fd6434f0>,\n",
              " <matplotlib.lines.Line2D at 0x7f74fd6435e0>,\n",
              " <matplotlib.lines.Line2D at 0x7f74fd6436d0>,\n",
              " <matplotlib.lines.Line2D at 0x7f74fd6437c0>,\n",
              " <matplotlib.lines.Line2D at 0x7f74fd6438b0>,\n",
              " <matplotlib.lines.Line2D at 0x7f74fd6439a0>,\n",
              " <matplotlib.lines.Line2D at 0x7f74fd643a90>,\n",
              " <matplotlib.lines.Line2D at 0x7f74fd643b80>,\n",
              " <matplotlib.lines.Line2D at 0x7f74fd643c70>,\n",
              " <matplotlib.lines.Line2D at 0x7f74fd643d60>,\n",
              " <matplotlib.lines.Line2D at 0x7f74fd643e50>,\n",
              " <matplotlib.lines.Line2D at 0x7f74fd643f40>,\n",
              " <matplotlib.lines.Line2D at 0x7f74fd65c070>,\n",
              " <matplotlib.lines.Line2D at 0x7f74fd65c160>,\n",
              " <matplotlib.lines.Line2D at 0x7f74fd65c250>,\n",
              " <matplotlib.lines.Line2D at 0x7f74fd65c340>,\n",
              " <matplotlib.lines.Line2D at 0x7f74fd65c430>,\n",
              " <matplotlib.lines.Line2D at 0x7f74fd65c520>,\n",
              " <matplotlib.lines.Line2D at 0x7f74fd65c610>,\n",
              " <matplotlib.lines.Line2D at 0x7f74fd65c700>,\n",
              " <matplotlib.lines.Line2D at 0x7f74fd65c7f0>,\n",
              " <matplotlib.lines.Line2D at 0x7f74fd65c8e0>,\n",
              " <matplotlib.lines.Line2D at 0x7f74fd65c9d0>,\n",
              " <matplotlib.lines.Line2D at 0x7f74fd65cac0>,\n",
              " <matplotlib.lines.Line2D at 0x7f74fd65cbb0>,\n",
              " <matplotlib.lines.Line2D at 0x7f74fd65cca0>,\n",
              " <matplotlib.lines.Line2D at 0x7f74fd65cd90>,\n",
              " <matplotlib.lines.Line2D at 0x7f74fd65ce80>,\n",
              " <matplotlib.lines.Line2D at 0x7f74fd65cf70>,\n",
              " <matplotlib.lines.Line2D at 0x7f74fd65d060>,\n",
              " <matplotlib.lines.Line2D at 0x7f74fd65d150>,\n",
              " <matplotlib.lines.Line2D at 0x7f74fd65d240>,\n",
              " <matplotlib.lines.Line2D at 0x7f74fd65d330>,\n",
              " <matplotlib.lines.Line2D at 0x7f74fd65d420>,\n",
              " <matplotlib.lines.Line2D at 0x7f74fd65d510>,\n",
              " <matplotlib.lines.Line2D at 0x7f74fd65d600>,\n",
              " <matplotlib.lines.Line2D at 0x7f74fd65d6f0>,\n",
              " <matplotlib.lines.Line2D at 0x7f74fd65d7e0>,\n",
              " <matplotlib.lines.Line2D at 0x7f74fd65d8d0>,\n",
              " <matplotlib.lines.Line2D at 0x7f74fd65d9c0>,\n",
              " <matplotlib.lines.Line2D at 0x7f74fd65dab0>,\n",
              " <matplotlib.lines.Line2D at 0x7f74fd65dba0>,\n",
              " <matplotlib.lines.Line2D at 0x7f74fd65dc90>]"
            ]
          },
          "metadata": {},
          "execution_count": 138
        },
        {
          "output_type": "display_data",
          "data": {
            "text/plain": [
              "<Figure size 640x480 with 1 Axes>"
            ],
            "image/png": "[encoded data removed]"
          },
          "metadata": {}
        }
      ],
      "source": [
        "# Method 2\n",
        "move = np.random.binomial(1, 0.5, 1000000)*2-1\n",
        "x = move.reshape(1000,1000)\n",
        "#x.cumsum(axis=0)\n",
        "plt.plot(x.cumsum(axis=0)) # sum by row\n"
      ]
    },
    {
      "cell_type": "markdown",
      "source": [
        "The distribution at time T will approximate to a normal distribution. See proof: https://www.youtube.com/watch?v=HV0Tqcg9MtU"
      ],
      "metadata": {
        "id": "EK1YvjkMvre0"
      },
      "id": "EK1YvjkMvre0"
    },
    {
      "cell_type": "code",
      "source": [
        "y=x.cumsum(axis=0)[-1]"
      ],
      "metadata": {
        "id": "Osu2WhaCwJ5Y"
      },
      "id": "Osu2WhaCwJ5Y",
      "execution_count": null,
      "outputs": []
    },
    {
      "cell_type": "code",
      "source": [
        "sns.distplot(y, kde=True)"
      ],
      "metadata": {
        "colab": {
          "base_uri": "https://localhost:8080/",
          "height": 638
        },
        "id": "vBBefaK3wzGp",
        "outputId": "2d5543e1-7eca-46ad-e38e-51f82a0cc7ae"
      },
      "id": "vBBefaK3wzGp",
      "execution_count": null,
      "outputs": [
        {
          "output_type": "stream",
          "name": "stderr",
          "text": [
            "<ipython-input-48-da6cfaecb9a6>:1: UserWarning: \n",
            "\n",
            "`distplot` is a deprecated function and will be removed in seaborn v0.14.0.\n",
            "\n",
            "Please adapt your code to use either `displot` (a figure-level function with\n",
            "similar flexibility) or `histplot` (an axes-level function for histograms).\n",
            "\n",
            "For a guide to updating your code to use the new functions, please see\n",
            "https://gist.github.com/mwaskom/de44147ed2974457ad6372750bbe5751\n",
            "\n",
            "  sns.distplot(y, kde=True)\n"
          ]
        },
        {
          "output_type": "execute_result",
          "data": {
            "text/plain": [
              "<Axes: ylabel='Density'>"
            ]
          },
          "metadata": {},
          "execution_count": 48
        },
        {
          "output_type": "display_data",
          "data": {
            "text/plain": [
              "<Figure size 640x480 with 1 Axes>"
            ],
            "image/png": "[encoded data removed]"
          },
          "metadata": {}
        }
      ]
    },
    {
      "cell_type": "markdown",
      "id": "4ab029ea",
      "metadata": {
        "id": "4ab029ea"
      },
      "source": [
        "## Central limit theorem\n",
        "\n",
        "See more:\n",
        "\n",
        "[Central limit theorem](https://en.wikipedia.org/wiki/Central_limit_theorem)\n",
        "\n",
        "[Kernel density](https://en.wikipedia.org/wiki/Kernel_density_estimation)"
      ]
    },
    {
      "cell_type": "code",
      "execution_count": null,
      "id": "78cfb782",
      "metadata": {
        "id": "78cfb782",
        "colab": {
          "base_uri": "https://localhost:8080/",
          "height": 645
        },
        "outputId": "7f60cbb4-9921-47a7-83f5-37a0f4df68cc"
      },
      "outputs": [
        {
          "output_type": "stream",
          "name": "stderr",
          "text": [
            "<ipython-input-139-7a2e8c62645c>:12: UserWarning: \n",
            "\n",
            "`distplot` is a deprecated function and will be removed in seaborn v0.14.0.\n",
            "\n",
            "Please adapt your code to use either `displot` (a figure-level function with\n",
            "similar flexibility) or `histplot` (an axes-level function for histograms).\n",
            "\n",
            "For a guide to updating your code to use the new functions, please see\n",
            "https://gist.github.com/mwaskom/de44147ed2974457ad6372750bbe5751\n",
            "\n",
            "  sns.distplot(mean, kde=True)\n"
          ]
        },
        {
          "output_type": "execute_result",
          "data": {
            "text/plain": [
              "<Axes: ylabel='Density'>"
            ]
          },
          "metadata": {},
          "execution_count": 139
        },
        {
          "output_type": "display_data",
          "data": {
            "text/plain": [
              "<Figure size 640x480 with 1 Axes>"
            ],
            "image/png": "[encoded data removed]"
          },
          "metadata": {}
        }
      ],
      "source": [
        "import seaborn as sns\n",
        "import numpy as np\n",
        "import matplotlib.pyplot as plt\n",
        "\n",
        "sample = 10000 # the n of X_n sampling size: to calculate the mean\n",
        "rep = 1000 # repeat times: to create the distribution of mean\n",
        "p = 0.5\n",
        "n = 1\n",
        "mean = np.zeros(rep)\n",
        "for i in range(rep): mean[i] = (np.random.binomial(n, p, sample).mean() - n*p)/np.sqrt(n*p*(1-p)/sample)\n",
        "#plt.hist(mean)\n",
        "sns.distplot(mean, kde=True)"
      ]
    },
    {
      "cell_type": "markdown",
      "id": "43289895",
      "metadata": {
        "id": "43289895"
      },
      "source": [
        "## Compare this sampling distribution with a standard normal distribution"
      ]
    },
    {
      "cell_type": "code",
      "execution_count": null,
      "id": "f0f59160",
      "metadata": {
        "id": "f0f59160",
        "colab": {
          "base_uri": "https://localhost:8080/",
          "height": 644
        },
        "outputId": "244a91b8-f095-4b6c-d469-10a8c51702b0"
      },
      "outputs": [
        {
          "output_type": "stream",
          "name": "stderr",
          "text": [
            "<ipython-input-140-6612663f2bd6>:10: UserWarning: \n",
            "\n",
            "`distplot` is a deprecated function and will be removed in seaborn v0.14.0.\n",
            "\n",
            "Please adapt your code to use either `displot` (a figure-level function with\n",
            "similar flexibility) or `histplot` (an axes-level function for histograms).\n",
            "\n",
            "For a guide to updating your code to use the new functions, please see\n",
            "https://gist.github.com/mwaskom/de44147ed2974457ad6372750bbe5751\n",
            "\n",
            "  sns.distplot(mean)\n"
          ]
        },
        {
          "output_type": "execute_result",
          "data": {
            "text/plain": [
              "<matplotlib.legend.Legend at 0x7f74fd5c39a0>"
            ]
          },
          "metadata": {},
          "execution_count": 140
        },
        {
          "output_type": "display_data",
          "data": {
            "text/plain": [
              "<Figure size 640x480 with 1 Axes>"
            ],
            "image/png": "[encoded data removed]"
          },
          "metadata": {}
        }
      ],
      "source": [
        "import scipy\n",
        "import numpy as np\n",
        "import matplotlib.pyplot as plt\n",
        "import seaborn as sns\n",
        "\n",
        "x_values = np.linspace(-5, 5, 1000)\n",
        "y_values = scipy.stats.norm(0, 1) # Standard normal distribution\n",
        "\n",
        "plt.plot(x_values, y_values.pdf(x_values))\n",
        "sns.distplot(mean)\n",
        "plt.legend(['std norm','bin mean'])"
      ]
    },
    {
      "cell_type": "markdown",
      "id": "nDU_ne6j9HPx",
      "metadata": {
        "id": "nDU_ne6j9HPx"
      },
      "source": [
        "## Ipywidgets"
      ]
    },
    {
      "cell_type": "code",
      "execution_count": null,
      "id": "58e59e6c",
      "metadata": {
        "id": "58e59e6c"
      },
      "outputs": [],
      "source": [
        "import matplotlib.pyplot as plt\n",
        "import seaborn as sns\n",
        "from ipywidgets import widgets, interact\n",
        "import scipy\n",
        "import numpy as np"
      ]
    },
    {
      "cell_type": "code",
      "execution_count": null,
      "id": "hf-OzbnuKduT",
      "metadata": {
        "id": "hf-OzbnuKduT",
        "colab": {
          "base_uri": "https://localhost:8080/",
          "height": 49,
          "referenced_widgets": [
            "47edb4453cc848979a20d0b7a5d7cb36",
            "a3d35f7cbbd6486383a6aa62f051c371",
            "071b81e8afb3424ca1b190a9ddc25af5"
          ]
        },
        "outputId": "78b80344-47a8-4c3a-fd02-312f238fd7a5"
      },
      "outputs": [
        {
          "output_type": "display_data",
          "data": {
            "text/plain": [
              "IntSlider(value=10, max=10, min=1)"
            ],
            "application/vnd.jupyter.widget-view+json": {
              "version_major": 2,
              "version_minor": 0,
              "model_id": "47edb4453cc848979a20d0b7a5d7cb36"
            }
          },
          "metadata": {}
        }
      ],
      "source": [
        "widgets.IntSlider()\n",
        "widgets.IntSlider(min=1, max=10, value=10)"
      ]
    },
    {
      "cell_type": "code",
      "execution_count": null,
      "id": "WmCpuljF_svD",
      "metadata": {
        "id": "WmCpuljF_svD"
      },
      "outputs": [],
      "source": [
        "def clt(sample = 10000, rep = 1000 , p = 0.5):\n",
        "    x_values = np.linspace(-5, 5, 1000)\n",
        "    y_values = scipy.stats.norm(0, 1)\n",
        "    mean = np.zeros(rep)\n",
        "    for i in range(rep): mean[i] = (np.random.binomial(1, p, sample).mean() -p)/np.sqrt(p*(1-p)/sample)\n",
        "    sns.kdeplot(mean)\n",
        "    plt.plot(x_values, y_values.pdf(x_values))\n",
        "    #plt.legend(['bin mean','std norm'])\n",
        "    plt.show()\n"
      ]
    },
    {
      "cell_type": "code",
      "execution_count": null,
      "id": "4zFn3mVQDhna",
      "metadata": {
        "id": "4zFn3mVQDhna",
        "colab": {
          "base_uri": "https://localhost:8080/",
          "height": 430
        },
        "outputId": "8b769d71-b542-40ce-f002-19c1d8464f4d"
      },
      "outputs": [
        {
          "output_type": "display_data",
          "data": {
            "text/plain": [
              "<Figure size 640x480 with 1 Axes>"
            ],
            "image/png": "[encoded data removed]"
          },
          "metadata": {}
        }
      ],
      "source": [
        "clt()"
      ]
    },
    {
      "cell_type": "code",
      "execution_count": null,
      "id": "PT0KdS7_604R",
      "metadata": {
        "id": "PT0KdS7_604R"
      },
      "outputs": [],
      "source": [
        "s = widgets.IntSlider(min=1, max=100, value=10)\n",
        "r = widgets.IntSlider(min=50, max=10000, step=100,value=1000)\n",
        "prob = widgets.FloatSlider(min=0.1, max=0.99, step=0.01, value=0.5)\n",
        "bin_n = widgets.IntSlider(min=1, max=10000)"
      ]
    },
    {
      "cell_type": "code",
      "execution_count": null,
      "id": "bKEBw7icpe5W",
      "metadata": {
        "id": "bKEBw7icpe5W",
        "colab": {
          "base_uri": "https://localhost:8080/",
          "height": 49,
          "referenced_widgets": [
            "69bd4f7dceb6479ea5f53980ced1a1a1",
            "dc2148ee378e4ecea6d91564d88649ea",
            "388b37431635426b81618ad4646bf3c9"
          ]
        },
        "outputId": "9ff04b50-fdcb-4fa2-9faa-c0b070446e0b"
      },
      "outputs": [
        {
          "output_type": "display_data",
          "data": {
            "text/plain": [
              "IntSlider(value=1, max=10000, min=1)"
            ],
            "application/vnd.jupyter.widget-view+json": {
              "version_major": 2,
              "version_minor": 0,
              "model_id": "69bd4f7dceb6479ea5f53980ced1a1a1"
            }
          },
          "metadata": {}
        }
      ],
      "source": [
        "bin_n"
      ]
    },
    {
      "cell_type": "code",
      "execution_count": null,
      "id": "q24DIlwTHMPN",
      "metadata": {
        "id": "q24DIlwTHMPN",
        "colab": {
          "base_uri": "https://localhost:8080/",
          "height": 613,
          "referenced_widgets": [
            "6130ab3261de49f886a5f5bff71d2336",
            "dad120a89d2040f1905f802d089944bd",
            "a8c6a7345dc84713bf3a83b75a9829ce",
            "1537212faca2482a8c59b1932a3c9eec",
            "6fc20264fe294c56b2fe72c301bda53e",
            "356b461dac334823baa4cc935792ead9",
            "fb70c0df6f1c4ea1a7e322b662a17f01",
            "b0ce186ee09c4d0f87d7c8e3542cdc0a",
            "529575dca8a8488d926353d0e9b34353",
            "bedce0aa9e964077b44013b6a6c13745",
            "d13e582bd7584c5180faa9073b3875b5",
            "3fcbca25ef864c4f832980fc45493a53",
            "f0a00398ec8740f99945829bc4ef5295"
          ]
        },
        "outputId": "af50170a-6b18-49d0-884e-1f6ed85c1faa"
      },
      "outputs": [
        {
          "output_type": "display_data",
          "data": {
            "text/plain": [
              "interactive(children=(IntSlider(value=10, description='sample', min=1), IntSlider(value=1000, description='rep…"
            ],
            "application/vnd.jupyter.widget-view+json": {
              "version_major": 2,
              "version_minor": 0,
              "model_id": "6130ab3261de49f886a5f5bff71d2336"
            }
          },
          "metadata": {}
        },
        {
          "output_type": "execute_result",
          "data": {
            "text/plain": [
              "<function __main__.clt(sample=10000, rep=1000, p=0.5)>"
            ],
            "text/html": [
              "<div style=\"max-width:800px; border: 1px solid var(--colab-border-color);\"><style>\n",
              "      pre.function-repr-contents {\n",
              "        overflow-x: auto;\n",
              "        padding: 8px 12px;\n",
              "        max-height: 500px;\n",
              "      }\n",
              "\n",
              "      pre.function-repr-contents.function-repr-contents-collapsed {\n",
              "        cursor: pointer;\n",
              "        max-height: 100px;\n",
              "      }\n",
              "    </style>\n",
              "    <pre style=\"white-space: initial; background:\n",
              "         var(--colab-secondary-surface-color); padding: 8px 12px;\n",
              "         border-bottom: 1px solid var(--colab-border-color);\"><b>clt</b><br/>def clt(sample=10000, rep=1000, p=0.5)</pre><pre class=\"function-repr-contents function-repr-contents-collapsed\" style=\"\"><a class=\"filepath\" style=\"display:none\" href=\"#\">/content/&lt;ipython-input-142-3b34afaa306b&gt;</a>&lt;no docstring&gt;</pre></div>"
            ]
          },
          "metadata": {},
          "execution_count": 145
        }
      ],
      "source": [
        "#from ipywidgets import interactive\n",
        "#import matplotlib.pyplot as plt\n",
        "#import numpy as np\n",
        "\n",
        "interact(clt,rep=r, sample=s,p=prob)"
      ]
    },
    {
      "cell_type": "markdown",
      "id": "f5f5c282",
      "metadata": {
        "id": "f5f5c282"
      },
      "source": [
        "## See more:\n",
        "\n",
        "Universal functions (ufunc): Fast element-wise array functions\n",
        "https://numpy.org/doc/stable/reference/ufuncs.html"
      ]
    },
    {
      "cell_type": "code",
      "execution_count": null,
      "id": "NHRaqRm_U9_n",
      "metadata": {
        "id": "NHRaqRm_U9_n"
      },
      "outputs": [],
      "source": [
        "# prompt: one matrix and calculate the norm\n",
        "\n",
        "import numpy as np\n",
        "from numpy.linalg import norm\n",
        "\n",
        "# Create a matrix\n",
        "A = np.array([[1, 2], [3, 4]])\n",
        "\n",
        "# Calculate the norm of the matrix\n",
        "norm_A = norm(A)\n",
        "\n",
        "# Print the norm of the matrix\n",
        "print(norm_A)\n"
      ]
    },
    {
      "cell_type": "code",
      "execution_count": null,
      "id": "ZfWYeVZPVYnz",
      "metadata": {
        "id": "ZfWYeVZPVYnz"
      },
      "outputs": [],
      "source": [
        "# prompt: two 2 by 2 vector and calculate the distance with (1) eudean and (2) consine similarity\n",
        "\n",
        "import numpy as np\n",
        "# Create two 2 by 2 vectors\n",
        "vector1 = np.array([[1, 2], [3, 4]])\n",
        "vector2 = np.array([[5, 6], [7, 8]])\n",
        "\n",
        "# Calculate the Euclidean distance between the vectors\n",
        "euclidean_distance = np.linalg.norm(vector1 - vector2)\n",
        "\n",
        "# Calculate the cosine similarity between the vectors\n",
        "cosine_similarity = np.dot(vector1, vector2) / (np.linalg.norm(vector1) * np.linalg.norm(vector2))\n",
        "\n",
        "# Print the results\n",
        "print(\"Euclidean distance:\", euclidean_distance)\n",
        "print(\"Cosine similarity:\", cosine_similarity)\n"
      ]
    }
  ],
  "metadata": {
    "colab": {
      "provenance": [],
      "include_colab_link": true
    },
    "kernelspec": {
      "display_name": "Python 3 (ipykernel)",
      "language": "python",
      "name": "python3"
    },
    "language_info": {
      "codemirror_mode": {
        "name": "ipython",
        "version": 3
      },
      "file_extension": ".py",
      "mimetype": "text/x-python",
      "name": "python",
      "nbconvert_exporter": "python",
      "pygments_lexer": "ipython3",
      "version": "3.9.19"
    },
    "widgets": {
      "application/vnd.jupyter.widget-state+json": {
        "69bd4f7dceb6479ea5f53980ced1a1a1": {
          "model_module": "@jupyter-widgets/controls",
          "model_name": "IntSliderModel",
          "model_module_version": "1.5.0",
          "state": {
            "_dom_classes": [],
            "_model_module": "@jupyter-widgets/controls",
            "_model_module_version": "1.5.0",
            "_model_name": "IntSliderModel",
            "_view_count": null,
            "_view_module": "@jupyter-widgets/controls",
            "_view_module_version": "1.5.0",
            "_view_name": "IntSliderView",
            "continuous_update": true,
            "description": "",
            "description_tooltip": null,
            "disabled": false,
            "layout": "IPY_MODEL_dc2148ee378e4ecea6d91564d88649ea",
            "max": 10000,
            "min": 1,
            "orientation": "horizontal",
            "readout": true,
            "readout_format": "d",
            "step": 1,
            "style": "IPY_MODEL_388b37431635426b81618ad4646bf3c9",
            "value": 1
          }
        },
        "dc2148ee378e4ecea6d91564d88649ea": {
          "model_module": "@jupyter-widgets/base",
          "model_name": "LayoutModel",
          "model_module_version": "1.2.0",
          "state": {
            "_model_module": "@jupyter-widgets/base",
            "_model_module_version": "1.2.0",
            "_model_name": "LayoutModel",
            "_view_count": null,
            "_view_module": "@jupyter-widgets/base",
            "_view_module_version": "1.2.0",
            "_view_name": "LayoutView",
            "align_content": null,
            "align_items": null,
            "align_self": null,
            "border": null,
            "bottom": null,
            "display": null,
            "flex": null,
            "flex_flow": null,
            "grid_area": null,
            "grid_auto_columns": null,
            "grid_auto_flow": null,
            "grid_auto_rows": null,
            "grid_column": null,
            "grid_gap": null,
            "grid_row": null,
            "grid_template_areas": null,
            "grid_template_columns": null,
            "grid_template_rows": null,
            "height": null,
            "justify_content": null,
            "justify_items": null,
            "left": null,
            "margin": null,
            "max_height": null,
            "max_width": null,
            "min_height": null,
            "min_width": null,
            "object_fit": null,
            "object_position": null,
            "order": null,
            "overflow": null,
            "overflow_x": null,
            "overflow_y": null,
            "padding": null,
            "right": null,
            "top": null,
            "visibility": null,
            "width": null
          }
        },
        "388b37431635426b81618ad4646bf3c9": {
          "model_module": "@jupyter-widgets/controls",
          "model_name": "SliderStyleModel",
          "model_module_version": "1.5.0",
          "state": {
            "_model_module": "@jupyter-widgets/controls",
            "_model_module_version": "1.5.0",
            "_model_name": "SliderStyleModel",
            "_view_count": null,
            "_view_module": "@jupyter-widgets/base",
            "_view_module_version": "1.2.0",
            "_view_name": "StyleView",
            "description_width": "",
            "handle_color": null
          }
        },
        "47edb4453cc848979a20d0b7a5d7cb36": {
          "model_module": "@jupyter-widgets/controls",
          "model_name": "IntSliderModel",
          "model_module_version": "1.5.0",
          "state": {
            "_dom_classes": [],
            "_model_module": "@jupyter-widgets/controls",
            "_model_module_version": "1.5.0",
            "_model_name": "IntSliderModel",
            "_view_count": null,
            "_view_module": "@jupyter-widgets/controls",
            "_view_module_version": "1.5.0",
            "_view_name": "IntSliderView",
            "continuous_update": true,
            "description": "",
            "description_tooltip": null,
            "disabled": false,
            "layout": "IPY_MODEL_a3d35f7cbbd6486383a6aa62f051c371",
            "max": 10,
            "min": 1,
            "orientation": "horizontal",
            "readout": true,
            "readout_format": "d",
            "step": 1,
            "style": "IPY_MODEL_071b81e8afb3424ca1b190a9ddc25af5",
            "value": 7
          }
        },
        "a3d35f7cbbd6486383a6aa62f051c371": {
          "model_module": "@jupyter-widgets/base",
          "model_name": "LayoutModel",
          "model_module_version": "1.2.0",
          "state": {
            "_model_module": "@jupyter-widgets/base",
            "_model_module_version": "1.2.0",
            "_model_name": "LayoutModel",
            "_view_count": null,
            "_view_module": "@jupyter-widgets/base",
            "_view_module_version": "1.2.0",
            "_view_name": "LayoutView",
            "align_content": null,
            "align_items": null,
            "align_self": null,
            "border": null,
            "bottom": null,
            "display": null,
            "flex": null,
            "flex_flow": null,
            "grid_area": null,
            "grid_auto_columns": null,
            "grid_auto_flow": null,
            "grid_auto_rows": null,
            "grid_column": null,
            "grid_gap": null,
            "grid_row": null,
            "grid_template_areas": null,
            "grid_template_columns": null,
            "grid_template_rows": null,
            "height": null,
            "justify_content": null,
            "justify_items": null,
            "left": null,
            "margin": null,
            "max_height": null,
            "max_width": null,
            "min_height": null,
            "min_width": null,
            "object_fit": null,
            "object_position": null,
            "order": null,
            "overflow": null,
            "overflow_x": null,
            "overflow_y": null,
            "padding": null,
            "right": null,
            "top": null,
            "visibility": null,
            "width": null
          }
        },
        "071b81e8afb3424ca1b190a9ddc25af5": {
          "model_module": "@jupyter-widgets/controls",
          "model_name": "SliderStyleModel",
          "model_module_version": "1.5.0",
          "state": {
            "_model_module": "@jupyter-widgets/controls",
            "_model_module_version": "1.5.0",
            "_model_name": "SliderStyleModel",
            "_view_count": null,
            "_view_module": "@jupyter-widgets/base",
            "_view_module_version": "1.2.0",
            "_view_name": "StyleView",
            "description_width": "",
            "handle_color": null
          }
        },
        "6130ab3261de49f886a5f5bff71d2336": {
          "model_module": "@jupyter-widgets/controls",
          "model_name": "VBoxModel",
          "model_module_version": "1.5.0",
          "state": {
            "_dom_classes": [
              "widget-interact"
            ],
            "_model_module": "@jupyter-widgets/controls",
            "_model_module_version": "1.5.0",
            "_model_name": "VBoxModel",
            "_view_count": null,
            "_view_module": "@jupyter-widgets/controls",
            "_view_module_version": "1.5.0",
            "_view_name": "VBoxView",
            "box_style": "",
            "children": [
              "IPY_MODEL_dad120a89d2040f1905f802d089944bd",
              "IPY_MODEL_a8c6a7345dc84713bf3a83b75a9829ce",
              "IPY_MODEL_1537212faca2482a8c59b1932a3c9eec",
              "IPY_MODEL_6fc20264fe294c56b2fe72c301bda53e"
            ],
            "layout": "IPY_MODEL_356b461dac334823baa4cc935792ead9"
          }
        },
        "dad120a89d2040f1905f802d089944bd": {
          "model_module": "@jupyter-widgets/controls",
          "model_name": "IntSliderModel",
          "model_module_version": "1.5.0",
          "state": {
            "_dom_classes": [],
            "_model_module": "@jupyter-widgets/controls",
            "_model_module_version": "1.5.0",
            "_model_name": "IntSliderModel",
            "_view_count": null,
            "_view_module": "@jupyter-widgets/controls",
            "_view_module_version": "1.5.0",
            "_view_name": "IntSliderView",
            "continuous_update": true,
            "description": "sample",
            "description_tooltip": null,
            "disabled": false,
            "layout": "IPY_MODEL_fb70c0df6f1c4ea1a7e322b662a17f01",
            "max": 100,
            "min": 1,
            "orientation": "horizontal",
            "readout": true,
            "readout_format": "d",
            "step": 1,
            "style": "IPY_MODEL_b0ce186ee09c4d0f87d7c8e3542cdc0a",
            "value": 10
          }
        },
        "a8c6a7345dc84713bf3a83b75a9829ce": {
          "model_module": "@jupyter-widgets/controls",
          "model_name": "IntSliderModel",
          "model_module_version": "1.5.0",
          "state": {
            "_dom_classes": [],
            "_model_module": "@jupyter-widgets/controls",
            "_model_module_version": "1.5.0",
            "_model_name": "IntSliderModel",
            "_view_count": null,
            "_view_module": "@jupyter-widgets/controls",
            "_view_module_version": "1.5.0",
            "_view_name": "IntSliderView",
            "continuous_update": true,
            "description": "rep",
            "description_tooltip": null,
            "disabled": false,
            "layout": "IPY_MODEL_529575dca8a8488d926353d0e9b34353",
            "max": 10000,
            "min": 50,
            "orientation": "horizontal",
            "readout": true,
            "readout_format": "d",
            "step": 100,
            "style": "IPY_MODEL_bedce0aa9e964077b44013b6a6c13745",
            "value": 1000
          }
        },
        "1537212faca2482a8c59b1932a3c9eec": {
          "model_module": "@jupyter-widgets/controls",
          "model_name": "FloatSliderModel",
          "model_module_version": "1.5.0",
          "state": {
            "_dom_classes": [],
            "_model_module": "@jupyter-widgets/controls",
            "_model_module_version": "1.5.0",
            "_model_name": "FloatSliderModel",
            "_view_count": null,
            "_view_module": "@jupyter-widgets/controls",
            "_view_module_version": "1.5.0",
            "_view_name": "FloatSliderView",
            "continuous_update": true,
            "description": "p",
            "description_tooltip": null,
            "disabled": false,
            "layout": "IPY_MODEL_d13e582bd7584c5180faa9073b3875b5",
            "max": 0.99,
            "min": 0.1,
            "orientation": "horizontal",
            "readout": true,
            "readout_format": ".2f",
            "step": 0.01,
            "style": "IPY_MODEL_3fcbca25ef864c4f832980fc45493a53",
            "value": 0.5
          }
        },
        "6fc20264fe294c56b2fe72c301bda53e": {
          "model_module": "@jupyter-widgets/output",
          "model_name": "OutputModel",
          "model_module_version": "1.0.0",
          "state": {
            "_dom_classes": [],
            "_model_module": "@jupyter-widgets/output",
            "_model_module_version": "1.0.0",
            "_model_name": "OutputModel",
            "_view_count": null,
            "_view_module": "@jupyter-widgets/output",
            "_view_module_version": "1.0.0",
            "_view_name": "OutputView",
            "layout": "IPY_MODEL_f0a00398ec8740f99945829bc4ef5295",
            "msg_id": "",
            "outputs": [
              {
                "output_type": "display_data",
                "data": {
                  "text/plain": "<Figure size 640x480 with 1 Axes>",
                  "image/png": "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\n"
                },
                "metadata": {}
              }
            ]
          }
        },
        "356b461dac334823baa4cc935792ead9": {
          "model_module": "@jupyter-widgets/base",
          "model_name": "LayoutModel",
          "model_module_version": "1.2.0",
          "state": {
            "_model_module": "@jupyter-widgets/base",
            "_model_module_version": "1.2.0",
            "_model_name": "LayoutModel",
            "_view_count": null,
            "_view_module": "@jupyter-widgets/base",
            "_view_module_version": "1.2.0",
            "_view_name": "LayoutView",
            "align_content": null,
            "align_items": null,
            "align_self": null,
            "border": null,
            "bottom": null,
            "display": null,
            "flex": null,
            "flex_flow": null,
            "grid_area": null,
            "grid_auto_columns": null,
            "grid_auto_flow": null,
            "grid_auto_rows": null,
            "grid_column": null,
            "grid_gap": null,
            "grid_row": null,
            "grid_template_areas": null,
            "grid_template_columns": null,
            "grid_template_rows": null,
            "height": null,
            "justify_content": null,
            "justify_items": null,
            "left": null,
            "margin": null,
            "max_height": null,
            "max_width": null,
            "min_height": null,
            "min_width": null,
            "object_fit": null,
            "object_position": null,
            "order": null,
            "overflow": null,
            "overflow_x": null,
            "overflow_y": null,
            "padding": null,
            "right": null,
            "top": null,
            "visibility": null,
            "width": null
          }
        },
        "fb70c0df6f1c4ea1a7e322b662a17f01": {
          "model_module": "@jupyter-widgets/base",
          "model_name": "LayoutModel",
          "model_module_version": "1.2.0",
          "state": {
            "_model_module": "@jupyter-widgets/base",
            "_model_module_version": "1.2.0",
            "_model_name": "LayoutModel",
            "_view_count": null,
            "_view_module": "@jupyter-widgets/base",
            "_view_module_version": "1.2.0",
            "_view_name": "LayoutView",
            "align_content": null,
            "align_items": null,
            "align_self": null,
            "border": null,
            "bottom": null,
            "display": null,
            "flex": null,
            "flex_flow": null,
            "grid_area": null,
            "grid_auto_columns": null,
            "grid_auto_flow": null,
            "grid_auto_rows": null,
            "grid_column": null,
            "grid_gap": null,
            "grid_row": null,
            "grid_template_areas": null,
            "grid_template_columns": null,
            "grid_template_rows": null,
            "height": null,
            "justify_content": null,
            "justify_items": null,
            "left": null,
            "margin": null,
            "max_height": null,
            "max_width": null,
            "min_height": null,
            "min_width": null,
            "object_fit": null,
            "object_position": null,
            "order": null,
            "overflow": null,
            "overflow_x": null,
            "overflow_y": null,
            "padding": null,
            "right": null,
            "top": null,
            "visibility": null,
            "width": null
          }
        },
        "b0ce186ee09c4d0f87d7c8e3542cdc0a": {
          "model_module": "@jupyter-widgets/controls",
          "model_name": "SliderStyleModel",
          "model_module_version": "1.5.0",
          "state": {
            "_model_module": "@jupyter-widgets/controls",
            "_model_module_version": "1.5.0",
            "_model_name": "SliderStyleModel",
            "_view_count": null,
            "_view_module": "@jupyter-widgets/base",
            "_view_module_version": "1.2.0",
            "_view_name": "StyleView",
            "description_width": "",
            "handle_color": null
          }
        },
        "529575dca8a8488d926353d0e9b34353": {
          "model_module": "@jupyter-widgets/base",
          "model_name": "LayoutModel",
          "model_module_version": "1.2.0",
          "state": {
            "_model_module": "@jupyter-widgets/base",
            "_model_module_version": "1.2.0",
            "_model_name": "LayoutModel",
            "_view_count": null,
            "_view_module": "@jupyter-widgets/base",
            "_view_module_version": "1.2.0",
            "_view_name": "LayoutView",
            "align_content": null,
            "align_items": null,
            "align_self": null,
            "border": null,
            "bottom": null,
            "display": null,
            "flex": null,
            "flex_flow": null,
            "grid_area": null,
            "grid_auto_columns": null,
            "grid_auto_flow": null,
            "grid_auto_rows": null,
            "grid_column": null,
            "grid_gap": null,
            "grid_row": null,
            "grid_template_areas": null,
            "grid_template_columns": null,
            "grid_template_rows": null,
            "height": null,
            "justify_content": null,
            "justify_items": null,
            "left": null,
            "margin": null,
            "max_height": null,
            "max_width": null,
            "min_height": null,
            "min_width": null,
            "object_fit": null,
            "object_position": null,
            "order": null,
            "overflow": null,
            "overflow_x": null,
            "overflow_y": null,
            "padding": null,
            "right": null,
            "top": null,
            "visibility": null,
            "width": null
          }
        },
        "bedce0aa9e964077b44013b6a6c13745": {
          "model_module": "@jupyter-widgets/controls",
          "model_name": "SliderStyleModel",
          "model_module_version": "1.5.0",
          "state": {
            "_model_module": "@jupyter-widgets/controls",
            "_model_module_version": "1.5.0",
            "_model_name": "SliderStyleModel",
            "_view_count": null,
            "_view_module": "@jupyter-widgets/base",
            "_view_module_version": "1.2.0",
            "_view_name": "StyleView",
            "description_width": "",
            "handle_color": null
          }
        },
        "d13e582bd7584c5180faa9073b3875b5": {
          "model_module": "@jupyter-widgets/base",
          "model_name": "LayoutModel",
          "model_module_version": "1.2.0",
          "state": {
            "_model_module": "@jupyter-widgets/base",
            "_model_module_version": "1.2.0",
            "_model_name": "LayoutModel",
            "_view_count": null,
            "_view_module": "@jupyter-widgets/base",
            "_view_module_version": "1.2.0",
            "_view_name": "LayoutView",
            "align_content": null,
            "align_items": null,
            "align_self": null,
            "border": null,
            "bottom": null,
            "display": null,
            "flex": null,
            "flex_flow": null,
            "grid_area": null,
            "grid_auto_columns": null,
            "grid_auto_flow": null,
            "grid_auto_rows": null,
            "grid_column": null,
            "grid_gap": null,
            "grid_row": null,
            "grid_template_areas": null,
            "grid_template_columns": null,
            "grid_template_rows": null,
            "height": null,
            "justify_content": null,
            "justify_items": null,
            "left": null,
            "margin": null,
            "max_height": null,
            "max_width": null,
            "min_height": null,
            "min_width": null,
            "object_fit": null,
            "object_position": null,
            "order": null,
            "overflow": null,
            "overflow_x": null,
            "overflow_y": null,
            "padding": null,
            "right": null,
            "top": null,
            "visibility": null,
            "width": null
          }
        },
        "3fcbca25ef864c4f832980fc45493a53": {
          "model_module": "@jupyter-widgets/controls",
          "model_name": "SliderStyleModel",
          "model_module_version": "1.5.0",
          "state": {
            "_model_module": "@jupyter-widgets/controls",
            "_model_module_version": "1.5.0",
            "_model_name": "SliderStyleModel",
            "_view_count": null,
            "_view_module": "@jupyter-widgets/base",
            "_view_module_version": "1.2.0",
            "_view_name": "StyleView",
            "description_width": "",
            "handle_color": null
          }
        },
        "f0a00398ec8740f99945829bc4ef5295": {
          "model_module": "@jupyter-widgets/base",
          "model_name": "LayoutModel",
          "model_module_version": "1.2.0",
          "state": {
            "_model_module": "@jupyter-widgets/base",
            "_model_module_version": "1.2.0",
            "_model_name": "LayoutModel",
            "_view_count": null,
            "_view_module": "@jupyter-widgets/base",
            "_view_module_version": "1.2.0",
            "_view_name": "LayoutView",
            "align_content": null,
            "align_items": null,
            "align_self": null,
            "border": null,
            "bottom": null,
            "display": null,
            "flex": null,
            "flex_flow": null,
            "grid_area": null,
            "grid_auto_columns": null,
            "grid_auto_flow": null,
            "grid_auto_rows": null,
            "grid_column": null,
            "grid_gap": null,
            "grid_row": null,
            "grid_template_areas": null,
            "grid_template_columns": null,
            "grid_template_rows": null,
            "height": null,
            "justify_content": null,
            "justify_items": null,
            "left": null,
            "margin": null,
            "max_height": null,
            "max_width": null,
            "min_height": null,
            "min_width": null,
            "object_fit": null,
            "object_position": null,
            "order": null,
            "overflow": null,
            "overflow_x": null,
            "overflow_y": null,
            "padding": null,
            "right": null,
            "top": null,
            "visibility": null,
            "width": null
          }
        }
      }
    }
  },
  "nbformat": 4,
  "nbformat_minor": 5
}