{
 "cells": [
  {
   "cell_type": "markdown",
   "metadata": {},
   "source": [
    "## Lending Club dataset"
   ]
  },
  {
   "cell_type": "markdown",
   "metadata": {},
   "source": [
    "### Converting data types, binarizing, one-hot encoding, features"
   ]
  },
  {
   "cell_type": "code",
   "execution_count": 2,
   "metadata": {},
   "outputs": [],
   "source": [
    "#Essential imports\n",
    "import numpy as np\n",
    "import pandas as pd\n",
    "import scipy.stats as stats\n",
    "import seaborn as sns\n",
    "\n",
    "#Visualization\n",
    "import matplotlib.pyplot as plt\n",
    "%matplotlib inline\n",
    "\n",
    "#Modeling\n",
    "from sklearn.linear_model import LogisticRegression\n",
    "from sklearn.preprocessing import StandardScaler\n",
    "from sklearn.model_selection import train_test_split, cross_val_score, GridSearchCV\n",
    "from sklearn.model_selection import GridSearchCV, train_test_split, cross_val_score\n",
    "from sklearn.ensemble import RandomForestClassifier, ExtraTreesClassifier"
   ]
  },
  {
   "cell_type": "code",
   "execution_count": 3,
   "metadata": {},
   "outputs": [
    {
     "data": {
      "text/html": [
       "<div>\n",
       "<style scoped>\n",
       "    .dataframe tbody tr th:only-of-type {\n",
       "        vertical-align: middle;\n",
       "    }\n",
       "\n",
       "    .dataframe tbody tr th {\n",
       "        vertical-align: top;\n",
       "    }\n",
       "\n",
       "    .dataframe thead th {\n",
       "        text-align: right;\n",
       "    }\n",
       "</style>\n",
       "<table border=\"1\" class=\"dataframe\">\n",
       "  <thead>\n",
       "    <tr style=\"text-align: right;\">\n",
       "      <th></th>\n",
       "      <th>loan_amnt</th>\n",
       "      <th>term</th>\n",
       "      <th>int_rate</th>\n",
       "      <th>installment</th>\n",
       "      <th>grade</th>\n",
       "      <th>sub_grade</th>\n",
       "      <th>emp_title</th>\n",
       "      <th>emp_length</th>\n",
       "      <th>home_ownership</th>\n",
       "      <th>annual_inc</th>\n",
       "      <th>...</th>\n",
       "      <th>num_tl_90g_dpd_24m</th>\n",
       "      <th>num_tl_op_past_12m</th>\n",
       "      <th>pct_tl_nvr_dlq</th>\n",
       "      <th>percent_bc_gt_75</th>\n",
       "      <th>pub_rec_bankruptcies</th>\n",
       "      <th>tax_liens</th>\n",
       "      <th>tot_hi_cred_lim</th>\n",
       "      <th>total_bal_ex_mort</th>\n",
       "      <th>total_bc_limit</th>\n",
       "      <th>total_il_high_credit_limit</th>\n",
       "    </tr>\n",
       "  </thead>\n",
       "  <tbody>\n",
       "    <tr>\n",
       "      <th>0</th>\n",
       "      <td>33000.0</td>\n",
       "      <td>60 months</td>\n",
       "      <td>15.24%</td>\n",
       "      <td>789.24</td>\n",
       "      <td>C</td>\n",
       "      <td>C2</td>\n",
       "      <td>Financial Analyst</td>\n",
       "      <td>10+ years</td>\n",
       "      <td>MORTGAGE</td>\n",
       "      <td>84000.0</td>\n",
       "      <td>...</td>\n",
       "      <td>0.0</td>\n",
       "      <td>2.0</td>\n",
       "      <td>100.0</td>\n",
       "      <td>21.4</td>\n",
       "      <td>0.0</td>\n",
       "      <td>0.0</td>\n",
       "      <td>351386.0</td>\n",
       "      <td>80128.0</td>\n",
       "      <td>123800.0</td>\n",
       "      <td>16158.0</td>\n",
       "    </tr>\n",
       "    <tr>\n",
       "      <th>1</th>\n",
       "      <td>19000.0</td>\n",
       "      <td>36 months</td>\n",
       "      <td>6.46%</td>\n",
       "      <td>581.99</td>\n",
       "      <td>A</td>\n",
       "      <td>A1</td>\n",
       "      <td>Tech Ops Analyst</td>\n",
       "      <td>10+ years</td>\n",
       "      <td>MORTGAGE</td>\n",
       "      <td>83000.0</td>\n",
       "      <td>...</td>\n",
       "      <td>0.0</td>\n",
       "      <td>0.0</td>\n",
       "      <td>100.0</td>\n",
       "      <td>40.0</td>\n",
       "      <td>0.0</td>\n",
       "      <td>0.0</td>\n",
       "      <td>184034.0</td>\n",
       "      <td>28461.0</td>\n",
       "      <td>38400.0</td>\n",
       "      <td>35000.0</td>\n",
       "    </tr>\n",
       "    <tr>\n",
       "      <th>2</th>\n",
       "      <td>15000.0</td>\n",
       "      <td>36 months</td>\n",
       "      <td>7.02%</td>\n",
       "      <td>463.30</td>\n",
       "      <td>A</td>\n",
       "      <td>A2</td>\n",
       "      <td>Program Manager</td>\n",
       "      <td>5 years</td>\n",
       "      <td>MORTGAGE</td>\n",
       "      <td>129000.0</td>\n",
       "      <td>...</td>\n",
       "      <td>0.0</td>\n",
       "      <td>5.0</td>\n",
       "      <td>100.0</td>\n",
       "      <td>0.0</td>\n",
       "      <td>0.0</td>\n",
       "      <td>0.0</td>\n",
       "      <td>404456.0</td>\n",
       "      <td>122865.0</td>\n",
       "      <td>29000.0</td>\n",
       "      <td>152751.0</td>\n",
       "    </tr>\n",
       "    <tr>\n",
       "      <th>3</th>\n",
       "      <td>21325.0</td>\n",
       "      <td>60 months</td>\n",
       "      <td>13.08%</td>\n",
       "      <td>486.09</td>\n",
       "      <td>B</td>\n",
       "      <td>B5</td>\n",
       "      <td>Senior Accountant</td>\n",
       "      <td>3 years</td>\n",
       "      <td>MORTGAGE</td>\n",
       "      <td>87000.0</td>\n",
       "      <td>...</td>\n",
       "      <td>0.0</td>\n",
       "      <td>1.0</td>\n",
       "      <td>100.0</td>\n",
       "      <td>14.3</td>\n",
       "      <td>0.0</td>\n",
       "      <td>0.0</td>\n",
       "      <td>661269.0</td>\n",
       "      <td>209441.0</td>\n",
       "      <td>54400.0</td>\n",
       "      <td>96631.0</td>\n",
       "    </tr>\n",
       "    <tr>\n",
       "      <th>4</th>\n",
       "      <td>12000.0</td>\n",
       "      <td>60 months</td>\n",
       "      <td>17.74%</td>\n",
       "      <td>303.03</td>\n",
       "      <td>C</td>\n",
       "      <td>C5</td>\n",
       "      <td>registered nurse</td>\n",
       "      <td>8 years</td>\n",
       "      <td>RENT</td>\n",
       "      <td>75000.0</td>\n",
       "      <td>...</td>\n",
       "      <td>0.0</td>\n",
       "      <td>2.0</td>\n",
       "      <td>97.8</td>\n",
       "      <td>27.3</td>\n",
       "      <td>0.0</td>\n",
       "      <td>0.0</td>\n",
       "      <td>186469.0</td>\n",
       "      <td>135367.0</td>\n",
       "      <td>46100.0</td>\n",
       "      <td>131569.0</td>\n",
       "    </tr>\n",
       "    <tr>\n",
       "      <th>...</th>\n",
       "      <td>...</td>\n",
       "      <td>...</td>\n",
       "      <td>...</td>\n",
       "      <td>...</td>\n",
       "      <td>...</td>\n",
       "      <td>...</td>\n",
       "      <td>...</td>\n",
       "      <td>...</td>\n",
       "      <td>...</td>\n",
       "      <td>...</td>\n",
       "      <td>...</td>\n",
       "      <td>...</td>\n",
       "      <td>...</td>\n",
       "      <td>...</td>\n",
       "      <td>...</td>\n",
       "      <td>...</td>\n",
       "      <td>...</td>\n",
       "      <td>...</td>\n",
       "      <td>...</td>\n",
       "      <td>...</td>\n",
       "      <td>...</td>\n",
       "    </tr>\n",
       "    <tr>\n",
       "      <th>254789</th>\n",
       "      <td>15000.0</td>\n",
       "      <td>36 months</td>\n",
       "      <td>17.74%</td>\n",
       "      <td>540.34</td>\n",
       "      <td>C</td>\n",
       "      <td>C5</td>\n",
       "      <td>Special Education Teacher</td>\n",
       "      <td>1 year</td>\n",
       "      <td>RENT</td>\n",
       "      <td>62000.0</td>\n",
       "      <td>...</td>\n",
       "      <td>0.0</td>\n",
       "      <td>3.0</td>\n",
       "      <td>97.4</td>\n",
       "      <td>50.0</td>\n",
       "      <td>0.0</td>\n",
       "      <td>0.0</td>\n",
       "      <td>160317.0</td>\n",
       "      <td>136496.0</td>\n",
       "      <td>32800.0</td>\n",
       "      <td>124417.0</td>\n",
       "    </tr>\n",
       "    <tr>\n",
       "      <th>254790</th>\n",
       "      <td>6000.0</td>\n",
       "      <td>36 months</td>\n",
       "      <td>11.02%</td>\n",
       "      <td>196.49</td>\n",
       "      <td>B</td>\n",
       "      <td>B2</td>\n",
       "      <td>Assistant Foreman</td>\n",
       "      <td>10+ years</td>\n",
       "      <td>MORTGAGE</td>\n",
       "      <td>80000.0</td>\n",
       "      <td>...</td>\n",
       "      <td>0.0</td>\n",
       "      <td>1.0</td>\n",
       "      <td>100.0</td>\n",
       "      <td>33.3</td>\n",
       "      <td>0.0</td>\n",
       "      <td>0.0</td>\n",
       "      <td>259477.0</td>\n",
       "      <td>86503.0</td>\n",
       "      <td>13900.0</td>\n",
       "      <td>92418.0</td>\n",
       "    </tr>\n",
       "    <tr>\n",
       "      <th>254791</th>\n",
       "      <td>10525.0</td>\n",
       "      <td>36 months</td>\n",
       "      <td>7.56%</td>\n",
       "      <td>327.69</td>\n",
       "      <td>A</td>\n",
       "      <td>A3</td>\n",
       "      <td>Floor Finisher</td>\n",
       "      <td>10+ years</td>\n",
       "      <td>OWN</td>\n",
       "      <td>40000.0</td>\n",
       "      <td>...</td>\n",
       "      <td>0.0</td>\n",
       "      <td>5.0</td>\n",
       "      <td>98.0</td>\n",
       "      <td>0.0</td>\n",
       "      <td>0.0</td>\n",
       "      <td>0.0</td>\n",
       "      <td>70900.0</td>\n",
       "      <td>8774.0</td>\n",
       "      <td>38500.0</td>\n",
       "      <td>15000.0</td>\n",
       "    </tr>\n",
       "    <tr>\n",
       "      <th>254792</th>\n",
       "      <td>16000.0</td>\n",
       "      <td>36 months</td>\n",
       "      <td>11.71%</td>\n",
       "      <td>529.22</td>\n",
       "      <td>B</td>\n",
       "      <td>B3</td>\n",
       "      <td>Financial Counselor</td>\n",
       "      <td>10+ years</td>\n",
       "      <td>RENT</td>\n",
       "      <td>80000.0</td>\n",
       "      <td>...</td>\n",
       "      <td>0.0</td>\n",
       "      <td>8.0</td>\n",
       "      <td>85.7</td>\n",
       "      <td>0.0</td>\n",
       "      <td>0.0</td>\n",
       "      <td>0.0</td>\n",
       "      <td>22300.0</td>\n",
       "      <td>9359.0</td>\n",
       "      <td>9800.0</td>\n",
       "      <td>8400.0</td>\n",
       "    </tr>\n",
       "    <tr>\n",
       "      <th>254793</th>\n",
       "      <td>20000.0</td>\n",
       "      <td>36 months</td>\n",
       "      <td>12.40%</td>\n",
       "      <td>668.12</td>\n",
       "      <td>B</td>\n",
       "      <td>B4</td>\n",
       "      <td>sanitation</td>\n",
       "      <td>10+ years</td>\n",
       "      <td>MORTGAGE</td>\n",
       "      <td>78000.0</td>\n",
       "      <td>...</td>\n",
       "      <td>0.0</td>\n",
       "      <td>2.0</td>\n",
       "      <td>100.0</td>\n",
       "      <td>0.0</td>\n",
       "      <td>0.0</td>\n",
       "      <td>0.0</td>\n",
       "      <td>358498.0</td>\n",
       "      <td>15855.0</td>\n",
       "      <td>33200.0</td>\n",
       "      <td>29742.0</td>\n",
       "    </tr>\n",
       "  </tbody>\n",
       "</table>\n",
       "<p>254794 rows × 80 columns</p>\n",
       "</div>"
      ],
      "text/plain": [
       "        loan_amnt        term int_rate  installment grade sub_grade  \\\n",
       "0         33000.0   60 months   15.24%       789.24     C        C2   \n",
       "1         19000.0   36 months    6.46%       581.99     A        A1   \n",
       "2         15000.0   36 months    7.02%       463.30     A        A2   \n",
       "3         21325.0   60 months   13.08%       486.09     B        B5   \n",
       "4         12000.0   60 months   17.74%       303.03     C        C5   \n",
       "...           ...         ...      ...          ...   ...       ...   \n",
       "254789    15000.0   36 months   17.74%       540.34     C        C5   \n",
       "254790     6000.0   36 months   11.02%       196.49     B        B2   \n",
       "254791    10525.0   36 months    7.56%       327.69     A        A3   \n",
       "254792    16000.0   36 months   11.71%       529.22     B        B3   \n",
       "254793    20000.0   36 months   12.40%       668.12     B        B4   \n",
       "\n",
       "                        emp_title emp_length home_ownership  annual_inc  ...  \\\n",
       "0               Financial Analyst  10+ years       MORTGAGE     84000.0  ...   \n",
       "1                Tech Ops Analyst  10+ years       MORTGAGE     83000.0  ...   \n",
       "2                 Program Manager    5 years       MORTGAGE    129000.0  ...   \n",
       "3               Senior Accountant    3 years       MORTGAGE     87000.0  ...   \n",
       "4                registered nurse    8 years           RENT     75000.0  ...   \n",
       "...                           ...        ...            ...         ...  ...   \n",
       "254789  Special Education Teacher     1 year           RENT     62000.0  ...   \n",
       "254790          Assistant Foreman  10+ years       MORTGAGE     80000.0  ...   \n",
       "254791             Floor Finisher  10+ years            OWN     40000.0  ...   \n",
       "254792       Financial Counselor   10+ years           RENT     80000.0  ...   \n",
       "254793                 sanitation  10+ years       MORTGAGE     78000.0  ...   \n",
       "\n",
       "       num_tl_90g_dpd_24m num_tl_op_past_12m pct_tl_nvr_dlq percent_bc_gt_75  \\\n",
       "0                     0.0                2.0          100.0             21.4   \n",
       "1                     0.0                0.0          100.0             40.0   \n",
       "2                     0.0                5.0          100.0              0.0   \n",
       "3                     0.0                1.0          100.0             14.3   \n",
       "4                     0.0                2.0           97.8             27.3   \n",
       "...                   ...                ...            ...              ...   \n",
       "254789                0.0                3.0           97.4             50.0   \n",
       "254790                0.0                1.0          100.0             33.3   \n",
       "254791                0.0                5.0           98.0              0.0   \n",
       "254792                0.0                8.0           85.7              0.0   \n",
       "254793                0.0                2.0          100.0              0.0   \n",
       "\n",
       "       pub_rec_bankruptcies  tax_liens  tot_hi_cred_lim total_bal_ex_mort  \\\n",
       "0                       0.0        0.0         351386.0           80128.0   \n",
       "1                       0.0        0.0         184034.0           28461.0   \n",
       "2                       0.0        0.0         404456.0          122865.0   \n",
       "3                       0.0        0.0         661269.0          209441.0   \n",
       "4                       0.0        0.0         186469.0          135367.0   \n",
       "...                     ...        ...              ...               ...   \n",
       "254789                  0.0        0.0         160317.0          136496.0   \n",
       "254790                  0.0        0.0         259477.0           86503.0   \n",
       "254791                  0.0        0.0          70900.0            8774.0   \n",
       "254792                  0.0        0.0          22300.0            9359.0   \n",
       "254793                  0.0        0.0         358498.0           15855.0   \n",
       "\n",
       "        total_bc_limit  total_il_high_credit_limit  \n",
       "0             123800.0                     16158.0  \n",
       "1              38400.0                     35000.0  \n",
       "2              29000.0                    152751.0  \n",
       "3              54400.0                     96631.0  \n",
       "4              46100.0                    131569.0  \n",
       "...                ...                         ...  \n",
       "254789         32800.0                    124417.0  \n",
       "254790         13900.0                     92418.0  \n",
       "254791         38500.0                     15000.0  \n",
       "254792          9800.0                      8400.0  \n",
       "254793         33200.0                     29742.0  \n",
       "\n",
       "[254794 rows x 80 columns]"
      ]
     },
     "execution_count": 3,
     "metadata": {},
     "output_type": "execute_result"
    }
   ],
   "source": [
    "df = pd.read_csv('./Data/LCdataset_cleaned80_254794.csv')\n",
    "df"
   ]
  },
  {
   "cell_type": "code",
   "execution_count": 4,
   "metadata": {},
   "outputs": [
    {
     "data": {
      "text/plain": [
       "loan_amnt                     0\n",
       "term                          0\n",
       "int_rate                      0\n",
       "installment                   0\n",
       "grade                         0\n",
       "                             ..\n",
       "tax_liens                     0\n",
       "tot_hi_cred_lim               0\n",
       "total_bal_ex_mort             0\n",
       "total_bc_limit                0\n",
       "total_il_high_credit_limit    0\n",
       "Length: 80, dtype: int64"
      ]
     },
     "execution_count": 4,
     "metadata": {},
     "output_type": "execute_result"
    }
   ],
   "source": [
    "df.isnull().sum()"
   ]
  },
  {
   "cell_type": "markdown",
   "metadata": {},
   "source": [
    "## Data Types"
   ]
  },
  {
   "cell_type": "code",
   "execution_count": 5,
   "metadata": {},
   "outputs": [
    {
     "name": "stdout",
     "output_type": "stream",
     "text": [
      "<class 'pandas.core.frame.DataFrame'>\n",
      "RangeIndex: 254794 entries, 0 to 254793\n",
      "Data columns (total 80 columns):\n",
      " #   Column                      Non-Null Count   Dtype  \n",
      "---  ------                      --------------   -----  \n",
      " 0   loan_amnt                   254794 non-null  float64\n",
      " 1   term                        254794 non-null  object \n",
      " 2   int_rate                    254794 non-null  object \n",
      " 3   installment                 254794 non-null  float64\n",
      " 4   grade                       254794 non-null  object \n",
      " 5   sub_grade                   254794 non-null  object \n",
      " 6   emp_title                   254794 non-null  object \n",
      " 7   emp_length                  254794 non-null  object \n",
      " 8   home_ownership              254794 non-null  object \n",
      " 9   annual_inc                  254794 non-null  float64\n",
      " 10  verification_status         254794 non-null  object \n",
      " 11  issue_d                     254794 non-null  object \n",
      " 12  loan_status                 254794 non-null  object \n",
      " 13  purpose                     254794 non-null  object \n",
      " 14  addr_state                  254794 non-null  object \n",
      " 15  dti                         254794 non-null  float64\n",
      " 16  delinq_2yrs                 254794 non-null  float64\n",
      " 17  earliest_cr_line            254794 non-null  object \n",
      " 18  fico_range_low              254794 non-null  float64\n",
      " 19  fico_range_high             254794 non-null  float64\n",
      " 20  inq_last_6mths              254794 non-null  float64\n",
      " 21  open_acc                    254794 non-null  float64\n",
      " 22  pub_rec                     254794 non-null  float64\n",
      " 23  revol_bal                   254794 non-null  float64\n",
      " 24  revol_util                  254794 non-null  object \n",
      " 25  total_acc                   254794 non-null  float64\n",
      " 26  initial_list_status         254794 non-null  object \n",
      " 27  collections_12_mths_ex_med  254794 non-null  float64\n",
      " 28  application_type            254794 non-null  object \n",
      " 29  acc_now_delinq              254794 non-null  float64\n",
      " 30  tot_coll_amt                254794 non-null  float64\n",
      " 31  tot_cur_bal                 254794 non-null  float64\n",
      " 32  open_acc_6m                 254794 non-null  float64\n",
      " 33  open_act_il                 254794 non-null  float64\n",
      " 34  open_il_12m                 254794 non-null  float64\n",
      " 35  open_il_24m                 254794 non-null  float64\n",
      " 36  mths_since_rcnt_il          254794 non-null  float64\n",
      " 37  total_bal_il                254794 non-null  float64\n",
      " 38  il_util                     254794 non-null  float64\n",
      " 39  open_rv_12m                 254794 non-null  float64\n",
      " 40  open_rv_24m                 254794 non-null  float64\n",
      " 41  max_bal_bc                  254794 non-null  float64\n",
      " 42  all_util                    254794 non-null  float64\n",
      " 43  inq_fi                      254794 non-null  float64\n",
      " 44  total_cu_tl                 254794 non-null  float64\n",
      " 45  inq_last_12m                254794 non-null  float64\n",
      " 46  acc_open_past_24mths        254794 non-null  float64\n",
      " 47  avg_cur_bal                 254794 non-null  float64\n",
      " 48  bc_open_to_buy              254794 non-null  float64\n",
      " 49  bc_util                     254794 non-null  float64\n",
      " 50  delinq_amnt                 254794 non-null  float64\n",
      " 51  mo_sin_old_il_acct          254794 non-null  float64\n",
      " 52  mo_sin_old_rev_tl_op        254794 non-null  float64\n",
      " 53  mo_sin_rcnt_rev_tl_op       254794 non-null  float64\n",
      " 54  mo_sin_rcnt_tl              254794 non-null  float64\n",
      " 55  mort_acc                    254794 non-null  float64\n",
      " 56  mths_since_recent_bc        254794 non-null  float64\n",
      " 57  mths_since_recent_inq       254794 non-null  float64\n",
      " 58  num_accts_ever_120_pd       254794 non-null  float64\n",
      " 59  num_actv_bc_tl              254794 non-null  float64\n",
      " 60  num_actv_rev_tl             254794 non-null  float64\n",
      " 61  num_bc_sats                 254794 non-null  float64\n",
      " 62  num_bc_tl                   254794 non-null  float64\n",
      " 63  num_il_tl                   254794 non-null  float64\n",
      " 64  num_op_rev_tl               254794 non-null  float64\n",
      " 65  num_rev_accts               254794 non-null  float64\n",
      " 66  num_rev_tl_bal_gt_0         254794 non-null  float64\n",
      " 67  num_sats                    254794 non-null  float64\n",
      " 68  num_tl_120dpd_2m            254794 non-null  float64\n",
      " 69  num_tl_30dpd                254794 non-null  float64\n",
      " 70  num_tl_90g_dpd_24m          254794 non-null  float64\n",
      " 71  num_tl_op_past_12m          254794 non-null  float64\n",
      " 72  pct_tl_nvr_dlq              254794 non-null  float64\n",
      " 73  percent_bc_gt_75            254794 non-null  float64\n",
      " 74  pub_rec_bankruptcies        254794 non-null  float64\n",
      " 75  tax_liens                   254794 non-null  float64\n",
      " 76  tot_hi_cred_lim             254794 non-null  float64\n",
      " 77  total_bal_ex_mort           254794 non-null  float64\n",
      " 78  total_bc_limit              254794 non-null  float64\n",
      " 79  total_il_high_credit_limit  254794 non-null  float64\n",
      "dtypes: float64(64), object(16)\n",
      "memory usage: 155.5+ MB\n"
     ]
    }
   ],
   "source": [
    "df.info()"
   ]
  },
  {
   "cell_type": "markdown",
   "metadata": {},
   "source": [
    "The above **df.info()** shows a number of columns that are still an object. Some of these elements would have to get binarized (i.e. application_type, empl_length), some would have to be converted to a numeric data type (i.e. int_rate and revol_util). \n",
    "\n",
    "From Data Dictionary: <br>\n",
    "revol_util: Revolving line utilization rate, or the amount of credit the borrower is using relative to all available revolving credit. <br>\n",
    "int_rate: Interest Rate on the loan"
   ]
  },
  {
   "cell_type": "markdown",
   "metadata": {},
   "source": [
    "#### Convert to float: int_rate and revol_util"
   ]
  },
  {
   "cell_type": "code",
   "execution_count": 6,
   "metadata": {},
   "outputs": [],
   "source": [
    "df['int_rate'] = df['int_rate'].str.rstrip('%').astype('float')"
   ]
  },
  {
   "cell_type": "code",
   "execution_count": 7,
   "metadata": {},
   "outputs": [],
   "source": [
    "df['revol_util'] = df['revol_util'].str.rstrip('%').astype('float')"
   ]
  },
  {
   "cell_type": "code",
   "execution_count": 8,
   "metadata": {},
   "outputs": [
    {
     "data": {
      "text/plain": [
       "w    237729\n",
       "f     17065\n",
       "Name: initial_list_status, dtype: int64"
      ]
     },
     "execution_count": 8,
     "metadata": {},
     "output_type": "execute_result"
    }
   ],
   "source": [
    "df['initial_list_status'].value_counts(dropna=False)"
   ]
  },
  {
   "cell_type": "markdown",
   "metadata": {},
   "source": [
    "#### Variables: application type"
   ]
  },
  {
   "cell_type": "code",
   "execution_count": 9,
   "metadata": {},
   "outputs": [
    {
     "data": {
      "text/plain": [
       "Individual    224549\n",
       "Joint App      30245\n",
       "Name: application_type, dtype: int64"
      ]
     },
     "execution_count": 9,
     "metadata": {},
     "output_type": "execute_result"
    }
   ],
   "source": [
    "df['application_type'].value_counts(dropna=False) #will include in pd.get_dummies"
   ]
  },
  {
   "cell_type": "code",
   "execution_count": 10,
   "metadata": {},
   "outputs": [],
   "source": [
    "df['application_type'] = np.where(df['application_type'] == 'Individual', 1, 0)"
   ]
  },
  {
   "cell_type": "code",
   "execution_count": 11,
   "metadata": {},
   "outputs": [
    {
     "data": {
      "text/plain": [
       "1    224549\n",
       "0     30245\n",
       "Name: application_type, dtype: int64"
      ]
     },
     "execution_count": 11,
     "metadata": {},
     "output_type": "execute_result"
    }
   ],
   "source": [
    "df['application_type'].value_counts(dropna=False) "
   ]
  },
  {
   "cell_type": "markdown",
   "metadata": {},
   "source": [
    "#### Variables: emp_length"
   ]
  },
  {
   "cell_type": "code",
   "execution_count": 12,
   "metadata": {},
   "outputs": [
    {
     "data": {
      "text/plain": [
       "10+ years    86914\n",
       "2 years      26235\n",
       "3 years      23284\n",
       "< 1 year     21854\n",
       "1 year       20448\n",
       "5 years      19119\n",
       "4 years      17637\n",
       "6 years      12738\n",
       "7 years      10319\n",
       "8 years       9097\n",
       "9 years       7149\n",
       "Name: emp_length, dtype: int64"
      ]
     },
     "execution_count": 12,
     "metadata": {},
     "output_type": "execute_result"
    }
   ],
   "source": [
    "df['emp_length'].value_counts(dropna=False) "
   ]
  },
  {
   "cell_type": "code",
   "execution_count": 13,
   "metadata": {},
   "outputs": [],
   "source": [
    "def emp_length_classification(string):\n",
    "    if \"10+ years\" in string:\n",
    "        return 10\n",
    "    elif \"9 years\" in string:\n",
    "        return 9\n",
    "    elif \"8 years\" in string:\n",
    "        return 8\n",
    "    elif \"7 years\" in string:\n",
    "        return 7\n",
    "    elif \"6 years\" in string:\n",
    "        return 6\n",
    "    elif \"5 years\" in string:\n",
    "        return 5\n",
    "    elif \"4 years\" in string:\n",
    "        return 4\n",
    "    elif \"3 years\" in string:\n",
    "        return 3\n",
    "    elif \"2 years\" in string:\n",
    "        return 2\n",
    "    elif \"1 year\" in string:\n",
    "        return 1\n",
    "    elif \"< 1 year\" in string:\n",
    "        return 0"
   ]
  },
  {
   "cell_type": "code",
   "execution_count": 14,
   "metadata": {},
   "outputs": [],
   "source": [
    "df['emp_length'] = df['emp_length'].map(emp_length_classification)"
   ]
  },
  {
   "cell_type": "code",
   "execution_count": 15,
   "metadata": {},
   "outputs": [
    {
     "data": {
      "text/plain": [
       "10    86914\n",
       "1     42302\n",
       "2     26235\n",
       "3     23284\n",
       "5     19119\n",
       "4     17637\n",
       "6     12738\n",
       "7     10319\n",
       "8      9097\n",
       "9      7149\n",
       "Name: emp_length, dtype: int64"
      ]
     },
     "execution_count": 15,
     "metadata": {},
     "output_type": "execute_result"
    }
   ],
   "source": [
    "df['emp_length'].value_counts(dropna=False) "
   ]
  },
  {
   "cell_type": "code",
   "execution_count": 16,
   "metadata": {},
   "outputs": [],
   "source": [
    "#test\n",
    "def length(string):\n",
    "    if '8 years' in string:\n",
    "        return 8"
   ]
  },
  {
   "cell_type": "code",
   "execution_count": 17,
   "metadata": {},
   "outputs": [
    {
     "data": {
      "text/plain": [
       "8"
      ]
     },
     "execution_count": 17,
     "metadata": {},
     "output_type": "execute_result"
    }
   ],
   "source": [
    "length('Hello 8 years')"
   ]
  },
  {
   "cell_type": "markdown",
   "metadata": {},
   "source": [
    "#### Variables: term"
   ]
  },
  {
   "cell_type": "code",
   "execution_count": 18,
   "metadata": {},
   "outputs": [
    {
     "data": {
      "text/plain": [
       " 36 months    168003\n",
       " 60 months     86791\n",
       "Name: term, dtype: int64"
      ]
     },
     "execution_count": 18,
     "metadata": {},
     "output_type": "execute_result"
    }
   ],
   "source": [
    "df['term'].value_counts(dropna=False) "
   ]
  },
  {
   "cell_type": "code",
   "execution_count": 19,
   "metadata": {},
   "outputs": [
    {
     "data": {
      "image/png": "[encoded data removed]",
      "text/plain": [
       "<Figure size 432x288 with 1 Axes>"
      ]
     },
     "metadata": {
      "needs_background": "light"
     },
     "output_type": "display_data"
    }
   ],
   "source": [
    "df['term'].hist();"
   ]
  },
  {
   "cell_type": "markdown",
   "metadata": {},
   "source": [
    "#### More columns to convert: grade and subgrade"
   ]
  },
  {
   "cell_type": "code",
   "execution_count": 20,
   "metadata": {},
   "outputs": [
    {
     "data": {
      "text/plain": [
       "A    78850\n",
       "B    74740\n",
       "C    59542\n",
       "D    41662\n",
       "Name: grade, dtype: int64"
      ]
     },
     "execution_count": 20,
     "metadata": {},
     "output_type": "execute_result"
    }
   ],
   "source": [
    "df['grade'].value_counts(dropna=False)"
   ]
  },
  {
   "cell_type": "code",
   "execution_count": 21,
   "metadata": {},
   "outputs": [
    {
     "data": {
      "image/png": "[encoded data removed]",
      "text/plain": [
       "<Figure size 432x288 with 1 Axes>"
      ]
     },
     "metadata": {
      "needs_background": "light"
     },
     "output_type": "display_data"
    }
   ],
   "source": [
    "df['grade'].hist();"
   ]
  },
  {
   "cell_type": "code",
   "execution_count": 22,
   "metadata": {},
   "outputs": [
    {
     "data": {
      "text/plain": [
       "grade\n",
       "B    17453.822585\n",
       "A    16581.908687\n",
       "C    16019.888482\n",
       "D    15416.210816\n",
       "Name: loan_amnt, dtype: float64"
      ]
     },
     "execution_count": 22,
     "metadata": {},
     "output_type": "execute_result"
    }
   ],
   "source": [
    "## Loan Amount by grade - grades C, B, and A are the most common\n",
    "df.groupby(by='grade')['loan_amnt'].mean().sort_values(ascending=False)"
   ]
  },
  {
   "cell_type": "code",
   "execution_count": 23,
   "metadata": {},
   "outputs": [
    {
     "data": {
      "text/plain": [
       "A4    22644\n",
       "A5    18907\n",
       "B4    17395\n",
       "B5    16891\n",
       "D2    15971\n",
       "A1    15221\n",
       "B2    14788\n",
       "B1    13989\n",
       "C5    13931\n",
       "C1    12380\n",
       "C2    11899\n",
       "A3    11762\n",
       "B3    11677\n",
       "C3    11552\n",
       "A2    10316\n",
       "C4     9780\n",
       "D3     8828\n",
       "D1     8027\n",
       "D4     4921\n",
       "D5     3915\n",
       "Name: sub_grade, dtype: int64"
      ]
     },
     "execution_count": 23,
     "metadata": {},
     "output_type": "execute_result"
    }
   ],
   "source": [
    "df['sub_grade'].value_counts(dropna=False) #dropping to avoid multi collinearity"
   ]
  },
  {
   "cell_type": "code",
   "execution_count": 24,
   "metadata": {},
   "outputs": [],
   "source": [
    "df.drop(columns='sub_grade', inplace=True)"
   ]
  },
  {
   "cell_type": "markdown",
   "metadata": {},
   "source": [
    "#### Dropping non informative column"
   ]
  },
  {
   "cell_type": "code",
   "execution_count": 25,
   "metadata": {},
   "outputs": [],
   "source": [
    "#dropping - this column is not informative\n",
    "df.drop(columns= 'initial_list_status', axis=1, inplace=True)"
   ]
  },
  {
   "cell_type": "code",
   "execution_count": 26,
   "metadata": {},
   "outputs": [
    {
     "data": {
      "text/plain": [
       "(254794, 78)"
      ]
     },
     "execution_count": 26,
     "metadata": {},
     "output_type": "execute_result"
    }
   ],
   "source": [
    "df.shape"
   ]
  },
  {
   "cell_type": "markdown",
   "metadata": {},
   "source": [
    "#### Variables: home_ownership"
   ]
  },
  {
   "cell_type": "code",
   "execution_count": 27,
   "metadata": {},
   "outputs": [
    {
     "data": {
      "text/plain": [
       "MORTGAGE    128214\n",
       "RENT         99534\n",
       "OWN          27044\n",
       "ANY              2\n",
       "Name: home_ownership, dtype: int64"
      ]
     },
     "execution_count": 27,
     "metadata": {},
     "output_type": "execute_result"
    }
   ],
   "source": [
    "df['home_ownership'].value_counts(dropna=False)"
   ]
  },
  {
   "cell_type": "code",
   "execution_count": 28,
   "metadata": {},
   "outputs": [
    {
     "data": {
      "text/html": [
       "<div>\n",
       "<style scoped>\n",
       "    .dataframe tbody tr th:only-of-type {\n",
       "        vertical-align: middle;\n",
       "    }\n",
       "\n",
       "    .dataframe tbody tr th {\n",
       "        vertical-align: top;\n",
       "    }\n",
       "\n",
       "    .dataframe thead th {\n",
       "        text-align: right;\n",
       "    }\n",
       "</style>\n",
       "<table border=\"1\" class=\"dataframe\">\n",
       "  <thead>\n",
       "    <tr style=\"text-align: right;\">\n",
       "      <th></th>\n",
       "      <th>loan_amnt</th>\n",
       "      <th>term</th>\n",
       "      <th>int_rate</th>\n",
       "      <th>installment</th>\n",
       "      <th>grade</th>\n",
       "      <th>emp_title</th>\n",
       "      <th>emp_length</th>\n",
       "      <th>home_ownership</th>\n",
       "      <th>annual_inc</th>\n",
       "      <th>verification_status</th>\n",
       "      <th>...</th>\n",
       "      <th>num_tl_90g_dpd_24m</th>\n",
       "      <th>num_tl_op_past_12m</th>\n",
       "      <th>pct_tl_nvr_dlq</th>\n",
       "      <th>percent_bc_gt_75</th>\n",
       "      <th>pub_rec_bankruptcies</th>\n",
       "      <th>tax_liens</th>\n",
       "      <th>tot_hi_cred_lim</th>\n",
       "      <th>total_bal_ex_mort</th>\n",
       "      <th>total_bc_limit</th>\n",
       "      <th>total_il_high_credit_limit</th>\n",
       "    </tr>\n",
       "  </thead>\n",
       "  <tbody>\n",
       "    <tr>\n",
       "      <th>21141</th>\n",
       "      <td>15000.0</td>\n",
       "      <td>60 months</td>\n",
       "      <td>23.05</td>\n",
       "      <td>423.29</td>\n",
       "      <td>D</td>\n",
       "      <td>Heat Collision</td>\n",
       "      <td>3</td>\n",
       "      <td>ANY</td>\n",
       "      <td>60000.0</td>\n",
       "      <td>Source Verified</td>\n",
       "      <td>...</td>\n",
       "      <td>0.0</td>\n",
       "      <td>4.0</td>\n",
       "      <td>100.0</td>\n",
       "      <td>33.3</td>\n",
       "      <td>0.0</td>\n",
       "      <td>0.0</td>\n",
       "      <td>32552.0</td>\n",
       "      <td>19482.0</td>\n",
       "      <td>6500.0</td>\n",
       "      <td>16052.0</td>\n",
       "    </tr>\n",
       "    <tr>\n",
       "      <th>227679</th>\n",
       "      <td>5000.0</td>\n",
       "      <td>36 months</td>\n",
       "      <td>18.62</td>\n",
       "      <td>182.33</td>\n",
       "      <td>D</td>\n",
       "      <td>Do It Outdoors</td>\n",
       "      <td>3</td>\n",
       "      <td>ANY</td>\n",
       "      <td>36000.0</td>\n",
       "      <td>Not Verified</td>\n",
       "      <td>...</td>\n",
       "      <td>0.0</td>\n",
       "      <td>2.0</td>\n",
       "      <td>100.0</td>\n",
       "      <td>66.7</td>\n",
       "      <td>0.0</td>\n",
       "      <td>0.0</td>\n",
       "      <td>40061.0</td>\n",
       "      <td>37439.0</td>\n",
       "      <td>5900.0</td>\n",
       "      <td>33161.0</td>\n",
       "    </tr>\n",
       "  </tbody>\n",
       "</table>\n",
       "<p>2 rows × 78 columns</p>\n",
       "</div>"
      ],
      "text/plain": [
       "        loan_amnt        term  int_rate  installment grade       emp_title  \\\n",
       "21141     15000.0   60 months     23.05       423.29     D  Heat Collision   \n",
       "227679     5000.0   36 months     18.62       182.33     D  Do It Outdoors   \n",
       "\n",
       "        emp_length home_ownership  annual_inc verification_status  ...  \\\n",
       "21141            3            ANY     60000.0     Source Verified  ...   \n",
       "227679           3            ANY     36000.0        Not Verified  ...   \n",
       "\n",
       "       num_tl_90g_dpd_24m num_tl_op_past_12m pct_tl_nvr_dlq percent_bc_gt_75  \\\n",
       "21141                 0.0                4.0          100.0             33.3   \n",
       "227679                0.0                2.0          100.0             66.7   \n",
       "\n",
       "        pub_rec_bankruptcies  tax_liens tot_hi_cred_lim  total_bal_ex_mort  \\\n",
       "21141                    0.0        0.0         32552.0            19482.0   \n",
       "227679                   0.0        0.0         40061.0            37439.0   \n",
       "\n",
       "        total_bc_limit  total_il_high_credit_limit  \n",
       "21141           6500.0                     16052.0  \n",
       "227679          5900.0                     33161.0  \n",
       "\n",
       "[2 rows x 78 columns]"
      ]
     },
     "execution_count": 28,
     "metadata": {},
     "output_type": "execute_result"
    }
   ],
   "source": [
    "df[df['home_ownership'] == 'ANY']"
   ]
  },
  {
   "cell_type": "code",
   "execution_count": 29,
   "metadata": {},
   "outputs": [],
   "source": [
    "df.drop(df[df['home_ownership'] == 'ANY'].index, inplace=True)"
   ]
  },
  {
   "cell_type": "code",
   "execution_count": 30,
   "metadata": {},
   "outputs": [
    {
     "data": {
      "text/plain": [
       "(254792, 78)"
      ]
     },
     "execution_count": 30,
     "metadata": {},
     "output_type": "execute_result"
    }
   ],
   "source": [
    "df.shape"
   ]
  },
  {
   "cell_type": "code",
   "execution_count": 31,
   "metadata": {},
   "outputs": [
    {
     "data": {
      "text/plain": [
       "MORTGAGE    128214\n",
       "RENT         99534\n",
       "OWN          27044\n",
       "Name: home_ownership, dtype: int64"
      ]
     },
     "execution_count": 31,
     "metadata": {},
     "output_type": "execute_result"
    }
   ],
   "source": [
    "df['home_ownership'].value_counts(dropna=False)"
   ]
  },
  {
   "cell_type": "markdown",
   "metadata": {},
   "source": [
    "#### Variables analysis: emp_title\n",
    "\n",
    "The emp_title column is not standardized and does not to provide the kind of insight we would expect from this variable. The initial dataframe included 103,906 unique values within the emp_title column. If the values were categorized by industry and position level, we would be be able to include this element in our modeling. We will likely drop this column due to a wide range of diverse values within it, categorizing which appears to be rather subjective. \n",
    "\n",
    "df['emp_title'].nunique() \n",
    "103906\n",
    "\n",
    "df['emp_title'].value_counts(dropna=False)\n",
    "\n",
    "NaN                                54699<br>\n",
    "Teacher                             6200<br>\n",
    "Manager                             5374<br>\n",
    "Driver                              2881<br>\n",
    "Registered Nurse                    2715<br>\n",
    "                                   ...  <br>\n",
    "Manager trainer                        1<br>\n",
    "VP Food and Beverage                   1<br>\n",
    "Building Maintenance Supervisor        1<br>\n",
    "Lead Medical Tech                      1<br>\n",
    "Style Attendant                        1<br>\n",
    "Name: emp_title, Length: 103907, dtype: int64"
   ]
  },
  {
   "cell_type": "code",
   "execution_count": 32,
   "metadata": {},
   "outputs": [
    {
     "data": {
      "text/plain": [
       "Teacher                               4955\n",
       "Manager                               4249\n",
       "Driver                                2344\n",
       "Registered Nurse                      2245\n",
       "RN                                    1744\n",
       "                                      ... \n",
       "Journeyman Machine Builder               1\n",
       "journeyman sheet metal foreman           1\n",
       "Data Specialist and Credentialing        1\n",
       "Radio Tec                                1\n",
       "Construction splicer                     1\n",
       "Name: emp_title, Length: 85767, dtype: int64"
      ]
     },
     "execution_count": 32,
     "metadata": {},
     "output_type": "execute_result"
    }
   ],
   "source": [
    "df['emp_title'].value_counts(dropna=False)"
   ]
  },
  {
   "cell_type": "code",
   "execution_count": 33,
   "metadata": {},
   "outputs": [
    {
     "data": {
      "text/plain": [
       "85767"
      ]
     },
     "execution_count": 33,
     "metadata": {},
     "output_type": "execute_result"
    }
   ],
   "source": [
    "df['emp_title'].nunique() "
   ]
  },
  {
   "cell_type": "code",
   "execution_count": 34,
   "metadata": {},
   "outputs": [],
   "source": [
    "df.drop(columns= 'emp_title', axis=1, inplace=True)"
   ]
  },
  {
   "cell_type": "code",
   "execution_count": 35,
   "metadata": {},
   "outputs": [
    {
     "data": {
      "text/plain": [
       "(254792, 77)"
      ]
     },
     "execution_count": 35,
     "metadata": {},
     "output_type": "execute_result"
    }
   ],
   "source": [
    "df.shape"
   ]
  },
  {
   "cell_type": "markdown",
   "metadata": {},
   "source": [
    "#### Variables analysis: purpose - re-categorization\n",
    "\n",
    "#df['purpose'].value_counts(dropna=False)<br>\n",
    "debt_consolidation    139921\n",
    "credit_card            69395\n",
    "home_improvement       14959\n",
    "other                  14062\n",
    "major_purchase          4493\n",
    "medical                 2816\n",
    "car                     2028\n",
    "house                   1973\n",
    "vacation                1937\n",
    "small_business          1640\n",
    "moving                  1447\n",
    "renewable_energy         123\n",
    "Name: purpose, dtype: int64"
   ]
  },
  {
   "cell_type": "code",
   "execution_count": 36,
   "metadata": {},
   "outputs": [
    {
     "data": {
      "text/plain": [
       "debt_consolidation    139919\n",
       "credit_card            69395\n",
       "home_improvement       14959\n",
       "other                  14062\n",
       "major_purchase          4493\n",
       "medical                 2816\n",
       "car                     2028\n",
       "house                   1973\n",
       "vacation                1937\n",
       "small_business          1640\n",
       "moving                  1447\n",
       "renewable_energy         123\n",
       "Name: purpose, dtype: int64"
      ]
     },
     "execution_count": 36,
     "metadata": {},
     "output_type": "execute_result"
    }
   ],
   "source": [
    "df['purpose'].value_counts(dropna=False)"
   ]
  },
  {
   "cell_type": "code",
   "execution_count": 37,
   "metadata": {},
   "outputs": [
    {
     "data": {
      "text/plain": [
       "debt_consolidation    0.549150\n",
       "credit_card           0.272359\n",
       "home_improvement      0.058711\n",
       "other                 0.055190\n",
       "major_purchase        0.017634\n",
       "medical               0.011052\n",
       "car                   0.007959\n",
       "house                 0.007744\n",
       "vacation              0.007602\n",
       "small_business        0.006437\n",
       "moving                0.005679\n",
       "renewable_energy      0.000483\n",
       "Name: purpose, dtype: float64"
      ]
     },
     "execution_count": 37,
     "metadata": {},
     "output_type": "execute_result"
    }
   ],
   "source": [
    "df['purpose'].value_counts(normalize=True)"
   ]
  },
  {
   "cell_type": "code",
   "execution_count": 38,
   "metadata": {},
   "outputs": [],
   "source": [
    "def purpose_category(string):\n",
    "    if \"debt_consolidation\" in string:\n",
    "        return 'debt_consolidation'\n",
    "    elif \"credit_card\" in string:\n",
    "        return 'credit_card'\n",
    "    elif \"home_improvement\" in string:\n",
    "        return 'home_improvement'\n",
    "    else:\n",
    "        return 'other'\n",
    "    \n",
    "df['purpose'] = df['purpose'].map(purpose_category) "
   ]
  },
  {
   "cell_type": "code",
   "execution_count": 39,
   "metadata": {},
   "outputs": [
    {
     "data": {
      "text/plain": [
       "debt_consolidation    139919\n",
       "credit_card            69395\n",
       "other                  30519\n",
       "home_improvement       14959\n",
       "Name: purpose, dtype: int64"
      ]
     },
     "execution_count": 39,
     "metadata": {},
     "output_type": "execute_result"
    }
   ],
   "source": [
    "df['purpose'].value_counts()"
   ]
  },
  {
   "cell_type": "markdown",
   "metadata": {},
   "source": [
    "### One hot encoding with Pandas pd.get_dummies()"
   ]
  },
  {
   "cell_type": "code",
   "execution_count": 40,
   "metadata": {},
   "outputs": [],
   "source": [
    "#State will not be included in dummies, as we want to test a model without the state data"
   ]
  },
  {
   "cell_type": "code",
   "execution_count": 41,
   "metadata": {},
   "outputs": [
    {
     "data": {
      "text/html": [
       "<div>\n",
       "<style scoped>\n",
       "    .dataframe tbody tr th:only-of-type {\n",
       "        vertical-align: middle;\n",
       "    }\n",
       "\n",
       "    .dataframe tbody tr th {\n",
       "        vertical-align: top;\n",
       "    }\n",
       "\n",
       "    .dataframe thead th {\n",
       "        text-align: right;\n",
       "    }\n",
       "</style>\n",
       "<table border=\"1\" class=\"dataframe\">\n",
       "  <thead>\n",
       "    <tr style=\"text-align: right;\">\n",
       "      <th></th>\n",
       "      <th>term_ 60 months</th>\n",
       "      <th>purpose_debt_consolidation</th>\n",
       "      <th>purpose_home_improvement</th>\n",
       "      <th>purpose_other</th>\n",
       "      <th>grade_B</th>\n",
       "      <th>grade_C</th>\n",
       "      <th>grade_D</th>\n",
       "      <th>home_ownership_OWN</th>\n",
       "      <th>home_ownership_RENT</th>\n",
       "      <th>verification_status_Source Verified</th>\n",
       "      <th>verification_status_Verified</th>\n",
       "    </tr>\n",
       "  </thead>\n",
       "  <tbody>\n",
       "    <tr>\n",
       "      <th>0</th>\n",
       "      <td>1</td>\n",
       "      <td>0</td>\n",
       "      <td>0</td>\n",
       "      <td>0</td>\n",
       "      <td>0</td>\n",
       "      <td>1</td>\n",
       "      <td>0</td>\n",
       "      <td>0</td>\n",
       "      <td>0</td>\n",
       "      <td>1</td>\n",
       "      <td>0</td>\n",
       "    </tr>\n",
       "    <tr>\n",
       "      <th>1</th>\n",
       "      <td>0</td>\n",
       "      <td>1</td>\n",
       "      <td>0</td>\n",
       "      <td>0</td>\n",
       "      <td>0</td>\n",
       "      <td>0</td>\n",
       "      <td>0</td>\n",
       "      <td>0</td>\n",
       "      <td>0</td>\n",
       "      <td>0</td>\n",
       "      <td>1</td>\n",
       "    </tr>\n",
       "    <tr>\n",
       "      <th>2</th>\n",
       "      <td>0</td>\n",
       "      <td>0</td>\n",
       "      <td>0</td>\n",
       "      <td>0</td>\n",
       "      <td>0</td>\n",
       "      <td>0</td>\n",
       "      <td>0</td>\n",
       "      <td>0</td>\n",
       "      <td>0</td>\n",
       "      <td>1</td>\n",
       "      <td>0</td>\n",
       "    </tr>\n",
       "    <tr>\n",
       "      <th>3</th>\n",
       "      <td>1</td>\n",
       "      <td>0</td>\n",
       "      <td>1</td>\n",
       "      <td>0</td>\n",
       "      <td>1</td>\n",
       "      <td>0</td>\n",
       "      <td>0</td>\n",
       "      <td>0</td>\n",
       "      <td>0</td>\n",
       "      <td>0</td>\n",
       "      <td>1</td>\n",
       "    </tr>\n",
       "    <tr>\n",
       "      <th>4</th>\n",
       "      <td>1</td>\n",
       "      <td>0</td>\n",
       "      <td>0</td>\n",
       "      <td>0</td>\n",
       "      <td>0</td>\n",
       "      <td>1</td>\n",
       "      <td>0</td>\n",
       "      <td>0</td>\n",
       "      <td>1</td>\n",
       "      <td>0</td>\n",
       "      <td>1</td>\n",
       "    </tr>\n",
       "  </tbody>\n",
       "</table>\n",
       "</div>"
      ],
      "text/plain": [
       "   term_ 60 months  purpose_debt_consolidation  purpose_home_improvement  \\\n",
       "0                1                           0                         0   \n",
       "1                0                           1                         0   \n",
       "2                0                           0                         0   \n",
       "3                1                           0                         1   \n",
       "4                1                           0                         0   \n",
       "\n",
       "   purpose_other  grade_B  grade_C  grade_D  home_ownership_OWN  \\\n",
       "0              0        0        1        0                   0   \n",
       "1              0        0        0        0                   0   \n",
       "2              0        0        0        0                   0   \n",
       "3              0        1        0        0                   0   \n",
       "4              0        0        1        0                   0   \n",
       "\n",
       "   home_ownership_RENT  verification_status_Source Verified  \\\n",
       "0                    0                                    1   \n",
       "1                    0                                    0   \n",
       "2                    0                                    1   \n",
       "3                    0                                    0   \n",
       "4                    1                                    0   \n",
       "\n",
       "   verification_status_Verified  \n",
       "0                             0  \n",
       "1                             1  \n",
       "2                             0  \n",
       "3                             1  \n",
       "4                             1  "
      ]
     },
     "execution_count": 41,
     "metadata": {},
     "output_type": "execute_result"
    }
   ],
   "source": [
    "pd.get_dummies(df[['term', 'purpose', 'grade', 'home_ownership','verification_status']], drop_first=True).head()"
   ]
  },
  {
   "cell_type": "code",
   "execution_count": 42,
   "metadata": {},
   "outputs": [],
   "source": [
    "df_dummies = pd.get_dummies(df[['term', 'purpose', 'grade', 'home_ownership', 'verification_status']], drop_first=True) "
   ]
  },
  {
   "cell_type": "code",
   "execution_count": 43,
   "metadata": {},
   "outputs": [
    {
     "data": {
      "text/plain": [
       "(254792, 11)"
      ]
     },
     "execution_count": 43,
     "metadata": {},
     "output_type": "execute_result"
    }
   ],
   "source": [
    "df_dummies.shape"
   ]
  },
  {
   "cell_type": "code",
   "execution_count": 44,
   "metadata": {},
   "outputs": [
    {
     "data": {
      "text/plain": [
       "(254792, 77)"
      ]
     },
     "execution_count": 44,
     "metadata": {},
     "output_type": "execute_result"
    }
   ],
   "source": [
    "df.shape"
   ]
  },
  {
   "cell_type": "markdown",
   "metadata": {},
   "source": [
    "#### Column verification status"
   ]
  },
  {
   "cell_type": "code",
   "execution_count": 45,
   "metadata": {},
   "outputs": [
    {
     "data": {
      "text/plain": [
       "Source Verified    113493\n",
       "Not Verified       110802\n",
       "Verified            30497\n",
       "Name: verification_status, dtype: int64"
      ]
     },
     "execution_count": 45,
     "metadata": {},
     "output_type": "execute_result"
    }
   ],
   "source": [
    "# verification_status: Indicates if income was verified by LC, not verified, or if the income source was verified. \n",
    "# Using get dummies to binarize this column.\n",
    "df['verification_status'].value_counts(dropna=False)"
   ]
  },
  {
   "cell_type": "markdown",
   "metadata": {},
   "source": [
    "### Feature engineering a new column to calculate the age of the oldest credit line (Column issue_d and earliest_cr_line)\n",
    "\n",
    "The month which the loan was funded is not a factor in approving a loan application. However, this data field could be helpful in calculating the age of the earliest/oldest credit line - since both columns are dates. The issue_d is a close approximation of the time when an investor reviewed the loan application.\n",
    "\n",
    "earliest_cr_line: The date the borrower's earliest reported credit line was opened\n",
    "\n",
    "issue_d: The month which the loan was funded"
   ]
  },
  {
   "cell_type": "code",
   "execution_count": 46,
   "metadata": {},
   "outputs": [
    {
     "data": {
      "text/plain": [
       "Jul-2019    33912\n",
       "Aug-2019    31881\n",
       "Oct-2019    30670\n",
       "Sep-2019    30242\n",
       "Jan-2020    29036\n",
       "Dec-2019    28780\n",
       "Nov-2019    26937\n",
       "Feb-2020    24241\n",
       "Mar-2020    19093\n",
       "Name: issue_d, dtype: int64"
      ]
     },
     "execution_count": 46,
     "metadata": {},
     "output_type": "execute_result"
    }
   ],
   "source": [
    "#issue_d: The month which the loan was funded\n",
    "df['issue_d'].value_counts(dropna=False)"
   ]
  },
  {
   "cell_type": "code",
   "execution_count": 47,
   "metadata": {},
   "outputs": [
    {
     "data": {
      "text/plain": [
       "Aug-2006    2429\n",
       "Aug-2005    2207\n",
       "Sep-2005    2199\n",
       "Aug-2007    2158\n",
       "Sep-2006    2145\n",
       "            ... \n",
       "Jan-1966       1\n",
       "Jun-1956       1\n",
       "May-1960       1\n",
       "Aug-1965       1\n",
       "Dec-1962       1\n",
       "Name: earliest_cr_line, Length: 649, dtype: int64"
      ]
     },
     "execution_count": 47,
     "metadata": {},
     "output_type": "execute_result"
    }
   ],
   "source": [
    "#earliest_cr_line: The date the borrower's earliest reported credit line was opened\n",
    "df['earliest_cr_line'].value_counts(dropna=False)"
   ]
  },
  {
   "cell_type": "code",
   "execution_count": 48,
   "metadata": {},
   "outputs": [],
   "source": [
    "#Since both fields are objects/strings, they would have to be converted to datetime format, in order for me to calculate the age of the oldest credit line.\n",
    "df['earliest_cr_line']= pd.to_datetime(df['earliest_cr_line'])"
   ]
  },
  {
   "cell_type": "code",
   "execution_count": 49,
   "metadata": {},
   "outputs": [],
   "source": [
    "df['issue_d'] = pd.to_datetime(df['issue_d'])"
   ]
  },
  {
   "cell_type": "code",
   "execution_count": 50,
   "metadata": {},
   "outputs": [],
   "source": [
    "df['age_oldest_line'] = df['issue_d'] - df['earliest_cr_line'] "
   ]
  },
  {
   "cell_type": "code",
   "execution_count": 51,
   "metadata": {},
   "outputs": [
    {
     "data": {
      "text/plain": [
       "4748 days     1706\n",
       "5113 days     1675\n",
       "4901 days     1515\n",
       "4383 days     1496\n",
       "5478 days     1424\n",
       "              ... \n",
       "18962 days       1\n",
       "16618 days       1\n",
       "19387 days       1\n",
       "17289 days       1\n",
       "18323 days       1\n",
       "Name: age_oldest_line, Length: 1818, dtype: int64"
      ]
     },
     "execution_count": 51,
     "metadata": {},
     "output_type": "execute_result"
    }
   ],
   "source": [
    "df['age_oldest_line'].value_counts()"
   ]
  },
  {
   "cell_type": "code",
   "execution_count": 52,
   "metadata": {},
   "outputs": [],
   "source": [
    "#changing the format to numeric (to remove the word 'days' appearing in the column)\n",
    "df['age_oldest_line'] = df['age_oldest_line'].dt.days"
   ]
  },
  {
   "cell_type": "code",
   "execution_count": 53,
   "metadata": {},
   "outputs": [
    {
     "data": {
      "text/plain": [
       "13.008219178082191"
      ]
     },
     "execution_count": 53,
     "metadata": {},
     "output_type": "execute_result"
    }
   ],
   "source": [
    "4748/365"
   ]
  },
  {
   "cell_type": "code",
   "execution_count": 54,
   "metadata": {},
   "outputs": [],
   "source": [
    "#updating the age of oldest line columns from days to years (365 days )\n",
    "df['age_oldest_line'] = round(df['age_oldest_line']/365)"
   ]
  },
  {
   "cell_type": "code",
   "execution_count": 55,
   "metadata": {},
   "outputs": [
    {
     "data": {
      "text/plain": [
       "13.0    20801\n",
       "14.0    20437\n",
       "15.0    17713\n",
       "12.0    17363\n",
       "16.0    14917\n",
       "        ...  \n",
       "59.0        4\n",
       "63.0        2\n",
       "70.0        2\n",
       "61.0        2\n",
       "76.0        1\n",
       "Name: age_oldest_line, Length: 62, dtype: int64"
      ]
     },
     "execution_count": 55,
     "metadata": {},
     "output_type": "execute_result"
    }
   ],
   "source": [
    "df['age_oldest_line'].value_counts()"
   ]
  },
  {
   "cell_type": "code",
   "execution_count": 56,
   "metadata": {},
   "outputs": [
    {
     "data": {
      "text/html": [
       "<div>\n",
       "<style scoped>\n",
       "    .dataframe tbody tr th:only-of-type {\n",
       "        vertical-align: middle;\n",
       "    }\n",
       "\n",
       "    .dataframe tbody tr th {\n",
       "        vertical-align: top;\n",
       "    }\n",
       "\n",
       "    .dataframe thead th {\n",
       "        text-align: right;\n",
       "    }\n",
       "</style>\n",
       "<table border=\"1\" class=\"dataframe\">\n",
       "  <thead>\n",
       "    <tr style=\"text-align: right;\">\n",
       "      <th></th>\n",
       "      <th>loan_amnt</th>\n",
       "      <th>term</th>\n",
       "      <th>int_rate</th>\n",
       "      <th>installment</th>\n",
       "      <th>grade</th>\n",
       "      <th>emp_length</th>\n",
       "      <th>home_ownership</th>\n",
       "      <th>annual_inc</th>\n",
       "      <th>verification_status</th>\n",
       "      <th>loan_status</th>\n",
       "      <th>...</th>\n",
       "      <th>num_tl_op_past_12m</th>\n",
       "      <th>pct_tl_nvr_dlq</th>\n",
       "      <th>percent_bc_gt_75</th>\n",
       "      <th>pub_rec_bankruptcies</th>\n",
       "      <th>tax_liens</th>\n",
       "      <th>tot_hi_cred_lim</th>\n",
       "      <th>total_bal_ex_mort</th>\n",
       "      <th>total_bc_limit</th>\n",
       "      <th>total_il_high_credit_limit</th>\n",
       "      <th>age_oldest_line</th>\n",
       "    </tr>\n",
       "  </thead>\n",
       "  <tbody>\n",
       "    <tr>\n",
       "      <th>0</th>\n",
       "      <td>33000.0</td>\n",
       "      <td>60 months</td>\n",
       "      <td>15.24</td>\n",
       "      <td>789.24</td>\n",
       "      <td>C</td>\n",
       "      <td>10</td>\n",
       "      <td>MORTGAGE</td>\n",
       "      <td>84000.0</td>\n",
       "      <td>Source Verified</td>\n",
       "      <td>Current</td>\n",
       "      <td>...</td>\n",
       "      <td>2.0</td>\n",
       "      <td>100.0</td>\n",
       "      <td>21.4</td>\n",
       "      <td>0.0</td>\n",
       "      <td>0.0</td>\n",
       "      <td>351386.0</td>\n",
       "      <td>80128.0</td>\n",
       "      <td>123800.0</td>\n",
       "      <td>16158.0</td>\n",
       "      <td>31.0</td>\n",
       "    </tr>\n",
       "    <tr>\n",
       "      <th>1</th>\n",
       "      <td>19000.0</td>\n",
       "      <td>36 months</td>\n",
       "      <td>6.46</td>\n",
       "      <td>581.99</td>\n",
       "      <td>A</td>\n",
       "      <td>10</td>\n",
       "      <td>MORTGAGE</td>\n",
       "      <td>83000.0</td>\n",
       "      <td>Verified</td>\n",
       "      <td>Current</td>\n",
       "      <td>...</td>\n",
       "      <td>0.0</td>\n",
       "      <td>100.0</td>\n",
       "      <td>40.0</td>\n",
       "      <td>0.0</td>\n",
       "      <td>0.0</td>\n",
       "      <td>184034.0</td>\n",
       "      <td>28461.0</td>\n",
       "      <td>38400.0</td>\n",
       "      <td>35000.0</td>\n",
       "      <td>23.0</td>\n",
       "    </tr>\n",
       "    <tr>\n",
       "      <th>2</th>\n",
       "      <td>15000.0</td>\n",
       "      <td>36 months</td>\n",
       "      <td>7.02</td>\n",
       "      <td>463.30</td>\n",
       "      <td>A</td>\n",
       "      <td>5</td>\n",
       "      <td>MORTGAGE</td>\n",
       "      <td>129000.0</td>\n",
       "      <td>Source Verified</td>\n",
       "      <td>Current</td>\n",
       "      <td>...</td>\n",
       "      <td>5.0</td>\n",
       "      <td>100.0</td>\n",
       "      <td>0.0</td>\n",
       "      <td>0.0</td>\n",
       "      <td>0.0</td>\n",
       "      <td>404456.0</td>\n",
       "      <td>122865.0</td>\n",
       "      <td>29000.0</td>\n",
       "      <td>152751.0</td>\n",
       "      <td>13.0</td>\n",
       "    </tr>\n",
       "  </tbody>\n",
       "</table>\n",
       "<p>3 rows × 76 columns</p>\n",
       "</div>"
      ],
      "text/plain": [
       "   loan_amnt        term  int_rate  installment grade  emp_length  \\\n",
       "0    33000.0   60 months     15.24       789.24     C          10   \n",
       "1    19000.0   36 months      6.46       581.99     A          10   \n",
       "2    15000.0   36 months      7.02       463.30     A           5   \n",
       "\n",
       "  home_ownership  annual_inc verification_status loan_status  ...  \\\n",
       "0       MORTGAGE     84000.0     Source Verified     Current  ...   \n",
       "1       MORTGAGE     83000.0            Verified     Current  ...   \n",
       "2       MORTGAGE    129000.0     Source Verified     Current  ...   \n",
       "\n",
       "  num_tl_op_past_12m pct_tl_nvr_dlq  percent_bc_gt_75  pub_rec_bankruptcies  \\\n",
       "0                2.0          100.0              21.4                   0.0   \n",
       "1                0.0          100.0              40.0                   0.0   \n",
       "2                5.0          100.0               0.0                   0.0   \n",
       "\n",
       "   tax_liens  tot_hi_cred_lim  total_bal_ex_mort  total_bc_limit  \\\n",
       "0        0.0         351386.0            80128.0        123800.0   \n",
       "1        0.0         184034.0            28461.0         38400.0   \n",
       "2        0.0         404456.0           122865.0         29000.0   \n",
       "\n",
       "   total_il_high_credit_limit  age_oldest_line  \n",
       "0                     16158.0             31.0  \n",
       "1                     35000.0             23.0  \n",
       "2                    152751.0             13.0  \n",
       "\n",
       "[3 rows x 76 columns]"
      ]
     },
     "execution_count": 56,
     "metadata": {},
     "output_type": "execute_result"
    }
   ],
   "source": [
    "#drop the other two columns\n",
    "df.drop(columns = ['earliest_cr_line', 'issue_d'], axis=1, inplace=True)\n",
    "df.head(3)"
   ]
  },
  {
   "cell_type": "code",
   "execution_count": 57,
   "metadata": {},
   "outputs": [
    {
     "data": {
      "text/plain": [
       "(254792, 76)"
      ]
     },
     "execution_count": 57,
     "metadata": {},
     "output_type": "execute_result"
    }
   ],
   "source": [
    "df.shape"
   ]
  },
  {
   "cell_type": "code",
   "execution_count": 58,
   "metadata": {},
   "outputs": [
    {
     "data": {
      "text/plain": [
       "Index(['loan_amnt', 'term', 'int_rate', 'installment', 'grade', 'emp_length',\n",
       "       'home_ownership', 'annual_inc', 'verification_status', 'loan_status',\n",
       "       'purpose', 'addr_state', 'dti', 'delinq_2yrs', 'fico_range_low',\n",
       "       'fico_range_high', 'inq_last_6mths', 'open_acc', 'pub_rec', 'revol_bal',\n",
       "       'revol_util', 'total_acc', 'collections_12_mths_ex_med',\n",
       "       'application_type', 'acc_now_delinq', 'tot_coll_amt', 'tot_cur_bal',\n",
       "       'open_acc_6m', 'open_act_il', 'open_il_12m', 'open_il_24m',\n",
       "       'mths_since_rcnt_il', 'total_bal_il', 'il_util', 'open_rv_12m',\n",
       "       'open_rv_24m', 'max_bal_bc', 'all_util', 'inq_fi', 'total_cu_tl',\n",
       "       'inq_last_12m', 'acc_open_past_24mths', 'avg_cur_bal', 'bc_open_to_buy',\n",
       "       'bc_util', 'delinq_amnt', 'mo_sin_old_il_acct', 'mo_sin_old_rev_tl_op',\n",
       "       'mo_sin_rcnt_rev_tl_op', 'mo_sin_rcnt_tl', 'mort_acc',\n",
       "       'mths_since_recent_bc', 'mths_since_recent_inq',\n",
       "       'num_accts_ever_120_pd', 'num_actv_bc_tl', 'num_actv_rev_tl',\n",
       "       'num_bc_sats', 'num_bc_tl', 'num_il_tl', 'num_op_rev_tl',\n",
       "       'num_rev_accts', 'num_rev_tl_bal_gt_0', 'num_sats', 'num_tl_120dpd_2m',\n",
       "       'num_tl_30dpd', 'num_tl_90g_dpd_24m', 'num_tl_op_past_12m',\n",
       "       'pct_tl_nvr_dlq', 'percent_bc_gt_75', 'pub_rec_bankruptcies',\n",
       "       'tax_liens', 'tot_hi_cred_lim', 'total_bal_ex_mort', 'total_bc_limit',\n",
       "       'total_il_high_credit_limit', 'age_oldest_line'],\n",
       "      dtype='object')"
      ]
     },
     "execution_count": 58,
     "metadata": {},
     "output_type": "execute_result"
    }
   ],
   "source": [
    "df.columns"
   ]
  },
  {
   "cell_type": "code",
   "execution_count": 59,
   "metadata": {},
   "outputs": [
    {
     "data": {
      "text/plain": [
       "50"
      ]
     },
     "execution_count": 59,
     "metadata": {},
     "output_type": "execute_result"
    }
   ],
   "source": [
    "df['addr_state'].nunique()"
   ]
  },
  {
   "cell_type": "code",
   "execution_count": 60,
   "metadata": {},
   "outputs": [
    {
     "data": {
      "text/plain": [
       "CA    33589\n",
       "TX    22488\n",
       "FL    18384\n",
       "NY    18337\n",
       "IL    10468\n",
       "NJ     9512\n",
       "OH     8672\n",
       "GA     8494\n",
       "PA     8491\n",
       "VA     6905\n",
       "NC     6748\n",
       "MI     6688\n",
       "MA     6310\n",
       "AZ     6204\n",
       "MD     6101\n",
       "WA     5451\n",
       "IN     4532\n",
       "MN     4426\n",
       "TN     4337\n",
       "CT     4313\n",
       "MO     4235\n",
       "CO     3949\n",
       "NV     3668\n",
       "WI     3594\n",
       "SC     3182\n",
       "OR     3093\n",
       "AL     2886\n",
       "LA     2616\n",
       "KY     2579\n",
       "OK     2463\n",
       "KS     2147\n",
       "AR     2035\n",
       "UT     1763\n",
       "MS     1655\n",
       "WV     1498\n",
       "NH     1378\n",
       "NE     1343\n",
       "RI     1260\n",
       "NM     1259\n",
       "HI     1072\n",
       "ID      952\n",
       "ME      901\n",
       "DE      774\n",
       "MT      723\n",
       "VT      651\n",
       "ND      582\n",
       "AK      539\n",
       "WY      535\n",
       "SD      506\n",
       "DC      504\n",
       "Name: addr_state, dtype: int64"
      ]
     },
     "execution_count": 60,
     "metadata": {},
     "output_type": "execute_result"
    }
   ],
   "source": [
    "df['addr_state'].value_counts(dropna=False) #50 states"
   ]
  },
  {
   "cell_type": "code",
   "execution_count": 61,
   "metadata": {},
   "outputs": [
    {
     "data": {
      "text/plain": [
       "504.77123531358245"
      ]
     },
     "execution_count": 61,
     "metadata": {},
     "output_type": "execute_result"
    }
   ],
   "source": [
    "# Checking the max number of columns supported by this number of rows\n",
    "import math\n",
    "\n",
    "math.sqrt(254794)"
   ]
  },
  {
   "cell_type": "code",
   "execution_count": 62,
   "metadata": {},
   "outputs": [
    {
     "data": {
      "text/html": [
       "<div>\n",
       "<style scoped>\n",
       "    .dataframe tbody tr th:only-of-type {\n",
       "        vertical-align: middle;\n",
       "    }\n",
       "\n",
       "    .dataframe tbody tr th {\n",
       "        vertical-align: top;\n",
       "    }\n",
       "\n",
       "    .dataframe thead th {\n",
       "        text-align: right;\n",
       "    }\n",
       "</style>\n",
       "<table border=\"1\" class=\"dataframe\">\n",
       "  <thead>\n",
       "    <tr style=\"text-align: right;\">\n",
       "      <th></th>\n",
       "      <th>count</th>\n",
       "      <th>mean</th>\n",
       "      <th>std</th>\n",
       "      <th>min</th>\n",
       "      <th>25%</th>\n",
       "      <th>50%</th>\n",
       "      <th>75%</th>\n",
       "      <th>max</th>\n",
       "    </tr>\n",
       "  </thead>\n",
       "  <tbody>\n",
       "    <tr>\n",
       "      <th>loan_amnt</th>\n",
       "      <td>254792.0</td>\n",
       "      <td>16515.779832</td>\n",
       "      <td>10193.516489</td>\n",
       "      <td>1000.00</td>\n",
       "      <td>8593.75</td>\n",
       "      <td>15000.00</td>\n",
       "      <td>23250.00</td>\n",
       "      <td>40000.00</td>\n",
       "    </tr>\n",
       "    <tr>\n",
       "      <th>int_rate</th>\n",
       "      <td>254792.0</td>\n",
       "      <td>13.210855</td>\n",
       "      <td>5.171244</td>\n",
       "      <td>6.00</td>\n",
       "      <td>8.81</td>\n",
       "      <td>12.40</td>\n",
       "      <td>16.95</td>\n",
       "      <td>30.99</td>\n",
       "    </tr>\n",
       "    <tr>\n",
       "      <th>installment</th>\n",
       "      <td>254792.0</td>\n",
       "      <td>476.804494</td>\n",
       "      <td>286.262432</td>\n",
       "      <td>30.64</td>\n",
       "      <td>264.13</td>\n",
       "      <td>404.05</td>\n",
       "      <td>642.30</td>\n",
       "      <td>1671.88</td>\n",
       "    </tr>\n",
       "    <tr>\n",
       "      <th>emp_length</th>\n",
       "      <td>254792.0</td>\n",
       "      <td>5.830948</td>\n",
       "      <td>3.582960</td>\n",
       "      <td>1.00</td>\n",
       "      <td>2.00</td>\n",
       "      <td>5.00</td>\n",
       "      <td>10.00</td>\n",
       "      <td>10.00</td>\n",
       "    </tr>\n",
       "    <tr>\n",
       "      <th>annual_inc</th>\n",
       "      <td>254792.0</td>\n",
       "      <td>91208.824620</td>\n",
       "      <td>105625.558492</td>\n",
       "      <td>14.00</td>\n",
       "      <td>54080.00</td>\n",
       "      <td>75000.00</td>\n",
       "      <td>107000.00</td>\n",
       "      <td>9999999.00</td>\n",
       "    </tr>\n",
       "    <tr>\n",
       "      <th>...</th>\n",
       "      <td>...</td>\n",
       "      <td>...</td>\n",
       "      <td>...</td>\n",
       "      <td>...</td>\n",
       "      <td>...</td>\n",
       "      <td>...</td>\n",
       "      <td>...</td>\n",
       "      <td>...</td>\n",
       "    </tr>\n",
       "    <tr>\n",
       "      <th>tot_hi_cred_lim</th>\n",
       "      <td>254792.0</td>\n",
       "      <td>214299.190300</td>\n",
       "      <td>197328.232254</td>\n",
       "      <td>1945.00</td>\n",
       "      <td>69289.75</td>\n",
       "      <td>148092.50</td>\n",
       "      <td>308180.00</td>\n",
       "      <td>5070345.00</td>\n",
       "    </tr>\n",
       "    <tr>\n",
       "      <th>total_bal_ex_mort</th>\n",
       "      <td>254792.0</td>\n",
       "      <td>65204.471714</td>\n",
       "      <td>59078.889417</td>\n",
       "      <td>52.00</td>\n",
       "      <td>28857.00</td>\n",
       "      <td>48854.50</td>\n",
       "      <td>81682.25</td>\n",
       "      <td>2385357.00</td>\n",
       "    </tr>\n",
       "    <tr>\n",
       "      <th>total_bc_limit</th>\n",
       "      <td>254792.0</td>\n",
       "      <td>30782.662007</td>\n",
       "      <td>27813.393198</td>\n",
       "      <td>100.00</td>\n",
       "      <td>12000.00</td>\n",
       "      <td>22900.00</td>\n",
       "      <td>40500.00</td>\n",
       "      <td>788200.00</td>\n",
       "    </tr>\n",
       "    <tr>\n",
       "      <th>total_il_high_credit_limit</th>\n",
       "      <td>254792.0</td>\n",
       "      <td>59322.756295</td>\n",
       "      <td>52272.447585</td>\n",
       "      <td>49.00</td>\n",
       "      <td>25171.00</td>\n",
       "      <td>45712.50</td>\n",
       "      <td>76783.00</td>\n",
       "      <td>2030436.00</td>\n",
       "    </tr>\n",
       "    <tr>\n",
       "      <th>age_oldest_line</th>\n",
       "      <td>254792.0</td>\n",
       "      <td>15.749180</td>\n",
       "      <td>7.339305</td>\n",
       "      <td>3.00</td>\n",
       "      <td>11.00</td>\n",
       "      <td>14.00</td>\n",
       "      <td>19.00</td>\n",
       "      <td>76.00</td>\n",
       "    </tr>\n",
       "  </tbody>\n",
       "</table>\n",
       "<p>69 rows × 8 columns</p>\n",
       "</div>"
      ],
      "text/plain": [
       "                               count           mean            std      min  \\\n",
       "loan_amnt                   254792.0   16515.779832   10193.516489  1000.00   \n",
       "int_rate                    254792.0      13.210855       5.171244     6.00   \n",
       "installment                 254792.0     476.804494     286.262432    30.64   \n",
       "emp_length                  254792.0       5.830948       3.582960     1.00   \n",
       "annual_inc                  254792.0   91208.824620  105625.558492    14.00   \n",
       "...                              ...            ...            ...      ...   \n",
       "tot_hi_cred_lim             254792.0  214299.190300  197328.232254  1945.00   \n",
       "total_bal_ex_mort           254792.0   65204.471714   59078.889417    52.00   \n",
       "total_bc_limit              254792.0   30782.662007   27813.393198   100.00   \n",
       "total_il_high_credit_limit  254792.0   59322.756295   52272.447585    49.00   \n",
       "age_oldest_line             254792.0      15.749180       7.339305     3.00   \n",
       "\n",
       "                                 25%        50%        75%         max  \n",
       "loan_amnt                    8593.75   15000.00   23250.00    40000.00  \n",
       "int_rate                        8.81      12.40      16.95       30.99  \n",
       "installment                   264.13     404.05     642.30     1671.88  \n",
       "emp_length                      2.00       5.00      10.00       10.00  \n",
       "annual_inc                  54080.00   75000.00  107000.00  9999999.00  \n",
       "...                              ...        ...        ...         ...  \n",
       "tot_hi_cred_lim             69289.75  148092.50  308180.00  5070345.00  \n",
       "total_bal_ex_mort           28857.00   48854.50   81682.25  2385357.00  \n",
       "total_bc_limit              12000.00   22900.00   40500.00   788200.00  \n",
       "total_il_high_credit_limit  25171.00   45712.50   76783.00  2030436.00  \n",
       "age_oldest_line                11.00      14.00      19.00       76.00  \n",
       "\n",
       "[69 rows x 8 columns]"
      ]
     },
     "execution_count": 62,
     "metadata": {},
     "output_type": "execute_result"
    }
   ],
   "source": [
    "df.describe().T"
   ]
  },
  {
   "cell_type": "code",
   "execution_count": 63,
   "metadata": {},
   "outputs": [
    {
     "name": "stdout",
     "output_type": "stream",
     "text": [
      "<class 'pandas.core.frame.DataFrame'>\n",
      "Int64Index: 254792 entries, 0 to 254793\n",
      "Data columns (total 76 columns):\n",
      " #   Column                      Non-Null Count   Dtype  \n",
      "---  ------                      --------------   -----  \n",
      " 0   loan_amnt                   254792 non-null  float64\n",
      " 1   term                        254792 non-null  object \n",
      " 2   int_rate                    254792 non-null  float64\n",
      " 3   installment                 254792 non-null  float64\n",
      " 4   grade                       254792 non-null  object \n",
      " 5   emp_length                  254792 non-null  int64  \n",
      " 6   home_ownership              254792 non-null  object \n",
      " 7   annual_inc                  254792 non-null  float64\n",
      " 8   verification_status         254792 non-null  object \n",
      " 9   loan_status                 254792 non-null  object \n",
      " 10  purpose                     254792 non-null  object \n",
      " 11  addr_state                  254792 non-null  object \n",
      " 12  dti                         254792 non-null  float64\n",
      " 13  delinq_2yrs                 254792 non-null  float64\n",
      " 14  fico_range_low              254792 non-null  float64\n",
      " 15  fico_range_high             254792 non-null  float64\n",
      " 16  inq_last_6mths              254792 non-null  float64\n",
      " 17  open_acc                    254792 non-null  float64\n",
      " 18  pub_rec                     254792 non-null  float64\n",
      " 19  revol_bal                   254792 non-null  float64\n",
      " 20  revol_util                  254792 non-null  float64\n",
      " 21  total_acc                   254792 non-null  float64\n",
      " 22  collections_12_mths_ex_med  254792 non-null  float64\n",
      " 23  application_type            254792 non-null  int64  \n",
      " 24  acc_now_delinq              254792 non-null  float64\n",
      " 25  tot_coll_amt                254792 non-null  float64\n",
      " 26  tot_cur_bal                 254792 non-null  float64\n",
      " 27  open_acc_6m                 254792 non-null  float64\n",
      " 28  open_act_il                 254792 non-null  float64\n",
      " 29  open_il_12m                 254792 non-null  float64\n",
      " 30  open_il_24m                 254792 non-null  float64\n",
      " 31  mths_since_rcnt_il          254792 non-null  float64\n",
      " 32  total_bal_il                254792 non-null  float64\n",
      " 33  il_util                     254792 non-null  float64\n",
      " 34  open_rv_12m                 254792 non-null  float64\n",
      " 35  open_rv_24m                 254792 non-null  float64\n",
      " 36  max_bal_bc                  254792 non-null  float64\n",
      " 37  all_util                    254792 non-null  float64\n",
      " 38  inq_fi                      254792 non-null  float64\n",
      " 39  total_cu_tl                 254792 non-null  float64\n",
      " 40  inq_last_12m                254792 non-null  float64\n",
      " 41  acc_open_past_24mths        254792 non-null  float64\n",
      " 42  avg_cur_bal                 254792 non-null  float64\n",
      " 43  bc_open_to_buy              254792 non-null  float64\n",
      " 44  bc_util                     254792 non-null  float64\n",
      " 45  delinq_amnt                 254792 non-null  float64\n",
      " 46  mo_sin_old_il_acct          254792 non-null  float64\n",
      " 47  mo_sin_old_rev_tl_op        254792 non-null  float64\n",
      " 48  mo_sin_rcnt_rev_tl_op       254792 non-null  float64\n",
      " 49  mo_sin_rcnt_tl              254792 non-null  float64\n",
      " 50  mort_acc                    254792 non-null  float64\n",
      " 51  mths_since_recent_bc        254792 non-null  float64\n",
      " 52  mths_since_recent_inq       254792 non-null  float64\n",
      " 53  num_accts_ever_120_pd       254792 non-null  float64\n",
      " 54  num_actv_bc_tl              254792 non-null  float64\n",
      " 55  num_actv_rev_tl             254792 non-null  float64\n",
      " 56  num_bc_sats                 254792 non-null  float64\n",
      " 57  num_bc_tl                   254792 non-null  float64\n",
      " 58  num_il_tl                   254792 non-null  float64\n",
      " 59  num_op_rev_tl               254792 non-null  float64\n",
      " 60  num_rev_accts               254792 non-null  float64\n",
      " 61  num_rev_tl_bal_gt_0         254792 non-null  float64\n",
      " 62  num_sats                    254792 non-null  float64\n",
      " 63  num_tl_120dpd_2m            254792 non-null  float64\n",
      " 64  num_tl_30dpd                254792 non-null  float64\n",
      " 65  num_tl_90g_dpd_24m          254792 non-null  float64\n",
      " 66  num_tl_op_past_12m          254792 non-null  float64\n",
      " 67  pct_tl_nvr_dlq              254792 non-null  float64\n",
      " 68  percent_bc_gt_75            254792 non-null  float64\n",
      " 69  pub_rec_bankruptcies        254792 non-null  float64\n",
      " 70  tax_liens                   254792 non-null  float64\n",
      " 71  tot_hi_cred_lim             254792 non-null  float64\n",
      " 72  total_bal_ex_mort           254792 non-null  float64\n",
      " 73  total_bc_limit              254792 non-null  float64\n",
      " 74  total_il_high_credit_limit  254792 non-null  float64\n",
      " 75  age_oldest_line             254792 non-null  float64\n",
      "dtypes: float64(67), int64(2), object(7)\n",
      "memory usage: 149.7+ MB\n"
     ]
    }
   ],
   "source": [
    "df.info()"
   ]
  },
  {
   "cell_type": "code",
   "execution_count": null,
   "metadata": {},
   "outputs": [],
   "source": []
  },
  {
   "cell_type": "markdown",
   "metadata": {},
   "source": [
    "### Loan Status and Loan Purpose"
   ]
  },
  {
   "cell_type": "markdown",
   "metadata": {},
   "source": [
    "**Loan Status** is the target variable for this dataset, as our goal is to figure out what impacts the loan logevity (if the loan lasts through the end of the term (here: 36 and 60 months), an investor receives all expected income from interest - conversely, if a loan gets paid off early, an investor is receiving their investment early, but missing out on interest - and if a loan falls behind, an investor is at risk of receiving their investor back. \n",
    "\n",
    "The lending club structure is such that investor can spread out their moneys across multiple loans (the min amount per Note is 25 dollars), and investors are encouraged to diversify their risk by spreading their investments across many loans/notes.\n",
    "\n",
    "df['loan_status'].value_counts(dropna=False)<br>\n",
    "Current               230572\n",
    "Fully Paid             17935\n",
    "Late (31-120 days)      2006\n",
    "Charged Off             1951\n",
    "In Grace Period         1546\n",
    "Late (16-30 days)        397\n",
    "Issued                   365\n",
    "Default                   22\n",
    "Name: loan_status, dtype: int64"
   ]
  },
  {
   "cell_type": "code",
   "execution_count": 64,
   "metadata": {},
   "outputs": [
    {
     "data": {
      "text/plain": [
       "Current               230570\n",
       "Fully Paid             17935\n",
       "Late (31-120 days)      2006\n",
       "Charged Off             1951\n",
       "In Grace Period         1546\n",
       "Late (16-30 days)        397\n",
       "Issued                   365\n",
       "Default                   22\n",
       "Name: loan_status, dtype: int64"
      ]
     },
     "execution_count": 64,
     "metadata": {},
     "output_type": "execute_result"
    }
   ],
   "source": [
    "df['loan_status'].value_counts(dropna=False)"
   ]
  },
  {
   "cell_type": "code",
   "execution_count": 65,
   "metadata": {},
   "outputs": [
    {
     "data": {
      "text/plain": [
       "loan_status\n",
       "Charged Off           16631.714505\n",
       "Current               16694.019387\n",
       "Default               16550.000000\n",
       "Fully Paid            14040.557569\n",
       "In Grace Period       17788.567270\n",
       "Issued                20069.520548\n",
       "Late (16-30 days)     16106.989924\n",
       "Late (31-120 days)    16499.289631\n",
       "Name: loan_amnt, dtype: float64"
      ]
     },
     "execution_count": 65,
     "metadata": {},
     "output_type": "execute_result"
    }
   ],
   "source": [
    "## Find the mean loan amount for loans with 0 and 1 status (Current status of the loan)\n",
    "df.groupby(by='loan_status')['loan_amnt'].mean()"
   ]
  },
  {
   "cell_type": "code",
   "execution_count": 66,
   "metadata": {},
   "outputs": [
    {
     "data": {
      "text/plain": [
       "<matplotlib.axes._subplots.AxesSubplot at 0x7fa2a0a9f3d0>"
      ]
     },
     "execution_count": 66,
     "metadata": {},
     "output_type": "execute_result"
    },
    {
     "data": {
      "image/png": "[encoded data removed]",
      "text/plain": [
       "<Figure size 432x288 with 1 Axes>"
      ]
     },
     "metadata": {
      "needs_background": "light"
     },
     "output_type": "display_data"
    }
   ],
   "source": [
    "df.groupby(by='loan_status')['loan_amnt'].sum().plot()"
   ]
  },
  {
   "cell_type": "code",
   "execution_count": 67,
   "metadata": {},
   "outputs": [
    {
     "data": {
      "text/plain": [
       "loan_status\n",
       "Charged Off           700.023065\n",
       "Current               705.904324\n",
       "Default               697.045455\n",
       "Fully Paid            711.758851\n",
       "In Grace Period       697.390039\n",
       "Issued                702.835616\n",
       "Late (16-30 days)     698.790932\n",
       "Late (31-120 days)    696.493021\n",
       "Name: fico_range_low, dtype: float64"
      ]
     },
     "execution_count": 67,
     "metadata": {},
     "output_type": "execute_result"
    }
   ],
   "source": [
    "## Loan Status vs Fico score\n",
    "df.groupby(by='loan_status')['fico_range_low'].mean()"
   ]
  },
  {
   "cell_type": "code",
   "execution_count": 68,
   "metadata": {},
   "outputs": [
    {
     "data": {
      "image/png": "[encoded data removed]",
      "text/plain": [
       "<Figure size 864x576 with 1 Axes>"
      ]
     },
     "metadata": {
      "needs_background": "light"
     },
     "output_type": "display_data"
    }
   ],
   "source": [
    "## Loan Status vs Fico score\n",
    "plt.figure(figsize=(12, 8))\n",
    "df.groupby(by='loan_status')['fico_range_low'].mean().plot();"
   ]
  },
  {
   "cell_type": "code",
   "execution_count": 69,
   "metadata": {},
   "outputs": [
    {
     "data": {
      "text/plain": [
       "<matplotlib.collections.PathCollection at 0x7fa2c2c991d0>"
      ]
     },
     "execution_count": 69,
     "metadata": {},
     "output_type": "execute_result"
    },
    {
     "data": {
      "image/png": "[encoded data removed]",
      "text/plain": [
       "<Figure size 432x288 with 1 Axes>"
      ]
     },
     "metadata": {
      "needs_background": "light"
     },
     "output_type": "display_data"
    }
   ],
   "source": [
    "plt.scatter(df['loan_status'], df['fico_range_low'])"
   ]
  },
  {
   "cell_type": "markdown",
   "metadata": {},
   "source": [
    "#### Setting Target y variable for the Logistic Regression \n",
    "\n",
    "Here we are creating the Loan Status target variables based on the values provide in the Loan Status column. Our goal is predict the probability of loan default, and thus we are grouping the values within the Loan Status into Current/Good vs Loan Default/Bad loans.\n",
    "\n",
    "Holding a consevative approach: Charged off, Default, Late (16-30 days), and Late (31-120 days) are included in the Loan default category.\n",
    "\n",
    "1 - Good loans, 0 - Bad loans\n",
    "1    0.982825\n",
    "0    0.017175\n",
    "\n",
    "Baseline for our model is: 0.9828 (current/good loans)"
   ]
  },
  {
   "cell_type": "code",
   "execution_count": 70,
   "metadata": {},
   "outputs": [
    {
     "data": {
      "text/plain": [
       "Current               230570\n",
       "Fully Paid             17935\n",
       "Late (31-120 days)      2006\n",
       "Charged Off             1951\n",
       "In Grace Period         1546\n",
       "Late (16-30 days)        397\n",
       "Issued                   365\n",
       "Default                   22\n",
       "Name: loan_status, dtype: int64"
      ]
     },
     "execution_count": 70,
     "metadata": {},
     "output_type": "execute_result"
    }
   ],
   "source": [
    "#Huge class imbalance\n",
    "df['loan_status'].value_counts(dropna=False)"
   ]
  },
  {
   "cell_type": "code",
   "execution_count": 71,
   "metadata": {},
   "outputs": [
    {
     "data": {
      "text/plain": [
       "Current               0.904934\n",
       "Fully Paid            0.070391\n",
       "Late (31-120 days)    0.007873\n",
       "Charged Off           0.007657\n",
       "In Grace Period       0.006068\n",
       "Late (16-30 days)     0.001558\n",
       "Issued                0.001433\n",
       "Default               0.000086\n",
       "Name: loan_status, dtype: float64"
      ]
     },
     "execution_count": 71,
     "metadata": {},
     "output_type": "execute_result"
    }
   ],
   "source": [
    "#Huge class imbalance\n",
    "df['loan_status'].value_counts(normalize=True)"
   ]
  },
  {
   "cell_type": "code",
   "execution_count": 72,
   "metadata": {},
   "outputs": [
    {
     "data": {
      "text/plain": [
       "4376"
      ]
     },
     "execution_count": 72,
     "metadata": {},
     "output_type": "execute_result"
    }
   ],
   "source": [
    "2006 + 1951 + 397 + 22"
   ]
  },
  {
   "cell_type": "code",
   "execution_count": 73,
   "metadata": {},
   "outputs": [],
   "source": [
    "# will create a new columns df['loan_status_lr']\n",
    "\n",
    "def loan_status_classification(string):\n",
    "    if \"Current\" in string:\n",
    "        return 1 \n",
    "    elif \"Fully Paid\" in string:\n",
    "        return 1\n",
    "    elif \"Late\" in string:\n",
    "        return 0\n",
    "    elif \"Charged Off\" in string:\n",
    "        return 0\n",
    "    elif \"In Grace Period\" in string:\n",
    "        return 1\n",
    "    elif \"Issued\" in string:\n",
    "        return 1\n",
    "    elif \"Default\" in string:\n",
    "        return 0\n",
    "    \n",
    "df['loan_status_log'] = df['loan_status'].map(loan_status_classification)    "
   ]
  },
  {
   "cell_type": "code",
   "execution_count": 74,
   "metadata": {},
   "outputs": [
    {
     "data": {
      "text/plain": [
       "(254792, 77)"
      ]
     },
     "execution_count": 74,
     "metadata": {},
     "output_type": "execute_result"
    }
   ],
   "source": [
    "df.shape"
   ]
  },
  {
   "cell_type": "code",
   "execution_count": 75,
   "metadata": {},
   "outputs": [
    {
     "data": {
      "text/plain": [
       "1    250416\n",
       "0      4376\n",
       "Name: loan_status_log, dtype: int64"
      ]
     },
     "execution_count": 75,
     "metadata": {},
     "output_type": "execute_result"
    }
   ],
   "source": [
    "df['loan_status_log'].value_counts() #these values match 1 vs 0 I've calculated"
   ]
  },
  {
   "cell_type": "code",
   "execution_count": 76,
   "metadata": {},
   "outputs": [
    {
     "data": {
      "text/plain": [
       "1    0.982825\n",
       "0    0.017175\n",
       "Name: loan_status_log, dtype: float64"
      ]
     },
     "execution_count": 76,
     "metadata": {},
     "output_type": "execute_result"
    }
   ],
   "source": [
    "df['loan_status_log'].value_counts(normalize=True)  #class imbalance"
   ]
  },
  {
   "cell_type": "code",
   "execution_count": 77,
   "metadata": {},
   "outputs": [
    {
     "data": {
      "text/plain": [
       "(254792, 77)"
      ]
     },
     "execution_count": 77,
     "metadata": {},
     "output_type": "execute_result"
    }
   ],
   "source": [
    "df.shape"
   ]
  },
  {
   "cell_type": "code",
   "execution_count": 78,
   "metadata": {},
   "outputs": [
    {
     "data": {
      "text/plain": [
       "<matplotlib.axes._subplots.AxesSubplot at 0x7fa2c2c9b950>"
      ]
     },
     "execution_count": 78,
     "metadata": {},
     "output_type": "execute_result"
    },
    {
     "data": {
      "image/png": "[encoded data removed]",
      "text/plain": [
       "<Figure size 576x2016 with 2 Axes>"
      ]
     },
     "metadata": {
      "needs_background": "light"
     },
     "output_type": "display_data"
    }
   ],
   "source": [
    "plt.figure(figsize=(8,28))\n",
    "\n",
    "sns.heatmap(df.corr()[['loan_status_log']].sort_values('loan_status_log'), \n",
    "            annot=True,\n",
    "            cmap='coolwarm',\n",
    "            vmin=-1,\n",
    "            vmax=1)"
   ]
  },
  {
   "cell_type": "markdown",
   "metadata": {},
   "source": [
    "The correlations are weak as expected. We have many variables affecting the Loan Status (our y varibale). "
   ]
  },
  {
   "cell_type": "code",
   "execution_count": 79,
   "metadata": {},
   "outputs": [
    {
     "data": {
      "text/html": [
       "<div>\n",
       "<style scoped>\n",
       "    .dataframe tbody tr th:only-of-type {\n",
       "        vertical-align: middle;\n",
       "    }\n",
       "\n",
       "    .dataframe tbody tr th {\n",
       "        vertical-align: top;\n",
       "    }\n",
       "\n",
       "    .dataframe thead th {\n",
       "        text-align: right;\n",
       "    }\n",
       "</style>\n",
       "<table border=\"1\" class=\"dataframe\">\n",
       "  <thead>\n",
       "    <tr style=\"text-align: right;\">\n",
       "      <th></th>\n",
       "      <th>loan_amnt</th>\n",
       "      <th>term</th>\n",
       "      <th>int_rate</th>\n",
       "      <th>installment</th>\n",
       "      <th>grade</th>\n",
       "      <th>emp_length</th>\n",
       "      <th>home_ownership</th>\n",
       "      <th>annual_inc</th>\n",
       "      <th>verification_status</th>\n",
       "      <th>loan_status</th>\n",
       "      <th>...</th>\n",
       "      <th>pct_tl_nvr_dlq</th>\n",
       "      <th>percent_bc_gt_75</th>\n",
       "      <th>pub_rec_bankruptcies</th>\n",
       "      <th>tax_liens</th>\n",
       "      <th>tot_hi_cred_lim</th>\n",
       "      <th>total_bal_ex_mort</th>\n",
       "      <th>total_bc_limit</th>\n",
       "      <th>total_il_high_credit_limit</th>\n",
       "      <th>age_oldest_line</th>\n",
       "      <th>loan_status_log</th>\n",
       "    </tr>\n",
       "  </thead>\n",
       "  <tbody>\n",
       "    <tr>\n",
       "      <th>0</th>\n",
       "      <td>33000.0</td>\n",
       "      <td>60 months</td>\n",
       "      <td>15.24</td>\n",
       "      <td>789.24</td>\n",
       "      <td>C</td>\n",
       "      <td>10</td>\n",
       "      <td>MORTGAGE</td>\n",
       "      <td>84000.0</td>\n",
       "      <td>Source Verified</td>\n",
       "      <td>Current</td>\n",
       "      <td>...</td>\n",
       "      <td>100.0</td>\n",
       "      <td>21.4</td>\n",
       "      <td>0.0</td>\n",
       "      <td>0.0</td>\n",
       "      <td>351386.0</td>\n",
       "      <td>80128.0</td>\n",
       "      <td>123800.0</td>\n",
       "      <td>16158.0</td>\n",
       "      <td>31.0</td>\n",
       "      <td>1</td>\n",
       "    </tr>\n",
       "    <tr>\n",
       "      <th>1</th>\n",
       "      <td>19000.0</td>\n",
       "      <td>36 months</td>\n",
       "      <td>6.46</td>\n",
       "      <td>581.99</td>\n",
       "      <td>A</td>\n",
       "      <td>10</td>\n",
       "      <td>MORTGAGE</td>\n",
       "      <td>83000.0</td>\n",
       "      <td>Verified</td>\n",
       "      <td>Current</td>\n",
       "      <td>...</td>\n",
       "      <td>100.0</td>\n",
       "      <td>40.0</td>\n",
       "      <td>0.0</td>\n",
       "      <td>0.0</td>\n",
       "      <td>184034.0</td>\n",
       "      <td>28461.0</td>\n",
       "      <td>38400.0</td>\n",
       "      <td>35000.0</td>\n",
       "      <td>23.0</td>\n",
       "      <td>1</td>\n",
       "    </tr>\n",
       "    <tr>\n",
       "      <th>2</th>\n",
       "      <td>15000.0</td>\n",
       "      <td>36 months</td>\n",
       "      <td>7.02</td>\n",
       "      <td>463.30</td>\n",
       "      <td>A</td>\n",
       "      <td>5</td>\n",
       "      <td>MORTGAGE</td>\n",
       "      <td>129000.0</td>\n",
       "      <td>Source Verified</td>\n",
       "      <td>Current</td>\n",
       "      <td>...</td>\n",
       "      <td>100.0</td>\n",
       "      <td>0.0</td>\n",
       "      <td>0.0</td>\n",
       "      <td>0.0</td>\n",
       "      <td>404456.0</td>\n",
       "      <td>122865.0</td>\n",
       "      <td>29000.0</td>\n",
       "      <td>152751.0</td>\n",
       "      <td>13.0</td>\n",
       "      <td>1</td>\n",
       "    </tr>\n",
       "    <tr>\n",
       "      <th>3</th>\n",
       "      <td>21325.0</td>\n",
       "      <td>60 months</td>\n",
       "      <td>13.08</td>\n",
       "      <td>486.09</td>\n",
       "      <td>B</td>\n",
       "      <td>3</td>\n",
       "      <td>MORTGAGE</td>\n",
       "      <td>87000.0</td>\n",
       "      <td>Verified</td>\n",
       "      <td>Current</td>\n",
       "      <td>...</td>\n",
       "      <td>100.0</td>\n",
       "      <td>14.3</td>\n",
       "      <td>0.0</td>\n",
       "      <td>0.0</td>\n",
       "      <td>661269.0</td>\n",
       "      <td>209441.0</td>\n",
       "      <td>54400.0</td>\n",
       "      <td>96631.0</td>\n",
       "      <td>31.0</td>\n",
       "      <td>1</td>\n",
       "    </tr>\n",
       "    <tr>\n",
       "      <th>4</th>\n",
       "      <td>12000.0</td>\n",
       "      <td>60 months</td>\n",
       "      <td>17.74</td>\n",
       "      <td>303.03</td>\n",
       "      <td>C</td>\n",
       "      <td>8</td>\n",
       "      <td>RENT</td>\n",
       "      <td>75000.0</td>\n",
       "      <td>Verified</td>\n",
       "      <td>Current</td>\n",
       "      <td>...</td>\n",
       "      <td>97.8</td>\n",
       "      <td>27.3</td>\n",
       "      <td>0.0</td>\n",
       "      <td>0.0</td>\n",
       "      <td>186469.0</td>\n",
       "      <td>135367.0</td>\n",
       "      <td>46100.0</td>\n",
       "      <td>131569.0</td>\n",
       "      <td>23.0</td>\n",
       "      <td>1</td>\n",
       "    </tr>\n",
       "    <tr>\n",
       "      <th>...</th>\n",
       "      <td>...</td>\n",
       "      <td>...</td>\n",
       "      <td>...</td>\n",
       "      <td>...</td>\n",
       "      <td>...</td>\n",
       "      <td>...</td>\n",
       "      <td>...</td>\n",
       "      <td>...</td>\n",
       "      <td>...</td>\n",
       "      <td>...</td>\n",
       "      <td>...</td>\n",
       "      <td>...</td>\n",
       "      <td>...</td>\n",
       "      <td>...</td>\n",
       "      <td>...</td>\n",
       "      <td>...</td>\n",
       "      <td>...</td>\n",
       "      <td>...</td>\n",
       "      <td>...</td>\n",
       "      <td>...</td>\n",
       "      <td>...</td>\n",
       "    </tr>\n",
       "    <tr>\n",
       "      <th>254789</th>\n",
       "      <td>15000.0</td>\n",
       "      <td>36 months</td>\n",
       "      <td>17.74</td>\n",
       "      <td>540.34</td>\n",
       "      <td>C</td>\n",
       "      <td>1</td>\n",
       "      <td>RENT</td>\n",
       "      <td>62000.0</td>\n",
       "      <td>Source Verified</td>\n",
       "      <td>Current</td>\n",
       "      <td>...</td>\n",
       "      <td>97.4</td>\n",
       "      <td>50.0</td>\n",
       "      <td>0.0</td>\n",
       "      <td>0.0</td>\n",
       "      <td>160317.0</td>\n",
       "      <td>136496.0</td>\n",
       "      <td>32800.0</td>\n",
       "      <td>124417.0</td>\n",
       "      <td>14.0</td>\n",
       "      <td>1</td>\n",
       "    </tr>\n",
       "    <tr>\n",
       "      <th>254790</th>\n",
       "      <td>6000.0</td>\n",
       "      <td>36 months</td>\n",
       "      <td>11.02</td>\n",
       "      <td>196.49</td>\n",
       "      <td>B</td>\n",
       "      <td>10</td>\n",
       "      <td>MORTGAGE</td>\n",
       "      <td>80000.0</td>\n",
       "      <td>Not Verified</td>\n",
       "      <td>Current</td>\n",
       "      <td>...</td>\n",
       "      <td>100.0</td>\n",
       "      <td>33.3</td>\n",
       "      <td>0.0</td>\n",
       "      <td>0.0</td>\n",
       "      <td>259477.0</td>\n",
       "      <td>86503.0</td>\n",
       "      <td>13900.0</td>\n",
       "      <td>92418.0</td>\n",
       "      <td>13.0</td>\n",
       "      <td>1</td>\n",
       "    </tr>\n",
       "    <tr>\n",
       "      <th>254791</th>\n",
       "      <td>10525.0</td>\n",
       "      <td>36 months</td>\n",
       "      <td>7.56</td>\n",
       "      <td>327.69</td>\n",
       "      <td>A</td>\n",
       "      <td>10</td>\n",
       "      <td>OWN</td>\n",
       "      <td>40000.0</td>\n",
       "      <td>Source Verified</td>\n",
       "      <td>Current</td>\n",
       "      <td>...</td>\n",
       "      <td>98.0</td>\n",
       "      <td>0.0</td>\n",
       "      <td>0.0</td>\n",
       "      <td>0.0</td>\n",
       "      <td>70900.0</td>\n",
       "      <td>8774.0</td>\n",
       "      <td>38500.0</td>\n",
       "      <td>15000.0</td>\n",
       "      <td>33.0</td>\n",
       "      <td>1</td>\n",
       "    </tr>\n",
       "    <tr>\n",
       "      <th>254792</th>\n",
       "      <td>16000.0</td>\n",
       "      <td>36 months</td>\n",
       "      <td>11.71</td>\n",
       "      <td>529.22</td>\n",
       "      <td>B</td>\n",
       "      <td>10</td>\n",
       "      <td>RENT</td>\n",
       "      <td>80000.0</td>\n",
       "      <td>Source Verified</td>\n",
       "      <td>Current</td>\n",
       "      <td>...</td>\n",
       "      <td>85.7</td>\n",
       "      <td>0.0</td>\n",
       "      <td>0.0</td>\n",
       "      <td>0.0</td>\n",
       "      <td>22300.0</td>\n",
       "      <td>9359.0</td>\n",
       "      <td>9800.0</td>\n",
       "      <td>8400.0</td>\n",
       "      <td>25.0</td>\n",
       "      <td>1</td>\n",
       "    </tr>\n",
       "    <tr>\n",
       "      <th>254793</th>\n",
       "      <td>20000.0</td>\n",
       "      <td>36 months</td>\n",
       "      <td>12.40</td>\n",
       "      <td>668.12</td>\n",
       "      <td>B</td>\n",
       "      <td>10</td>\n",
       "      <td>MORTGAGE</td>\n",
       "      <td>78000.0</td>\n",
       "      <td>Not Verified</td>\n",
       "      <td>Current</td>\n",
       "      <td>...</td>\n",
       "      <td>100.0</td>\n",
       "      <td>0.0</td>\n",
       "      <td>0.0</td>\n",
       "      <td>0.0</td>\n",
       "      <td>358498.0</td>\n",
       "      <td>15855.0</td>\n",
       "      <td>33200.0</td>\n",
       "      <td>29742.0</td>\n",
       "      <td>14.0</td>\n",
       "      <td>1</td>\n",
       "    </tr>\n",
       "  </tbody>\n",
       "</table>\n",
       "<p>254792 rows × 77 columns</p>\n",
       "</div>"
      ],
      "text/plain": [
       "        loan_amnt        term  int_rate  installment grade  emp_length  \\\n",
       "0         33000.0   60 months     15.24       789.24     C          10   \n",
       "1         19000.0   36 months      6.46       581.99     A          10   \n",
       "2         15000.0   36 months      7.02       463.30     A           5   \n",
       "3         21325.0   60 months     13.08       486.09     B           3   \n",
       "4         12000.0   60 months     17.74       303.03     C           8   \n",
       "...           ...         ...       ...          ...   ...         ...   \n",
       "254789    15000.0   36 months     17.74       540.34     C           1   \n",
       "254790     6000.0   36 months     11.02       196.49     B          10   \n",
       "254791    10525.0   36 months      7.56       327.69     A          10   \n",
       "254792    16000.0   36 months     11.71       529.22     B          10   \n",
       "254793    20000.0   36 months     12.40       668.12     B          10   \n",
       "\n",
       "       home_ownership  annual_inc verification_status loan_status  ...  \\\n",
       "0            MORTGAGE     84000.0     Source Verified     Current  ...   \n",
       "1            MORTGAGE     83000.0            Verified     Current  ...   \n",
       "2            MORTGAGE    129000.0     Source Verified     Current  ...   \n",
       "3            MORTGAGE     87000.0            Verified     Current  ...   \n",
       "4                RENT     75000.0            Verified     Current  ...   \n",
       "...               ...         ...                 ...         ...  ...   \n",
       "254789           RENT     62000.0     Source Verified     Current  ...   \n",
       "254790       MORTGAGE     80000.0        Not Verified     Current  ...   \n",
       "254791            OWN     40000.0     Source Verified     Current  ...   \n",
       "254792           RENT     80000.0     Source Verified     Current  ...   \n",
       "254793       MORTGAGE     78000.0        Not Verified     Current  ...   \n",
       "\n",
       "       pct_tl_nvr_dlq percent_bc_gt_75  pub_rec_bankruptcies  tax_liens  \\\n",
       "0               100.0             21.4                   0.0        0.0   \n",
       "1               100.0             40.0                   0.0        0.0   \n",
       "2               100.0              0.0                   0.0        0.0   \n",
       "3               100.0             14.3                   0.0        0.0   \n",
       "4                97.8             27.3                   0.0        0.0   \n",
       "...               ...              ...                   ...        ...   \n",
       "254789           97.4             50.0                   0.0        0.0   \n",
       "254790          100.0             33.3                   0.0        0.0   \n",
       "254791           98.0              0.0                   0.0        0.0   \n",
       "254792           85.7              0.0                   0.0        0.0   \n",
       "254793          100.0              0.0                   0.0        0.0   \n",
       "\n",
       "        tot_hi_cred_lim  total_bal_ex_mort  total_bc_limit  \\\n",
       "0              351386.0            80128.0        123800.0   \n",
       "1              184034.0            28461.0         38400.0   \n",
       "2              404456.0           122865.0         29000.0   \n",
       "3              661269.0           209441.0         54400.0   \n",
       "4              186469.0           135367.0         46100.0   \n",
       "...                 ...                ...             ...   \n",
       "254789         160317.0           136496.0         32800.0   \n",
       "254790         259477.0            86503.0         13900.0   \n",
       "254791          70900.0             8774.0         38500.0   \n",
       "254792          22300.0             9359.0          9800.0   \n",
       "254793         358498.0            15855.0         33200.0   \n",
       "\n",
       "        total_il_high_credit_limit  age_oldest_line  loan_status_log  \n",
       "0                          16158.0             31.0                1  \n",
       "1                          35000.0             23.0                1  \n",
       "2                         152751.0             13.0                1  \n",
       "3                          96631.0             31.0                1  \n",
       "4                         131569.0             23.0                1  \n",
       "...                            ...              ...              ...  \n",
       "254789                    124417.0             14.0                1  \n",
       "254790                     92418.0             13.0                1  \n",
       "254791                     15000.0             33.0                1  \n",
       "254792                      8400.0             25.0                1  \n",
       "254793                     29742.0             14.0                1  \n",
       "\n",
       "[254792 rows x 77 columns]"
      ]
     },
     "execution_count": 79,
     "metadata": {},
     "output_type": "execute_result"
    }
   ],
   "source": [
    "df"
   ]
  },
  {
   "cell_type": "code",
   "execution_count": 80,
   "metadata": {},
   "outputs": [
    {
     "data": {
      "text/html": [
       "<div>\n",
       "<style scoped>\n",
       "    .dataframe tbody tr th:only-of-type {\n",
       "        vertical-align: middle;\n",
       "    }\n",
       "\n",
       "    .dataframe tbody tr th {\n",
       "        vertical-align: top;\n",
       "    }\n",
       "\n",
       "    .dataframe thead th {\n",
       "        text-align: right;\n",
       "    }\n",
       "</style>\n",
       "<table border=\"1\" class=\"dataframe\">\n",
       "  <thead>\n",
       "    <tr style=\"text-align: right;\">\n",
       "      <th></th>\n",
       "      <th>term_ 60 months</th>\n",
       "      <th>purpose_debt_consolidation</th>\n",
       "      <th>purpose_home_improvement</th>\n",
       "      <th>purpose_other</th>\n",
       "      <th>grade_B</th>\n",
       "      <th>grade_C</th>\n",
       "      <th>grade_D</th>\n",
       "      <th>home_ownership_OWN</th>\n",
       "      <th>home_ownership_RENT</th>\n",
       "      <th>verification_status_Source Verified</th>\n",
       "      <th>verification_status_Verified</th>\n",
       "    </tr>\n",
       "  </thead>\n",
       "  <tbody>\n",
       "    <tr>\n",
       "      <th>0</th>\n",
       "      <td>1</td>\n",
       "      <td>0</td>\n",
       "      <td>0</td>\n",
       "      <td>0</td>\n",
       "      <td>0</td>\n",
       "      <td>1</td>\n",
       "      <td>0</td>\n",
       "      <td>0</td>\n",
       "      <td>0</td>\n",
       "      <td>1</td>\n",
       "      <td>0</td>\n",
       "    </tr>\n",
       "    <tr>\n",
       "      <th>1</th>\n",
       "      <td>0</td>\n",
       "      <td>1</td>\n",
       "      <td>0</td>\n",
       "      <td>0</td>\n",
       "      <td>0</td>\n",
       "      <td>0</td>\n",
       "      <td>0</td>\n",
       "      <td>0</td>\n",
       "      <td>0</td>\n",
       "      <td>0</td>\n",
       "      <td>1</td>\n",
       "    </tr>\n",
       "    <tr>\n",
       "      <th>2</th>\n",
       "      <td>0</td>\n",
       "      <td>0</td>\n",
       "      <td>0</td>\n",
       "      <td>0</td>\n",
       "      <td>0</td>\n",
       "      <td>0</td>\n",
       "      <td>0</td>\n",
       "      <td>0</td>\n",
       "      <td>0</td>\n",
       "      <td>1</td>\n",
       "      <td>0</td>\n",
       "    </tr>\n",
       "    <tr>\n",
       "      <th>3</th>\n",
       "      <td>1</td>\n",
       "      <td>0</td>\n",
       "      <td>1</td>\n",
       "      <td>0</td>\n",
       "      <td>1</td>\n",
       "      <td>0</td>\n",
       "      <td>0</td>\n",
       "      <td>0</td>\n",
       "      <td>0</td>\n",
       "      <td>0</td>\n",
       "      <td>1</td>\n",
       "    </tr>\n",
       "    <tr>\n",
       "      <th>4</th>\n",
       "      <td>1</td>\n",
       "      <td>0</td>\n",
       "      <td>0</td>\n",
       "      <td>0</td>\n",
       "      <td>0</td>\n",
       "      <td>1</td>\n",
       "      <td>0</td>\n",
       "      <td>0</td>\n",
       "      <td>1</td>\n",
       "      <td>0</td>\n",
       "      <td>1</td>\n",
       "    </tr>\n",
       "    <tr>\n",
       "      <th>...</th>\n",
       "      <td>...</td>\n",
       "      <td>...</td>\n",
       "      <td>...</td>\n",
       "      <td>...</td>\n",
       "      <td>...</td>\n",
       "      <td>...</td>\n",
       "      <td>...</td>\n",
       "      <td>...</td>\n",
       "      <td>...</td>\n",
       "      <td>...</td>\n",
       "      <td>...</td>\n",
       "    </tr>\n",
       "    <tr>\n",
       "      <th>254789</th>\n",
       "      <td>0</td>\n",
       "      <td>0</td>\n",
       "      <td>0</td>\n",
       "      <td>0</td>\n",
       "      <td>0</td>\n",
       "      <td>1</td>\n",
       "      <td>0</td>\n",
       "      <td>0</td>\n",
       "      <td>1</td>\n",
       "      <td>1</td>\n",
       "      <td>0</td>\n",
       "    </tr>\n",
       "    <tr>\n",
       "      <th>254790</th>\n",
       "      <td>0</td>\n",
       "      <td>0</td>\n",
       "      <td>0</td>\n",
       "      <td>1</td>\n",
       "      <td>1</td>\n",
       "      <td>0</td>\n",
       "      <td>0</td>\n",
       "      <td>0</td>\n",
       "      <td>0</td>\n",
       "      <td>0</td>\n",
       "      <td>0</td>\n",
       "    </tr>\n",
       "    <tr>\n",
       "      <th>254791</th>\n",
       "      <td>0</td>\n",
       "      <td>0</td>\n",
       "      <td>0</td>\n",
       "      <td>1</td>\n",
       "      <td>0</td>\n",
       "      <td>0</td>\n",
       "      <td>0</td>\n",
       "      <td>1</td>\n",
       "      <td>0</td>\n",
       "      <td>1</td>\n",
       "      <td>0</td>\n",
       "    </tr>\n",
       "    <tr>\n",
       "      <th>254792</th>\n",
       "      <td>0</td>\n",
       "      <td>1</td>\n",
       "      <td>0</td>\n",
       "      <td>0</td>\n",
       "      <td>1</td>\n",
       "      <td>0</td>\n",
       "      <td>0</td>\n",
       "      <td>0</td>\n",
       "      <td>1</td>\n",
       "      <td>1</td>\n",
       "      <td>0</td>\n",
       "    </tr>\n",
       "    <tr>\n",
       "      <th>254793</th>\n",
       "      <td>0</td>\n",
       "      <td>0</td>\n",
       "      <td>0</td>\n",
       "      <td>1</td>\n",
       "      <td>1</td>\n",
       "      <td>0</td>\n",
       "      <td>0</td>\n",
       "      <td>0</td>\n",
       "      <td>0</td>\n",
       "      <td>0</td>\n",
       "      <td>0</td>\n",
       "    </tr>\n",
       "  </tbody>\n",
       "</table>\n",
       "<p>254792 rows × 11 columns</p>\n",
       "</div>"
      ],
      "text/plain": [
       "        term_ 60 months  purpose_debt_consolidation  purpose_home_improvement  \\\n",
       "0                     1                           0                         0   \n",
       "1                     0                           1                         0   \n",
       "2                     0                           0                         0   \n",
       "3                     1                           0                         1   \n",
       "4                     1                           0                         0   \n",
       "...                 ...                         ...                       ...   \n",
       "254789                0                           0                         0   \n",
       "254790                0                           0                         0   \n",
       "254791                0                           0                         0   \n",
       "254792                0                           1                         0   \n",
       "254793                0                           0                         0   \n",
       "\n",
       "        purpose_other  grade_B  grade_C  grade_D  home_ownership_OWN  \\\n",
       "0                   0        0        1        0                   0   \n",
       "1                   0        0        0        0                   0   \n",
       "2                   0        0        0        0                   0   \n",
       "3                   0        1        0        0                   0   \n",
       "4                   0        0        1        0                   0   \n",
       "...               ...      ...      ...      ...                 ...   \n",
       "254789              0        0        1        0                   0   \n",
       "254790              1        1        0        0                   0   \n",
       "254791              1        0        0        0                   1   \n",
       "254792              0        1        0        0                   0   \n",
       "254793              1        1        0        0                   0   \n",
       "\n",
       "        home_ownership_RENT  verification_status_Source Verified  \\\n",
       "0                         0                                    1   \n",
       "1                         0                                    0   \n",
       "2                         0                                    1   \n",
       "3                         0                                    0   \n",
       "4                         1                                    0   \n",
       "...                     ...                                  ...   \n",
       "254789                    1                                    1   \n",
       "254790                    0                                    0   \n",
       "254791                    0                                    1   \n",
       "254792                    1                                    1   \n",
       "254793                    0                                    0   \n",
       "\n",
       "        verification_status_Verified  \n",
       "0                                  0  \n",
       "1                                  1  \n",
       "2                                  0  \n",
       "3                                  1  \n",
       "4                                  1  \n",
       "...                              ...  \n",
       "254789                             0  \n",
       "254790                             0  \n",
       "254791                             0  \n",
       "254792                             0  \n",
       "254793                             0  \n",
       "\n",
       "[254792 rows x 11 columns]"
      ]
     },
     "execution_count": 80,
     "metadata": {},
     "output_type": "execute_result"
    }
   ],
   "source": [
    "df_dummies"
   ]
  },
  {
   "cell_type": "markdown",
   "metadata": {},
   "source": [
    "## Logistic Regression"
   ]
  },
  {
   "cell_type": "code",
   "execution_count": 187,
   "metadata": {},
   "outputs": [],
   "source": [
    "## Define X and y\n",
    "\n",
    "X = df.drop(columns = ['open_rv_12m', 'num_sats', 'fico_range_high', 'installment', 'pub_rec', 'num_rev_tl_bal_gt_0', 'num_actv_rev_tl', 'total_il_high_credit_limit', 'loan_status', 'loan_status_log', 'term', 'purpose', 'addr_state', 'grade', 'home_ownership', 'verification_status', 'application_type'], axis=1)\n",
    "y = df[['loan_status_log']]"
   ]
  },
  {
   "cell_type": "code",
   "execution_count": 188,
   "metadata": {},
   "outputs": [
    {
     "data": {
      "text/plain": [
       "(254792, 60)"
      ]
     },
     "execution_count": 188,
     "metadata": {},
     "output_type": "execute_result"
    }
   ],
   "source": [
    "X.shape"
   ]
  },
  {
   "cell_type": "code",
   "execution_count": 189,
   "metadata": {},
   "outputs": [
    {
     "data": {
      "text/html": [
       "<div>\n",
       "<style scoped>\n",
       "    .dataframe tbody tr th:only-of-type {\n",
       "        vertical-align: middle;\n",
       "    }\n",
       "\n",
       "    .dataframe tbody tr th {\n",
       "        vertical-align: top;\n",
       "    }\n",
       "\n",
       "    .dataframe thead th {\n",
       "        text-align: right;\n",
       "    }\n",
       "</style>\n",
       "<table border=\"1\" class=\"dataframe\">\n",
       "  <thead>\n",
       "    <tr style=\"text-align: right;\">\n",
       "      <th></th>\n",
       "      <th>loan_amnt</th>\n",
       "      <th>int_rate</th>\n",
       "      <th>emp_length</th>\n",
       "      <th>annual_inc</th>\n",
       "      <th>dti</th>\n",
       "      <th>delinq_2yrs</th>\n",
       "      <th>fico_range_low</th>\n",
       "      <th>inq_last_6mths</th>\n",
       "      <th>open_acc</th>\n",
       "      <th>revol_bal</th>\n",
       "      <th>...</th>\n",
       "      <th>num_tl_90g_dpd_24m</th>\n",
       "      <th>num_tl_op_past_12m</th>\n",
       "      <th>pct_tl_nvr_dlq</th>\n",
       "      <th>percent_bc_gt_75</th>\n",
       "      <th>pub_rec_bankruptcies</th>\n",
       "      <th>tax_liens</th>\n",
       "      <th>tot_hi_cred_lim</th>\n",
       "      <th>total_bal_ex_mort</th>\n",
       "      <th>total_bc_limit</th>\n",
       "      <th>age_oldest_line</th>\n",
       "    </tr>\n",
       "  </thead>\n",
       "  <tbody>\n",
       "    <tr>\n",
       "      <th>0</th>\n",
       "      <td>33000.0</td>\n",
       "      <td>15.24</td>\n",
       "      <td>10</td>\n",
       "      <td>84000.0</td>\n",
       "      <td>35.07</td>\n",
       "      <td>0.0</td>\n",
       "      <td>695.0</td>\n",
       "      <td>0.0</td>\n",
       "      <td>26.0</td>\n",
       "      <td>79282.0</td>\n",
       "      <td>...</td>\n",
       "      <td>0.0</td>\n",
       "      <td>2.0</td>\n",
       "      <td>100.0</td>\n",
       "      <td>21.4</td>\n",
       "      <td>0.0</td>\n",
       "      <td>0.0</td>\n",
       "      <td>351386.0</td>\n",
       "      <td>80128.0</td>\n",
       "      <td>123800.0</td>\n",
       "      <td>31.0</td>\n",
       "    </tr>\n",
       "    <tr>\n",
       "      <th>1</th>\n",
       "      <td>19000.0</td>\n",
       "      <td>6.46</td>\n",
       "      <td>10</td>\n",
       "      <td>83000.0</td>\n",
       "      <td>20.68</td>\n",
       "      <td>0.0</td>\n",
       "      <td>785.0</td>\n",
       "      <td>1.0</td>\n",
       "      <td>7.0</td>\n",
       "      <td>11068.0</td>\n",
       "      <td>...</td>\n",
       "      <td>0.0</td>\n",
       "      <td>0.0</td>\n",
       "      <td>100.0</td>\n",
       "      <td>40.0</td>\n",
       "      <td>0.0</td>\n",
       "      <td>0.0</td>\n",
       "      <td>184034.0</td>\n",
       "      <td>28461.0</td>\n",
       "      <td>38400.0</td>\n",
       "      <td>23.0</td>\n",
       "    </tr>\n",
       "    <tr>\n",
       "      <th>2</th>\n",
       "      <td>15000.0</td>\n",
       "      <td>7.02</td>\n",
       "      <td>5</td>\n",
       "      <td>129000.0</td>\n",
       "      <td>28.45</td>\n",
       "      <td>0.0</td>\n",
       "      <td>770.0</td>\n",
       "      <td>0.0</td>\n",
       "      <td>19.0</td>\n",
       "      <td>11023.0</td>\n",
       "      <td>...</td>\n",
       "      <td>0.0</td>\n",
       "      <td>5.0</td>\n",
       "      <td>100.0</td>\n",
       "      <td>0.0</td>\n",
       "      <td>0.0</td>\n",
       "      <td>0.0</td>\n",
       "      <td>404456.0</td>\n",
       "      <td>122865.0</td>\n",
       "      <td>29000.0</td>\n",
       "      <td>13.0</td>\n",
       "    </tr>\n",
       "    <tr>\n",
       "      <th>3</th>\n",
       "      <td>21325.0</td>\n",
       "      <td>13.08</td>\n",
       "      <td>3</td>\n",
       "      <td>87000.0</td>\n",
       "      <td>52.39</td>\n",
       "      <td>0.0</td>\n",
       "      <td>725.0</td>\n",
       "      <td>0.0</td>\n",
       "      <td>18.0</td>\n",
       "      <td>125907.0</td>\n",
       "      <td>...</td>\n",
       "      <td>0.0</td>\n",
       "      <td>1.0</td>\n",
       "      <td>100.0</td>\n",
       "      <td>14.3</td>\n",
       "      <td>0.0</td>\n",
       "      <td>0.0</td>\n",
       "      <td>661269.0</td>\n",
       "      <td>209441.0</td>\n",
       "      <td>54400.0</td>\n",
       "      <td>31.0</td>\n",
       "    </tr>\n",
       "    <tr>\n",
       "      <th>4</th>\n",
       "      <td>12000.0</td>\n",
       "      <td>17.74</td>\n",
       "      <td>8</td>\n",
       "      <td>75000.0</td>\n",
       "      <td>32.96</td>\n",
       "      <td>0.0</td>\n",
       "      <td>685.0</td>\n",
       "      <td>1.0</td>\n",
       "      <td>22.0</td>\n",
       "      <td>17006.0</td>\n",
       "      <td>...</td>\n",
       "      <td>0.0</td>\n",
       "      <td>2.0</td>\n",
       "      <td>97.8</td>\n",
       "      <td>27.3</td>\n",
       "      <td>0.0</td>\n",
       "      <td>0.0</td>\n",
       "      <td>186469.0</td>\n",
       "      <td>135367.0</td>\n",
       "      <td>46100.0</td>\n",
       "      <td>23.0</td>\n",
       "    </tr>\n",
       "    <tr>\n",
       "      <th>...</th>\n",
       "      <td>...</td>\n",
       "      <td>...</td>\n",
       "      <td>...</td>\n",
       "      <td>...</td>\n",
       "      <td>...</td>\n",
       "      <td>...</td>\n",
       "      <td>...</td>\n",
       "      <td>...</td>\n",
       "      <td>...</td>\n",
       "      <td>...</td>\n",
       "      <td>...</td>\n",
       "      <td>...</td>\n",
       "      <td>...</td>\n",
       "      <td>...</td>\n",
       "      <td>...</td>\n",
       "      <td>...</td>\n",
       "      <td>...</td>\n",
       "      <td>...</td>\n",
       "      <td>...</td>\n",
       "      <td>...</td>\n",
       "      <td>...</td>\n",
       "    </tr>\n",
       "    <tr>\n",
       "      <th>254789</th>\n",
       "      <td>15000.0</td>\n",
       "      <td>17.74</td>\n",
       "      <td>1</td>\n",
       "      <td>62000.0</td>\n",
       "      <td>32.97</td>\n",
       "      <td>0.0</td>\n",
       "      <td>695.0</td>\n",
       "      <td>1.0</td>\n",
       "      <td>11.0</td>\n",
       "      <td>16490.0</td>\n",
       "      <td>...</td>\n",
       "      <td>0.0</td>\n",
       "      <td>3.0</td>\n",
       "      <td>97.4</td>\n",
       "      <td>50.0</td>\n",
       "      <td>0.0</td>\n",
       "      <td>0.0</td>\n",
       "      <td>160317.0</td>\n",
       "      <td>136496.0</td>\n",
       "      <td>32800.0</td>\n",
       "      <td>14.0</td>\n",
       "    </tr>\n",
       "    <tr>\n",
       "      <th>254790</th>\n",
       "      <td>6000.0</td>\n",
       "      <td>11.02</td>\n",
       "      <td>10</td>\n",
       "      <td>80000.0</td>\n",
       "      <td>34.13</td>\n",
       "      <td>0.0</td>\n",
       "      <td>720.0</td>\n",
       "      <td>0.0</td>\n",
       "      <td>15.0</td>\n",
       "      <td>27955.0</td>\n",
       "      <td>...</td>\n",
       "      <td>0.0</td>\n",
       "      <td>1.0</td>\n",
       "      <td>100.0</td>\n",
       "      <td>33.3</td>\n",
       "      <td>0.0</td>\n",
       "      <td>0.0</td>\n",
       "      <td>259477.0</td>\n",
       "      <td>86503.0</td>\n",
       "      <td>13900.0</td>\n",
       "      <td>13.0</td>\n",
       "    </tr>\n",
       "    <tr>\n",
       "      <th>254791</th>\n",
       "      <td>10525.0</td>\n",
       "      <td>7.56</td>\n",
       "      <td>10</td>\n",
       "      <td>40000.0</td>\n",
       "      <td>14.52</td>\n",
       "      <td>0.0</td>\n",
       "      <td>750.0</td>\n",
       "      <td>1.0</td>\n",
       "      <td>14.0</td>\n",
       "      <td>472.0</td>\n",
       "      <td>...</td>\n",
       "      <td>0.0</td>\n",
       "      <td>5.0</td>\n",
       "      <td>98.0</td>\n",
       "      <td>0.0</td>\n",
       "      <td>0.0</td>\n",
       "      <td>0.0</td>\n",
       "      <td>70900.0</td>\n",
       "      <td>8774.0</td>\n",
       "      <td>38500.0</td>\n",
       "      <td>33.0</td>\n",
       "    </tr>\n",
       "    <tr>\n",
       "      <th>254792</th>\n",
       "      <td>16000.0</td>\n",
       "      <td>11.71</td>\n",
       "      <td>10</td>\n",
       "      <td>80000.0</td>\n",
       "      <td>7.29</td>\n",
       "      <td>0.0</td>\n",
       "      <td>715.0</td>\n",
       "      <td>3.0</td>\n",
       "      <td>14.0</td>\n",
       "      <td>2599.0</td>\n",
       "      <td>...</td>\n",
       "      <td>0.0</td>\n",
       "      <td>8.0</td>\n",
       "      <td>85.7</td>\n",
       "      <td>0.0</td>\n",
       "      <td>0.0</td>\n",
       "      <td>0.0</td>\n",
       "      <td>22300.0</td>\n",
       "      <td>9359.0</td>\n",
       "      <td>9800.0</td>\n",
       "      <td>25.0</td>\n",
       "    </tr>\n",
       "    <tr>\n",
       "      <th>254793</th>\n",
       "      <td>20000.0</td>\n",
       "      <td>12.40</td>\n",
       "      <td>10</td>\n",
       "      <td>78000.0</td>\n",
       "      <td>11.42</td>\n",
       "      <td>0.0</td>\n",
       "      <td>700.0</td>\n",
       "      <td>0.0</td>\n",
       "      <td>10.0</td>\n",
       "      <td>12320.0</td>\n",
       "      <td>...</td>\n",
       "      <td>0.0</td>\n",
       "      <td>2.0</td>\n",
       "      <td>100.0</td>\n",
       "      <td>0.0</td>\n",
       "      <td>0.0</td>\n",
       "      <td>0.0</td>\n",
       "      <td>358498.0</td>\n",
       "      <td>15855.0</td>\n",
       "      <td>33200.0</td>\n",
       "      <td>14.0</td>\n",
       "    </tr>\n",
       "  </tbody>\n",
       "</table>\n",
       "<p>254792 rows × 60 columns</p>\n",
       "</div>"
      ],
      "text/plain": [
       "        loan_amnt  int_rate  emp_length  annual_inc    dti  delinq_2yrs  \\\n",
       "0         33000.0     15.24          10     84000.0  35.07          0.0   \n",
       "1         19000.0      6.46          10     83000.0  20.68          0.0   \n",
       "2         15000.0      7.02           5    129000.0  28.45          0.0   \n",
       "3         21325.0     13.08           3     87000.0  52.39          0.0   \n",
       "4         12000.0     17.74           8     75000.0  32.96          0.0   \n",
       "...           ...       ...         ...         ...    ...          ...   \n",
       "254789    15000.0     17.74           1     62000.0  32.97          0.0   \n",
       "254790     6000.0     11.02          10     80000.0  34.13          0.0   \n",
       "254791    10525.0      7.56          10     40000.0  14.52          0.0   \n",
       "254792    16000.0     11.71          10     80000.0   7.29          0.0   \n",
       "254793    20000.0     12.40          10     78000.0  11.42          0.0   \n",
       "\n",
       "        fico_range_low  inq_last_6mths  open_acc  revol_bal  ...  \\\n",
       "0                695.0             0.0      26.0    79282.0  ...   \n",
       "1                785.0             1.0       7.0    11068.0  ...   \n",
       "2                770.0             0.0      19.0    11023.0  ...   \n",
       "3                725.0             0.0      18.0   125907.0  ...   \n",
       "4                685.0             1.0      22.0    17006.0  ...   \n",
       "...                ...             ...       ...        ...  ...   \n",
       "254789           695.0             1.0      11.0    16490.0  ...   \n",
       "254790           720.0             0.0      15.0    27955.0  ...   \n",
       "254791           750.0             1.0      14.0      472.0  ...   \n",
       "254792           715.0             3.0      14.0     2599.0  ...   \n",
       "254793           700.0             0.0      10.0    12320.0  ...   \n",
       "\n",
       "        num_tl_90g_dpd_24m  num_tl_op_past_12m  pct_tl_nvr_dlq  \\\n",
       "0                      0.0                 2.0           100.0   \n",
       "1                      0.0                 0.0           100.0   \n",
       "2                      0.0                 5.0           100.0   \n",
       "3                      0.0                 1.0           100.0   \n",
       "4                      0.0                 2.0            97.8   \n",
       "...                    ...                 ...             ...   \n",
       "254789                 0.0                 3.0            97.4   \n",
       "254790                 0.0                 1.0           100.0   \n",
       "254791                 0.0                 5.0            98.0   \n",
       "254792                 0.0                 8.0            85.7   \n",
       "254793                 0.0                 2.0           100.0   \n",
       "\n",
       "        percent_bc_gt_75  pub_rec_bankruptcies  tax_liens  tot_hi_cred_lim  \\\n",
       "0                   21.4                   0.0        0.0         351386.0   \n",
       "1                   40.0                   0.0        0.0         184034.0   \n",
       "2                    0.0                   0.0        0.0         404456.0   \n",
       "3                   14.3                   0.0        0.0         661269.0   \n",
       "4                   27.3                   0.0        0.0         186469.0   \n",
       "...                  ...                   ...        ...              ...   \n",
       "254789              50.0                   0.0        0.0         160317.0   \n",
       "254790              33.3                   0.0        0.0         259477.0   \n",
       "254791               0.0                   0.0        0.0          70900.0   \n",
       "254792               0.0                   0.0        0.0          22300.0   \n",
       "254793               0.0                   0.0        0.0         358498.0   \n",
       "\n",
       "        total_bal_ex_mort  total_bc_limit  age_oldest_line  \n",
       "0                 80128.0        123800.0             31.0  \n",
       "1                 28461.0         38400.0             23.0  \n",
       "2                122865.0         29000.0             13.0  \n",
       "3                209441.0         54400.0             31.0  \n",
       "4                135367.0         46100.0             23.0  \n",
       "...                   ...             ...              ...  \n",
       "254789           136496.0         32800.0             14.0  \n",
       "254790            86503.0         13900.0             13.0  \n",
       "254791             8774.0         38500.0             33.0  \n",
       "254792             9359.0          9800.0             25.0  \n",
       "254793            15855.0         33200.0             14.0  \n",
       "\n",
       "[254792 rows x 60 columns]"
      ]
     },
     "execution_count": 189,
     "metadata": {},
     "output_type": "execute_result"
    }
   ],
   "source": [
    "X"
   ]
  },
  {
   "cell_type": "code",
   "execution_count": 190,
   "metadata": {},
   "outputs": [
    {
     "name": "stderr",
     "output_type": "stream",
     "text": [
      "/opt/anaconda3/lib/python3.7/site-packages/pandas/core/frame.py:3997: SettingWithCopyWarning: \n",
      "A value is trying to be set on a copy of a slice from a DataFrame\n",
      "\n",
      "See the caveats in the documentation: https://pandas.pydata.org/pandas-docs/stable/user_guide/indexing.html#returning-a-view-versus-a-copy\n",
      "  errors=errors,\n"
     ]
    }
   ],
   "source": [
    "y.drop(y.index[[21141, 227679]], inplace=True)"
   ]
  },
  {
   "cell_type": "code",
   "execution_count": 191,
   "metadata": {},
   "outputs": [
    {
     "data": {
      "text/plain": [
       "(254790, 1)"
      ]
     },
     "execution_count": 191,
     "metadata": {},
     "output_type": "execute_result"
    }
   ],
   "source": [
    "y.shape"
   ]
  },
  {
   "cell_type": "markdown",
   "metadata": {},
   "source": [
    "#### Scaling data with StandardScaler"
   ]
  },
  {
   "cell_type": "code",
   "execution_count": 192,
   "metadata": {},
   "outputs": [],
   "source": [
    "from sklearn.preprocessing import StandardScaler"
   ]
  },
  {
   "cell_type": "code",
   "execution_count": 193,
   "metadata": {},
   "outputs": [],
   "source": [
    "ss = StandardScaler()\n",
    "X_sc = ss.fit_transform(X)"
   ]
  },
  {
   "cell_type": "code",
   "execution_count": 194,
   "metadata": {},
   "outputs": [
    {
     "data": {
      "text/plain": [
       "array([[ 1.6171311 ,  0.39239087,  1.1635798 , ...,  0.25260389,\n",
       "         3.34434277,  2.07796917],\n",
       "       [ 0.24370638, -1.30546305,  1.1635798 , ..., -0.62194033,\n",
       "         0.27387356,  0.98794561],\n",
       "       [-0.14870068, -1.19717169, -0.23191719, ...,  0.975994  ,\n",
       "        -0.06409378, -0.37458383],\n",
       "       ...,\n",
       "       [-0.58770608, -1.09274787,  1.1635798 , ..., -0.95517338,\n",
       "         0.27746895,  2.35047506],\n",
       "       [-0.05059891, -0.29023149,  1.1635798 , ..., -0.94527135,\n",
       "        -0.75441004,  1.2604515 ],\n",
       "       [ 0.34180815, -0.15680106,  1.1635798 , ..., -0.83531646,\n",
       "         0.0869129 , -0.23833089]])"
      ]
     },
     "execution_count": 194,
     "metadata": {},
     "output_type": "execute_result"
    }
   ],
   "source": [
    "X_sc"
   ]
  },
  {
   "cell_type": "code",
   "execution_count": 195,
   "metadata": {},
   "outputs": [
    {
     "data": {
      "text/html": [
       "<div>\n",
       "<style scoped>\n",
       "    .dataframe tbody tr th:only-of-type {\n",
       "        vertical-align: middle;\n",
       "    }\n",
       "\n",
       "    .dataframe tbody tr th {\n",
       "        vertical-align: top;\n",
       "    }\n",
       "\n",
       "    .dataframe thead th {\n",
       "        text-align: right;\n",
       "    }\n",
       "</style>\n",
       "<table border=\"1\" class=\"dataframe\">\n",
       "  <thead>\n",
       "    <tr style=\"text-align: right;\">\n",
       "      <th></th>\n",
       "      <th>0</th>\n",
       "      <th>1</th>\n",
       "      <th>2</th>\n",
       "      <th>3</th>\n",
       "      <th>4</th>\n",
       "      <th>5</th>\n",
       "      <th>6</th>\n",
       "      <th>7</th>\n",
       "      <th>8</th>\n",
       "      <th>9</th>\n",
       "      <th>...</th>\n",
       "      <th>50</th>\n",
       "      <th>51</th>\n",
       "      <th>52</th>\n",
       "      <th>53</th>\n",
       "      <th>54</th>\n",
       "      <th>55</th>\n",
       "      <th>56</th>\n",
       "      <th>57</th>\n",
       "      <th>58</th>\n",
       "      <th>59</th>\n",
       "    </tr>\n",
       "  </thead>\n",
       "  <tbody>\n",
       "    <tr>\n",
       "      <th>0</th>\n",
       "      <td>1.617131</td>\n",
       "      <td>0.392391</td>\n",
       "      <td>1.163580</td>\n",
       "      <td>-0.068249</td>\n",
       "      <td>1.005612</td>\n",
       "      <td>-0.305574</td>\n",
       "      <td>-0.320706</td>\n",
       "      <td>-0.716427</td>\n",
       "      <td>2.157832</td>\n",
       "      <td>2.736713</td>\n",
       "      <td>...</td>\n",
       "      <td>-0.136136</td>\n",
       "      <td>-0.180899</td>\n",
       "      <td>0.592946</td>\n",
       "      <td>-0.299111</td>\n",
       "      <td>-0.333185</td>\n",
       "      <td>0.0</td>\n",
       "      <td>0.694716</td>\n",
       "      <td>0.252604</td>\n",
       "      <td>3.344343</td>\n",
       "      <td>2.077969</td>\n",
       "    </tr>\n",
       "    <tr>\n",
       "      <th>1</th>\n",
       "      <td>0.243706</td>\n",
       "      <td>-1.305463</td>\n",
       "      <td>1.163580</td>\n",
       "      <td>-0.077716</td>\n",
       "      <td>-0.074197</td>\n",
       "      <td>-0.305574</td>\n",
       "      <td>2.272749</td>\n",
       "      <td>0.506612</td>\n",
       "      <td>-0.948772</td>\n",
       "      <td>-0.313111</td>\n",
       "      <td>...</td>\n",
       "      <td>-0.136136</td>\n",
       "      <td>-1.212483</td>\n",
       "      <td>0.592946</td>\n",
       "      <td>0.254429</td>\n",
       "      <td>-0.333185</td>\n",
       "      <td>0.0</td>\n",
       "      <td>-0.153375</td>\n",
       "      <td>-0.621940</td>\n",
       "      <td>0.273874</td>\n",
       "      <td>0.987946</td>\n",
       "    </tr>\n",
       "    <tr>\n",
       "      <th>2</th>\n",
       "      <td>-0.148701</td>\n",
       "      <td>-1.197172</td>\n",
       "      <td>-0.231917</td>\n",
       "      <td>0.357785</td>\n",
       "      <td>0.508855</td>\n",
       "      <td>-0.305574</td>\n",
       "      <td>1.840506</td>\n",
       "      <td>-0.716427</td>\n",
       "      <td>1.013293</td>\n",
       "      <td>-0.315123</td>\n",
       "      <td>...</td>\n",
       "      <td>-0.136136</td>\n",
       "      <td>1.366476</td>\n",
       "      <td>0.592946</td>\n",
       "      <td>-0.935979</td>\n",
       "      <td>-0.333185</td>\n",
       "      <td>0.0</td>\n",
       "      <td>0.963659</td>\n",
       "      <td>0.975994</td>\n",
       "      <td>-0.064094</td>\n",
       "      <td>-0.374584</td>\n",
       "    </tr>\n",
       "    <tr>\n",
       "      <th>3</th>\n",
       "      <td>0.471793</td>\n",
       "      <td>-0.025304</td>\n",
       "      <td>-0.790116</td>\n",
       "      <td>-0.039847</td>\n",
       "      <td>2.305284</td>\n",
       "      <td>-0.305574</td>\n",
       "      <td>0.543779</td>\n",
       "      <td>-0.716427</td>\n",
       "      <td>0.849788</td>\n",
       "      <td>4.821300</td>\n",
       "      <td>...</td>\n",
       "      <td>-0.136136</td>\n",
       "      <td>-0.696691</td>\n",
       "      <td>0.592946</td>\n",
       "      <td>-0.510408</td>\n",
       "      <td>-0.333185</td>\n",
       "      <td>0.0</td>\n",
       "      <td>2.265113</td>\n",
       "      <td>2.441427</td>\n",
       "      <td>0.849137</td>\n",
       "      <td>2.077969</td>\n",
       "    </tr>\n",
       "    <tr>\n",
       "      <th>4</th>\n",
       "      <td>-0.443006</td>\n",
       "      <td>0.875834</td>\n",
       "      <td>0.605381</td>\n",
       "      <td>-0.153456</td>\n",
       "      <td>0.847280</td>\n",
       "      <td>-0.305574</td>\n",
       "      <td>-0.608868</td>\n",
       "      <td>0.506612</td>\n",
       "      <td>1.503810</td>\n",
       "      <td>-0.047625</td>\n",
       "      <td>...</td>\n",
       "      <td>-0.136136</td>\n",
       "      <td>-0.180899</td>\n",
       "      <td>0.334717</td>\n",
       "      <td>-0.123526</td>\n",
       "      <td>-0.333185</td>\n",
       "      <td>0.0</td>\n",
       "      <td>-0.141035</td>\n",
       "      <td>1.187610</td>\n",
       "      <td>0.550719</td>\n",
       "      <td>0.987946</td>\n",
       "    </tr>\n",
       "    <tr>\n",
       "      <th>...</th>\n",
       "      <td>...</td>\n",
       "      <td>...</td>\n",
       "      <td>...</td>\n",
       "      <td>...</td>\n",
       "      <td>...</td>\n",
       "      <td>...</td>\n",
       "      <td>...</td>\n",
       "      <td>...</td>\n",
       "      <td>...</td>\n",
       "      <td>...</td>\n",
       "      <td>...</td>\n",
       "      <td>...</td>\n",
       "      <td>...</td>\n",
       "      <td>...</td>\n",
       "      <td>...</td>\n",
       "      <td>...</td>\n",
       "      <td>...</td>\n",
       "      <td>...</td>\n",
       "      <td>...</td>\n",
       "      <td>...</td>\n",
       "      <td>...</td>\n",
       "    </tr>\n",
       "    <tr>\n",
       "      <th>254787</th>\n",
       "      <td>-0.148701</td>\n",
       "      <td>0.875834</td>\n",
       "      <td>-1.348315</td>\n",
       "      <td>-0.276532</td>\n",
       "      <td>0.848030</td>\n",
       "      <td>-0.305574</td>\n",
       "      <td>-0.320706</td>\n",
       "      <td>0.506612</td>\n",
       "      <td>-0.294750</td>\n",
       "      <td>-0.070695</td>\n",
       "      <td>...</td>\n",
       "      <td>-0.136136</td>\n",
       "      <td>0.334893</td>\n",
       "      <td>0.287766</td>\n",
       "      <td>0.552030</td>\n",
       "      <td>-0.333185</td>\n",
       "      <td>0.0</td>\n",
       "      <td>-0.273566</td>\n",
       "      <td>1.206720</td>\n",
       "      <td>0.072531</td>\n",
       "      <td>-0.238331</td>\n",
       "    </tr>\n",
       "    <tr>\n",
       "      <th>254788</th>\n",
       "      <td>-1.031617</td>\n",
       "      <td>-0.423662</td>\n",
       "      <td>1.163580</td>\n",
       "      <td>-0.106119</td>\n",
       "      <td>0.935075</td>\n",
       "      <td>-0.305574</td>\n",
       "      <td>0.399698</td>\n",
       "      <td>-0.716427</td>\n",
       "      <td>0.359272</td>\n",
       "      <td>0.441901</td>\n",
       "      <td>...</td>\n",
       "      <td>-0.136136</td>\n",
       "      <td>-0.696691</td>\n",
       "      <td>0.592946</td>\n",
       "      <td>0.055035</td>\n",
       "      <td>-0.333185</td>\n",
       "      <td>0.0</td>\n",
       "      <td>0.228948</td>\n",
       "      <td>0.360511</td>\n",
       "      <td>-0.606999</td>\n",
       "      <td>-0.374584</td>\n",
       "    </tr>\n",
       "    <tr>\n",
       "      <th>254789</th>\n",
       "      <td>-0.587706</td>\n",
       "      <td>-1.092748</td>\n",
       "      <td>1.163580</td>\n",
       "      <td>-0.484816</td>\n",
       "      <td>-0.536436</td>\n",
       "      <td>-0.305574</td>\n",
       "      <td>1.264183</td>\n",
       "      <td>0.506612</td>\n",
       "      <td>0.195766</td>\n",
       "      <td>-0.786854</td>\n",
       "      <td>...</td>\n",
       "      <td>-0.136136</td>\n",
       "      <td>1.366476</td>\n",
       "      <td>0.358192</td>\n",
       "      <td>-0.935979</td>\n",
       "      <td>-0.333185</td>\n",
       "      <td>0.0</td>\n",
       "      <td>-0.726705</td>\n",
       "      <td>-0.955173</td>\n",
       "      <td>0.277469</td>\n",
       "      <td>2.350475</td>\n",
       "    </tr>\n",
       "    <tr>\n",
       "      <th>254790</th>\n",
       "      <td>-0.050599</td>\n",
       "      <td>-0.290231</td>\n",
       "      <td>1.163580</td>\n",
       "      <td>-0.106119</td>\n",
       "      <td>-1.078966</td>\n",
       "      <td>-0.305574</td>\n",
       "      <td>0.255617</td>\n",
       "      <td>2.952691</td>\n",
       "      <td>0.195766</td>\n",
       "      <td>-0.691757</td>\n",
       "      <td>...</td>\n",
       "      <td>-0.136136</td>\n",
       "      <td>2.913852</td>\n",
       "      <td>-1.085543</td>\n",
       "      <td>-0.935979</td>\n",
       "      <td>-0.333185</td>\n",
       "      <td>0.0</td>\n",
       "      <td>-0.972996</td>\n",
       "      <td>-0.945271</td>\n",
       "      <td>-0.754410</td>\n",
       "      <td>1.260452</td>\n",
       "    </tr>\n",
       "    <tr>\n",
       "      <th>254791</th>\n",
       "      <td>0.341808</td>\n",
       "      <td>-0.156801</td>\n",
       "      <td>1.163580</td>\n",
       "      <td>-0.125054</td>\n",
       "      <td>-0.769056</td>\n",
       "      <td>-0.305574</td>\n",
       "      <td>-0.176626</td>\n",
       "      <td>-0.716427</td>\n",
       "      <td>-0.458256</td>\n",
       "      <td>-0.257134</td>\n",
       "      <td>...</td>\n",
       "      <td>-0.136136</td>\n",
       "      <td>-0.180899</td>\n",
       "      <td>0.592946</td>\n",
       "      <td>-0.935979</td>\n",
       "      <td>-0.333185</td>\n",
       "      <td>0.0</td>\n",
       "      <td>0.730758</td>\n",
       "      <td>-0.835316</td>\n",
       "      <td>0.086913</td>\n",
       "      <td>-0.238331</td>\n",
       "    </tr>\n",
       "  </tbody>\n",
       "</table>\n",
       "<p>254792 rows × 60 columns</p>\n",
       "</div>"
      ],
      "text/plain": [
       "              0         1         2         3         4         5         6   \\\n",
       "0       1.617131  0.392391  1.163580 -0.068249  1.005612 -0.305574 -0.320706   \n",
       "1       0.243706 -1.305463  1.163580 -0.077716 -0.074197 -0.305574  2.272749   \n",
       "2      -0.148701 -1.197172 -0.231917  0.357785  0.508855 -0.305574  1.840506   \n",
       "3       0.471793 -0.025304 -0.790116 -0.039847  2.305284 -0.305574  0.543779   \n",
       "4      -0.443006  0.875834  0.605381 -0.153456  0.847280 -0.305574 -0.608868   \n",
       "...          ...       ...       ...       ...       ...       ...       ...   \n",
       "254787 -0.148701  0.875834 -1.348315 -0.276532  0.848030 -0.305574 -0.320706   \n",
       "254788 -1.031617 -0.423662  1.163580 -0.106119  0.935075 -0.305574  0.399698   \n",
       "254789 -0.587706 -1.092748  1.163580 -0.484816 -0.536436 -0.305574  1.264183   \n",
       "254790 -0.050599 -0.290231  1.163580 -0.106119 -1.078966 -0.305574  0.255617   \n",
       "254791  0.341808 -0.156801  1.163580 -0.125054 -0.769056 -0.305574 -0.176626   \n",
       "\n",
       "              7         8         9   ...        50        51        52  \\\n",
       "0      -0.716427  2.157832  2.736713  ... -0.136136 -0.180899  0.592946   \n",
       "1       0.506612 -0.948772 -0.313111  ... -0.136136 -1.212483  0.592946   \n",
       "2      -0.716427  1.013293 -0.315123  ... -0.136136  1.366476  0.592946   \n",
       "3      -0.716427  0.849788  4.821300  ... -0.136136 -0.696691  0.592946   \n",
       "4       0.506612  1.503810 -0.047625  ... -0.136136 -0.180899  0.334717   \n",
       "...          ...       ...       ...  ...       ...       ...       ...   \n",
       "254787  0.506612 -0.294750 -0.070695  ... -0.136136  0.334893  0.287766   \n",
       "254788 -0.716427  0.359272  0.441901  ... -0.136136 -0.696691  0.592946   \n",
       "254789  0.506612  0.195766 -0.786854  ... -0.136136  1.366476  0.358192   \n",
       "254790  2.952691  0.195766 -0.691757  ... -0.136136  2.913852 -1.085543   \n",
       "254791 -0.716427 -0.458256 -0.257134  ... -0.136136 -0.180899  0.592946   \n",
       "\n",
       "              53        54   55        56        57        58        59  \n",
       "0      -0.299111 -0.333185  0.0  0.694716  0.252604  3.344343  2.077969  \n",
       "1       0.254429 -0.333185  0.0 -0.153375 -0.621940  0.273874  0.987946  \n",
       "2      -0.935979 -0.333185  0.0  0.963659  0.975994 -0.064094 -0.374584  \n",
       "3      -0.510408 -0.333185  0.0  2.265113  2.441427  0.849137  2.077969  \n",
       "4      -0.123526 -0.333185  0.0 -0.141035  1.187610  0.550719  0.987946  \n",
       "...          ...       ...  ...       ...       ...       ...       ...  \n",
       "254787  0.552030 -0.333185  0.0 -0.273566  1.206720  0.072531 -0.238331  \n",
       "254788  0.055035 -0.333185  0.0  0.228948  0.360511 -0.606999 -0.374584  \n",
       "254789 -0.935979 -0.333185  0.0 -0.726705 -0.955173  0.277469  2.350475  \n",
       "254790 -0.935979 -0.333185  0.0 -0.972996 -0.945271 -0.754410  1.260452  \n",
       "254791 -0.935979 -0.333185  0.0  0.730758 -0.835316  0.086913 -0.238331  \n",
       "\n",
       "[254792 rows x 60 columns]"
      ]
     },
     "execution_count": 195,
     "metadata": {},
     "output_type": "execute_result"
    }
   ],
   "source": [
    "pd.DataFrame(X_sc)"
   ]
  },
  {
   "cell_type": "code",
   "execution_count": 196,
   "metadata": {},
   "outputs": [
    {
     "data": {
      "text/html": [
       "<div>\n",
       "<style scoped>\n",
       "    .dataframe tbody tr th:only-of-type {\n",
       "        vertical-align: middle;\n",
       "    }\n",
       "\n",
       "    .dataframe tbody tr th {\n",
       "        vertical-align: top;\n",
       "    }\n",
       "\n",
       "    .dataframe thead th {\n",
       "        text-align: right;\n",
       "    }\n",
       "</style>\n",
       "<table border=\"1\" class=\"dataframe\">\n",
       "  <thead>\n",
       "    <tr style=\"text-align: right;\">\n",
       "      <th></th>\n",
       "      <th>loan_amnt</th>\n",
       "      <th>int_rate</th>\n",
       "      <th>emp_length</th>\n",
       "      <th>annual_inc</th>\n",
       "      <th>dti</th>\n",
       "      <th>delinq_2yrs</th>\n",
       "      <th>fico_range_low</th>\n",
       "      <th>inq_last_6mths</th>\n",
       "      <th>open_acc</th>\n",
       "      <th>revol_bal</th>\n",
       "      <th>...</th>\n",
       "      <th>num_tl_90g_dpd_24m</th>\n",
       "      <th>num_tl_op_past_12m</th>\n",
       "      <th>pct_tl_nvr_dlq</th>\n",
       "      <th>percent_bc_gt_75</th>\n",
       "      <th>pub_rec_bankruptcies</th>\n",
       "      <th>tax_liens</th>\n",
       "      <th>tot_hi_cred_lim</th>\n",
       "      <th>total_bal_ex_mort</th>\n",
       "      <th>total_bc_limit</th>\n",
       "      <th>age_oldest_line</th>\n",
       "    </tr>\n",
       "  </thead>\n",
       "  <tbody>\n",
       "    <tr>\n",
       "      <th>0</th>\n",
       "      <td>1.617131</td>\n",
       "      <td>0.392391</td>\n",
       "      <td>1.163580</td>\n",
       "      <td>-0.068249</td>\n",
       "      <td>1.005612</td>\n",
       "      <td>-0.305574</td>\n",
       "      <td>-0.320706</td>\n",
       "      <td>-0.716427</td>\n",
       "      <td>2.157832</td>\n",
       "      <td>2.736713</td>\n",
       "      <td>...</td>\n",
       "      <td>-0.136136</td>\n",
       "      <td>-0.180899</td>\n",
       "      <td>0.592946</td>\n",
       "      <td>-0.299111</td>\n",
       "      <td>-0.333185</td>\n",
       "      <td>0.0</td>\n",
       "      <td>0.694716</td>\n",
       "      <td>0.252604</td>\n",
       "      <td>3.344343</td>\n",
       "      <td>2.077969</td>\n",
       "    </tr>\n",
       "    <tr>\n",
       "      <th>1</th>\n",
       "      <td>0.243706</td>\n",
       "      <td>-1.305463</td>\n",
       "      <td>1.163580</td>\n",
       "      <td>-0.077716</td>\n",
       "      <td>-0.074197</td>\n",
       "      <td>-0.305574</td>\n",
       "      <td>2.272749</td>\n",
       "      <td>0.506612</td>\n",
       "      <td>-0.948772</td>\n",
       "      <td>-0.313111</td>\n",
       "      <td>...</td>\n",
       "      <td>-0.136136</td>\n",
       "      <td>-1.212483</td>\n",
       "      <td>0.592946</td>\n",
       "      <td>0.254429</td>\n",
       "      <td>-0.333185</td>\n",
       "      <td>0.0</td>\n",
       "      <td>-0.153375</td>\n",
       "      <td>-0.621940</td>\n",
       "      <td>0.273874</td>\n",
       "      <td>0.987946</td>\n",
       "    </tr>\n",
       "    <tr>\n",
       "      <th>2</th>\n",
       "      <td>-0.148701</td>\n",
       "      <td>-1.197172</td>\n",
       "      <td>-0.231917</td>\n",
       "      <td>0.357785</td>\n",
       "      <td>0.508855</td>\n",
       "      <td>-0.305574</td>\n",
       "      <td>1.840506</td>\n",
       "      <td>-0.716427</td>\n",
       "      <td>1.013293</td>\n",
       "      <td>-0.315123</td>\n",
       "      <td>...</td>\n",
       "      <td>-0.136136</td>\n",
       "      <td>1.366476</td>\n",
       "      <td>0.592946</td>\n",
       "      <td>-0.935979</td>\n",
       "      <td>-0.333185</td>\n",
       "      <td>0.0</td>\n",
       "      <td>0.963659</td>\n",
       "      <td>0.975994</td>\n",
       "      <td>-0.064094</td>\n",
       "      <td>-0.374584</td>\n",
       "    </tr>\n",
       "    <tr>\n",
       "      <th>3</th>\n",
       "      <td>0.471793</td>\n",
       "      <td>-0.025304</td>\n",
       "      <td>-0.790116</td>\n",
       "      <td>-0.039847</td>\n",
       "      <td>2.305284</td>\n",
       "      <td>-0.305574</td>\n",
       "      <td>0.543779</td>\n",
       "      <td>-0.716427</td>\n",
       "      <td>0.849788</td>\n",
       "      <td>4.821300</td>\n",
       "      <td>...</td>\n",
       "      <td>-0.136136</td>\n",
       "      <td>-0.696691</td>\n",
       "      <td>0.592946</td>\n",
       "      <td>-0.510408</td>\n",
       "      <td>-0.333185</td>\n",
       "      <td>0.0</td>\n",
       "      <td>2.265113</td>\n",
       "      <td>2.441427</td>\n",
       "      <td>0.849137</td>\n",
       "      <td>2.077969</td>\n",
       "    </tr>\n",
       "    <tr>\n",
       "      <th>4</th>\n",
       "      <td>-0.443006</td>\n",
       "      <td>0.875834</td>\n",
       "      <td>0.605381</td>\n",
       "      <td>-0.153456</td>\n",
       "      <td>0.847280</td>\n",
       "      <td>-0.305574</td>\n",
       "      <td>-0.608868</td>\n",
       "      <td>0.506612</td>\n",
       "      <td>1.503810</td>\n",
       "      <td>-0.047625</td>\n",
       "      <td>...</td>\n",
       "      <td>-0.136136</td>\n",
       "      <td>-0.180899</td>\n",
       "      <td>0.334717</td>\n",
       "      <td>-0.123526</td>\n",
       "      <td>-0.333185</td>\n",
       "      <td>0.0</td>\n",
       "      <td>-0.141035</td>\n",
       "      <td>1.187610</td>\n",
       "      <td>0.550719</td>\n",
       "      <td>0.987946</td>\n",
       "    </tr>\n",
       "    <tr>\n",
       "      <th>...</th>\n",
       "      <td>...</td>\n",
       "      <td>...</td>\n",
       "      <td>...</td>\n",
       "      <td>...</td>\n",
       "      <td>...</td>\n",
       "      <td>...</td>\n",
       "      <td>...</td>\n",
       "      <td>...</td>\n",
       "      <td>...</td>\n",
       "      <td>...</td>\n",
       "      <td>...</td>\n",
       "      <td>...</td>\n",
       "      <td>...</td>\n",
       "      <td>...</td>\n",
       "      <td>...</td>\n",
       "      <td>...</td>\n",
       "      <td>...</td>\n",
       "      <td>...</td>\n",
       "      <td>...</td>\n",
       "      <td>...</td>\n",
       "      <td>...</td>\n",
       "    </tr>\n",
       "    <tr>\n",
       "      <th>254787</th>\n",
       "      <td>-0.148701</td>\n",
       "      <td>0.875834</td>\n",
       "      <td>-1.348315</td>\n",
       "      <td>-0.276532</td>\n",
       "      <td>0.848030</td>\n",
       "      <td>-0.305574</td>\n",
       "      <td>-0.320706</td>\n",
       "      <td>0.506612</td>\n",
       "      <td>-0.294750</td>\n",
       "      <td>-0.070695</td>\n",
       "      <td>...</td>\n",
       "      <td>-0.136136</td>\n",
       "      <td>0.334893</td>\n",
       "      <td>0.287766</td>\n",
       "      <td>0.552030</td>\n",
       "      <td>-0.333185</td>\n",
       "      <td>0.0</td>\n",
       "      <td>-0.273566</td>\n",
       "      <td>1.206720</td>\n",
       "      <td>0.072531</td>\n",
       "      <td>-0.238331</td>\n",
       "    </tr>\n",
       "    <tr>\n",
       "      <th>254788</th>\n",
       "      <td>-1.031617</td>\n",
       "      <td>-0.423662</td>\n",
       "      <td>1.163580</td>\n",
       "      <td>-0.106119</td>\n",
       "      <td>0.935075</td>\n",
       "      <td>-0.305574</td>\n",
       "      <td>0.399698</td>\n",
       "      <td>-0.716427</td>\n",
       "      <td>0.359272</td>\n",
       "      <td>0.441901</td>\n",
       "      <td>...</td>\n",
       "      <td>-0.136136</td>\n",
       "      <td>-0.696691</td>\n",
       "      <td>0.592946</td>\n",
       "      <td>0.055035</td>\n",
       "      <td>-0.333185</td>\n",
       "      <td>0.0</td>\n",
       "      <td>0.228948</td>\n",
       "      <td>0.360511</td>\n",
       "      <td>-0.606999</td>\n",
       "      <td>-0.374584</td>\n",
       "    </tr>\n",
       "    <tr>\n",
       "      <th>254789</th>\n",
       "      <td>-0.587706</td>\n",
       "      <td>-1.092748</td>\n",
       "      <td>1.163580</td>\n",
       "      <td>-0.484816</td>\n",
       "      <td>-0.536436</td>\n",
       "      <td>-0.305574</td>\n",
       "      <td>1.264183</td>\n",
       "      <td>0.506612</td>\n",
       "      <td>0.195766</td>\n",
       "      <td>-0.786854</td>\n",
       "      <td>...</td>\n",
       "      <td>-0.136136</td>\n",
       "      <td>1.366476</td>\n",
       "      <td>0.358192</td>\n",
       "      <td>-0.935979</td>\n",
       "      <td>-0.333185</td>\n",
       "      <td>0.0</td>\n",
       "      <td>-0.726705</td>\n",
       "      <td>-0.955173</td>\n",
       "      <td>0.277469</td>\n",
       "      <td>2.350475</td>\n",
       "    </tr>\n",
       "    <tr>\n",
       "      <th>254790</th>\n",
       "      <td>-0.050599</td>\n",
       "      <td>-0.290231</td>\n",
       "      <td>1.163580</td>\n",
       "      <td>-0.106119</td>\n",
       "      <td>-1.078966</td>\n",
       "      <td>-0.305574</td>\n",
       "      <td>0.255617</td>\n",
       "      <td>2.952691</td>\n",
       "      <td>0.195766</td>\n",
       "      <td>-0.691757</td>\n",
       "      <td>...</td>\n",
       "      <td>-0.136136</td>\n",
       "      <td>2.913852</td>\n",
       "      <td>-1.085543</td>\n",
       "      <td>-0.935979</td>\n",
       "      <td>-0.333185</td>\n",
       "      <td>0.0</td>\n",
       "      <td>-0.972996</td>\n",
       "      <td>-0.945271</td>\n",
       "      <td>-0.754410</td>\n",
       "      <td>1.260452</td>\n",
       "    </tr>\n",
       "    <tr>\n",
       "      <th>254791</th>\n",
       "      <td>0.341808</td>\n",
       "      <td>-0.156801</td>\n",
       "      <td>1.163580</td>\n",
       "      <td>-0.125054</td>\n",
       "      <td>-0.769056</td>\n",
       "      <td>-0.305574</td>\n",
       "      <td>-0.176626</td>\n",
       "      <td>-0.716427</td>\n",
       "      <td>-0.458256</td>\n",
       "      <td>-0.257134</td>\n",
       "      <td>...</td>\n",
       "      <td>-0.136136</td>\n",
       "      <td>-0.180899</td>\n",
       "      <td>0.592946</td>\n",
       "      <td>-0.935979</td>\n",
       "      <td>-0.333185</td>\n",
       "      <td>0.0</td>\n",
       "      <td>0.730758</td>\n",
       "      <td>-0.835316</td>\n",
       "      <td>0.086913</td>\n",
       "      <td>-0.238331</td>\n",
       "    </tr>\n",
       "  </tbody>\n",
       "</table>\n",
       "<p>254792 rows × 60 columns</p>\n",
       "</div>"
      ],
      "text/plain": [
       "        loan_amnt  int_rate  emp_length  annual_inc       dti  delinq_2yrs  \\\n",
       "0        1.617131  0.392391    1.163580   -0.068249  1.005612    -0.305574   \n",
       "1        0.243706 -1.305463    1.163580   -0.077716 -0.074197    -0.305574   \n",
       "2       -0.148701 -1.197172   -0.231917    0.357785  0.508855    -0.305574   \n",
       "3        0.471793 -0.025304   -0.790116   -0.039847  2.305284    -0.305574   \n",
       "4       -0.443006  0.875834    0.605381   -0.153456  0.847280    -0.305574   \n",
       "...           ...       ...         ...         ...       ...          ...   \n",
       "254787  -0.148701  0.875834   -1.348315   -0.276532  0.848030    -0.305574   \n",
       "254788  -1.031617 -0.423662    1.163580   -0.106119  0.935075    -0.305574   \n",
       "254789  -0.587706 -1.092748    1.163580   -0.484816 -0.536436    -0.305574   \n",
       "254790  -0.050599 -0.290231    1.163580   -0.106119 -1.078966    -0.305574   \n",
       "254791   0.341808 -0.156801    1.163580   -0.125054 -0.769056    -0.305574   \n",
       "\n",
       "        fico_range_low  inq_last_6mths  open_acc  revol_bal  ...  \\\n",
       "0            -0.320706       -0.716427  2.157832   2.736713  ...   \n",
       "1             2.272749        0.506612 -0.948772  -0.313111  ...   \n",
       "2             1.840506       -0.716427  1.013293  -0.315123  ...   \n",
       "3             0.543779       -0.716427  0.849788   4.821300  ...   \n",
       "4            -0.608868        0.506612  1.503810  -0.047625  ...   \n",
       "...                ...             ...       ...        ...  ...   \n",
       "254787       -0.320706        0.506612 -0.294750  -0.070695  ...   \n",
       "254788        0.399698       -0.716427  0.359272   0.441901  ...   \n",
       "254789        1.264183        0.506612  0.195766  -0.786854  ...   \n",
       "254790        0.255617        2.952691  0.195766  -0.691757  ...   \n",
       "254791       -0.176626       -0.716427 -0.458256  -0.257134  ...   \n",
       "\n",
       "        num_tl_90g_dpd_24m  num_tl_op_past_12m  pct_tl_nvr_dlq  \\\n",
       "0                -0.136136           -0.180899        0.592946   \n",
       "1                -0.136136           -1.212483        0.592946   \n",
       "2                -0.136136            1.366476        0.592946   \n",
       "3                -0.136136           -0.696691        0.592946   \n",
       "4                -0.136136           -0.180899        0.334717   \n",
       "...                    ...                 ...             ...   \n",
       "254787           -0.136136            0.334893        0.287766   \n",
       "254788           -0.136136           -0.696691        0.592946   \n",
       "254789           -0.136136            1.366476        0.358192   \n",
       "254790           -0.136136            2.913852       -1.085543   \n",
       "254791           -0.136136           -0.180899        0.592946   \n",
       "\n",
       "        percent_bc_gt_75  pub_rec_bankruptcies  tax_liens  tot_hi_cred_lim  \\\n",
       "0              -0.299111             -0.333185        0.0         0.694716   \n",
       "1               0.254429             -0.333185        0.0        -0.153375   \n",
       "2              -0.935979             -0.333185        0.0         0.963659   \n",
       "3              -0.510408             -0.333185        0.0         2.265113   \n",
       "4              -0.123526             -0.333185        0.0        -0.141035   \n",
       "...                  ...                   ...        ...              ...   \n",
       "254787          0.552030             -0.333185        0.0        -0.273566   \n",
       "254788          0.055035             -0.333185        0.0         0.228948   \n",
       "254789         -0.935979             -0.333185        0.0        -0.726705   \n",
       "254790         -0.935979             -0.333185        0.0        -0.972996   \n",
       "254791         -0.935979             -0.333185        0.0         0.730758   \n",
       "\n",
       "        total_bal_ex_mort  total_bc_limit  age_oldest_line  \n",
       "0                0.252604        3.344343         2.077969  \n",
       "1               -0.621940        0.273874         0.987946  \n",
       "2                0.975994       -0.064094        -0.374584  \n",
       "3                2.441427        0.849137         2.077969  \n",
       "4                1.187610        0.550719         0.987946  \n",
       "...                   ...             ...              ...  \n",
       "254787           1.206720        0.072531        -0.238331  \n",
       "254788           0.360511       -0.606999        -0.374584  \n",
       "254789          -0.955173        0.277469         2.350475  \n",
       "254790          -0.945271       -0.754410         1.260452  \n",
       "254791          -0.835316        0.086913        -0.238331  \n",
       "\n",
       "[254792 rows x 60 columns]"
      ]
     },
     "execution_count": 196,
     "metadata": {},
     "output_type": "execute_result"
    }
   ],
   "source": [
    "pd.DataFrame(X_sc, columns=X.columns) #turning X_sc into a dataframe"
   ]
  },
  {
   "cell_type": "code",
   "execution_count": 197,
   "metadata": {},
   "outputs": [
    {
     "data": {
      "text/html": [
       "<div>\n",
       "<style scoped>\n",
       "    .dataframe tbody tr th:only-of-type {\n",
       "        vertical-align: middle;\n",
       "    }\n",
       "\n",
       "    .dataframe tbody tr th {\n",
       "        vertical-align: top;\n",
       "    }\n",
       "\n",
       "    .dataframe thead th {\n",
       "        text-align: right;\n",
       "    }\n",
       "</style>\n",
       "<table border=\"1\" class=\"dataframe\">\n",
       "  <thead>\n",
       "    <tr style=\"text-align: right;\">\n",
       "      <th></th>\n",
       "      <th>term_ 60 months</th>\n",
       "      <th>purpose_debt_consolidation</th>\n",
       "      <th>purpose_home_improvement</th>\n",
       "      <th>purpose_other</th>\n",
       "      <th>grade_B</th>\n",
       "      <th>grade_C</th>\n",
       "      <th>grade_D</th>\n",
       "      <th>home_ownership_OWN</th>\n",
       "      <th>home_ownership_RENT</th>\n",
       "      <th>verification_status_Source Verified</th>\n",
       "      <th>verification_status_Verified</th>\n",
       "    </tr>\n",
       "  </thead>\n",
       "  <tbody>\n",
       "    <tr>\n",
       "      <th>0</th>\n",
       "      <td>1</td>\n",
       "      <td>0</td>\n",
       "      <td>0</td>\n",
       "      <td>0</td>\n",
       "      <td>0</td>\n",
       "      <td>1</td>\n",
       "      <td>0</td>\n",
       "      <td>0</td>\n",
       "      <td>0</td>\n",
       "      <td>1</td>\n",
       "      <td>0</td>\n",
       "    </tr>\n",
       "    <tr>\n",
       "      <th>1</th>\n",
       "      <td>0</td>\n",
       "      <td>1</td>\n",
       "      <td>0</td>\n",
       "      <td>0</td>\n",
       "      <td>0</td>\n",
       "      <td>0</td>\n",
       "      <td>0</td>\n",
       "      <td>0</td>\n",
       "      <td>0</td>\n",
       "      <td>0</td>\n",
       "      <td>1</td>\n",
       "    </tr>\n",
       "    <tr>\n",
       "      <th>2</th>\n",
       "      <td>0</td>\n",
       "      <td>0</td>\n",
       "      <td>0</td>\n",
       "      <td>0</td>\n",
       "      <td>0</td>\n",
       "      <td>0</td>\n",
       "      <td>0</td>\n",
       "      <td>0</td>\n",
       "      <td>0</td>\n",
       "      <td>1</td>\n",
       "      <td>0</td>\n",
       "    </tr>\n",
       "    <tr>\n",
       "      <th>3</th>\n",
       "      <td>1</td>\n",
       "      <td>0</td>\n",
       "      <td>1</td>\n",
       "      <td>0</td>\n",
       "      <td>1</td>\n",
       "      <td>0</td>\n",
       "      <td>0</td>\n",
       "      <td>0</td>\n",
       "      <td>0</td>\n",
       "      <td>0</td>\n",
       "      <td>1</td>\n",
       "    </tr>\n",
       "    <tr>\n",
       "      <th>4</th>\n",
       "      <td>1</td>\n",
       "      <td>0</td>\n",
       "      <td>0</td>\n",
       "      <td>0</td>\n",
       "      <td>0</td>\n",
       "      <td>1</td>\n",
       "      <td>0</td>\n",
       "      <td>0</td>\n",
       "      <td>1</td>\n",
       "      <td>0</td>\n",
       "      <td>1</td>\n",
       "    </tr>\n",
       "    <tr>\n",
       "      <th>...</th>\n",
       "      <td>...</td>\n",
       "      <td>...</td>\n",
       "      <td>...</td>\n",
       "      <td>...</td>\n",
       "      <td>...</td>\n",
       "      <td>...</td>\n",
       "      <td>...</td>\n",
       "      <td>...</td>\n",
       "      <td>...</td>\n",
       "      <td>...</td>\n",
       "      <td>...</td>\n",
       "    </tr>\n",
       "    <tr>\n",
       "      <th>254789</th>\n",
       "      <td>0</td>\n",
       "      <td>0</td>\n",
       "      <td>0</td>\n",
       "      <td>0</td>\n",
       "      <td>0</td>\n",
       "      <td>1</td>\n",
       "      <td>0</td>\n",
       "      <td>0</td>\n",
       "      <td>1</td>\n",
       "      <td>1</td>\n",
       "      <td>0</td>\n",
       "    </tr>\n",
       "    <tr>\n",
       "      <th>254790</th>\n",
       "      <td>0</td>\n",
       "      <td>0</td>\n",
       "      <td>0</td>\n",
       "      <td>1</td>\n",
       "      <td>1</td>\n",
       "      <td>0</td>\n",
       "      <td>0</td>\n",
       "      <td>0</td>\n",
       "      <td>0</td>\n",
       "      <td>0</td>\n",
       "      <td>0</td>\n",
       "    </tr>\n",
       "    <tr>\n",
       "      <th>254791</th>\n",
       "      <td>0</td>\n",
       "      <td>0</td>\n",
       "      <td>0</td>\n",
       "      <td>1</td>\n",
       "      <td>0</td>\n",
       "      <td>0</td>\n",
       "      <td>0</td>\n",
       "      <td>1</td>\n",
       "      <td>0</td>\n",
       "      <td>1</td>\n",
       "      <td>0</td>\n",
       "    </tr>\n",
       "    <tr>\n",
       "      <th>254792</th>\n",
       "      <td>0</td>\n",
       "      <td>1</td>\n",
       "      <td>0</td>\n",
       "      <td>0</td>\n",
       "      <td>1</td>\n",
       "      <td>0</td>\n",
       "      <td>0</td>\n",
       "      <td>0</td>\n",
       "      <td>1</td>\n",
       "      <td>1</td>\n",
       "      <td>0</td>\n",
       "    </tr>\n",
       "    <tr>\n",
       "      <th>254793</th>\n",
       "      <td>0</td>\n",
       "      <td>0</td>\n",
       "      <td>0</td>\n",
       "      <td>1</td>\n",
       "      <td>1</td>\n",
       "      <td>0</td>\n",
       "      <td>0</td>\n",
       "      <td>0</td>\n",
       "      <td>0</td>\n",
       "      <td>0</td>\n",
       "      <td>0</td>\n",
       "    </tr>\n",
       "  </tbody>\n",
       "</table>\n",
       "<p>254792 rows × 11 columns</p>\n",
       "</div>"
      ],
      "text/plain": [
       "        term_ 60 months  purpose_debt_consolidation  purpose_home_improvement  \\\n",
       "0                     1                           0                         0   \n",
       "1                     0                           1                         0   \n",
       "2                     0                           0                         0   \n",
       "3                     1                           0                         1   \n",
       "4                     1                           0                         0   \n",
       "...                 ...                         ...                       ...   \n",
       "254789                0                           0                         0   \n",
       "254790                0                           0                         0   \n",
       "254791                0                           0                         0   \n",
       "254792                0                           1                         0   \n",
       "254793                0                           0                         0   \n",
       "\n",
       "        purpose_other  grade_B  grade_C  grade_D  home_ownership_OWN  \\\n",
       "0                   0        0        1        0                   0   \n",
       "1                   0        0        0        0                   0   \n",
       "2                   0        0        0        0                   0   \n",
       "3                   0        1        0        0                   0   \n",
       "4                   0        0        1        0                   0   \n",
       "...               ...      ...      ...      ...                 ...   \n",
       "254789              0        0        1        0                   0   \n",
       "254790              1        1        0        0                   0   \n",
       "254791              1        0        0        0                   1   \n",
       "254792              0        1        0        0                   0   \n",
       "254793              1        1        0        0                   0   \n",
       "\n",
       "        home_ownership_RENT  verification_status_Source Verified  \\\n",
       "0                         0                                    1   \n",
       "1                         0                                    0   \n",
       "2                         0                                    1   \n",
       "3                         0                                    0   \n",
       "4                         1                                    0   \n",
       "...                     ...                                  ...   \n",
       "254789                    1                                    1   \n",
       "254790                    0                                    0   \n",
       "254791                    0                                    1   \n",
       "254792                    1                                    1   \n",
       "254793                    0                                    0   \n",
       "\n",
       "        verification_status_Verified  \n",
       "0                                  0  \n",
       "1                                  1  \n",
       "2                                  0  \n",
       "3                                  1  \n",
       "4                                  1  \n",
       "...                              ...  \n",
       "254789                             0  \n",
       "254790                             0  \n",
       "254791                             0  \n",
       "254792                             0  \n",
       "254793                             0  \n",
       "\n",
       "[254792 rows x 11 columns]"
      ]
     },
     "execution_count": 197,
     "metadata": {},
     "output_type": "execute_result"
    }
   ],
   "source": [
    "df_dummies"
   ]
  },
  {
   "cell_type": "code",
   "execution_count": 198,
   "metadata": {},
   "outputs": [],
   "source": [
    "df_sc = pd.DataFrame(X_sc, columns=X.columns)  #gave it a name"
   ]
  },
  {
   "cell_type": "code",
   "execution_count": 199,
   "metadata": {},
   "outputs": [
    {
     "data": {
      "text/plain": [
       "0"
      ]
     },
     "execution_count": 199,
     "metadata": {},
     "output_type": "execute_result"
    }
   ],
   "source": [
    "df_sc.isna().sum().sum()"
   ]
  },
  {
   "cell_type": "code",
   "execution_count": 200,
   "metadata": {},
   "outputs": [
    {
     "data": {
      "text/plain": [
       "0"
      ]
     },
     "execution_count": 200,
     "metadata": {},
     "output_type": "execute_result"
    }
   ],
   "source": [
    "df_dummies.isna().sum().sum()"
   ]
  },
  {
   "cell_type": "code",
   "execution_count": 201,
   "metadata": {},
   "outputs": [
    {
     "data": {
      "text/plain": [
       "0"
      ]
     },
     "execution_count": 201,
     "metadata": {},
     "output_type": "execute_result"
    }
   ],
   "source": [
    "pd.concat([df_dummies, df_sc], axis=1).dropna().isna().sum().sum()"
   ]
  },
  {
   "cell_type": "code",
   "execution_count": 202,
   "metadata": {},
   "outputs": [],
   "source": [
    "df_final = pd.concat([df_dummies, df_sc], axis=1, join='inner')"
   ]
  },
  {
   "cell_type": "code",
   "execution_count": 203,
   "metadata": {},
   "outputs": [
    {
     "data": {
      "text/html": [
       "<div>\n",
       "<style scoped>\n",
       "    .dataframe tbody tr th:only-of-type {\n",
       "        vertical-align: middle;\n",
       "    }\n",
       "\n",
       "    .dataframe tbody tr th {\n",
       "        vertical-align: top;\n",
       "    }\n",
       "\n",
       "    .dataframe thead th {\n",
       "        text-align: right;\n",
       "    }\n",
       "</style>\n",
       "<table border=\"1\" class=\"dataframe\">\n",
       "  <thead>\n",
       "    <tr style=\"text-align: right;\">\n",
       "      <th></th>\n",
       "      <th>term_ 60 months</th>\n",
       "      <th>purpose_debt_consolidation</th>\n",
       "      <th>purpose_home_improvement</th>\n",
       "      <th>purpose_other</th>\n",
       "      <th>grade_B</th>\n",
       "      <th>grade_C</th>\n",
       "      <th>grade_D</th>\n",
       "      <th>home_ownership_OWN</th>\n",
       "      <th>home_ownership_RENT</th>\n",
       "      <th>verification_status_Source Verified</th>\n",
       "      <th>...</th>\n",
       "      <th>num_tl_90g_dpd_24m</th>\n",
       "      <th>num_tl_op_past_12m</th>\n",
       "      <th>pct_tl_nvr_dlq</th>\n",
       "      <th>percent_bc_gt_75</th>\n",
       "      <th>pub_rec_bankruptcies</th>\n",
       "      <th>tax_liens</th>\n",
       "      <th>tot_hi_cred_lim</th>\n",
       "      <th>total_bal_ex_mort</th>\n",
       "      <th>total_bc_limit</th>\n",
       "      <th>age_oldest_line</th>\n",
       "    </tr>\n",
       "  </thead>\n",
       "  <tbody>\n",
       "    <tr>\n",
       "      <th>0</th>\n",
       "      <td>1</td>\n",
       "      <td>0</td>\n",
       "      <td>0</td>\n",
       "      <td>0</td>\n",
       "      <td>0</td>\n",
       "      <td>1</td>\n",
       "      <td>0</td>\n",
       "      <td>0</td>\n",
       "      <td>0</td>\n",
       "      <td>1</td>\n",
       "      <td>...</td>\n",
       "      <td>-0.136136</td>\n",
       "      <td>-0.180899</td>\n",
       "      <td>0.592946</td>\n",
       "      <td>-0.299111</td>\n",
       "      <td>-0.333185</td>\n",
       "      <td>0.0</td>\n",
       "      <td>0.694716</td>\n",
       "      <td>0.252604</td>\n",
       "      <td>3.344343</td>\n",
       "      <td>2.077969</td>\n",
       "    </tr>\n",
       "    <tr>\n",
       "      <th>1</th>\n",
       "      <td>0</td>\n",
       "      <td>1</td>\n",
       "      <td>0</td>\n",
       "      <td>0</td>\n",
       "      <td>0</td>\n",
       "      <td>0</td>\n",
       "      <td>0</td>\n",
       "      <td>0</td>\n",
       "      <td>0</td>\n",
       "      <td>0</td>\n",
       "      <td>...</td>\n",
       "      <td>-0.136136</td>\n",
       "      <td>-1.212483</td>\n",
       "      <td>0.592946</td>\n",
       "      <td>0.254429</td>\n",
       "      <td>-0.333185</td>\n",
       "      <td>0.0</td>\n",
       "      <td>-0.153375</td>\n",
       "      <td>-0.621940</td>\n",
       "      <td>0.273874</td>\n",
       "      <td>0.987946</td>\n",
       "    </tr>\n",
       "    <tr>\n",
       "      <th>2</th>\n",
       "      <td>0</td>\n",
       "      <td>0</td>\n",
       "      <td>0</td>\n",
       "      <td>0</td>\n",
       "      <td>0</td>\n",
       "      <td>0</td>\n",
       "      <td>0</td>\n",
       "      <td>0</td>\n",
       "      <td>0</td>\n",
       "      <td>1</td>\n",
       "      <td>...</td>\n",
       "      <td>-0.136136</td>\n",
       "      <td>1.366476</td>\n",
       "      <td>0.592946</td>\n",
       "      <td>-0.935979</td>\n",
       "      <td>-0.333185</td>\n",
       "      <td>0.0</td>\n",
       "      <td>0.963659</td>\n",
       "      <td>0.975994</td>\n",
       "      <td>-0.064094</td>\n",
       "      <td>-0.374584</td>\n",
       "    </tr>\n",
       "    <tr>\n",
       "      <th>3</th>\n",
       "      <td>1</td>\n",
       "      <td>0</td>\n",
       "      <td>1</td>\n",
       "      <td>0</td>\n",
       "      <td>1</td>\n",
       "      <td>0</td>\n",
       "      <td>0</td>\n",
       "      <td>0</td>\n",
       "      <td>0</td>\n",
       "      <td>0</td>\n",
       "      <td>...</td>\n",
       "      <td>-0.136136</td>\n",
       "      <td>-0.696691</td>\n",
       "      <td>0.592946</td>\n",
       "      <td>-0.510408</td>\n",
       "      <td>-0.333185</td>\n",
       "      <td>0.0</td>\n",
       "      <td>2.265113</td>\n",
       "      <td>2.441427</td>\n",
       "      <td>0.849137</td>\n",
       "      <td>2.077969</td>\n",
       "    </tr>\n",
       "    <tr>\n",
       "      <th>4</th>\n",
       "      <td>1</td>\n",
       "      <td>0</td>\n",
       "      <td>0</td>\n",
       "      <td>0</td>\n",
       "      <td>0</td>\n",
       "      <td>1</td>\n",
       "      <td>0</td>\n",
       "      <td>0</td>\n",
       "      <td>1</td>\n",
       "      <td>0</td>\n",
       "      <td>...</td>\n",
       "      <td>-0.136136</td>\n",
       "      <td>-0.180899</td>\n",
       "      <td>0.334717</td>\n",
       "      <td>-0.123526</td>\n",
       "      <td>-0.333185</td>\n",
       "      <td>0.0</td>\n",
       "      <td>-0.141035</td>\n",
       "      <td>1.187610</td>\n",
       "      <td>0.550719</td>\n",
       "      <td>0.987946</td>\n",
       "    </tr>\n",
       "    <tr>\n",
       "      <th>...</th>\n",
       "      <td>...</td>\n",
       "      <td>...</td>\n",
       "      <td>...</td>\n",
       "      <td>...</td>\n",
       "      <td>...</td>\n",
       "      <td>...</td>\n",
       "      <td>...</td>\n",
       "      <td>...</td>\n",
       "      <td>...</td>\n",
       "      <td>...</td>\n",
       "      <td>...</td>\n",
       "      <td>...</td>\n",
       "      <td>...</td>\n",
       "      <td>...</td>\n",
       "      <td>...</td>\n",
       "      <td>...</td>\n",
       "      <td>...</td>\n",
       "      <td>...</td>\n",
       "      <td>...</td>\n",
       "      <td>...</td>\n",
       "      <td>...</td>\n",
       "    </tr>\n",
       "    <tr>\n",
       "      <th>254787</th>\n",
       "      <td>0</td>\n",
       "      <td>1</td>\n",
       "      <td>0</td>\n",
       "      <td>0</td>\n",
       "      <td>0</td>\n",
       "      <td>1</td>\n",
       "      <td>0</td>\n",
       "      <td>0</td>\n",
       "      <td>0</td>\n",
       "      <td>0</td>\n",
       "      <td>...</td>\n",
       "      <td>-0.136136</td>\n",
       "      <td>0.334893</td>\n",
       "      <td>0.287766</td>\n",
       "      <td>0.552030</td>\n",
       "      <td>-0.333185</td>\n",
       "      <td>0.0</td>\n",
       "      <td>-0.273566</td>\n",
       "      <td>1.206720</td>\n",
       "      <td>0.072531</td>\n",
       "      <td>-0.238331</td>\n",
       "    </tr>\n",
       "    <tr>\n",
       "      <th>254788</th>\n",
       "      <td>1</td>\n",
       "      <td>1</td>\n",
       "      <td>0</td>\n",
       "      <td>0</td>\n",
       "      <td>1</td>\n",
       "      <td>0</td>\n",
       "      <td>0</td>\n",
       "      <td>0</td>\n",
       "      <td>0</td>\n",
       "      <td>1</td>\n",
       "      <td>...</td>\n",
       "      <td>-0.136136</td>\n",
       "      <td>-0.696691</td>\n",
       "      <td>0.592946</td>\n",
       "      <td>0.055035</td>\n",
       "      <td>-0.333185</td>\n",
       "      <td>0.0</td>\n",
       "      <td>0.228948</td>\n",
       "      <td>0.360511</td>\n",
       "      <td>-0.606999</td>\n",
       "      <td>-0.374584</td>\n",
       "    </tr>\n",
       "    <tr>\n",
       "      <th>254789</th>\n",
       "      <td>0</td>\n",
       "      <td>0</td>\n",
       "      <td>0</td>\n",
       "      <td>0</td>\n",
       "      <td>0</td>\n",
       "      <td>1</td>\n",
       "      <td>0</td>\n",
       "      <td>0</td>\n",
       "      <td>1</td>\n",
       "      <td>1</td>\n",
       "      <td>...</td>\n",
       "      <td>-0.136136</td>\n",
       "      <td>1.366476</td>\n",
       "      <td>0.358192</td>\n",
       "      <td>-0.935979</td>\n",
       "      <td>-0.333185</td>\n",
       "      <td>0.0</td>\n",
       "      <td>-0.726705</td>\n",
       "      <td>-0.955173</td>\n",
       "      <td>0.277469</td>\n",
       "      <td>2.350475</td>\n",
       "    </tr>\n",
       "    <tr>\n",
       "      <th>254790</th>\n",
       "      <td>0</td>\n",
       "      <td>0</td>\n",
       "      <td>0</td>\n",
       "      <td>1</td>\n",
       "      <td>1</td>\n",
       "      <td>0</td>\n",
       "      <td>0</td>\n",
       "      <td>0</td>\n",
       "      <td>0</td>\n",
       "      <td>0</td>\n",
       "      <td>...</td>\n",
       "      <td>-0.136136</td>\n",
       "      <td>2.913852</td>\n",
       "      <td>-1.085543</td>\n",
       "      <td>-0.935979</td>\n",
       "      <td>-0.333185</td>\n",
       "      <td>0.0</td>\n",
       "      <td>-0.972996</td>\n",
       "      <td>-0.945271</td>\n",
       "      <td>-0.754410</td>\n",
       "      <td>1.260452</td>\n",
       "    </tr>\n",
       "    <tr>\n",
       "      <th>254791</th>\n",
       "      <td>0</td>\n",
       "      <td>0</td>\n",
       "      <td>0</td>\n",
       "      <td>1</td>\n",
       "      <td>0</td>\n",
       "      <td>0</td>\n",
       "      <td>0</td>\n",
       "      <td>1</td>\n",
       "      <td>0</td>\n",
       "      <td>1</td>\n",
       "      <td>...</td>\n",
       "      <td>-0.136136</td>\n",
       "      <td>-0.180899</td>\n",
       "      <td>0.592946</td>\n",
       "      <td>-0.935979</td>\n",
       "      <td>-0.333185</td>\n",
       "      <td>0.0</td>\n",
       "      <td>0.730758</td>\n",
       "      <td>-0.835316</td>\n",
       "      <td>0.086913</td>\n",
       "      <td>-0.238331</td>\n",
       "    </tr>\n",
       "  </tbody>\n",
       "</table>\n",
       "<p>254790 rows × 71 columns</p>\n",
       "</div>"
      ],
      "text/plain": [
       "        term_ 60 months  purpose_debt_consolidation  purpose_home_improvement  \\\n",
       "0                     1                           0                         0   \n",
       "1                     0                           1                         0   \n",
       "2                     0                           0                         0   \n",
       "3                     1                           0                         1   \n",
       "4                     1                           0                         0   \n",
       "...                 ...                         ...                       ...   \n",
       "254787                0                           1                         0   \n",
       "254788                1                           1                         0   \n",
       "254789                0                           0                         0   \n",
       "254790                0                           0                         0   \n",
       "254791                0                           0                         0   \n",
       "\n",
       "        purpose_other  grade_B  grade_C  grade_D  home_ownership_OWN  \\\n",
       "0                   0        0        1        0                   0   \n",
       "1                   0        0        0        0                   0   \n",
       "2                   0        0        0        0                   0   \n",
       "3                   0        1        0        0                   0   \n",
       "4                   0        0        1        0                   0   \n",
       "...               ...      ...      ...      ...                 ...   \n",
       "254787              0        0        1        0                   0   \n",
       "254788              0        1        0        0                   0   \n",
       "254789              0        0        1        0                   0   \n",
       "254790              1        1        0        0                   0   \n",
       "254791              1        0        0        0                   1   \n",
       "\n",
       "        home_ownership_RENT  verification_status_Source Verified  ...  \\\n",
       "0                         0                                    1  ...   \n",
       "1                         0                                    0  ...   \n",
       "2                         0                                    1  ...   \n",
       "3                         0                                    0  ...   \n",
       "4                         1                                    0  ...   \n",
       "...                     ...                                  ...  ...   \n",
       "254787                    0                                    0  ...   \n",
       "254788                    0                                    1  ...   \n",
       "254789                    1                                    1  ...   \n",
       "254790                    0                                    0  ...   \n",
       "254791                    0                                    1  ...   \n",
       "\n",
       "        num_tl_90g_dpd_24m  num_tl_op_past_12m  pct_tl_nvr_dlq  \\\n",
       "0                -0.136136           -0.180899        0.592946   \n",
       "1                -0.136136           -1.212483        0.592946   \n",
       "2                -0.136136            1.366476        0.592946   \n",
       "3                -0.136136           -0.696691        0.592946   \n",
       "4                -0.136136           -0.180899        0.334717   \n",
       "...                    ...                 ...             ...   \n",
       "254787           -0.136136            0.334893        0.287766   \n",
       "254788           -0.136136           -0.696691        0.592946   \n",
       "254789           -0.136136            1.366476        0.358192   \n",
       "254790           -0.136136            2.913852       -1.085543   \n",
       "254791           -0.136136           -0.180899        0.592946   \n",
       "\n",
       "        percent_bc_gt_75  pub_rec_bankruptcies  tax_liens  tot_hi_cred_lim  \\\n",
       "0              -0.299111             -0.333185        0.0         0.694716   \n",
       "1               0.254429             -0.333185        0.0        -0.153375   \n",
       "2              -0.935979             -0.333185        0.0         0.963659   \n",
       "3              -0.510408             -0.333185        0.0         2.265113   \n",
       "4              -0.123526             -0.333185        0.0        -0.141035   \n",
       "...                  ...                   ...        ...              ...   \n",
       "254787          0.552030             -0.333185        0.0        -0.273566   \n",
       "254788          0.055035             -0.333185        0.0         0.228948   \n",
       "254789         -0.935979             -0.333185        0.0        -0.726705   \n",
       "254790         -0.935979             -0.333185        0.0        -0.972996   \n",
       "254791         -0.935979             -0.333185        0.0         0.730758   \n",
       "\n",
       "        total_bal_ex_mort  total_bc_limit  age_oldest_line  \n",
       "0                0.252604        3.344343         2.077969  \n",
       "1               -0.621940        0.273874         0.987946  \n",
       "2                0.975994       -0.064094        -0.374584  \n",
       "3                2.441427        0.849137         2.077969  \n",
       "4                1.187610        0.550719         0.987946  \n",
       "...                   ...             ...              ...  \n",
       "254787           1.206720        0.072531        -0.238331  \n",
       "254788           0.360511       -0.606999        -0.374584  \n",
       "254789          -0.955173        0.277469         2.350475  \n",
       "254790          -0.945271       -0.754410         1.260452  \n",
       "254791          -0.835316        0.086913        -0.238331  \n",
       "\n",
       "[254790 rows x 71 columns]"
      ]
     },
     "execution_count": 203,
     "metadata": {},
     "output_type": "execute_result"
    }
   ],
   "source": [
    "df_final"
   ]
  },
  {
   "cell_type": "markdown",
   "metadata": {},
   "source": [
    "Note: the stnd deviations columns in the numeric. Dataframe size 254790 rows × 79 columns"
   ]
  },
  {
   "cell_type": "code",
   "execution_count": 204,
   "metadata": {},
   "outputs": [
    {
     "data": {
      "text/plain": [
       "(254790, 1)"
      ]
     },
     "execution_count": 204,
     "metadata": {},
     "output_type": "execute_result"
    }
   ],
   "source": [
    "y.shape"
   ]
  },
  {
   "cell_type": "code",
   "execution_count": 205,
   "metadata": {},
   "outputs": [
    {
     "data": {
      "text/html": [
       "<div>\n",
       "<style scoped>\n",
       "    .dataframe tbody tr th:only-of-type {\n",
       "        vertical-align: middle;\n",
       "    }\n",
       "\n",
       "    .dataframe tbody tr th {\n",
       "        vertical-align: top;\n",
       "    }\n",
       "\n",
       "    .dataframe thead th {\n",
       "        text-align: right;\n",
       "    }\n",
       "</style>\n",
       "<table border=\"1\" class=\"dataframe\">\n",
       "  <thead>\n",
       "    <tr style=\"text-align: right;\">\n",
       "      <th></th>\n",
       "      <th>term_ 60 months</th>\n",
       "      <th>purpose_debt_consolidation</th>\n",
       "      <th>purpose_home_improvement</th>\n",
       "      <th>purpose_other</th>\n",
       "      <th>grade_B</th>\n",
       "      <th>grade_C</th>\n",
       "      <th>grade_D</th>\n",
       "      <th>home_ownership_OWN</th>\n",
       "      <th>home_ownership_RENT</th>\n",
       "      <th>verification_status_Source Verified</th>\n",
       "      <th>...</th>\n",
       "      <th>num_tl_90g_dpd_24m</th>\n",
       "      <th>num_tl_op_past_12m</th>\n",
       "      <th>pct_tl_nvr_dlq</th>\n",
       "      <th>percent_bc_gt_75</th>\n",
       "      <th>pub_rec_bankruptcies</th>\n",
       "      <th>tax_liens</th>\n",
       "      <th>tot_hi_cred_lim</th>\n",
       "      <th>total_bal_ex_mort</th>\n",
       "      <th>total_bc_limit</th>\n",
       "      <th>age_oldest_line</th>\n",
       "    </tr>\n",
       "  </thead>\n",
       "  <tbody>\n",
       "  </tbody>\n",
       "</table>\n",
       "<p>0 rows × 71 columns</p>\n",
       "</div>"
      ],
      "text/plain": [
       "Empty DataFrame\n",
       "Columns: [term_ 60 months, purpose_debt_consolidation, purpose_home_improvement, purpose_other, grade_B, grade_C, grade_D, home_ownership_OWN, home_ownership_RENT, verification_status_Source Verified, verification_status_Verified, loan_amnt, int_rate, emp_length, annual_inc, dti, delinq_2yrs, fico_range_low, inq_last_6mths, open_acc, revol_bal, revol_util, total_acc, collections_12_mths_ex_med, acc_now_delinq, tot_coll_amt, tot_cur_bal, open_acc_6m, open_act_il, open_il_12m, open_il_24m, mths_since_rcnt_il, total_bal_il, il_util, open_rv_24m, max_bal_bc, all_util, inq_fi, total_cu_tl, inq_last_12m, acc_open_past_24mths, avg_cur_bal, bc_open_to_buy, bc_util, delinq_amnt, mo_sin_old_il_acct, mo_sin_old_rev_tl_op, mo_sin_rcnt_rev_tl_op, mo_sin_rcnt_tl, mort_acc, mths_since_recent_bc, mths_since_recent_inq, num_accts_ever_120_pd, num_actv_bc_tl, num_bc_sats, num_bc_tl, num_il_tl, num_op_rev_tl, num_rev_accts, num_tl_120dpd_2m, num_tl_30dpd, num_tl_90g_dpd_24m, num_tl_op_past_12m, pct_tl_nvr_dlq, percent_bc_gt_75, pub_rec_bankruptcies, tax_liens, tot_hi_cred_lim, total_bal_ex_mort, total_bc_limit, age_oldest_line]\n",
       "Index: []\n",
       "\n",
       "[0 rows x 71 columns]"
      ]
     },
     "execution_count": 205,
     "metadata": {},
     "output_type": "execute_result"
    }
   ],
   "source": [
    "df_final[df_final['grade_D'].isnull()]  #dummies side"
   ]
  },
  {
   "cell_type": "code",
   "execution_count": 206,
   "metadata": {},
   "outputs": [
    {
     "data": {
      "text/html": [
       "<div>\n",
       "<style scoped>\n",
       "    .dataframe tbody tr th:only-of-type {\n",
       "        vertical-align: middle;\n",
       "    }\n",
       "\n",
       "    .dataframe tbody tr th {\n",
       "        vertical-align: top;\n",
       "    }\n",
       "\n",
       "    .dataframe thead th {\n",
       "        text-align: right;\n",
       "    }\n",
       "</style>\n",
       "<table border=\"1\" class=\"dataframe\">\n",
       "  <thead>\n",
       "    <tr style=\"text-align: right;\">\n",
       "      <th></th>\n",
       "      <th>term_ 60 months</th>\n",
       "      <th>purpose_debt_consolidation</th>\n",
       "      <th>purpose_home_improvement</th>\n",
       "      <th>purpose_other</th>\n",
       "      <th>grade_B</th>\n",
       "      <th>grade_C</th>\n",
       "      <th>grade_D</th>\n",
       "      <th>home_ownership_OWN</th>\n",
       "      <th>home_ownership_RENT</th>\n",
       "      <th>verification_status_Source Verified</th>\n",
       "      <th>...</th>\n",
       "      <th>num_tl_90g_dpd_24m</th>\n",
       "      <th>num_tl_op_past_12m</th>\n",
       "      <th>pct_tl_nvr_dlq</th>\n",
       "      <th>percent_bc_gt_75</th>\n",
       "      <th>pub_rec_bankruptcies</th>\n",
       "      <th>tax_liens</th>\n",
       "      <th>tot_hi_cred_lim</th>\n",
       "      <th>total_bal_ex_mort</th>\n",
       "      <th>total_bc_limit</th>\n",
       "      <th>age_oldest_line</th>\n",
       "    </tr>\n",
       "  </thead>\n",
       "  <tbody>\n",
       "  </tbody>\n",
       "</table>\n",
       "<p>0 rows × 71 columns</p>\n",
       "</div>"
      ],
      "text/plain": [
       "Empty DataFrame\n",
       "Columns: [term_ 60 months, purpose_debt_consolidation, purpose_home_improvement, purpose_other, grade_B, grade_C, grade_D, home_ownership_OWN, home_ownership_RENT, verification_status_Source Verified, verification_status_Verified, loan_amnt, int_rate, emp_length, annual_inc, dti, delinq_2yrs, fico_range_low, inq_last_6mths, open_acc, revol_bal, revol_util, total_acc, collections_12_mths_ex_med, acc_now_delinq, tot_coll_amt, tot_cur_bal, open_acc_6m, open_act_il, open_il_12m, open_il_24m, mths_since_rcnt_il, total_bal_il, il_util, open_rv_24m, max_bal_bc, all_util, inq_fi, total_cu_tl, inq_last_12m, acc_open_past_24mths, avg_cur_bal, bc_open_to_buy, bc_util, delinq_amnt, mo_sin_old_il_acct, mo_sin_old_rev_tl_op, mo_sin_rcnt_rev_tl_op, mo_sin_rcnt_tl, mort_acc, mths_since_recent_bc, mths_since_recent_inq, num_accts_ever_120_pd, num_actv_bc_tl, num_bc_sats, num_bc_tl, num_il_tl, num_op_rev_tl, num_rev_accts, num_tl_120dpd_2m, num_tl_30dpd, num_tl_90g_dpd_24m, num_tl_op_past_12m, pct_tl_nvr_dlq, percent_bc_gt_75, pub_rec_bankruptcies, tax_liens, tot_hi_cred_lim, total_bal_ex_mort, total_bc_limit, age_oldest_line]\n",
       "Index: []\n",
       "\n",
       "[0 rows x 71 columns]"
      ]
     },
     "execution_count": 206,
     "metadata": {},
     "output_type": "execute_result"
    }
   ],
   "source": [
    "df_final[df_final['tax_liens'].isnull()] #numeric side"
   ]
  },
  {
   "cell_type": "code",
   "execution_count": 207,
   "metadata": {},
   "outputs": [
    {
     "data": {
      "text/plain": [
       "0"
      ]
     },
     "execution_count": 207,
     "metadata": {},
     "output_type": "execute_result"
    }
   ],
   "source": [
    "df_final.isna().sum().sum()"
   ]
  },
  {
   "cell_type": "markdown",
   "metadata": {},
   "source": [
    "### Train_test_split"
   ]
  },
  {
   "cell_type": "code",
   "execution_count": 208,
   "metadata": {},
   "outputs": [],
   "source": [
    "# Train Test Split\n",
    "X_train, X_test, y_train, y_test = train_test_split(df_final, y, test_size=0.4, random_state=42)"
   ]
  },
  {
   "cell_type": "code",
   "execution_count": 209,
   "metadata": {},
   "outputs": [
    {
     "data": {
      "text/plain": [
       "(152874, 71)"
      ]
     },
     "execution_count": 209,
     "metadata": {},
     "output_type": "execute_result"
    }
   ],
   "source": [
    "X_train.shape"
   ]
  },
  {
   "cell_type": "code",
   "execution_count": 210,
   "metadata": {},
   "outputs": [
    {
     "data": {
      "text/plain": [
       "(152874, 1)"
      ]
     },
     "execution_count": 210,
     "metadata": {},
     "output_type": "execute_result"
    }
   ],
   "source": [
    "y_train.shape"
   ]
  },
  {
   "cell_type": "markdown",
   "metadata": {},
   "source": [
    "### Logistic Regression"
   ]
  },
  {
   "cell_type": "code",
   "execution_count": 211,
   "metadata": {},
   "outputs": [
    {
     "name": "stdout",
     "output_type": "stream",
     "text": [
      "Logistic Regression Coefficient: [[-0.02858967  0.04447067 -0.06541797 -0.1034613   0.06254637  0.10152207\n",
      "   0.1634751   0.12358566 -0.00473356 -0.1848857  -0.19582455 -0.10253734\n",
      "  -0.55886073  0.01219816 -0.02978687 -0.00737534  0.00370703  0.03108562\n",
      "  -0.02765635  0.14450403 -0.04120419  0.07893354 -0.08730074  0.00799735\n",
      "   0.08096151 -0.00174055  0.17624626  0.05295196  0.01985096 -0.00911702\n",
      "   0.13139016  0.0022195  -0.10573442  0.0157569   0.15372655  0.05190242\n",
      "  -0.07622212 -0.04878886 -0.04053074 -0.00558406 -0.32071727  0.06484719\n",
      "   0.08301396  0.05938436  0.00738468  0.06791552  0.08098072 -0.01350533\n",
      "  -0.01247789  0.04583659  0.02477438  0.09145282  0.00198284  0.07744328\n",
      "   0.10466296 -0.14418166  0.1321992  -0.03674952  0.07977148  0.00491124\n",
      "   0.00634916 -0.03303661 -0.05943551 -0.00290496 -0.00214418 -0.01317464\n",
      "   0.         -0.15549593  0.09444446 -0.13112202 -0.0720023 ]]\n",
      "Logistic Regression Intercept: [4.30851264]\n"
     ]
    }
   ],
   "source": [
    "#Instantiate\n",
    "logreg = LogisticRegression(solver = 'liblinear', max_iter=1000) #liblinear solver - ran with no errors\n",
    "\n",
    "#Fit\n",
    "logreg.fit(X_train, y_train.values.ravel()) #yay!!\n",
    "\n",
    "#Print coef\n",
    "print(f'Logistic Regression Coefficient: {logreg.coef_}')\n",
    "print(f'Logistic Regression Intercept: {logreg.intercept_}')"
   ]
  },
  {
   "cell_type": "code",
   "execution_count": 212,
   "metadata": {},
   "outputs": [
    {
     "name": "stdout",
     "output_type": "stream",
     "text": [
      "Logistic Regression Coefficient: [[-0.03041578  0.03884877 -0.07234278 -0.10908242  0.05834972  0.09800383\n",
      "   0.16031353  0.11988333 -0.00852035 -0.18881053 -0.19867491 -0.10270604\n",
      "  -0.55955706  0.01228456 -0.02981508 -0.00742245  0.00369007  0.03124854\n",
      "  -0.02765407  0.14402328 -0.04426858  0.07905586 -0.07701363  0.00796516\n",
      "   0.08819698 -0.00171933  0.17693071  0.05307159  0.02030579 -0.00906498\n",
      "   0.13156341  0.00226302 -0.11215473  0.01577508  0.1540468   0.05178154\n",
      "  -0.07631358 -0.04888766 -0.04056858 -0.00556296 -0.32120667  0.06488645\n",
      "   0.08240301  0.05941138  0.00746677  0.06810612  0.08121192 -0.01358767\n",
      "  -0.01248841  0.04446347  0.02488709  0.09171358  0.0019077   0.07742915\n",
      "   0.10529044 -0.14488086  0.12582512 -0.03654499  0.07373563  0.01472555\n",
      "   0.02484657 -0.03307048 -0.05964169 -0.00293782 -0.00213499 -0.01318488\n",
      "   0.         -0.15607566  0.10177284 -0.13051337 -0.07231334]]\n",
      "Logistic Regression Intercept: [4.32263484]\n"
     ]
    }
   ],
   "source": [
    "#Instantiate\n",
    "logreg_lb = LogisticRegression(solver = 'lbfgs', max_iter=2000)  #lbfgs solver\n",
    "\n",
    "#Fit\n",
    "logreg_lb.fit(X_train, y_train.values.ravel())\n",
    "\n",
    "#Print coef\n",
    "print(f'Logistic Regression Coefficient: {logreg_lb.coef_}')\n",
    "print(f'Logistic Regression Intercept: {logreg_lb.intercept_}')"
   ]
  },
  {
   "cell_type": "code",
   "execution_count": 213,
   "metadata": {},
   "outputs": [
    {
     "data": {
      "text/plain": [
       "array([[0.97181514, 1.04547431, 0.93667587, 0.90171092, 1.06454382,\n",
       "        1.10685435, 1.17759604, 1.13154693, 0.99527762, 0.83119929,\n",
       "        0.82215647, 0.90254445, 0.57186019, 1.01227286, 0.97065239,\n",
       "        0.99265179, 1.00371391, 1.03157383, 0.97272258, 1.15546636,\n",
       "        0.95963316, 1.0821324 , 0.91640145, 1.00802942, 1.08432916,\n",
       "        0.99826096, 1.19273175, 1.054379  , 1.0200493 , 0.99092441,\n",
       "        1.14041264, 1.00222196, 0.89966355, 1.01588169, 1.16617195,\n",
       "        1.05327296, 0.92661036, 0.9523822 , 0.96027964, 0.99443151,\n",
       "        0.72562838, 1.06699596, 1.08655698, 1.06118304, 1.00741201,\n",
       "        1.07027489, 1.08434999, 0.98658546, 0.98759963, 1.04690332,\n",
       "        1.02508382, 1.09576508, 1.00198481, 1.08052094, 1.11033632,\n",
       "        0.86573047, 1.14133566, 0.96391755, 1.08303954, 1.00492332,\n",
       "        1.00636935, 0.96750314, 0.9422963 , 0.99709926, 0.99785812,\n",
       "        0.98691176, 1.        , 0.85599056, 1.09904812, 0.87711074,\n",
       "        0.93052876]])"
      ]
     },
     "execution_count": 213,
     "metadata": {},
     "output_type": "execute_result"
    }
   ],
   "source": [
    "np.exp(logreg.coef_)"
   ]
  },
  {
   "cell_type": "code",
   "execution_count": 214,
   "metadata": {},
   "outputs": [
    {
     "data": {
      "text/plain": [
       "array([0.97181514, 1.04547431, 0.93667587, 0.90171092, 1.06454382,\n",
       "       1.10685435, 1.17759604, 1.13154693, 0.99527762, 0.83119929,\n",
       "       0.82215647, 0.90254445, 0.57186019, 1.01227286, 0.97065239,\n",
       "       0.99265179, 1.00371391, 1.03157383, 0.97272258, 1.15546636,\n",
       "       0.95963316, 1.0821324 , 0.91640145, 1.00802942, 1.08432916,\n",
       "       0.99826096, 1.19273175, 1.054379  , 1.0200493 , 0.99092441,\n",
       "       1.14041264, 1.00222196, 0.89966355, 1.01588169, 1.16617195,\n",
       "       1.05327296, 0.92661036, 0.9523822 , 0.96027964, 0.99443151,\n",
       "       0.72562838, 1.06699596, 1.08655698, 1.06118304, 1.00741201,\n",
       "       1.07027489, 1.08434999, 0.98658546, 0.98759963, 1.04690332,\n",
       "       1.02508382, 1.09576508, 1.00198481, 1.08052094, 1.11033632,\n",
       "       0.86573047, 1.14133566, 0.96391755, 1.08303954, 1.00492332,\n",
       "       1.00636935, 0.96750314, 0.9422963 , 0.99709926, 0.99785812,\n",
       "       0.98691176, 1.        , 0.85599056, 1.09904812, 0.87711074,\n",
       "       0.93052876])"
      ]
     },
     "execution_count": 214,
     "metadata": {},
     "output_type": "execute_result"
    }
   ],
   "source": [
    "np.exp(logreg.coef_)[0]"
   ]
  },
  {
   "cell_type": "code",
   "execution_count": 215,
   "metadata": {},
   "outputs": [
    {
     "data": {
      "text/plain": [
       "0.9718151432380644"
      ]
     },
     "execution_count": 215,
     "metadata": {},
     "output_type": "execute_result"
    }
   ],
   "source": [
    "np.exp(logreg.coef_)[0][0]"
   ]
  },
  {
   "cell_type": "code",
   "execution_count": 216,
   "metadata": {},
   "outputs": [
    {
     "name": "stdout",
     "output_type": "stream",
     "text": [
      "Logistic Regression Accuracy Score: 0.9827112524039405\n"
     ]
    }
   ],
   "source": [
    "# Step 4: Evaluate model.\n",
    "print(f'Logistic Regression Accuracy Score: {logreg.score(X_test, y_test)}')\n",
    "\n",
    "#Accuracy is number of correct predictioons / number of predictions\n",
    "#1    0.982825\n",
    "#0    0.017175"
   ]
  },
  {
   "cell_type": "code",
   "execution_count": 217,
   "metadata": {},
   "outputs": [
    {
     "name": "stdout",
     "output_type": "stream",
     "text": [
      "Logistic Regression Accuracy Score: 0.9827112524039405\n"
     ]
    }
   ],
   "source": [
    "# Step 4: Evaluate model.\n",
    "print(f'Logistic Regression Accuracy Score: {logreg_lb.score(X_test, y_test)}')"
   ]
  },
  {
   "cell_type": "code",
   "execution_count": 218,
   "metadata": {},
   "outputs": [
    {
     "data": {
      "text/plain": [
       "array([[0.01698994, 0.98301006],\n",
       "       [0.09571495, 0.90428505],\n",
       "       [0.03269199, 0.96730801],\n",
       "       ...,\n",
       "       [0.00940479, 0.99059521],\n",
       "       [0.01506889, 0.98493111],\n",
       "       [0.03268617, 0.96731383]])"
      ]
     },
     "execution_count": 218,
     "metadata": {},
     "output_type": "execute_result"
    }
   ],
   "source": [
    "#Predicting the values - testing set\n",
    "\n",
    "logreg.predict_proba(X_test)"
   ]
  },
  {
   "cell_type": "code",
   "execution_count": 219,
   "metadata": {},
   "outputs": [],
   "source": [
    "from sklearn.metrics import plot_confusion_matrix"
   ]
  },
  {
   "cell_type": "code",
   "execution_count": 220,
   "metadata": {},
   "outputs": [
    {
     "data": {
      "text/plain": [
       "<Figure size 864x864 with 0 Axes>"
      ]
     },
     "metadata": {},
     "output_type": "display_data"
    },
    {
     "data": {
      "image/png": "[encoded data removed]",
      "text/plain": [
       "<Figure size 432x288 with 2 Axes>"
      ]
     },
     "metadata": {
      "needs_background": "light"
     },
     "output_type": "display_data"
    }
   ],
   "source": [
    "plt.figure(figsize=(12, 12))\n",
    "\n",
    "plot_confusion_matrix(logreg, X_test, y_test, values_format='.0f'); \n",
    "\n",
    "plt.title('Confusion Matrix', fontsize=16);"
   ]
  },
  {
   "cell_type": "code",
   "execution_count": 221,
   "metadata": {},
   "outputs": [
    {
     "data": {
      "text/plain": [
       "1.72887475960595"
      ]
     },
     "execution_count": 221,
     "metadata": {},
     "output_type": "execute_result"
    }
   ],
   "source": [
    "1762/(1762 + 100154)*100"
   ]
  },
  {
   "cell_type": "code",
   "execution_count": 222,
   "metadata": {},
   "outputs": [
    {
     "data": {
      "text/plain": [
       "Index(['term_ 60 months', 'purpose_debt_consolidation',\n",
       "       'purpose_home_improvement', 'purpose_other', 'grade_B', 'grade_C',\n",
       "       'grade_D', 'home_ownership_OWN', 'home_ownership_RENT',\n",
       "       'verification_status_Source Verified', 'verification_status_Verified',\n",
       "       'loan_amnt', 'int_rate', 'emp_length', 'annual_inc', 'dti',\n",
       "       'delinq_2yrs', 'fico_range_low', 'inq_last_6mths', 'open_acc',\n",
       "       'revol_bal', 'revol_util', 'total_acc', 'collections_12_mths_ex_med',\n",
       "       'acc_now_delinq', 'tot_coll_amt', 'tot_cur_bal', 'open_acc_6m',\n",
       "       'open_act_il', 'open_il_12m', 'open_il_24m', 'mths_since_rcnt_il',\n",
       "       'total_bal_il', 'il_util', 'open_rv_24m', 'max_bal_bc', 'all_util',\n",
       "       'inq_fi', 'total_cu_tl', 'inq_last_12m', 'acc_open_past_24mths',\n",
       "       'avg_cur_bal', 'bc_open_to_buy', 'bc_util', 'delinq_amnt',\n",
       "       'mo_sin_old_il_acct', 'mo_sin_old_rev_tl_op', 'mo_sin_rcnt_rev_tl_op',\n",
       "       'mo_sin_rcnt_tl', 'mort_acc', 'mths_since_recent_bc',\n",
       "       'mths_since_recent_inq', 'num_accts_ever_120_pd', 'num_actv_bc_tl',\n",
       "       'num_bc_sats', 'num_bc_tl', 'num_il_tl', 'num_op_rev_tl',\n",
       "       'num_rev_accts', 'num_tl_120dpd_2m', 'num_tl_30dpd',\n",
       "       'num_tl_90g_dpd_24m', 'num_tl_op_past_12m', 'pct_tl_nvr_dlq',\n",
       "       'percent_bc_gt_75', 'pub_rec_bankruptcies', 'tax_liens',\n",
       "       'tot_hi_cred_lim', 'total_bal_ex_mort', 'total_bc_limit',\n",
       "       'age_oldest_line'],\n",
       "      dtype='object')"
      ]
     },
     "execution_count": 222,
     "metadata": {},
     "output_type": "execute_result"
    }
   ],
   "source": [
    "X_train.columns"
   ]
  },
  {
   "cell_type": "code",
   "execution_count": 223,
   "metadata": {},
   "outputs": [],
   "source": [
    "coef = []\n",
    "columns = []\n",
    "for x,y  in zip(np.exp(logreg.coef_)[0], X_train.columns.values):\n",
    "    coef.append(x)\n",
    "    columns.append(y)\n",
    "    "
   ]
  },
  {
   "cell_type": "code",
   "execution_count": 224,
   "metadata": {},
   "outputs": [
    {
     "data": {
      "text/html": [
       "<div>\n",
       "<style scoped>\n",
       "    .dataframe tbody tr th:only-of-type {\n",
       "        vertical-align: middle;\n",
       "    }\n",
       "\n",
       "    .dataframe tbody tr th {\n",
       "        vertical-align: top;\n",
       "    }\n",
       "\n",
       "    .dataframe thead th {\n",
       "        text-align: right;\n",
       "    }\n",
       "</style>\n",
       "<table border=\"1\" class=\"dataframe\">\n",
       "  <thead>\n",
       "    <tr style=\"text-align: right;\">\n",
       "      <th></th>\n",
       "      <th>coef</th>\n",
       "      <th>features</th>\n",
       "    </tr>\n",
       "  </thead>\n",
       "  <tbody>\n",
       "    <tr>\n",
       "      <th>0</th>\n",
       "      <td>0.971815</td>\n",
       "      <td>term_ 60 months</td>\n",
       "    </tr>\n",
       "    <tr>\n",
       "      <th>1</th>\n",
       "      <td>1.045474</td>\n",
       "      <td>purpose_debt_consolidation</td>\n",
       "    </tr>\n",
       "    <tr>\n",
       "      <th>2</th>\n",
       "      <td>0.936676</td>\n",
       "      <td>purpose_home_improvement</td>\n",
       "    </tr>\n",
       "    <tr>\n",
       "      <th>3</th>\n",
       "      <td>0.901711</td>\n",
       "      <td>purpose_other</td>\n",
       "    </tr>\n",
       "    <tr>\n",
       "      <th>4</th>\n",
       "      <td>1.064544</td>\n",
       "      <td>grade_B</td>\n",
       "    </tr>\n",
       "    <tr>\n",
       "      <th>...</th>\n",
       "      <td>...</td>\n",
       "      <td>...</td>\n",
       "    </tr>\n",
       "    <tr>\n",
       "      <th>66</th>\n",
       "      <td>1.000000</td>\n",
       "      <td>tax_liens</td>\n",
       "    </tr>\n",
       "    <tr>\n",
       "      <th>67</th>\n",
       "      <td>0.855991</td>\n",
       "      <td>tot_hi_cred_lim</td>\n",
       "    </tr>\n",
       "    <tr>\n",
       "      <th>68</th>\n",
       "      <td>1.099048</td>\n",
       "      <td>total_bal_ex_mort</td>\n",
       "    </tr>\n",
       "    <tr>\n",
       "      <th>69</th>\n",
       "      <td>0.877111</td>\n",
       "      <td>total_bc_limit</td>\n",
       "    </tr>\n",
       "    <tr>\n",
       "      <th>70</th>\n",
       "      <td>0.930529</td>\n",
       "      <td>age_oldest_line</td>\n",
       "    </tr>\n",
       "  </tbody>\n",
       "</table>\n",
       "<p>71 rows × 2 columns</p>\n",
       "</div>"
      ],
      "text/plain": [
       "        coef                    features\n",
       "0   0.971815             term_ 60 months\n",
       "1   1.045474  purpose_debt_consolidation\n",
       "2   0.936676    purpose_home_improvement\n",
       "3   0.901711               purpose_other\n",
       "4   1.064544                     grade_B\n",
       "..       ...                         ...\n",
       "66  1.000000                   tax_liens\n",
       "67  0.855991             tot_hi_cred_lim\n",
       "68  1.099048           total_bal_ex_mort\n",
       "69  0.877111              total_bc_limit\n",
       "70  0.930529             age_oldest_line\n",
       "\n",
       "[71 rows x 2 columns]"
      ]
     },
     "execution_count": 224,
     "metadata": {},
     "output_type": "execute_result"
    }
   ],
   "source": [
    "pd.DataFrame({'coef': coef, 'features': columns})"
   ]
  },
  {
   "cell_type": "code",
   "execution_count": 225,
   "metadata": {},
   "outputs": [],
   "source": [
    "df_features = pd.DataFrame({'coef': coef, 'features': columns})"
   ]
  },
  {
   "cell_type": "code",
   "execution_count": 226,
   "metadata": {},
   "outputs": [
    {
     "data": {
      "text/html": [
       "<div>\n",
       "<style scoped>\n",
       "    .dataframe tbody tr th:only-of-type {\n",
       "        vertical-align: middle;\n",
       "    }\n",
       "\n",
       "    .dataframe tbody tr th {\n",
       "        vertical-align: top;\n",
       "    }\n",
       "\n",
       "    .dataframe thead th {\n",
       "        text-align: right;\n",
       "    }\n",
       "</style>\n",
       "<table border=\"1\" class=\"dataframe\">\n",
       "  <thead>\n",
       "    <tr style=\"text-align: right;\">\n",
       "      <th></th>\n",
       "      <th>coef</th>\n",
       "      <th>features</th>\n",
       "    </tr>\n",
       "  </thead>\n",
       "  <tbody>\n",
       "    <tr>\n",
       "      <th>26</th>\n",
       "      <td>1.192732</td>\n",
       "      <td>tot_cur_bal</td>\n",
       "    </tr>\n",
       "    <tr>\n",
       "      <th>6</th>\n",
       "      <td>1.177596</td>\n",
       "      <td>grade_D</td>\n",
       "    </tr>\n",
       "    <tr>\n",
       "      <th>34</th>\n",
       "      <td>1.166172</td>\n",
       "      <td>open_rv_24m</td>\n",
       "    </tr>\n",
       "    <tr>\n",
       "      <th>19</th>\n",
       "      <td>1.155466</td>\n",
       "      <td>open_acc</td>\n",
       "    </tr>\n",
       "    <tr>\n",
       "      <th>56</th>\n",
       "      <td>1.141336</td>\n",
       "      <td>num_il_tl</td>\n",
       "    </tr>\n",
       "    <tr>\n",
       "      <th>30</th>\n",
       "      <td>1.140413</td>\n",
       "      <td>open_il_24m</td>\n",
       "    </tr>\n",
       "    <tr>\n",
       "      <th>7</th>\n",
       "      <td>1.131547</td>\n",
       "      <td>home_ownership_OWN</td>\n",
       "    </tr>\n",
       "    <tr>\n",
       "      <th>54</th>\n",
       "      <td>1.110336</td>\n",
       "      <td>num_bc_sats</td>\n",
       "    </tr>\n",
       "    <tr>\n",
       "      <th>5</th>\n",
       "      <td>1.106854</td>\n",
       "      <td>grade_C</td>\n",
       "    </tr>\n",
       "    <tr>\n",
       "      <th>68</th>\n",
       "      <td>1.099048</td>\n",
       "      <td>total_bal_ex_mort</td>\n",
       "    </tr>\n",
       "    <tr>\n",
       "      <th>51</th>\n",
       "      <td>1.095765</td>\n",
       "      <td>mths_since_recent_inq</td>\n",
       "    </tr>\n",
       "    <tr>\n",
       "      <th>42</th>\n",
       "      <td>1.086557</td>\n",
       "      <td>bc_open_to_buy</td>\n",
       "    </tr>\n",
       "    <tr>\n",
       "      <th>46</th>\n",
       "      <td>1.084350</td>\n",
       "      <td>mo_sin_old_rev_tl_op</td>\n",
       "    </tr>\n",
       "    <tr>\n",
       "      <th>24</th>\n",
       "      <td>1.084329</td>\n",
       "      <td>acc_now_delinq</td>\n",
       "    </tr>\n",
       "    <tr>\n",
       "      <th>58</th>\n",
       "      <td>1.083040</td>\n",
       "      <td>num_rev_accts</td>\n",
       "    </tr>\n",
       "    <tr>\n",
       "      <th>21</th>\n",
       "      <td>1.082132</td>\n",
       "      <td>revol_util</td>\n",
       "    </tr>\n",
       "    <tr>\n",
       "      <th>53</th>\n",
       "      <td>1.080521</td>\n",
       "      <td>num_actv_bc_tl</td>\n",
       "    </tr>\n",
       "    <tr>\n",
       "      <th>45</th>\n",
       "      <td>1.070275</td>\n",
       "      <td>mo_sin_old_il_acct</td>\n",
       "    </tr>\n",
       "    <tr>\n",
       "      <th>41</th>\n",
       "      <td>1.066996</td>\n",
       "      <td>avg_cur_bal</td>\n",
       "    </tr>\n",
       "    <tr>\n",
       "      <th>4</th>\n",
       "      <td>1.064544</td>\n",
       "      <td>grade_B</td>\n",
       "    </tr>\n",
       "  </tbody>\n",
       "</table>\n",
       "</div>"
      ],
      "text/plain": [
       "        coef               features\n",
       "26  1.192732            tot_cur_bal\n",
       "6   1.177596                grade_D\n",
       "34  1.166172            open_rv_24m\n",
       "19  1.155466               open_acc\n",
       "56  1.141336              num_il_tl\n",
       "30  1.140413            open_il_24m\n",
       "7   1.131547     home_ownership_OWN\n",
       "54  1.110336            num_bc_sats\n",
       "5   1.106854                grade_C\n",
       "68  1.099048      total_bal_ex_mort\n",
       "51  1.095765  mths_since_recent_inq\n",
       "42  1.086557         bc_open_to_buy\n",
       "46  1.084350   mo_sin_old_rev_tl_op\n",
       "24  1.084329         acc_now_delinq\n",
       "58  1.083040          num_rev_accts\n",
       "21  1.082132             revol_util\n",
       "53  1.080521         num_actv_bc_tl\n",
       "45  1.070275     mo_sin_old_il_acct\n",
       "41  1.066996            avg_cur_bal\n",
       "4   1.064544                grade_B"
      ]
     },
     "execution_count": 226,
     "metadata": {},
     "output_type": "execute_result"
    }
   ],
   "source": [
    "top20 = df_features.sort_values(by='coef', ascending=False).head(20)\n",
    "top20"
   ]
  },
  {
   "cell_type": "code",
   "execution_count": 227,
   "metadata": {},
   "outputs": [],
   "source": [
    "import matplotlib.pyplot as plt\n",
    "import seaborn as sns\n",
    "%matplotlib inline"
   ]
  },
  {
   "cell_type": "code",
   "execution_count": 228,
   "metadata": {},
   "outputs": [
    {
     "data": {
      "image/png": "[encoded data removed]",
      "text/plain": [
       "<Figure size 864x864 with 1 Axes>"
      ]
     },
     "metadata": {
      "needs_background": "light"
     },
     "output_type": "display_data"
    }
   ],
   "source": [
    "plt.figure(figsize=(12, 12))\n",
    "\n",
    "sns.barplot(data=top20, x='coef', y='features', palette='viridis');\n",
    "\n",
    "plt.xlabel('Coefficients', fontsize=15)\n",
    "plt.ylabel('Features', fontsize=15)\n",
    "plt.title('Top 20 Features', fontsize=20)\n",
    "\n",
    "plt.savefig(\"Top20Features.png\");\n",
    "\n",
    "#open_acc\tThe number of open credit lines in the borrower's credit file\n",
    "#loan_amnt - loan amount\n",
    "#open_rv_24m\tNumber of revolving trades opened in past 24 months\n",
    "#grade\tLC assigned loan grade\n",
    "#num_bc_sats\tNumber of satisfactory bankcard accounts\n",
    "#total_bal_ex_mort\tTotal credit balance excluding mortgage\n",
    "#open_il_24m\tNumber of installment accounts opened in past 24 months\n",
    "#pub_rec_bankruptcies\tNumber of public record bankruptcies\n",
    "#home_ownership\tThe home ownership status provided by the borrower during registration or obtained from the credit report. Our values are: RENT, OWN, MORTGAGE, OTHER\n",
    "#num_actv_rev_tl\tNumber of currently active revolving trades"
   ]
  },
  {
   "cell_type": "code",
   "execution_count": 229,
   "metadata": {},
   "outputs": [
    {
     "data": {
      "text/plain": [
       "<matplotlib.axes._subplots.AxesSubplot at 0x7fa2a0a966d0>"
      ]
     },
     "execution_count": 229,
     "metadata": {},
     "output_type": "execute_result"
    },
    {
     "data": {
      "image/png": "[encoded data removed]",
      "text/plain": [
       "<Figure size 432x288 with 1 Axes>"
      ]
     },
     "metadata": {
      "needs_background": "light"
     },
     "output_type": "display_data"
    }
   ],
   "source": [
    "df_features.sort_values(by='coef', ascending=False).head(20).plot(kind='bar')"
   ]
  },
  {
   "cell_type": "code",
   "execution_count": 230,
   "metadata": {},
   "outputs": [
    {
     "data": {
      "text/html": [
       "<div>\n",
       "<style scoped>\n",
       "    .dataframe tbody tr th:only-of-type {\n",
       "        vertical-align: middle;\n",
       "    }\n",
       "\n",
       "    .dataframe tbody tr th {\n",
       "        vertical-align: top;\n",
       "    }\n",
       "\n",
       "    .dataframe thead th {\n",
       "        text-align: right;\n",
       "    }\n",
       "</style>\n",
       "<table border=\"1\" class=\"dataframe\">\n",
       "  <thead>\n",
       "    <tr style=\"text-align: right;\">\n",
       "      <th></th>\n",
       "      <th>coef</th>\n",
       "      <th>features</th>\n",
       "    </tr>\n",
       "  </thead>\n",
       "  <tbody>\n",
       "    <tr>\n",
       "      <th>26</th>\n",
       "      <td>1.192732</td>\n",
       "      <td>tot_cur_bal</td>\n",
       "    </tr>\n",
       "    <tr>\n",
       "      <th>6</th>\n",
       "      <td>1.177596</td>\n",
       "      <td>grade_D</td>\n",
       "    </tr>\n",
       "    <tr>\n",
       "      <th>34</th>\n",
       "      <td>1.166172</td>\n",
       "      <td>open_rv_24m</td>\n",
       "    </tr>\n",
       "    <tr>\n",
       "      <th>19</th>\n",
       "      <td>1.155466</td>\n",
       "      <td>open_acc</td>\n",
       "    </tr>\n",
       "    <tr>\n",
       "      <th>56</th>\n",
       "      <td>1.141336</td>\n",
       "      <td>num_il_tl</td>\n",
       "    </tr>\n",
       "    <tr>\n",
       "      <th>30</th>\n",
       "      <td>1.140413</td>\n",
       "      <td>open_il_24m</td>\n",
       "    </tr>\n",
       "    <tr>\n",
       "      <th>7</th>\n",
       "      <td>1.131547</td>\n",
       "      <td>home_ownership_OWN</td>\n",
       "    </tr>\n",
       "    <tr>\n",
       "      <th>54</th>\n",
       "      <td>1.110336</td>\n",
       "      <td>num_bc_sats</td>\n",
       "    </tr>\n",
       "    <tr>\n",
       "      <th>5</th>\n",
       "      <td>1.106854</td>\n",
       "      <td>grade_C</td>\n",
       "    </tr>\n",
       "    <tr>\n",
       "      <th>68</th>\n",
       "      <td>1.099048</td>\n",
       "      <td>total_bal_ex_mort</td>\n",
       "    </tr>\n",
       "    <tr>\n",
       "      <th>51</th>\n",
       "      <td>1.095765</td>\n",
       "      <td>mths_since_recent_inq</td>\n",
       "    </tr>\n",
       "    <tr>\n",
       "      <th>42</th>\n",
       "      <td>1.086557</td>\n",
       "      <td>bc_open_to_buy</td>\n",
       "    </tr>\n",
       "    <tr>\n",
       "      <th>46</th>\n",
       "      <td>1.084350</td>\n",
       "      <td>mo_sin_old_rev_tl_op</td>\n",
       "    </tr>\n",
       "    <tr>\n",
       "      <th>24</th>\n",
       "      <td>1.084329</td>\n",
       "      <td>acc_now_delinq</td>\n",
       "    </tr>\n",
       "    <tr>\n",
       "      <th>58</th>\n",
       "      <td>1.083040</td>\n",
       "      <td>num_rev_accts</td>\n",
       "    </tr>\n",
       "    <tr>\n",
       "      <th>21</th>\n",
       "      <td>1.082132</td>\n",
       "      <td>revol_util</td>\n",
       "    </tr>\n",
       "    <tr>\n",
       "      <th>53</th>\n",
       "      <td>1.080521</td>\n",
       "      <td>num_actv_bc_tl</td>\n",
       "    </tr>\n",
       "    <tr>\n",
       "      <th>45</th>\n",
       "      <td>1.070275</td>\n",
       "      <td>mo_sin_old_il_acct</td>\n",
       "    </tr>\n",
       "    <tr>\n",
       "      <th>41</th>\n",
       "      <td>1.066996</td>\n",
       "      <td>avg_cur_bal</td>\n",
       "    </tr>\n",
       "    <tr>\n",
       "      <th>4</th>\n",
       "      <td>1.064544</td>\n",
       "      <td>grade_B</td>\n",
       "    </tr>\n",
       "    <tr>\n",
       "      <th>43</th>\n",
       "      <td>1.061183</td>\n",
       "      <td>bc_util</td>\n",
       "    </tr>\n",
       "    <tr>\n",
       "      <th>27</th>\n",
       "      <td>1.054379</td>\n",
       "      <td>open_acc_6m</td>\n",
       "    </tr>\n",
       "    <tr>\n",
       "      <th>35</th>\n",
       "      <td>1.053273</td>\n",
       "      <td>max_bal_bc</td>\n",
       "    </tr>\n",
       "    <tr>\n",
       "      <th>49</th>\n",
       "      <td>1.046903</td>\n",
       "      <td>mort_acc</td>\n",
       "    </tr>\n",
       "    <tr>\n",
       "      <th>1</th>\n",
       "      <td>1.045474</td>\n",
       "      <td>purpose_debt_consolidation</td>\n",
       "    </tr>\n",
       "    <tr>\n",
       "      <th>17</th>\n",
       "      <td>1.031574</td>\n",
       "      <td>fico_range_low</td>\n",
       "    </tr>\n",
       "    <tr>\n",
       "      <th>50</th>\n",
       "      <td>1.025084</td>\n",
       "      <td>mths_since_recent_bc</td>\n",
       "    </tr>\n",
       "    <tr>\n",
       "      <th>28</th>\n",
       "      <td>1.020049</td>\n",
       "      <td>open_act_il</td>\n",
       "    </tr>\n",
       "    <tr>\n",
       "      <th>33</th>\n",
       "      <td>1.015882</td>\n",
       "      <td>il_util</td>\n",
       "    </tr>\n",
       "    <tr>\n",
       "      <th>13</th>\n",
       "      <td>1.012273</td>\n",
       "      <td>emp_length</td>\n",
       "    </tr>\n",
       "    <tr>\n",
       "      <th>23</th>\n",
       "      <td>1.008029</td>\n",
       "      <td>collections_12_mths_ex_med</td>\n",
       "    </tr>\n",
       "    <tr>\n",
       "      <th>44</th>\n",
       "      <td>1.007412</td>\n",
       "      <td>delinq_amnt</td>\n",
       "    </tr>\n",
       "    <tr>\n",
       "      <th>60</th>\n",
       "      <td>1.006369</td>\n",
       "      <td>num_tl_30dpd</td>\n",
       "    </tr>\n",
       "    <tr>\n",
       "      <th>59</th>\n",
       "      <td>1.004923</td>\n",
       "      <td>num_tl_120dpd_2m</td>\n",
       "    </tr>\n",
       "    <tr>\n",
       "      <th>16</th>\n",
       "      <td>1.003714</td>\n",
       "      <td>delinq_2yrs</td>\n",
       "    </tr>\n",
       "    <tr>\n",
       "      <th>31</th>\n",
       "      <td>1.002222</td>\n",
       "      <td>mths_since_rcnt_il</td>\n",
       "    </tr>\n",
       "    <tr>\n",
       "      <th>52</th>\n",
       "      <td>1.001985</td>\n",
       "      <td>num_accts_ever_120_pd</td>\n",
       "    </tr>\n",
       "    <tr>\n",
       "      <th>66</th>\n",
       "      <td>1.000000</td>\n",
       "      <td>tax_liens</td>\n",
       "    </tr>\n",
       "    <tr>\n",
       "      <th>25</th>\n",
       "      <td>0.998261</td>\n",
       "      <td>tot_coll_amt</td>\n",
       "    </tr>\n",
       "    <tr>\n",
       "      <th>64</th>\n",
       "      <td>0.997858</td>\n",
       "      <td>percent_bc_gt_75</td>\n",
       "    </tr>\n",
       "  </tbody>\n",
       "</table>\n",
       "</div>"
      ],
      "text/plain": [
       "        coef                    features\n",
       "26  1.192732                 tot_cur_bal\n",
       "6   1.177596                     grade_D\n",
       "34  1.166172                 open_rv_24m\n",
       "19  1.155466                    open_acc\n",
       "56  1.141336                   num_il_tl\n",
       "30  1.140413                 open_il_24m\n",
       "7   1.131547          home_ownership_OWN\n",
       "54  1.110336                 num_bc_sats\n",
       "5   1.106854                     grade_C\n",
       "68  1.099048           total_bal_ex_mort\n",
       "51  1.095765       mths_since_recent_inq\n",
       "42  1.086557              bc_open_to_buy\n",
       "46  1.084350        mo_sin_old_rev_tl_op\n",
       "24  1.084329              acc_now_delinq\n",
       "58  1.083040               num_rev_accts\n",
       "21  1.082132                  revol_util\n",
       "53  1.080521              num_actv_bc_tl\n",
       "45  1.070275          mo_sin_old_il_acct\n",
       "41  1.066996                 avg_cur_bal\n",
       "4   1.064544                     grade_B\n",
       "43  1.061183                     bc_util\n",
       "27  1.054379                 open_acc_6m\n",
       "35  1.053273                  max_bal_bc\n",
       "49  1.046903                    mort_acc\n",
       "1   1.045474  purpose_debt_consolidation\n",
       "17  1.031574              fico_range_low\n",
       "50  1.025084        mths_since_recent_bc\n",
       "28  1.020049                 open_act_il\n",
       "33  1.015882                     il_util\n",
       "13  1.012273                  emp_length\n",
       "23  1.008029  collections_12_mths_ex_med\n",
       "44  1.007412                 delinq_amnt\n",
       "60  1.006369                num_tl_30dpd\n",
       "59  1.004923            num_tl_120dpd_2m\n",
       "16  1.003714                 delinq_2yrs\n",
       "31  1.002222          mths_since_rcnt_il\n",
       "52  1.001985       num_accts_ever_120_pd\n",
       "66  1.000000                   tax_liens\n",
       "25  0.998261                tot_coll_amt\n",
       "64  0.997858            percent_bc_gt_75"
      ]
     },
     "execution_count": 230,
     "metadata": {},
     "output_type": "execute_result"
    }
   ],
   "source": [
    "df_features.sort_values(by='coef', ascending=False).head(40)\n",
    "\n",
    "# loan amnt is a numeric - so 1 standard deviation increase in loan_amnt increases the odds of being current by 32% \n",
    "\n",
    "# SD (dummified) - being from SD increses the chance of being current by 76%"
   ]
  },
  {
   "cell_type": "code",
   "execution_count": 231,
   "metadata": {},
   "outputs": [
    {
     "data": {
      "text/plain": [
       "[0.9718151432380644,\n",
       " 1.0454743117189462,\n",
       " 0.9366758748895874,\n",
       " 0.9017109200364833,\n",
       " 1.0645438229456574,\n",
       " 1.1068543517808114,\n",
       " 1.1775960378390475,\n",
       " 1.1315469287755235,\n",
       " 0.9952776243893802,\n",
       " 0.8311992860691967,\n",
       " 0.8221564718707237,\n",
       " 0.9025444512760086,\n",
       " 0.5718601934080751,\n",
       " 1.012272861675038,\n",
       " 0.9706523893035623,\n",
       " 0.9926517882813767,\n",
       " 1.0037139065221714,\n",
       " 1.031573826301404,\n",
       " 0.9727225834878512,\n",
       " 1.1554663562269207,\n",
       " 0.9596331616986948,\n",
       " 1.0821324017513347,\n",
       " 0.9164014531084778,\n",
       " 1.0080294158080247,\n",
       " 1.0843291554133803,\n",
       " 0.9982609617175786,\n",
       " 1.1927317462817069,\n",
       " 1.0543789962037735,\n",
       " 1.0200493018288854,\n",
       " 0.9909244142601684,\n",
       " 1.1404126402499644,\n",
       " 1.0022219602404165,\n",
       " 0.8996635514859239,\n",
       " 1.01588169206815,\n",
       " 1.166171952484983,\n",
       " 1.053272963251858,\n",
       " 0.9266103641613654,\n",
       " 0.9523821980891717,\n",
       " 0.9602796430562514,\n",
       " 0.9944315063497549,\n",
       " 0.725628378819268,\n",
       " 1.0669959647697294,\n",
       " 1.0865569791921377,\n",
       " 1.061183037317919,\n",
       " 1.0074120112920344,\n",
       " 1.0702748903661679,\n",
       " 1.0843499869464452,\n",
       " 0.9865854572024383,\n",
       " 0.9875996324007846,\n",
       " 1.0469033245472,\n",
       " 1.0250838156679154,\n",
       " 1.0957650808391552,\n",
       " 1.001984809736592,\n",
       " 1.0805209389342485,\n",
       " 1.1103363200759118,\n",
       " 0.8657304675294003,\n",
       " 1.1413356555500698,\n",
       " 0.9639175497153002,\n",
       " 1.0830395428550146,\n",
       " 1.0049233173956549,\n",
       " 1.0063693543692143,\n",
       " 0.967503140786851,\n",
       " 0.9422963006025934,\n",
       " 0.9970992593534143,\n",
       " 0.9978581159577947,\n",
       " 0.986911764939628,\n",
       " 1.0,\n",
       " 0.8559905596324346,\n",
       " 1.0990481239985495,\n",
       " 0.8771107441320332,\n",
       " 0.9305287600288069]"
      ]
     },
     "execution_count": 231,
     "metadata": {},
     "output_type": "execute_result"
    }
   ],
   "source": [
    "coef"
   ]
  },
  {
   "cell_type": "code",
   "execution_count": 232,
   "metadata": {},
   "outputs": [
    {
     "data": {
      "text/plain": [
       "['term_ 60 months',\n",
       " 'purpose_debt_consolidation',\n",
       " 'purpose_home_improvement',\n",
       " 'purpose_other',\n",
       " 'grade_B',\n",
       " 'grade_C',\n",
       " 'grade_D',\n",
       " 'home_ownership_OWN',\n",
       " 'home_ownership_RENT',\n",
       " 'verification_status_Source Verified',\n",
       " 'verification_status_Verified',\n",
       " 'loan_amnt',\n",
       " 'int_rate',\n",
       " 'emp_length',\n",
       " 'annual_inc',\n",
       " 'dti',\n",
       " 'delinq_2yrs',\n",
       " 'fico_range_low',\n",
       " 'inq_last_6mths',\n",
       " 'open_acc',\n",
       " 'revol_bal',\n",
       " 'revol_util',\n",
       " 'total_acc',\n",
       " 'collections_12_mths_ex_med',\n",
       " 'acc_now_delinq',\n",
       " 'tot_coll_amt',\n",
       " 'tot_cur_bal',\n",
       " 'open_acc_6m',\n",
       " 'open_act_il',\n",
       " 'open_il_12m',\n",
       " 'open_il_24m',\n",
       " 'mths_since_rcnt_il',\n",
       " 'total_bal_il',\n",
       " 'il_util',\n",
       " 'open_rv_24m',\n",
       " 'max_bal_bc',\n",
       " 'all_util',\n",
       " 'inq_fi',\n",
       " 'total_cu_tl',\n",
       " 'inq_last_12m',\n",
       " 'acc_open_past_24mths',\n",
       " 'avg_cur_bal',\n",
       " 'bc_open_to_buy',\n",
       " 'bc_util',\n",
       " 'delinq_amnt',\n",
       " 'mo_sin_old_il_acct',\n",
       " 'mo_sin_old_rev_tl_op',\n",
       " 'mo_sin_rcnt_rev_tl_op',\n",
       " 'mo_sin_rcnt_tl',\n",
       " 'mort_acc',\n",
       " 'mths_since_recent_bc',\n",
       " 'mths_since_recent_inq',\n",
       " 'num_accts_ever_120_pd',\n",
       " 'num_actv_bc_tl',\n",
       " 'num_bc_sats',\n",
       " 'num_bc_tl',\n",
       " 'num_il_tl',\n",
       " 'num_op_rev_tl',\n",
       " 'num_rev_accts',\n",
       " 'num_tl_120dpd_2m',\n",
       " 'num_tl_30dpd',\n",
       " 'num_tl_90g_dpd_24m',\n",
       " 'num_tl_op_past_12m',\n",
       " 'pct_tl_nvr_dlq',\n",
       " 'percent_bc_gt_75',\n",
       " 'pub_rec_bankruptcies',\n",
       " 'tax_liens',\n",
       " 'tot_hi_cred_lim',\n",
       " 'total_bal_ex_mort',\n",
       " 'total_bc_limit',\n",
       " 'age_oldest_line']"
      ]
     },
     "execution_count": 232,
     "metadata": {},
     "output_type": "execute_result"
    }
   ],
   "source": [
    "columns"
   ]
  },
  {
   "cell_type": "code",
   "execution_count": 233,
   "metadata": {},
   "outputs": [
    {
     "name": "stdout",
     "output_type": "stream",
     "text": [
      "0.9718151432380644 term_ 60 months\n",
      "1.0454743117189462 purpose_debt_consolidation\n",
      "0.9366758748895874 purpose_home_improvement\n",
      "0.9017109200364833 purpose_other\n",
      "1.0645438229456574 grade_B\n",
      "1.1068543517808114 grade_C\n",
      "1.1775960378390475 grade_D\n",
      "1.1315469287755235 home_ownership_OWN\n",
      "0.9952776243893802 home_ownership_RENT\n",
      "0.8311992860691967 verification_status_Source Verified\n",
      "0.8221564718707237 verification_status_Verified\n",
      "0.9025444512760086 loan_amnt\n",
      "0.5718601934080751 int_rate\n",
      "1.012272861675038 emp_length\n",
      "0.9706523893035623 annual_inc\n",
      "0.9926517882813767 dti\n",
      "1.0037139065221714 delinq_2yrs\n",
      "1.031573826301404 fico_range_low\n",
      "0.9727225834878512 inq_last_6mths\n",
      "1.1554663562269207 open_acc\n",
      "0.9596331616986948 revol_bal\n",
      "1.0821324017513347 revol_util\n",
      "0.9164014531084778 total_acc\n",
      "1.0080294158080247 collections_12_mths_ex_med\n",
      "1.0843291554133803 acc_now_delinq\n",
      "0.9982609617175786 tot_coll_amt\n",
      "1.1927317462817069 tot_cur_bal\n",
      "1.0543789962037735 open_acc_6m\n",
      "1.0200493018288854 open_act_il\n",
      "0.9909244142601684 open_il_12m\n",
      "1.1404126402499644 open_il_24m\n",
      "1.0022219602404165 mths_since_rcnt_il\n",
      "0.8996635514859239 total_bal_il\n",
      "1.01588169206815 il_util\n",
      "1.166171952484983 open_rv_24m\n",
      "1.053272963251858 max_bal_bc\n",
      "0.9266103641613654 all_util\n",
      "0.9523821980891717 inq_fi\n",
      "0.9602796430562514 total_cu_tl\n",
      "0.9944315063497549 inq_last_12m\n",
      "0.725628378819268 acc_open_past_24mths\n",
      "1.0669959647697294 avg_cur_bal\n",
      "1.0865569791921377 bc_open_to_buy\n",
      "1.061183037317919 bc_util\n",
      "1.0074120112920344 delinq_amnt\n",
      "1.0702748903661679 mo_sin_old_il_acct\n",
      "1.0843499869464452 mo_sin_old_rev_tl_op\n",
      "0.9865854572024383 mo_sin_rcnt_rev_tl_op\n",
      "0.9875996324007846 mo_sin_rcnt_tl\n",
      "1.0469033245472 mort_acc\n",
      "1.0250838156679154 mths_since_recent_bc\n",
      "1.0957650808391552 mths_since_recent_inq\n",
      "1.001984809736592 num_accts_ever_120_pd\n",
      "1.0805209389342485 num_actv_bc_tl\n",
      "1.1103363200759118 num_bc_sats\n",
      "0.8657304675294003 num_bc_tl\n",
      "1.1413356555500698 num_il_tl\n",
      "0.9639175497153002 num_op_rev_tl\n",
      "1.0830395428550146 num_rev_accts\n",
      "1.0049233173956549 num_tl_120dpd_2m\n",
      "1.0063693543692143 num_tl_30dpd\n",
      "0.967503140786851 num_tl_90g_dpd_24m\n",
      "0.9422963006025934 num_tl_op_past_12m\n",
      "0.9970992593534143 pct_tl_nvr_dlq\n",
      "0.9978581159577947 percent_bc_gt_75\n",
      "0.986911764939628 pub_rec_bankruptcies\n",
      "1.0 tax_liens\n",
      "0.8559905596324346 tot_hi_cred_lim\n",
      "1.0990481239985495 total_bal_ex_mort\n",
      "0.8771107441320332 total_bc_limit\n",
      "0.9305287600288069 age_oldest_line\n"
     ]
    }
   ],
   "source": [
    "# Coef and variables\n",
    "for x,y  in zip(np.exp(logreg.coef_)[0], X_train.columns.values):\n",
    "    print(x,y)"
   ]
  },
  {
   "cell_type": "code",
   "execution_count": 234,
   "metadata": {},
   "outputs": [
    {
     "data": {
      "text/plain": [
       "array(['term_ 60 months', 'purpose_debt_consolidation',\n",
       "       'purpose_home_improvement', 'purpose_other', 'grade_B', 'grade_C',\n",
       "       'grade_D', 'home_ownership_OWN', 'home_ownership_RENT',\n",
       "       'verification_status_Source Verified',\n",
       "       'verification_status_Verified', 'loan_amnt', 'int_rate',\n",
       "       'emp_length', 'annual_inc', 'dti', 'delinq_2yrs', 'fico_range_low',\n",
       "       'inq_last_6mths', 'open_acc', 'revol_bal', 'revol_util',\n",
       "       'total_acc', 'collections_12_mths_ex_med', 'acc_now_delinq',\n",
       "       'tot_coll_amt', 'tot_cur_bal', 'open_acc_6m', 'open_act_il',\n",
       "       'open_il_12m', 'open_il_24m', 'mths_since_rcnt_il', 'total_bal_il',\n",
       "       'il_util', 'open_rv_24m', 'max_bal_bc', 'all_util', 'inq_fi',\n",
       "       'total_cu_tl', 'inq_last_12m', 'acc_open_past_24mths',\n",
       "       'avg_cur_bal', 'bc_open_to_buy', 'bc_util', 'delinq_amnt',\n",
       "       'mo_sin_old_il_acct', 'mo_sin_old_rev_tl_op',\n",
       "       'mo_sin_rcnt_rev_tl_op', 'mo_sin_rcnt_tl', 'mort_acc',\n",
       "       'mths_since_recent_bc', 'mths_since_recent_inq',\n",
       "       'num_accts_ever_120_pd', 'num_actv_bc_tl', 'num_bc_sats',\n",
       "       'num_bc_tl', 'num_il_tl', 'num_op_rev_tl', 'num_rev_accts',\n",
       "       'num_tl_120dpd_2m', 'num_tl_30dpd', 'num_tl_90g_dpd_24m',\n",
       "       'num_tl_op_past_12m', 'pct_tl_nvr_dlq', 'percent_bc_gt_75',\n",
       "       'pub_rec_bankruptcies', 'tax_liens', 'tot_hi_cred_lim',\n",
       "       'total_bal_ex_mort', 'total_bc_limit', 'age_oldest_line'],\n",
       "      dtype=object)"
      ]
     },
     "execution_count": 234,
     "metadata": {},
     "output_type": "execute_result"
    }
   ],
   "source": [
    "X_train.columns.values"
   ]
  },
  {
   "cell_type": "markdown",
   "metadata": {},
   "source": [
    "## Random Forest"
   ]
  },
  {
   "cell_type": "code",
   "execution_count": 235,
   "metadata": {},
   "outputs": [],
   "source": [
    "from sklearn.model_selection import GridSearchCV, train_test_split, cross_val_score\n",
    "from sklearn.ensemble import RandomForestClassifier, ExtraTreesClassifier"
   ]
  },
  {
   "cell_type": "code",
   "execution_count": 236,
   "metadata": {},
   "outputs": [],
   "source": [
    "rf = RandomForestClassifier()"
   ]
  },
  {
   "cell_type": "code",
   "execution_count": 237,
   "metadata": {},
   "outputs": [],
   "source": [
    "et = ExtraTreesClassifier()"
   ]
  },
  {
   "cell_type": "code",
   "execution_count": 238,
   "metadata": {},
   "outputs": [
    {
     "name": "stdout",
     "output_type": "stream",
     "text": [
      "0.9829009512782975\n"
     ]
    },
    {
     "data": {
      "text/plain": [
       "{'n_estimators': 50}"
      ]
     },
     "execution_count": 238,
     "metadata": {},
     "output_type": "execute_result"
    }
   ],
   "source": [
    "rf = RandomForestClassifier(random_state=42)\n",
    "params = {\n",
    "    'n_estimators': [50, 100]\n",
    "}\n",
    "gs = GridSearchCV(rf, param_grid=params, cv=5)\n",
    "gs.fit(X_train, y_train.values.ravel())\n",
    "print(gs.best_score_) # cross val score\n",
    "gs.best_params_"
   ]
  },
  {
   "cell_type": "markdown",
   "metadata": {},
   "source": [
    "#### GridSearch"
   ]
  },
  {
   "cell_type": "code",
   "execution_count": 240,
   "metadata": {},
   "outputs": [],
   "source": [
    "#playing with the model to improve the score\n",
    "rf = RandomForestClassifier(random_state=42)\n",
    "params = {\n",
    "    'n_estimators': [50, 100],\n",
    "    'max_features': [None, 'auto'],\n",
    "    'max_depth': [None, 2, 3, 4]  #more parameters takes longer to run the model!\n",
    "\n",
    "}\n",
    "\n",
    "gs = GridSearchCV(rf, param_grid=params, cv=5)\n",
    "gs.fit(X_train, y_train.values.ravel())\n",
    "print(gs.best_score_) # cross val score\n",
    "gs.best_params_"
   ]
  },
  {
   "cell_type": "markdown",
   "metadata": {},
   "source": [
    "The Random Forest produced the results with an accuracy of 0.9829, which is similar to the Logistic Regression.\n",
    "\n",
    "0.9829009512782975\n",
    "{'max_depth': None, 'max_features': 'auto', 'n_estimators': 50}"
   ]
  },
  {
   "cell_type": "code",
   "execution_count": null,
   "metadata": {},
   "outputs": [],
   "source": []
  },
  {
   "cell_type": "code",
   "execution_count": null,
   "metadata": {},
   "outputs": [],
   "source": []
  }
 ],
 "metadata": {
  "kernelspec": {
   "display_name": "Python 3",
   "language": "python",
   "name": "python3"
  },
  "language_info": {
   "codemirror_mode": {
    "name": "ipython",
    "version": 3
   },
   "file_extension": ".py",
   "mimetype": "text/x-python",
   "name": "python",
   "nbconvert_exporter": "python",
   "pygments_lexer": "ipython3",
   "version": "3.7.6"
  }
 },
 "nbformat": 4,
 "nbformat_minor": 4
}
